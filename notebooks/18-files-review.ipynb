{
 "cells": [
  {
   "cell_type": "markdown",
   "metadata": {
    "slideshow": {
     "slide_type": "slide"
    }
   },
   "source": [
    "# What are files and why should we care about them?\n",
    "\n",
    "## Warmup: where are your files?\n",
    "\n",
    "Files these days are especially confusing, with the cloud and smartphones. This video (_run cell below_) tries to demistify this topic a bit.\n",
    "\n",
    "<div class=\"alert alert-info\">Run the cell below to load the video</div>"
   ]
  },
  {
   "cell_type": "code",
   "execution_count": null,
   "metadata": {
    "tags": []
   },
   "outputs": [],
   "source": [
    "%%html\n",
    "\n",
    "<iframe width=\"560\" height=\"315\" src=\"https://www.youtube.com/embed/gDXmTJakpT8?si=qS5UYKU-vWUqQ-2p\" title=\"YouTube video player\" frameborder=\"0\" allow=\"accelerometer; autoplay; clipboard-write; encrypted-media; gyroscope; picture-in-picture; web-share\" referrerpolicy=\"strict-origin-when-cross-origin\" allowfullscreen></iframe>"
   ]
  },
  {
   "cell_type": "markdown",
   "metadata": {},
   "source": [
    "<br/><br/><br/><br/><br/><br/><br/><br/><br/>\n",
    "\n",
    "---"
   ]
  },
  {
   "cell_type": "markdown",
   "metadata": {
    "id": "g-lkfdphxbR0",
    "slideshow": {
     "slide_type": "slide"
    }
   },
   "source": [
    "## Motivating use case: index data from a file for later search\n",
    "\n",
    "I have a file called `mbox-email-receipts.txt` with a list of email receipts:\n",
    "```\n",
    "From stephen.marquard@uct.ac.za Sat Jan  5 09:14:16 2008\n",
    "From louis@media.berkeley.edu Fri Jan  4 18:10:48 2008\n",
    "From zqian@umich.edu Fri Jan  4 16:10:39 2008\n",
    "From rjlowe@iupui.edu Fri Jan  4 15:46:24 2008\n",
    "From zqian@umich.edu Fri Jan  4 15:03:18 2008\n",
    "From rjlowe@iupui.edu Fri Jan  4 14:50:18 2008\n",
    "From cwen@iupui.edu Fri Jan  4 11:37:30 2008\n",
    "[...]\n",
    "```\n",
    "\n",
    "I want to know how many emails came to me from which email addresses.\n",
    "\n",
    "I can use the indexing pattern to do this, plus a way to access the file system."
   ]
  },
  {
   "cell_type": "markdown",
   "metadata": {
    "id": "X8Q343PRGhMR",
    "slideshow": {
     "slide_type": "slide"
    }
   },
   "source": [
    "### Problem formulation\n",
    "\n",
    "First, let's do the problem formulation together:\n",
    "\n",
    "https://miro.com/app/board/uXjVPGeBLaY=/?share_link_id=250586896286\n",
    "\n",
    "<!-- <img src=\"https://terpconnect.umd.edu/~gciampag/INST126/images/email-indexing-problem-formulation.png\" height=800 width=1200></img> -->"
   ]
  },
  {
   "cell_type": "markdown",
   "metadata": {
    "id": "jJvItvK9fnAY",
    "slideshow": {
     "slide_type": "slide"
    }
   },
   "source": [
    "Same but with comments"
   ]
  },
  {
   "cell_type": "code",
   "execution_count": null,
   "metadata": {
    "id": "jJvItvK9fnAY",
    "slideshow": {
     "slide_type": "slide"
    }
   },
   "outputs": [],
   "source": [
    "# READ data from the file into list\n",
    "\n",
    "# loop over the list\n",
    "    # PARSE the record\n",
    "    # UPDATE the index info for the record"
   ]
  },
  {
   "cell_type": "markdown",
   "metadata": {
    "id": "TRx-T5TYPZ_m",
    "slideshow": {
     "slide_type": "slide"
    }
   },
   "source": [
    "### Writing the code\n",
    "\n",
    "First, let's write a function that finds an email address in each record."
   ]
  },
  {
   "cell_type": "code",
   "execution_count": null,
   "metadata": {
    "slideshow": {
     "slide_type": "slide"
    }
   },
   "outputs": [],
   "source": [
    "def filter_string(s, cue):\n",
    "    # split into elements\n",
    "    elements = s.split(\" \")\n",
    "    # go through and find the element that has the cue\n",
    "    for e in elements:\n",
    "        # if cue in the element\n",
    "        if cue in e:\n",
    "            # give us the thing\n",
    "            return e"
   ]
  },
  {
   "cell_type": "code",
   "execution_count": null,
   "metadata": {
    "slideshow": {
     "slide_type": "slide"
    }
   },
   "outputs": [],
   "source": [
    "line = \"From stephen.marquard@uct.ac.za Sat Jan  5 09:14:16 2008\"\n",
    "target = filter_string(line, \"@\")\n",
    "target"
   ]
  },
  {
   "cell_type": "code",
   "execution_count": null,
   "metadata": {
    "slideshow": {
     "slide_type": "slide"
    }
   },
   "outputs": [],
   "source": [
    "# READ data from the file into list\n",
    "# where is the file?\n",
    "fname = 'mbox-email-receipts.txt'\n",
    "\n",
    "# open the file\n",
    "f = open(fname, mode='r')\n",
    "\n",
    "# read the file's contents into a list\n",
    "records = f.readlines()\n",
    "\n",
    "# make the index\n",
    "index = {}\n",
    "\n",
    "# loop over the list\n",
    "for r in records:\n",
    "    # PARSE the record\n",
    "    email_address = filter_string(r, '@')\n",
    "    \n",
    "    # UPDATE the index info for the record\n",
    "\n",
    "    # GET the current value of the key (email)\n",
    "    # default to zero if not found\n",
    "    count = index.get(email_address, 0)\n",
    "    # UPDATE the value\n",
    "    count += 1\n",
    "    # UPDATE the index with the key and updated value\n",
    "    index.update({email_address: count})\n",
    "    \n",
    "index"
   ]
  },
  {
   "cell_type": "markdown",
   "metadata": {},
   "source": [
    "<br/><br/><br/><br/><br/><br/><br/><br/><br/>\n",
    "\n",
    "---"
   ]
  },
  {
   "cell_type": "markdown",
   "metadata": {},
   "source": [
    "## Coding Challenge\n",
    "\n",
    "### Task 1\n",
    "\n",
    "Wrap the above code in a function called `build_index`. The function takes a single parameter -- a string with the name of the file -- and returns a dictionary with the index."
   ]
  },
  {
   "cell_type": "code",
   "execution_count": null,
   "metadata": {
    "tags": []
   },
   "outputs": [],
   "source": [
    "# Your code here\n",
    "\n",
    "..."
   ]
  },
  {
   "cell_type": "markdown",
   "metadata": {},
   "source": [
    "<br/><br/><br/><br/><br/><br/><br/><br/><br/>\n",
    "\n",
    "---"
   ]
  },
  {
   "cell_type": "markdown",
   "metadata": {
    "id": "B4JROzB4iXWL",
    "slideshow": {
     "slide_type": "slide"
    }
   },
   "source": [
    "# Fundamental concept: Files"
   ]
  },
  {
   "cell_type": "markdown",
   "metadata": {
    "id": "U-Syddp7kboO",
    "slideshow": {
     "slide_type": "slide"
    }
   },
   "source": [
    "## What are files?"
   ]
  },
  {
   "cell_type": "markdown",
   "metadata": {
    "id": "KzmF64wgkfE0",
    "slideshow": {
     "slide_type": "slide"
    }
   },
   "source": [
    "Files provide container for data that is **outside** of your program's main memory (variables and functions). \n",
    "\n",
    "The PY4E textbook calls it _\"secondary memory\"_.\n",
    "\n",
    "Secondary memory is essential, because main memory, which holds all the data you create while your Python program is running, goes away once the program stops.\n",
    "\n",
    "Secondary memory is a place to have data that is persistent. Sort of like long-term memory in humans."
   ]
  },
  {
   "cell_type": "markdown",
   "metadata": {
    "id": "KzmF64wgkfE0",
    "slideshow": {
     "slide_type": "slide"
    }
   },
   "source": [
    "Files provide an interface (a __handle__) between your program and the operative system, which manages them.\n",
    "\n",
    "<img src=\"https://terpconnect.umd.edu/~gciampag/INST126/images/handle.png\">"
   ]
  },
  {
   "cell_type": "markdown",
   "metadata": {
    "id": "VsK3s0Adk15u",
    "slideshow": {
     "slide_type": "slide"
    }
   },
   "source": [
    "## Key operations on files"
   ]
  },
  {
   "cell_type": "markdown",
   "metadata": {
    "slideshow": {
     "slide_type": "slide"
    }
   },
   "source": [
    "### Open a file"
   ]
  },
  {
   "cell_type": "code",
   "execution_count": null,
   "metadata": {
    "slideshow": {
     "slide_type": "slide"
    }
   },
   "outputs": [],
   "source": [
    "fname = '18-mbox-email-receipts.txt'\n",
    "f = open(fname, mode='r')\n",
    "f"
   ]
  },
  {
   "cell_type": "markdown",
   "metadata": {
    "id": "9L-3BMSuk9B6",
    "slideshow": {
     "slide_type": "slide"
    }
   },
   "source": [
    "`open()` function, as you might suspect, opens a connection to the file.\n",
    "\n",
    "Its parameters are:\n",
    "1. The name of the file you want to connect to\n",
    "2. A specification of **how** you want to connect (to read, to write, etc.). \n",
    "\n",
    "And its output is a file connection object: `io.TextIOWrapper`"
   ]
  },
  {
   "cell_type": "markdown",
   "metadata": {
    "slideshow": {
     "slide_type": "slide"
    }
   },
   "source": [
    "|||\n",
    "|:-|:-|\n",
    "| **Character** | **Meaning** |\n",
    "| `'r'` | open for reading (default)\n",
    "| `'w'` | open for writing, truncating the file first (_DANGER!_)\n",
    "| `'x'` | create a new file and open it for writing\n",
    "| `'a'` | open for writing, appending to the end of the file if it exists\n",
    "| `'b'` | binary mode\n",
    "| `'t'` | text mode (default)\n",
    "| `'+'` | open a disk file for updating (reading and writing)\n",
    "| `'U'` | universal newline mode (deprecated)"
   ]
  },
  {
   "cell_type": "markdown",
   "metadata": {
    "id": "6on-kF69nPb3",
    "slideshow": {
     "slide_type": "slide"
    }
   },
   "source": [
    "#### Specifying a connection type/permission\n",
    "\n",
    "The second bit is how the file data structure includes some basic security: you can only write to files you have \"write access\" to, for example.\n",
    "\n",
    "Let's look at an example."
   ]
  },
  {
   "cell_type": "code",
   "execution_count": null,
   "metadata": {
    "colab": {
     "base_uri": "https://localhost:8080/"
    },
    "executionInfo": {
     "elapsed": 373,
     "status": "ok",
     "timestamp": 1618234160386,
     "user": {
      "displayName": "Joel Chan",
      "photoUrl": "https://lh3.googleusercontent.com/a-/AOh14GiBPPpBf_QqgDL3pMurAsPu9WJJE_x_6UtgW13UFQ=s64",
      "userId": "15153559228409906865"
     },
     "user_tz": 240
    },
    "id": "Z1kM-kPKuvuC",
    "outputId": "b6714115-eb63-4ec0-aaed-6ac089ca8292",
    "slideshow": {
     "slide_type": "slide"
    }
   },
   "outputs": [],
   "source": [
    "# basic read\n",
    "\n",
    "# file name\n",
    "fname = '18-mbox-email-receipts.txt'\n",
    "\n",
    "# put 'r' as the second argument\n",
    "f = open(fpath, mode='r')\n",
    "\n",
    "contents = f.read()\n",
    "\n",
    "print(contents)"
   ]
  },
  {
   "cell_type": "markdown",
   "metadata": {
    "slideshow": {
     "slide_type": "slide"
    }
   },
   "source": [
    "### Opening a file for writing\n",
    "\n",
    "<div class=\"alert alert-warning\"><strong>ATTENTION!</strong> opening a file for writing will destroy any existing content!</div>\n",
    "\n",
    "You can use **append** mode (`mode=\"a\"`) to write to an existing file without removing its content."
   ]
  },
  {
   "cell_type": "code",
   "execution_count": null,
   "metadata": {
    "colab": {
     "base_uri": "https://localhost:8080/"
    },
    "executionInfo": {
     "elapsed": 1226,
     "status": "ok",
     "timestamp": 1618234192300,
     "user": {
      "displayName": "Joel Chan",
      "photoUrl": "https://lh3.googleusercontent.com/a-/AOh14GiBPPpBf_QqgDL3pMurAsPu9WJJE_x_6UtgW13UFQ=s64",
      "userId": "15153559228409906865"
     },
     "user_tz": 240
    },
    "id": "svA1mMKlxSoj",
    "outputId": "712d77cd-6df1-40b6-af44-49e83c0a291b",
    "slideshow": {
     "slide_type": "slide"
    }
   },
   "outputs": [],
   "source": [
    "# basic write\n",
    "\n",
    "# file name\n",
    "fname = '18-mbox-email-receipts_NEW.txt'\n",
    "\n",
    "# put 'w' as the 2nd argument\n",
    "f = open(fpath, mode='w')\n",
    "\n",
    "# file.write() is a method that writes the file\n",
    "f.write(\"Hello world!\")\n",
    "\n",
    "# always close a file when done working with it\n",
    "f.close()"
   ]
  },
  {
   "cell_type": "code",
   "execution_count": null,
   "metadata": {
    "colab": {
     "base_uri": "https://localhost:8080/",
     "height": 225
    },
    "executionInfo": {
     "elapsed": 745,
     "status": "error",
     "timestamp": 1618234226603,
     "user": {
      "displayName": "Joel Chan",
      "photoUrl": "https://lh3.googleusercontent.com/a-/AOh14GiBPPpBf_QqgDL3pMurAsPu9WJJE_x_6UtgW13UFQ=s64",
      "userId": "15153559228409906865"
     },
     "user_tz": 240
    },
    "id": "MdSdT88DmSXm",
    "outputId": "6eedb21c-0845-4dfc-d0b0-2c5fa9e41256",
    "slideshow": {
     "slide_type": "slide"
    }
   },
   "outputs": [],
   "source": [
    "# common error: forgetting to specify write mode\n",
    "\n",
    "# file name\n",
    "fname = 'test.txt'\n",
    "\n",
    "# ERROR! Forgot to specify 'w' as the second argument (by default 'r' is used)\n",
    "f = open(fname) \n",
    "\n",
    "# file.write() is a method that writes the file\n",
    "f.write(\"Hello world from INST126 SP21 Week 11 at 9:30am!\")\n",
    "\n",
    "# always close a file when done working with it\n",
    "f.close()"
   ]
  },
  {
   "cell_type": "code",
   "execution_count": null,
   "metadata": {
    "id": "hVGylbXlSRiE",
    "slideshow": {
     "slide_type": "slide"
    }
   },
   "outputs": [],
   "source": [
    "# append to a file\n",
    "\n",
    "fname = 'test.txt'\n",
    "\n",
    "# put 'a' as the 2nd argument\n",
    "f = open(fname, mode='a')\n",
    "\n",
    "# file.write() is a method that writes the file\n",
    "f.write(\"More stuff from INST126 SP21 Week 11 at 9:33am!\")\n",
    "\n",
    "# always close a file when done working with it\n",
    "f.close()"
   ]
  },
  {
   "cell_type": "markdown",
   "metadata": {
    "id": "9yecFrrInkbn",
    "slideshow": {
     "slide_type": "slide"
    }
   },
   "source": [
    "### Reading the contents of a file"
   ]
  },
  {
   "cell_type": "markdown",
   "metadata": {
    "id": "EH_-JkJdmUve",
    "slideshow": {
     "slide_type": "slide"
    }
   },
   "source": [
    "Very often you want to connect to a file because you want to *read* it. There are three ways to do this:\n",
    "1. `.read()` reads in the whole contents of the file as a `string`;\n",
    "2. `.readlines()` reads in the whole contents of the file as a `list` of strings;\n",
    "3. __Iteration!__ Reads one line at a time.\n",
    "\n",
    "In all cases, you end up with strings. You can then parse it to do what you want with it."
   ]
  },
  {
   "cell_type": "code",
   "execution_count": null,
   "metadata": {
    "colab": {
     "base_uri": "https://localhost:8080/"
    },
    "executionInfo": {
     "elapsed": 356,
     "status": "ok",
     "timestamp": 1618234712701,
     "user": {
      "displayName": "Joel Chan",
      "photoUrl": "https://lh3.googleusercontent.com/a-/AOh14GiBPPpBf_QqgDL3pMurAsPu9WJJE_x_6UtgW13UFQ=s64",
      "userId": "15153559228409906865"
     },
     "user_tz": 240
    },
    "id": "EnDrn9ftyfjk",
    "outputId": "10261ab8-4e8f-41f5-b3e2-fe207ee2530f",
    "slideshow": {
     "slide_type": "slide"
    }
   },
   "outputs": [],
   "source": [
    "# 1) .read() \n",
    "\n",
    "# the path\n",
    "fpath = '18-mbox-email-receipts.txt'\n",
    "\n",
    "# open the file connection and store in the variable fhand\n",
    "fhand = open(fpath, mode='r') \n",
    "\n",
    "# read the contents of the file, and dump into a string called content_s\n",
    "content_s = fhand.read() \n",
    "\n",
    "content_s"
   ]
  },
  {
   "cell_type": "code",
   "execution_count": null,
   "metadata": {
    "colab": {
     "base_uri": "https://localhost:8080/"
    },
    "executionInfo": {
     "elapsed": 356,
     "status": "ok",
     "timestamp": 1618234712701,
     "user": {
      "displayName": "Joel Chan",
      "photoUrl": "https://lh3.googleusercontent.com/a-/AOh14GiBPPpBf_QqgDL3pMurAsPu9WJJE_x_6UtgW13UFQ=s64",
      "userId": "15153559228409906865"
     },
     "user_tz": 240
    },
    "id": "EnDrn9ftyfjk",
    "outputId": "10261ab8-4e8f-41f5-b3e2-fe207ee2530f",
    "slideshow": {
     "slide_type": "slide"
    }
   },
   "outputs": [],
   "source": [
    "# 2) .readlines()\n",
    "\n",
    "# the path\n",
    "fpath = '18-mbox-email-receipts.txt'\n",
    "\n",
    "# open the file connection and store in the variable fhand\n",
    "fhand = open(fpath, mode='r') \n",
    "\n",
    "# read the contents of the file, and dump into a list of strings called content_list\n",
    "content_list = fhand.readlines() \n",
    "\n",
    "content_list"
   ]
  },
  {
   "cell_type": "code",
   "execution_count": null,
   "metadata": {},
   "outputs": [],
   "source": [
    "# 3) Iteration\n",
    "\n",
    "# the path\n",
    "fpath = '18-mbox-email-receipts.txt'\n",
    "\n",
    "# open the file connection and store in the variable fhand\n",
    "fhand = open(fpath, mode='r') \n",
    "\n",
    "# loop over the lines of the file, one line at the time, and print it\n",
    "\n",
    "for line in fhand:\n",
    "    print(line)\n",
    "    \n",
    "line"
   ]
  },
  {
   "cell_type": "markdown",
   "metadata": {
    "slideshow": {
     "slide_type": "slide"
    }
   },
   "source": [
    "What's appening here is that `print()` automatically add a newline character (`\\n`) to anything you pass to it, which combined with the original `n` at the end of each line creates the empty space between each line of text."
   ]
  },
  {
   "cell_type": "markdown",
   "metadata": {
    "id": "x2Wk37Vnm709",
    "slideshow": {
     "slide_type": "slide"
    }
   },
   "source": [
    "In the next module we will learn how the `pandas` library connects to files to cover common parsing situations \n",
    "\n",
    "(e.g., I have a spreadsheet, I want to go straight into a `dataframe` for analysis). \n",
    "\n",
    "More on that later! The concepts of accessing files will still apply."
   ]
  },
  {
   "cell_type": "markdown",
   "metadata": {
    "id": "mnlXEdeFnne3",
    "slideshow": {
     "slide_type": "slide"
    }
   },
   "source": [
    "### Writing to a file\n",
    "\n",
    "Another common use case for connecting to files is to *write* to secondary memory. \n",
    "\n",
    "The main thing to know here is the `.write()` method.\n",
    "\n",
    "Think of it as similar to the `print()` function, except it writes to the file instead of the screen."
   ]
  },
  {
   "cell_type": "code",
   "execution_count": null,
   "metadata": {
    "id": "1rrW3gFk0PKL",
    "slideshow": {
     "slide_type": "slide"
    }
   },
   "outputs": [],
   "source": [
    "fname = 'test2.txt'\n",
    "f = open(fname, mode='w')\n",
    "f.write(\"Hello INST126!\") "
   ]
  },
  {
   "cell_type": "code",
   "execution_count": null,
   "metadata": {
    "slideshow": {
     "slide_type": "-"
    }
   },
   "outputs": [],
   "source": [
    "f.close()"
   ]
  },
  {
   "cell_type": "markdown",
   "metadata": {
    "slideshow": {
     "slide_type": "slide"
    }
   },
   "source": [
    "`.write()` returns the number of __characters__ written (in case of files opened in text mode) or of __bytes__ written (in binary mode)."
   ]
  },
  {
   "cell_type": "markdown",
   "metadata": {
    "id": "goGYYULgmKRT",
    "slideshow": {
     "slide_type": "slide"
    }
   },
   "source": [
    "### Closing a file\n",
    "\n",
    "Once I am done working with a file, it is always a good idea to close it.\n",
    "\n",
    "Forgetting to close a file may result in lost or corrupt data.&ast;\n",
    "\n",
    "\n",
    "--- \n",
    "\n",
    "&ast; You may have noticed that forgetting to close a file does not seem to have a consequence, but this is only because the implementation of the Python interpreter that we use (also called [CPython](https://en.wikipedia.org/wiki/CPython)) does a really good job at closing files on your behalf. This [blog post](https://realpython.com/why-close-file-python/) digs deeper on consequences of forgetting to close files."
   ]
  },
  {
   "cell_type": "markdown",
   "metadata": {
    "slideshow": {
     "slide_type": "slide"
    }
   },
   "source": [
    "## Common errors with files"
   ]
  },
  {
   "cell_type": "markdown",
   "metadata": {
    "slideshow": {
     "slide_type": "slide"
    }
   },
   "source": [
    "### Can't find the file: FileNotFoundError"
   ]
  },
  {
   "cell_type": "code",
   "execution_count": null,
   "metadata": {
    "slideshow": {
     "slide_type": "slide"
    }
   },
   "outputs": [],
   "source": [
    "f = open(\"18-mbox-email-receipts.tx\", mode='r')  # <----- TYPO in the filename!\n",
    "print(f.read())"
   ]
  },
  {
   "cell_type": "markdown",
   "metadata": {
    "slideshow": {
     "slide_type": "slide"
    }
   },
   "source": [
    "### Wrong connection type/permission: UnsupportedOperation"
   ]
  },
  {
   "cell_type": "code",
   "execution_count": null,
   "metadata": {
    "scrolled": true,
    "slideshow": {
     "slide_type": "slide"
    }
   },
   "outputs": [],
   "source": [
    "# I said i would write to it\n",
    "# but I tried to read it\n",
    "f = open(\"18-mbox-email-receipts_new.txt\", mode='w')\n",
    "print(f.read())"
   ]
  },
  {
   "cell_type": "code",
   "execution_count": null,
   "metadata": {
    "scrolled": true,
    "slideshow": {
     "slide_type": "subslide"
    }
   },
   "outputs": [],
   "source": [
    "# i said i would read it\n",
    "# but i tried to write to it\n",
    "f = open(\"18-mbox-email-receipts.txt\", mode='r')\n",
    "print(f.write(\"Hello world\"))"
   ]
  },
  {
   "cell_type": "markdown",
   "metadata": {},
   "source": [
    "<br/>\n",
    "<br/>\n",
    "<br/>\n",
    "<br/>\n",
    "<br/>\n",
    "<br/>\n",
    "<br/>\n",
    "<br/>\n",
    "<br/>\n",
    "<br/>\n",
    "<br/>\n",
    "<br/>\n",
    "<br/>\n",
    "<br/>\n",
    "<br/>\n",
    "<br/>\n",
    "<br/>\n",
    "<br/>\n",
    "<br/>\n",
    "<br/>\n",
    "<br/>\n",
    "<br/>\n",
    "<br/>\n",
    "<br/>\n",
    "<br/>\n",
    "<br/>\n",
    "<br/>\n",
    "<br/>\n",
    "<br/>\n",
    "<br/>\n",
    "<br/>\n",
    "<br/>\n",
    "<br/>\n",
    "<br/>\n",
    "<br/>\n",
    "<br/>\n",
    "<br/>\n",
    "<br/>\n",
    "<br/>\n",
    "\n",
    "\n",
    "---"
   ]
  },
  {
   "cell_type": "markdown",
   "metadata": {},
   "source": [
    "# Solutions\n",
    "\n",
    "## Task 1"
   ]
  },
  {
   "cell_type": "code",
   "execution_count": null,
   "metadata": {
    "tags": []
   },
   "outputs": [],
   "source": [
    "### BEGIN SOLUTION\n",
    "def build_index(fname):\n",
    "    # READ data from the file into list\n",
    "\n",
    "    # open the file\n",
    "    f = open(fname, 'r')\n",
    "\n",
    "    # read the file's contents into a list\n",
    "    records = f.readlines()\n",
    "\n",
    "    # make the index\n",
    "    index = {}\n",
    "\n",
    "    # loop over the list\n",
    "    for r in records:\n",
    "        # PARSE the record\n",
    "        email_address = filter_string(r, '@')\n",
    "\n",
    "        # UPDATE the index info for the record\n",
    "\n",
    "        # GET the current value of the key (email)\n",
    "        # default to zero if not found\n",
    "        count = index.get(email_address, 0)\n",
    "        # UPDATE the value\n",
    "        count += 1\n",
    "        # UPDATE the index with the key and updated value\n",
    "        index.update({email_address: count})\n",
    "\n",
    "    return index\n",
    "### END SOLUTION"
   ]
  }
 ],
 "metadata": {
  "celltoolbar": "Slideshow",
  "colab": {
   "name": "INST126_SP21_Week12_Dictionaries2-Files_post-class.ipynb",
   "provenance": [],
   "toc_visible": true
  },
  "kernelspec": {
   "display_name": "Python 3 (ipykernel)",
   "language": "python",
   "name": "python3"
  },
  "language_info": {
   "codemirror_mode": {
    "name": "ipython",
    "version": 3
   },
   "file_extension": ".py",
   "mimetype": "text/x-python",
   "name": "python",
   "nbconvert_exporter": "python",
   "pygments_lexer": "ipython3",
   "version": "3.11.7"
  }
 },
 "nbformat": 4,
 "nbformat_minor": 4
}
