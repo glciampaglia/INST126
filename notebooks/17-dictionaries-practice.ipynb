{
 "cells": [
  {
   "cell_type": "markdown",
   "metadata": {
    "id": "Udf7IjzRCk1I",
    "nbgrader": {
     "grade": false,
     "grade_id": "cell-64cb80e81e12b6fc",
     "locked": true,
     "schema_version": 3,
     "solution": false,
     "task": false
    },
    "slideshow": {
     "slide_type": "subslide"
    }
   },
   "source": [
    "# College Admissions Algorithms\n",
    "\n",
    "For this class activity, you will explore algorithmic decision-making and representations of people in data. The college admissions process involves a lot of types of data from prospective students to make decisions. \n",
    "\n",
    "With the number of applicants increasing, colleges may begin relying on algorithms to select which applications should receive more intensive human review. An algorithm could use quantitative data--such as GPA and SAT score--to provide initial recommendations.\n",
    "\n",
    "Your task will be to create a program that iterates through a list of data points and provides a recommendation for which prospective students are likely to be the best candidates for admission."
   ]
  },
  {
   "cell_type": "markdown",
   "metadata": {},
   "source": [
    "<br/><br/><br/><br/><br/><br/><br/><br/><br/><br/><br/><br/><br/>\n",
    "\n",
    "---"
   ]
  },
  {
   "cell_type": "markdown",
   "metadata": {
    "nbgrader": {
     "grade": false,
     "grade_id": "cell-ff28f8fb77850cc9",
     "locked": true,
     "schema_version": 3,
     "solution": false,
     "task": false
    },
    "slideshow": {
     "slide_type": "slide"
    }
   },
   "source": [
    "## Task 1: convert the data into a dictionary\n",
    "\n",
    "Write a function `convert_data` that takes four `list` parameters, where each list stores a different piece of information for each student:\n",
    "* `name_list`: their name as a unique identifier for each student\n",
    "* `SAT_list` an int between 0 and 1600 (initially stored as a string)\n",
    "* `GPA_list`: an int between 0 and 5 (initially stored as a string)\n",
    "* `interest_list`: a float between 0 and 10 (from very low interest to very high interest, initially stored as a string) \n",
    "\n",
    "The function should create a dictionary where each student name (the _key_) is mapped into a tuple of `float` (the GPA, the SAT, and the interest)."
   ]
  },
  {
   "cell_type": "markdown",
   "metadata": {
    "nbgrader": {
     "grade": false,
     "grade_id": "cell-4d7eb71feb199f4c",
     "locked": true,
     "schema_version": 3,
     "solution": false,
     "task": false
    },
    "slideshow": {
     "slide_type": "subslide"
    }
   },
   "source": [
    "__Hint__: _To create a tuple with `float` elements, you can either use the tuple literal `()` or the `tuple()` function. To use the latter, start with an empty list first, append each float in an internal loop, and finally after the loop convert the list to tuple using the `tuple()` conversion function_. "
   ]
  },
  {
   "cell_type": "markdown",
   "metadata": {
    "nbgrader": {
     "grade": false,
     "grade_id": "cell-7a948a3d31b0d535",
     "locked": true,
     "schema_version": 3,
     "solution": false,
     "task": false
    },
    "slideshow": {
     "slide_type": "fragment"
    }
   },
   "source": [
    "For example, with your dictionary should look like this (only the first 4 entries are shown):\n",
    "```python\n",
    "{'Abbess Horror': (1300.0, 3.61, 10.0),\n",
    " 'Akira Kiamata': (1310.0, 4.0, 1.0),\n",
    " 'Alkhema Salad': (1160.0, 3.17, 0.0),\n",
    " 'Andrea Janson': (1530.0, 3.78, 7.0),\n",
    "...\n",
    " ```"
   ]
  },
  {
   "cell_type": "code",
   "execution_count": null,
   "metadata": {
    "nbgrader": {
     "grade": false,
     "grade_id": "cell-3d1e8c73f8bd0074",
     "locked": true,
     "schema_version": 3,
     "solution": false,
     "task": false
    },
    "slideshow": {
     "slide_type": "-"
    }
   },
   "outputs": [],
   "source": [
    "# Your code here\n",
    "\n",
    "...\n",
    "\n",
    "\n",
    "\n",
    "names=['Abbess Horror', 'Akira Kiamata', 'Alkhema Salad', 'Andrea Janson',\n",
    "'Anna Frankenstein', 'Astrid Bloom', 'Belinda Mathius', 'Black Mariah',\n",
    "'Brigitte Lahti', 'Cassandra Nova Xavier', 'Celestia Denton', 'Countess Kyra',\n",
    "'Dancing Water', 'Elisbeth von Strucker', 'Emma Frost', 'Lilith Moll',\n",
    "'Llyra Morris', 'Lotus Newmark', 'Ma Mayhem', 'Madame Joy', 'Malice Marauders',\n",
    "'Maria Callasantos']\n",
    "\n",
    "SATs=['1300', '1310', '1160', '1530', '1050', '1360', '1210', '1320', '1140', '1520',\n",
    "'1310', '1160', '1410', '1270', '1470', '1330', '1200', '1200', '1380', '1260',\n",
    "'1160', '1380']\n",
    "\n",
    "GPAs=['3.61', '4', '3.17', '3.78', '2.42', '3.86', '3.18', '4', '2.9', '3.83', '3.15',\n",
    "'3.08', '3.74', '3.17', '3.93', '3.74', '3.13', '3.51', '4.3', '2.94', '3.31',\n",
    "'3.34']\n",
    "\n",
    "interests=['10', '1', '0', '7', '5', '8', '9', '7', '5', '10', '10', '0', '8', '0', '7',\n",
    "'5', '4', '2', '8', '7', '1', '1']\n",
    "\n",
    "\n",
    "convert_data(name_list=names, SAT_list=SATs, GPA_list=GPAs, interest_list=interests)"
   ]
  },
  {
   "cell_type": "markdown",
   "metadata": {},
   "source": [
    "<br/><br/><br/><br/><br/><br/><br/><br/><br/><br/><br/><br/><br/>\n",
    "\n",
    "---"
   ]
  },
  {
   "cell_type": "markdown",
   "metadata": {
    "nbgrader": {
     "grade": false,
     "grade_id": "cell-a5be1e8188e910ca",
     "locked": true,
     "schema_version": 3,
     "solution": false,
     "task": false
    },
    "slideshow": {
     "slide_type": "slide"
    }
   },
   "source": [
    "## Task 2: compute admission scores!\n",
    "\n",
    "Write a function `compute_scores` that takes a dictionary called `student_data` created with the function above.\n",
    "\n",
    "Your function should compute the admission score $\\alpha$ of each student using the following weights:\n",
    "\n",
    "| Variable | Weight |\n",
    "| --- | --- |\n",
    "| GPA | 40% |\n",
    "| SAT | 30% |\n",
    "| Interest | 30% |\n",
    "\n",
    "To make this work, you will also need to normalize both GPA and SAT so that they are also on a 0 to 10 scale. \n",
    "\n",
    "To do this, multiply the GPA by 2, and divide the SAT score by 160.\n",
    "\n",
    "Your function should return a new dictionary called `scores` where each key is the student name and the value is their admission score."
   ]
  },
  {
   "cell_type": "code",
   "execution_count": null,
   "metadata": {
    "nbgrader": {
     "grade": false,
     "grade_id": "cell-5a523c0580cdd97d",
     "locked": true,
     "schema_version": 3,
     "solution": false,
     "task": false
    },
    "slideshow": {
     "slide_type": "subslide"
    }
   },
   "outputs": [],
   "source": [
    "# Your code here\n",
    "...\n",
    "\n",
    "\n",
    "\n",
    "\n",
    "\n",
    "student_data = {'Abbess Horror': (1300.0, 3.61, 10.0),\n",
    " 'Akira Kiamata': (1310.0, 4.0, 1.0),\n",
    " 'Alkhema Salad': (1160.0, 3.17, 0.0),\n",
    " 'Andrea Janson': (1530.0, 3.78, 7.0),\n",
    " 'Anna Frankenstein': (1050.0, 2.42, 5.0),\n",
    " 'Astrid Bloom': (1360.0, 3.86, 8.0),\n",
    " 'Belinda Mathius': (1210.0, 3.18, 9.0),\n",
    " 'Black Mariah': (1320.0, 4.0, 7.0),\n",
    " 'Brigitte Lahti': (1140.0, 2.9, 5.0),\n",
    " 'Cassandra Nova Xavier': (1520.0, 3.83, 10.0),\n",
    " 'Celestia Denton': (1310.0, 3.15, 10.0),\n",
    " 'Countess Kyra': (1160.0, 3.08, 0.0),\n",
    " 'Dancing Water': (1410.0, 3.74, 8.0),\n",
    " 'Elisbeth von Strucker': (1270.0, 3.17, 0.0),\n",
    " 'Emma Frost': (1470.0, 3.93, 7.0),\n",
    " 'Lilith Moll': (1330.0, 3.74, 5.0),\n",
    " 'Llyra Morris': (1200.0, 3.13, 4.0),\n",
    " 'Lotus Newmark': (1200.0, 3.51, 2.0),\n",
    " 'Ma Mayhem': (1380.0, 4.3, 8.0),\n",
    " 'Madame Joy': (1260.0, 2.94, 7.0),\n",
    " 'Malice Marauders': (1160.0, 3.31, 1.0),\n",
    " 'Maria Callasantos': (1380.0, 3.34, 1.0)}\n",
    "\n",
    "compute_scores(student_data)"
   ]
  },
  {
   "cell_type": "markdown",
   "metadata": {},
   "source": [
    "<br/><br/><br/><br/><br/><br/><br/><br/><br/><br/><br/><br/><br/>\n",
    "\n",
    "---"
   ]
  },
  {
   "cell_type": "markdown",
   "metadata": {
    "nbgrader": {
     "grade": false,
     "grade_id": "cell-2f8536db470278f2",
     "locked": true,
     "schema_version": 3,
     "solution": false,
     "task": false
    },
    "slideshow": {
     "slide_type": "slide"
    }
   },
   "source": [
    "## Task 3: run your program!\n",
    "\n",
    "Now it is time to put everything together. For simplicity, the raw data have been wrapped in a dictionary with four entries, each associating a string (`'names'`, `'SATs'`, `'GPAs'`, and `'interests'`) to the corresponding list of raw string data.\n",
    "\n",
    "Your function should do the following steps:\n",
    "\n",
    "* It should then call `convert_data` to convert the raw data into a dictionary of student data;\n",
    "* It should then call `compute_scores` to compute the student scores into a dictionary;\n",
    "* Finally, it should loop through the scores dictionary and print the name of each student followed by the score, rounded to to two decimal digits."
   ]
  },
  {
   "cell_type": "code",
   "execution_count": null,
   "metadata": {
    "nbgrader": {
     "grade": false,
     "grade_id": "cell-33c61f4e380b09d5",
     "locked": true,
     "schema_version": 3,
     "solution": false,
     "task": false
    },
    "slideshow": {
     "slide_type": "-"
    }
   },
   "outputs": [],
   "source": [
    "raw_data = dict(\n",
    "    names=['Abbess Horror', 'Akira Kiamata', 'Alkhema Salad', 'Andrea Janson',\n",
    "           'Anna Frankenstein', 'Astrid Bloom', 'Belinda Mathius', 'Black Mariah',\n",
    "           'Brigitte Lahti', 'Cassandra Nova Xavier', 'Celestia Denton', 'Countess Kyra',\n",
    "           'Dancing Water', 'Elisbeth von Strucker', 'Emma Frost', 'Lilith Moll',\n",
    "           'Llyra Morris', 'Lotus Newmark', 'Ma Mayhem', 'Madame Joy', 'Malice Marauders',\n",
    "           'Maria Callasantos'],\n",
    "    SATs=['1300', '1310', '1160', '1530', '1050', '1360', '1210', '1320', '1140', '1520',\n",
    "          '1310', '1160', '1410', '1270', '1470', '1330', '1200', '1200', '1380', '1260',\n",
    "          '1160', '1380'],\n",
    "    GPAs=['3.61', '4', '3.17', '3.78', '2.42', '3.86', '3.18', '4', '2.9', '3.83', '3.15',\n",
    "          '3.08', '3.74', '3.17', '3.93', '3.74', '3.13', '3.51', '4.3', '2.94', '3.31',\n",
    "          '3.34'],\n",
    "    interests=['10', '1', '0', '7', '5', '8', '9', '7', '5', '10', '10', '0', '8', '0', '7',\n",
    "               '5', '4', '2', '8', '7', '1', '1']\n",
    ")\n",
    "\n",
    "\n",
    "# Your code here\n",
    "...\n",
    "\n",
    "main(raw_data)"
   ]
  },
  {
   "cell_type": "markdown",
   "metadata": {},
   "source": [
    "<br/>\n",
    "<br/>\n",
    "<br/>\n",
    "<br/>\n",
    "<br/>\n",
    "<br/>\n",
    "<br/>\n",
    "<br/>\n",
    "<br/>\n",
    "<br/>\n",
    "<br/>\n",
    "<br/>\n",
    "<br/>\n",
    "<br/>\n",
    "<br/>\n",
    "<br/>\n",
    "<br/>\n",
    "<br/>\n",
    "<br/>\n",
    "<br/>\n",
    "<br/>\n",
    "<br/>\n",
    "<br/>\n",
    "<br/>\n",
    "<br/>\n",
    "<br/>\n",
    "<br/>\n",
    "<br/>\n",
    "<br/>\n",
    "<br/>\n",
    "<br/>\n",
    "<br/>\n",
    "<br/>\n",
    "<br/>\n",
    "<br/>\n",
    "<br/>\n",
    "<br/>\n",
    "<br/>\n",
    "<br/>\n",
    "<br/>\n",
    "<br/>\n",
    "<br/>\n",
    "<br/>\n",
    "<br/>\n",
    "<br/>\n",
    "<br/>\n",
    "<br/>\n",
    "<br/>\n",
    "<br/>\n",
    "<br/>\n",
    "<br/>\n",
    "<br/>\n",
    "<br/>\n",
    "<br/>\n",
    "\n",
    "---"
   ]
  },
  {
   "cell_type": "markdown",
   "metadata": {},
   "source": [
    "# Solutions\n",
    "\n",
    "## Task 1"
   ]
  },
  {
   "cell_type": "code",
   "execution_count": null,
   "metadata": {
    "nbgrader": {
     "grade": false,
     "grade_id": "cell-3d1e8c73f8bd0074",
     "locked": true,
     "schema_version": 3,
     "solution": false,
     "task": false
    },
    "slideshow": {
     "slide_type": "-"
    }
   },
   "outputs": [],
   "source": [
    "### BEGIN SOLUTION\n",
    "def convert_data(name_list, SAT_list, GPA_list, interest_list):\n",
    "    d = {}\n",
    "    for i in range(len(name_list)):\n",
    "        key = names[i]\n",
    "        value = (float(SAT_list[i]), float(GPA_list[i]), float(interest_list[i]))\n",
    "        d[key] = tuple(value)\n",
    "    return d\n",
    "### END SOLUTION\n",
    "\n",
    "names=['Abbess Horror', 'Akira Kiamata', 'Alkhema Salad', 'Andrea Janson',\n",
    "'Anna Frankenstein', 'Astrid Bloom', 'Belinda Mathius', 'Black Mariah',\n",
    "'Brigitte Lahti', 'Cassandra Nova Xavier', 'Celestia Denton', 'Countess Kyra',\n",
    "'Dancing Water', 'Elisbeth von Strucker', 'Emma Frost', 'Lilith Moll',\n",
    "'Llyra Morris', 'Lotus Newmark', 'Ma Mayhem', 'Madame Joy', 'Malice Marauders',\n",
    "'Maria Callasantos']\n",
    "\n",
    "SATs=['1300', '1310', '1160', '1530', '1050', '1360', '1210', '1320', '1140', '1520',\n",
    "'1310', '1160', '1410', '1270', '1470', '1330', '1200', '1200', '1380', '1260',\n",
    "'1160', '1380']\n",
    "\n",
    "GPAs=['3.61', '4', '3.17', '3.78', '2.42', '3.86', '3.18', '4', '2.9', '3.83', '3.15',\n",
    "'3.08', '3.74', '3.17', '3.93', '3.74', '3.13', '3.51', '4.3', '2.94', '3.31',\n",
    "'3.34']\n",
    "\n",
    "interests=['10', '1', '0', '7', '5', '8', '9', '7', '5', '10', '10', '0', '8', '0', '7',\n",
    "'5', '4', '2', '8', '7', '1', '1']\n",
    "\n",
    "\n",
    "convert_data(name_list=names, SAT_list=SATs, GPA_list=GPAs, interest_list=interests)"
   ]
  },
  {
   "cell_type": "markdown",
   "metadata": {},
   "source": [
    "## Task 2"
   ]
  },
  {
   "cell_type": "code",
   "execution_count": null,
   "metadata": {
    "nbgrader": {
     "grade": false,
     "grade_id": "cell-5a523c0580cdd97d",
     "locked": true,
     "schema_version": 3,
     "solution": false,
     "task": false
    },
    "slideshow": {
     "slide_type": "subslide"
    }
   },
   "outputs": [],
   "source": [
    "### BEGIN SOLUTION\n",
    "def compute_scores(student_data):\n",
    "    \"\"\"\n",
    "    This function takes a dictionary of student data as input and calculates a score for each student based on the \n",
    "    weights for GPA, SAT, interest, and high school quality.\n",
    "    \"\"\"\n",
    "    scores = {}\n",
    "    for name, values in student_data.items():\n",
    "            sat = values[0] / 160\n",
    "            gpa = values[1] * 2\n",
    "            interest = values[2] \n",
    "            score = 0.4 * gpa + 0.3 * sat + 0.3\n",
    "            scores[name] = score  \n",
    "    return scores\n",
    "### END SOLUTION   \n",
    "\n",
    "student_data = {'Abbess Horror': (1300.0, 3.61, 10.0),\n",
    " 'Akira Kiamata': (1310.0, 4.0, 1.0),\n",
    " 'Alkhema Salad': (1160.0, 3.17, 0.0),\n",
    " 'Andrea Janson': (1530.0, 3.78, 7.0),\n",
    " 'Anna Frankenstein': (1050.0, 2.42, 5.0),\n",
    " 'Astrid Bloom': (1360.0, 3.86, 8.0),\n",
    " 'Belinda Mathius': (1210.0, 3.18, 9.0),\n",
    " 'Black Mariah': (1320.0, 4.0, 7.0),\n",
    " 'Brigitte Lahti': (1140.0, 2.9, 5.0),\n",
    " 'Cassandra Nova Xavier': (1520.0, 3.83, 10.0),\n",
    " 'Celestia Denton': (1310.0, 3.15, 10.0),\n",
    " 'Countess Kyra': (1160.0, 3.08, 0.0),\n",
    " 'Dancing Water': (1410.0, 3.74, 8.0),\n",
    " 'Elisbeth von Strucker': (1270.0, 3.17, 0.0),\n",
    " 'Emma Frost': (1470.0, 3.93, 7.0),\n",
    " 'Lilith Moll': (1330.0, 3.74, 5.0),\n",
    " 'Llyra Morris': (1200.0, 3.13, 4.0),\n",
    " 'Lotus Newmark': (1200.0, 3.51, 2.0),\n",
    " 'Ma Mayhem': (1380.0, 4.3, 8.0),\n",
    " 'Madame Joy': (1260.0, 2.94, 7.0),\n",
    " 'Malice Marauders': (1160.0, 3.31, 1.0),\n",
    " 'Maria Callasantos': (1380.0, 3.34, 1.0)}\n",
    "\n",
    "compute_scores(student_data)"
   ]
  },
  {
   "cell_type": "markdown",
   "metadata": {},
   "source": [
    "## Task 3"
   ]
  },
  {
   "cell_type": "code",
   "execution_count": null,
   "metadata": {
    "nbgrader": {
     "grade": false,
     "grade_id": "cell-33c61f4e380b09d5",
     "locked": true,
     "schema_version": 3,
     "solution": false,
     "task": false
    },
    "slideshow": {
     "slide_type": "-"
    },
    "tags": []
   },
   "outputs": [],
   "source": [
    "raw_data = dict(\n",
    "    names=['Abbess Horror', 'Akira Kiamata', 'Alkhema Salad', 'Andrea Janson',\n",
    "           'Anna Frankenstein', 'Astrid Bloom', 'Belinda Mathius', 'Black Mariah',\n",
    "           'Brigitte Lahti', 'Cassandra Nova Xavier', 'Celestia Denton', 'Countess Kyra',\n",
    "           'Dancing Water', 'Elisbeth von Strucker', 'Emma Frost', 'Lilith Moll',\n",
    "           'Llyra Morris', 'Lotus Newmark', 'Ma Mayhem', 'Madame Joy', 'Malice Marauders',\n",
    "           'Maria Callasantos'],\n",
    "    SATs=['1300', '1310', '1160', '1530', '1050', '1360', '1210', '1320', '1140', '1520',\n",
    "          '1310', '1160', '1410', '1270', '1470', '1330', '1200', '1200', '1380', '1260',\n",
    "          '1160', '1380'],\n",
    "    GPAs=['3.61', '4', '3.17', '3.78', '2.42', '3.86', '3.18', '4', '2.9', '3.83', '3.15',\n",
    "          '3.08', '3.74', '3.17', '3.93', '3.74', '3.13', '3.51', '4.3', '2.94', '3.31',\n",
    "          '3.34'],\n",
    "    interests=['10', '1', '0', '7', '5', '8', '9', '7', '5', '10', '10', '0', '8', '0', '7',\n",
    "               '5', '4', '2', '8', '7', '1', '1']\n",
    ")\n",
    "\n",
    "### BEGIN SOLUTION\n",
    "def main(raw_data):    \n",
    "    # Convert data to correct type\n",
    "    data = convert_data(\n",
    "        name_list=raw_data['names'],\n",
    "        SAT_list=raw_data['SATs'],\n",
    "        GPA_list=raw_data['GPAs'],\n",
    "        interest_list=raw_data['interests'])\n",
    "    \n",
    "    # Compute admission score of each student\n",
    "    scores = compute_scores(data)\n",
    "\n",
    "    # print the results\n",
    "    for name, score in scores.items():\n",
    "        print(f\"{name}: {score:.2f}\")\n",
    "### END SOLUTION\n",
    "\n",
    "main(raw_data)"
   ]
  }
 ],
 "metadata": {
  "celltoolbar": "Slideshow",
  "kernelspec": {
   "display_name": "Python 3 (ipykernel)",
   "language": "python",
   "name": "python3"
  },
  "language_info": {
   "codemirror_mode": {
    "name": "ipython",
    "version": 3
   },
   "file_extension": ".py",
   "mimetype": "text/x-python",
   "name": "python",
   "nbconvert_exporter": "python",
   "pygments_lexer": "ipython3",
   "version": "3.11.7"
  }
 },
 "nbformat": 4,
 "nbformat_minor": 4
}
