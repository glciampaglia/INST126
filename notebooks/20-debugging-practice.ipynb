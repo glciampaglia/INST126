{
 "cells": [
  {
   "cell_type": "markdown",
   "metadata": {},
   "source": [
    "# Scenario: Debugging Notes\n",
    "\n",
    "This notebook contains 9 debugging examples. Each example has a stated _intent_ (a goal the code is trying to achieve). Try to debug the code, and then complete the questions with your debugging notes."
   ]
  },
  {
   "cell_type": "markdown",
   "metadata": {},
   "source": [
    "<br/>\n",
    "<br/>\n",
    "<br/>\n",
    "<br/>\n",
    "<br/>\n",
    "<br/>\n",
    "<br/>\n",
    "\n",
    "---"
   ]
  },
  {
   "cell_type": "markdown",
   "metadata": {
    "id": "ObSubDjaEtPK"
   },
   "source": [
    "# Task 1: Semantic Errors\n",
    "\n",
    "Semantic errors come about when your program does not work as it is supposed to. These usually do not lead to an actual error message, the program instead outputs something you did not expect or want, or does not output anything when you were expecting it to.\n",
    "\n"
   ]
  },
  {
   "cell_type": "markdown",
   "metadata": {},
   "source": [
    "<br/>\n",
    "<br/>\n",
    "<br/>\n",
    "<br/>\n",
    "<br/>\n",
    "<br/>\n",
    "<br/>\n",
    "\n",
    "---"
   ]
  },
  {
   "cell_type": "markdown",
   "metadata": {
    "id": "C1iRRxXuKNOr"
   },
   "source": [
    "## Example 1\n",
    "\n",
    "**Intent:** program that prompts two numbers from user and returns the sum."
   ]
  },
  {
   "cell_type": "code",
   "execution_count": null,
   "metadata": {
    "colab": {
     "base_uri": "https://localhost:8080/"
    },
    "id": "LT6-XER2KRIc",
    "outputId": "53fc71ff-3ae8-4377-a7c1-66f0b2296030"
   },
   "outputs": [],
   "source": [
    "def input_two_and_sum():\n",
    "    \"\"\"\n",
    "    This function asks two numbers in input and returns their sum.\n",
    "    \"\"\"\n",
    "    num1 = input('Enter first number:') \n",
    "    num2 = input('Enter second number:') \n",
    "    result = num1 + num2\n",
    "    return result\n",
    "\n",
    "\n",
    "input_two_and_sum()"
   ]
  },
  {
   "cell_type": "markdown",
   "metadata": {
    "tags": []
   },
   "source": [
    "### Debugging notes\n",
    "\n",
    "Answer the following questions (edit the cells)\n",
    "\n",
    "**Q: What did you expect?**"
   ]
  },
  {
   "cell_type": "raw",
   "metadata": {
    "tags": []
   },
   "source": [
    "A: "
   ]
  },
  {
   "cell_type": "markdown",
   "metadata": {
    "tags": []
   },
   "source": [
    "**Q: What did you see instead?**"
   ]
  },
  {
   "cell_type": "raw",
   "metadata": {
    "tags": []
   },
   "source": [
    "A: "
   ]
  },
  {
   "cell_type": "markdown",
   "metadata": {
    "tags": []
   },
   "source": [
    "**Q: What do you think is going on? What's the mismatch between your mental model and the computer's behavior?**"
   ]
  },
  {
   "cell_type": "raw",
   "metadata": {
    "tags": []
   },
   "source": [
    "A: "
   ]
  },
  {
   "cell_type": "markdown",
   "metadata": {
    "tags": []
   },
   "source": [
    "**Q: What strategies did you use?**\n",
    "\n",
    "Some possible examples:\n",
    "- Diagrammed a problem formulation\n",
    "- Added documentation / comment the code\n",
    "- Test code with different inputs\n",
    "- Add print statements to help model what is happening / Use Python Tutor"
   ]
  },
  {
   "cell_type": "raw",
   "metadata": {
    "tags": []
   },
   "source": [
    "A:"
   ]
  },
  {
   "cell_type": "markdown",
   "metadata": {},
   "source": [
    "<br/>\n",
    "<br/>\n",
    "<br/>\n",
    "<br/>\n",
    "<br/>\n",
    "<br/>\n",
    "<br/>\n",
    "\n",
    "---"
   ]
  },
  {
   "cell_type": "markdown",
   "metadata": {
    "id": "E0DyH3w2KP7B"
   },
   "source": [
    "## Example 2\n",
    "\n",
    "<div class=\"alert alert-info\"><strong>Good to know/remember</strong>: To stop the kernel, go to <em>Kernel &rarr; Interrupt</em>.</div>\n",
    "\n",
    "**Intent**: program that subtracts 2 from a given number until it reaches 0 "
   ]
  },
  {
   "cell_type": "code",
   "execution_count": null,
   "metadata": {},
   "outputs": [],
   "source": [
    "def countdown_to_zero(num):\n",
    "    while num != 0: \n",
    "        num = num - 2\n",
    "        print(\"At\", num)\n",
    "    print(\"Stopped!\")\n",
    "\n",
    "countdown_to_zero(31)"
   ]
  },
  {
   "cell_type": "markdown",
   "metadata": {
    "tags": []
   },
   "source": [
    "### Debugging notes\n",
    "\n",
    "Answer the following questions (edit the cells).\n",
    "\n",
    "**Q: What did you expect?**"
   ]
  },
  {
   "cell_type": "raw",
   "metadata": {
    "tags": []
   },
   "source": [
    "A:"
   ]
  },
  {
   "cell_type": "markdown",
   "metadata": {
    "tags": []
   },
   "source": [
    "**Q: What did you see instead?**"
   ]
  },
  {
   "cell_type": "raw",
   "metadata": {
    "tags": []
   },
   "source": [
    "A: "
   ]
  },
  {
   "cell_type": "markdown",
   "metadata": {
    "tags": []
   },
   "source": [
    "**Q: What do you think is going on? What's the mismatch between your mental model and the computer's behavior?**"
   ]
  },
  {
   "cell_type": "raw",
   "metadata": {
    "tags": []
   },
   "source": [
    "A: "
   ]
  },
  {
   "cell_type": "markdown",
   "metadata": {
    "tags": []
   },
   "source": [
    "**Q: What strategies did you use?**\n",
    "\n",
    "Possible examples:\n",
    "- Diagrammed a problem formulation\n",
    "- Added documentation / comment the code\n",
    "- Test code with different inputs\n",
    "- Add print statements to help model what is happening / Use Python Tutor"
   ]
  },
  {
   "cell_type": "raw",
   "metadata": {
    "tags": []
   },
   "source": [
    "A:"
   ]
  },
  {
   "cell_type": "markdown",
   "metadata": {},
   "source": [
    "<br/>\n",
    "<br/>\n",
    "<br/>\n",
    "<br/>\n",
    "<br/>\n",
    "<br/>\n",
    "<br/>\n",
    "\n",
    "---"
   ]
  },
  {
   "cell_type": "markdown",
   "metadata": {
    "id": "U1NTw-_YOnX-"
   },
   "source": [
    "## Example 3\n",
    "\n",
    "**Intent**: program that prints all even numbers from 1 to 10"
   ]
  },
  {
   "cell_type": "code",
   "execution_count": null,
   "metadata": {
    "colab": {
     "base_uri": "https://localhost:8080/"
    },
    "id": "RbXoLSMBOn4T",
    "outputId": "bfadb405-61cc-44dd-b06f-b52355fe4e18",
    "scrolled": true
   },
   "outputs": [],
   "source": [
    "def filter_numbers(nums):\n",
    "    tmp = []\n",
    "    for num in nums: \n",
    "        if num % 2==0:\n",
    "            tmp.append(nums)\n",
    "    return tmp\n",
    "\n",
    "my_nums = [1, 2, 3, 4, 5, 6, 7, 8, 9, 10]\n",
    "\n",
    "filter_numbers(my_nums)"
   ]
  },
  {
   "cell_type": "markdown",
   "metadata": {
    "tags": []
   },
   "source": [
    "### Debugging notes\n",
    "\n",
    "Answer the following questions (edit the cells)\n",
    "\n",
    "**Q: What did you expect?**"
   ]
  },
  {
   "cell_type": "raw",
   "metadata": {
    "tags": []
   },
   "source": [
    "A: "
   ]
  },
  {
   "cell_type": "markdown",
   "metadata": {
    "tags": []
   },
   "source": [
    "**Q: What did you see instead?**"
   ]
  },
  {
   "cell_type": "raw",
   "metadata": {
    "tags": []
   },
   "source": [
    "A: "
   ]
  },
  {
   "cell_type": "markdown",
   "metadata": {
    "tags": []
   },
   "source": [
    "**Q: What do you think is going on? What's the mismatch between your mental model and the computer's behavior?**"
   ]
  },
  {
   "cell_type": "raw",
   "metadata": {
    "tags": []
   },
   "source": [
    "A:"
   ]
  },
  {
   "cell_type": "markdown",
   "metadata": {
    "tags": []
   },
   "source": [
    "**Q: What strategies did you use?**\n",
    "\n",
    "Possible examples:\n",
    "- Diagrammed a problem formulation\n",
    "- Added documentation / comment the code\n",
    "- Test code with different inputs\n",
    "- Add print statements to help model what is happening / Use Python Tutor"
   ]
  },
  {
   "cell_type": "raw",
   "metadata": {
    "tags": []
   },
   "source": [
    "A:"
   ]
  },
  {
   "cell_type": "markdown",
   "metadata": {},
   "source": [
    "<br/>\n",
    "<br/>\n",
    "<br/>\n",
    "<br/>\n",
    "<br/>\n",
    "<br/>\n",
    "<br/>\n",
    "\n",
    "---"
   ]
  },
  {
   "cell_type": "markdown",
   "metadata": {
    "id": "NUkXtgHSnj-K"
   },
   "source": [
    "## Example 4\n",
    "\n",
    "**Intent**: program that inserts course numbers strings from one list into a new list, but only if the courses are from the InfoSci program (the course number should contain the code `INST`)"
   ]
  },
  {
   "cell_type": "code",
   "execution_count": null,
   "metadata": {
    "colab": {
     "base_uri": "https://localhost:8080/"
    },
    "id": "E4BcSLFwnixl",
    "outputId": "eb4fd261-9b5c-4e50-8d49-b419808a154e"
   },
   "outputs": [],
   "source": [
    "def filter_courses(courses, program):\n",
    "    tmp = []\n",
    "    program = \"INST\"\n",
    "    for course in courses:\n",
    "        if program in courses:\n",
    "            tmp.append(course)\n",
    "    return tmp\n",
    "\n",
    "\n",
    "items = [\"INST201\", \"CMSC100\", \"STAT100\", \"INST126\", \"INST326\"]\n",
    "\n",
    "filter_courses(items, \"INST\")"
   ]
  },
  {
   "cell_type": "markdown",
   "metadata": {
    "tags": []
   },
   "source": [
    "### Debugging notes\n",
    "\n",
    "Answer the following questions (edit the cells)\n",
    "\n",
    "**Q: What did you expect?**"
   ]
  },
  {
   "cell_type": "raw",
   "metadata": {
    "tags": []
   },
   "source": [
    "A: "
   ]
  },
  {
   "cell_type": "markdown",
   "metadata": {
    "tags": []
   },
   "source": [
    "**Q: What did you see instead?**"
   ]
  },
  {
   "cell_type": "raw",
   "metadata": {
    "tags": []
   },
   "source": [
    "A: "
   ]
  },
  {
   "cell_type": "markdown",
   "metadata": {
    "tags": []
   },
   "source": [
    "**Q: What do you think is going on? What's the mismatch between your mental model and the computer's behavior?**"
   ]
  },
  {
   "cell_type": "raw",
   "metadata": {
    "tags": []
   },
   "source": [
    "A:"
   ]
  },
  {
   "cell_type": "markdown",
   "metadata": {
    "tags": []
   },
   "source": [
    "**Q: What strategies did you use?**\n",
    "\n",
    "Possible examples:\n",
    "- Diagrammed a problem formulation\n",
    "- Added documentation / comment the code\n",
    "- Test code with different inputs\n",
    "- Add print statements to help model what is happening / Use Python Tutor"
   ]
  },
  {
   "cell_type": "raw",
   "metadata": {
    "tags": []
   },
   "source": [
    "A:"
   ]
  },
  {
   "cell_type": "markdown",
   "metadata": {},
   "source": [
    "<br/>\n",
    "<br/>\n",
    "<br/>\n",
    "<br/>\n",
    "<br/>\n",
    "<br/>\n",
    "<br/>\n",
    "\n",
    "---"
   ]
  },
  {
   "cell_type": "markdown",
   "metadata": {
    "id": "i6P2y7MNbTU8"
   },
   "source": [
    "# Task 2: Syntax Errors\n",
    "Syntax errors come from the user failing to follow the set rules given by python. These almost always lead to some type of error message."
   ]
  },
  {
   "cell_type": "markdown",
   "metadata": {},
   "source": [
    "<br/>\n",
    "<br/>\n",
    "<br/>\n",
    "<br/>\n",
    "<br/>\n",
    "<br/>\n",
    "<br/>\n",
    "\n",
    "---"
   ]
  },
  {
   "cell_type": "markdown",
   "metadata": {
    "id": "Q7jbvjsBNfNn"
   },
   "source": [
    "## Example 1\n",
    "\n",
    "**Intent**: Program that checks if a number is even or odd\n"
   ]
  },
  {
   "cell_type": "code",
   "execution_count": null,
   "metadata": {
    "colab": {
     "base_uri": "https://localhost:8080/"
    },
    "id": "3iEYFrSVaBcu",
    "outputId": "16884844-705c-4bf1-9618-a8e1e93a003d"
   },
   "outputs": [],
   "source": [
    "# get initial input from user\n",
    "x = input('Enter a number (or \"exit\" to quit): ')\n",
    "\n",
    "# check if we should keep going (stop if user says \"exit\")\n",
    "while x != \"exit\":\n",
    "    # check if number is even\n",
    "    if int(x) % 2 = 0:\n",
    "        print('You have entered an even number.')\n",
    "    else:\n",
    "        print('You have entered an odd number.')   \n",
    "    # get new input from user\n",
    "    x = input('Enter a number (or \"exit\" to quit): ') "
   ]
  },
  {
   "cell_type": "markdown",
   "metadata": {
    "tags": []
   },
   "source": [
    "### Debugging notes\n",
    "\n",
    "Answer the following questions (edit the cells)\n",
    "\n",
    "**Q: What did you expect?**"
   ]
  },
  {
   "cell_type": "raw",
   "metadata": {
    "tags": []
   },
   "source": [
    "A: "
   ]
  },
  {
   "cell_type": "markdown",
   "metadata": {
    "tags": []
   },
   "source": [
    "**Q: What did you see instead?**"
   ]
  },
  {
   "cell_type": "raw",
   "metadata": {
    "tags": []
   },
   "source": [
    "A: "
   ]
  },
  {
   "cell_type": "markdown",
   "metadata": {
    "tags": []
   },
   "source": [
    "**Q: What do you think is going on? What's the mismatch between your mental model and the computer's behavior?**"
   ]
  },
  {
   "cell_type": "raw",
   "metadata": {
    "tags": []
   },
   "source": [
    "A:"
   ]
  },
  {
   "cell_type": "markdown",
   "metadata": {
    "tags": []
   },
   "source": [
    "**Q: What strategies did you use?** \n",
    "\n",
    "Possible examples:\n",
    "- Diagrammed a problem formulation\n",
    "- Added documentation / comment the code\n",
    "- Test code with different inputs\n",
    "- Add print statements to help model what is happening / Use Python Tutor"
   ]
  },
  {
   "cell_type": "raw",
   "metadata": {
    "tags": []
   },
   "source": [
    "A:"
   ]
  },
  {
   "cell_type": "markdown",
   "metadata": {},
   "source": [
    "<br/>\n",
    "<br/>\n",
    "<br/>\n",
    "<br/>\n",
    "<br/>\n",
    "<br/>\n",
    "<br/>\n",
    "\n",
    "---"
   ]
  },
  {
   "cell_type": "markdown",
   "metadata": {
    "id": "GSe-4gDMO8vr"
   },
   "source": [
    "## Example 2\n",
    "\n",
    "**Intent**: program that checks if a list of numbers are even or odd "
   ]
  },
  {
   "cell_type": "code",
   "execution_count": null,
   "metadata": {
    "colab": {
     "base_uri": "https://localhost:8080/",
     "height": 135
    },
    "id": "m4KRA3M4O8_C",
    "outputId": "992dc740-705e-4f04-ae88-5d293680884d"
   },
   "outputs": [],
   "source": [
    "numbers = [3, 14, 58, 9, 88, 104, 25]\n",
    "\n",
    "num in numbers:\n",
    "    if num % 2 == 0:\n",
    "        print(\"Even\")\n",
    "else:\n",
    "    print(\"Odd\")"
   ]
  },
  {
   "cell_type": "markdown",
   "metadata": {
    "tags": []
   },
   "source": [
    "### Debugging notes\n",
    "\n",
    "Answer the following questions (edit the cells)\n",
    "\n",
    "**Q: What did you expect?**"
   ]
  },
  {
   "cell_type": "raw",
   "metadata": {
    "tags": []
   },
   "source": [
    "A:"
   ]
  },
  {
   "cell_type": "markdown",
   "metadata": {
    "tags": []
   },
   "source": [
    "**Q: What did you see instead?**"
   ]
  },
  {
   "cell_type": "raw",
   "metadata": {
    "tags": []
   },
   "source": [
    "A:"
   ]
  },
  {
   "cell_type": "markdown",
   "metadata": {
    "tags": []
   },
   "source": [
    "**Q: What do you think is going on? What's the mismatch between your mental model and the computer's behavior?**"
   ]
  },
  {
   "cell_type": "raw",
   "metadata": {
    "tags": []
   },
   "source": [
    "A:"
   ]
  },
  {
   "cell_type": "markdown",
   "metadata": {
    "tags": []
   },
   "source": [
    "**Q: What strategies did you use?** \n",
    "\n",
    "Possible examples:\n",
    "- Diagrammed a problem formulation\n",
    "- Added documentation / comment the code\n",
    "- Test code with different inputs\n",
    "- Add print statements to help model what is happening / Use Python Tutor"
   ]
  },
  {
   "cell_type": "raw",
   "metadata": {
    "tags": []
   },
   "source": [
    "A:"
   ]
  },
  {
   "cell_type": "markdown",
   "metadata": {},
   "source": [
    "<br/>\n",
    "<br/>\n",
    "<br/>\n",
    "<br/>\n",
    "<br/>\n",
    "<br/>\n",
    "<br/>\n",
    "\n",
    "---"
   ]
  },
  {
   "cell_type": "markdown",
   "metadata": {
    "id": "CZ0d6brLO9Sk"
   },
   "source": [
    "## Example 3\n",
    "**Intent**: program to see how \"small\" a number is (Under 5 is smallest, under 25 is smaller, under 50 is smallest, other is not small)"
   ]
  },
  {
   "cell_type": "code",
   "execution_count": null,
   "metadata": {
    "colab": {
     "base_uri": "https://localhost:8080/",
     "height": 128
    },
    "id": "ILjYylo3O9hh",
    "outputId": "89f403f6-cec1-4a07-aa7f-60da729ac42f"
   },
   "outputs": [],
   "source": [
    "num = 4\n",
    "if num < 5\n",
    "    print (str(num) + \" is smallest\")\n",
    "elif num < 25\n",
    "    print(str(num) + \" is smaller\")\n",
    "elif num < 50\n",
    "    print (str(num) \" is small\")\n",
    "else\n",
    "    print (str(num) + \" is not small\")"
   ]
  },
  {
   "cell_type": "markdown",
   "metadata": {
    "tags": []
   },
   "source": [
    "### Debugging notes\n",
    "\n",
    "Answer the following questions (edit the cells)\n",
    "\n",
    "**Q: What did you expect?**"
   ]
  },
  {
   "cell_type": "raw",
   "metadata": {
    "tags": []
   },
   "source": [
    "A:"
   ]
  },
  {
   "cell_type": "markdown",
   "metadata": {
    "tags": []
   },
   "source": [
    "**Q: What did you see instead?**"
   ]
  },
  {
   "cell_type": "raw",
   "metadata": {
    "tags": []
   },
   "source": [
    "A: "
   ]
  },
  {
   "cell_type": "markdown",
   "metadata": {
    "tags": []
   },
   "source": [
    "**Q: What do you think is going on? What's the mismatch between your mental model and the computer's behavior?**"
   ]
  },
  {
   "cell_type": "raw",
   "metadata": {
    "tags": []
   },
   "source": [
    "A:"
   ]
  },
  {
   "cell_type": "markdown",
   "metadata": {
    "tags": []
   },
   "source": [
    "**Q: What strategies did you use?** \n",
    "\n",
    "Possible examples:\n",
    "- Diagrammed a problem formulation\n",
    "- Added documentation / comment the code\n",
    "- Test code with different inputs\n",
    "- Add print statements to help model what is happening / Use Python Tutor"
   ]
  },
  {
   "cell_type": "raw",
   "metadata": {
    "tags": []
   },
   "source": [
    "A:"
   ]
  },
  {
   "cell_type": "markdown",
   "metadata": {},
   "source": [
    "<br/>\n",
    "<br/>\n",
    "<br/>\n",
    "<br/>\n",
    "<br/>\n",
    "<br/>\n",
    "<br/>\n",
    "\n",
    "---"
   ]
  },
  {
   "cell_type": "markdown",
   "metadata": {
    "id": "zdVZNi8RO9v6"
   },
   "source": [
    "## Example 4\n",
    "**Intent**: program that compares two numbers. Check if the first number is divisible by the second (no remainder)"
   ]
  },
  {
   "cell_type": "code",
   "execution_count": null,
   "metadata": {
    "colab": {
     "base_uri": "https://localhost:8080/",
     "height": 214
    },
    "id": "H7hbp3m7O9-S",
    "outputId": "7d123dbe-6c0c-483b-f57f-dba80432cc22"
   },
   "outputs": [],
   "source": [
    "first_num = 10\n",
    "second_num = 2\n",
    "if frist_num % second_num == 0:\n",
    "    print(first_num , \"is divisible by\", second_num)"
   ]
  },
  {
   "cell_type": "markdown",
   "metadata": {
    "tags": []
   },
   "source": [
    "### Debugging notes\n",
    "\n",
    "Answer the following questions (edit the cells)\n",
    "\n",
    "**Q: What did you expect?**"
   ]
  },
  {
   "cell_type": "raw",
   "metadata": {
    "tags": []
   },
   "source": [
    "A: "
   ]
  },
  {
   "cell_type": "markdown",
   "metadata": {
    "tags": []
   },
   "source": [
    "**Q: What did you see instead?**"
   ]
  },
  {
   "cell_type": "raw",
   "metadata": {
    "tags": []
   },
   "source": [
    "A: "
   ]
  },
  {
   "cell_type": "markdown",
   "metadata": {
    "tags": []
   },
   "source": [
    "**Q: What do you think is going on? What's the mismatch between your mental model and the computer's behavior?**"
   ]
  },
  {
   "cell_type": "raw",
   "metadata": {
    "tags": []
   },
   "source": [
    "A: "
   ]
  },
  {
   "cell_type": "markdown",
   "metadata": {
    "tags": []
   },
   "source": [
    "**Q: What strategies did you use?** \n",
    "\n",
    "Possible examples:\n",
    "- Diagrammed a problem formulation\n",
    "- Added documentation / comment the code\n",
    "- Test code with different inputs\n",
    "- Add print statements to help model what is happening / Use Python Tutor"
   ]
  },
  {
   "cell_type": "raw",
   "metadata": {
    "tags": []
   },
   "source": [
    "A:"
   ]
  },
  {
   "cell_type": "markdown",
   "metadata": {},
   "source": [
    "<br/>\n",
    "<br/>\n",
    "<br/>\n",
    "<br/>\n",
    "<br/>\n",
    "<br/>\n",
    "<br/>\n",
    "\n",
    "---"
   ]
  },
  {
   "cell_type": "markdown",
   "metadata": {
    "id": "7XprYICSO-Pe"
   },
   "source": [
    "## Example 5\n",
    "\n",
    "**Intent**: program that prints all the items in a list"
   ]
  },
  {
   "cell_type": "code",
   "execution_count": null,
   "metadata": {
    "colab": {
     "base_uri": "https://localhost:8080/",
     "height": 128
    },
    "id": "iEhLRoI1O-el",
    "outputId": "2de16f77-016d-41da-e3af-d14c896b8d13",
    "scrolled": true
   },
   "outputs": [],
   "source": [
    "mylist = [\"Garlic\", \"Lime\", \"Onion\", \"Banana\", \"Broccoli\", \"Pomegranate\"]\n",
    "for item in mylist:\n",
    "    print(item"
   ]
  },
  {
   "cell_type": "markdown",
   "metadata": {
    "tags": []
   },
   "source": [
    "### Debugging notes\n",
    "\n",
    "Answer the following questions (edit the cells)\n",
    "\n",
    "**Q: What did you expect?**"
   ]
  },
  {
   "cell_type": "raw",
   "metadata": {
    "tags": []
   },
   "source": [
    "A: "
   ]
  },
  {
   "cell_type": "markdown",
   "metadata": {
    "tags": []
   },
   "source": [
    "**Q: What did you see instead?**"
   ]
  },
  {
   "cell_type": "raw",
   "metadata": {
    "tags": []
   },
   "source": [
    "A: "
   ]
  },
  {
   "cell_type": "markdown",
   "metadata": {
    "tags": []
   },
   "source": [
    "**Q: What do you think is going on? What's the mismatch between your mental model and the computer's behavior?**"
   ]
  },
  {
   "cell_type": "raw",
   "metadata": {
    "tags": []
   },
   "source": [
    "A: "
   ]
  },
  {
   "cell_type": "markdown",
   "metadata": {
    "tags": []
   },
   "source": [
    "**Q: What strategies did you use?*** \n",
    "\n",
    "Possible examples:\n",
    "- Diagrammed a problem formulation\n",
    "- Added documentation / comment the code\n",
    "- Test code with different inputs\n",
    "- Add print statements to help model what is happening / Use Python Tutor"
   ]
  },
  {
   "cell_type": "raw",
   "metadata": {
    "tags": []
   },
   "source": [
    "A:"
   ]
  },
  {
   "cell_type": "markdown",
   "metadata": {},
   "source": [
    "<br/>\n",
    "<br/>\n",
    "<br/>\n",
    "<br/>\n",
    "<br/>\n",
    "<br/>\n",
    "<br/>\n",
    "<br/>\n",
    "<br/>\n",
    "<br/>\n",
    "<br/>\n",
    "<br/>\n",
    "<br/>\n",
    "<br/>\n",
    "<br/>\n",
    "<br/>\n",
    "<br/>\n",
    "<br/>\n",
    "<br/>\n",
    "<br/>\n",
    "<br/>\n",
    "<br/>\n",
    "<br/>\n",
    "<br/>\n",
    "<br/>\n",
    "<br/>\n",
    "<br/>\n",
    "<br/>\n",
    "<br/>\n",
    "<br/>\n",
    "<br/>\n",
    "<br/>\n",
    "<br/>\n",
    "<br/>\n",
    "<br/>\n",
    "<br/>\n",
    "<br/>\n",
    "<br/>\n",
    "<br/>\n",
    "<br/>\n",
    "<br/>\n",
    "<br/>\n",
    "<br/>\n",
    "<br/>\n",
    "<br/>\n",
    "<br/>\n",
    "<br/>\n",
    "<br/>\n",
    "<br/>\n",
    "<br/>\n",
    "<br/>\n",
    "<br/>\n",
    "<br/>\n",
    "<br/>\n",
    "<br/>\n",
    "<br/>\n",
    "\n",
    "<br/>\n",
    "<br/>\n",
    "<br/>\n",
    "<br/>\n",
    "<br/>\n",
    "<br/>\n",
    "<br/>\n",
    "\n",
    "<br/>\n",
    "<br/>\n",
    "<br/>\n",
    "<br/>\n",
    "<br/>\n",
    "<br/>\n",
    "<br/>\n",
    "\n",
    "---"
   ]
  },
  {
   "cell_type": "markdown",
   "metadata": {},
   "source": [
    "# Solutions\n",
    "\n",
    "## Task 1: Semantic Errors"
   ]
  },
  {
   "cell_type": "markdown",
   "metadata": {
    "id": "C1iRRxXuKNOr"
   },
   "source": [
    "### Example 1\n",
    "\n",
    "**Intent:** program that prompts two numbers from user and returns the sum."
   ]
  },
  {
   "cell_type": "code",
   "execution_count": null,
   "metadata": {
    "colab": {
     "base_uri": "https://localhost:8080/"
    },
    "id": "LT6-XER2KRIc",
    "outputId": "53fc71ff-3ae8-4377-a7c1-66f0b2296030"
   },
   "outputs": [],
   "source": [
    "def input_two_and_sum():\n",
    "    \"\"\"\n",
    "    This function asks two numbers in input and returns their sum.\n",
    "    \"\"\"\n",
    "    num1 = input('Enter first number:') \n",
    "    num2 = input('Enter second number:') \n",
    "    result = int(num1) + int(num2)  # <----- FIX\n",
    "    return result\n",
    "\n",
    "\n",
    "input_two_and_sum()"
   ]
  },
  {
   "cell_type": "markdown",
   "metadata": {
    "id": "E0DyH3w2KP7B"
   },
   "source": [
    "### Example 2\n",
    "\n",
    "**Intent**: program that subtracts 2 from a given number until it reaches 0 "
   ]
  },
  {
   "cell_type": "code",
   "execution_count": null,
   "metadata": {},
   "outputs": [],
   "source": [
    "def countdown_to_zero(num):\n",
    "    while num > 0:  # <--- FIX \n",
    "        num = num - 2\n",
    "        print(\"At\", num)\n",
    "    print(\"Stopped!\")\n",
    "\n",
    "countdown_to_zero(31)"
   ]
  },
  {
   "cell_type": "markdown",
   "metadata": {
    "id": "U1NTw-_YOnX-"
   },
   "source": [
    "### Example 3\n",
    "\n",
    "**Intent**: program that prints all even numbers from 1 to 10"
   ]
  },
  {
   "cell_type": "code",
   "execution_count": null,
   "metadata": {
    "colab": {
     "base_uri": "https://localhost:8080/"
    },
    "id": "RbXoLSMBOn4T",
    "outputId": "bfadb405-61cc-44dd-b06f-b52355fe4e18",
    "scrolled": true
   },
   "outputs": [],
   "source": [
    "def filter_numbers(nums):\n",
    "    tmp = []\n",
    "    for num in nums: \n",
    "        if num % 2==0:\n",
    "            tmp.append(num) # <--- FIX\n",
    "    return tmp\n",
    "\n",
    "my_nums = [1, 2, 3, 4, 5, 6, 7, 8, 9, 10]\n",
    "\n",
    "filter_numbers(my_nums)"
   ]
  },
  {
   "cell_type": "markdown",
   "metadata": {
    "id": "NUkXtgHSnj-K"
   },
   "source": [
    "### Example 4\n",
    "\n",
    "**Intent**: program that inserts course numbers strings from one list into a new list, but only if the courses are from the InfoSci program (the course number should contain the code `INST`)"
   ]
  },
  {
   "cell_type": "code",
   "execution_count": null,
   "metadata": {
    "colab": {
     "base_uri": "https://localhost:8080/"
    },
    "id": "E4BcSLFwnixl",
    "outputId": "eb4fd261-9b5c-4e50-8d49-b419808a154e"
   },
   "outputs": [],
   "source": [
    "def filter_courses(courses, program):\n",
    "    tmp = []\n",
    "    program = \"INST\"\n",
    "    for course in courses:\n",
    "        if program in course:  # <--- FIX\n",
    "            tmp.append(course)\n",
    "    return tmp\n",
    "\n",
    "\n",
    "items = [\"INST201\", \"CMSC100\", \"STAT100\", \"INST126\", \"INST326\"]\n",
    "\n",
    "filter_courses(items, \"INST\")"
   ]
  },
  {
   "cell_type": "markdown",
   "metadata": {
    "id": "i6P2y7MNbTU8"
   },
   "source": [
    "## Task 2: Syntax Errors"
   ]
  },
  {
   "cell_type": "markdown",
   "metadata": {
    "id": "Q7jbvjsBNfNn"
   },
   "source": [
    "### Example 1\n",
    "\n",
    "**Intent**: Program that checks if a number is even or odd\n"
   ]
  },
  {
   "cell_type": "code",
   "execution_count": null,
   "metadata": {
    "colab": {
     "base_uri": "https://localhost:8080/"
    },
    "id": "3iEYFrSVaBcu",
    "outputId": "16884844-705c-4bf1-9618-a8e1e93a003d"
   },
   "outputs": [],
   "source": [
    "# get initial input from user\n",
    "x = input('Enter a number (or \"exit\" to quit): ')\n",
    "\n",
    "# check if we should keep going (stop if user says \"exit\")\n",
    "while x != \"exit\":\n",
    "    # check if number is even\n",
    "    if int(x) % 2 == 0:  # <-------------------------------- FIX\n",
    "        print('You have entered an even number.')\n",
    "    else:\n",
    "        print('You have entered an odd number.')   \n",
    "    # get new input from user\n",
    "    x = input('Enter a number (or \"exit\" to quit): ') "
   ]
  },
  {
   "cell_type": "markdown",
   "metadata": {
    "id": "GSe-4gDMO8vr"
   },
   "source": [
    "### Example 2\n",
    "\n",
    "**Intent**: program that checks if a list of numbers are even or odd "
   ]
  },
  {
   "cell_type": "code",
   "execution_count": null,
   "metadata": {
    "colab": {
     "base_uri": "https://localhost:8080/",
     "height": 135
    },
    "id": "m4KRA3M4O8_C",
    "outputId": "992dc740-705e-4f04-ae88-5d293680884d"
   },
   "outputs": [],
   "source": [
    "numbers = [3, 14, 58, 9, 88, 104, 25]\n",
    "\n",
    "for num in numbers:    # <---- FIX\n",
    "    if num % 2 == 0:\n",
    "        print(\"Even\")\n",
    "    else:              # <---- FIX\n",
    "        print(\"Odd\")   # <---- FIX"
   ]
  },
  {
   "cell_type": "markdown",
   "metadata": {
    "id": "CZ0d6brLO9Sk"
   },
   "source": [
    "### Example 3\n",
    "**Intent**: program to see how \"small\" a number is (Under 5 is smallest, under 25 is smaller, under 50 is smallest, other is not small)"
   ]
  },
  {
   "cell_type": "code",
   "execution_count": null,
   "metadata": {
    "colab": {
     "base_uri": "https://localhost:8080/",
     "height": 128
    },
    "id": "ILjYylo3O9hh",
    "outputId": "89f403f6-cec1-4a07-aa7f-60da729ac42f"
   },
   "outputs": [],
   "source": [
    "num = 4\n",
    "if num < 5:     # <--- FIX\n",
    "    print (str(num) + \" is smallest\")\n",
    "elif num < 25:  # <--- FIX\n",
    "    print(str(num) + \" is smaller\")\n",
    "elif num < 50:  # <--- FIX\n",
    "    print (str(num) \" is small\")\n",
    "else:           # <--- FIX\n",
    "    print (str(num) + \" is not small\")"
   ]
  },
  {
   "cell_type": "markdown",
   "metadata": {
    "id": "zdVZNi8RO9v6"
   },
   "source": [
    "### Example 4\n",
    "**Intent**: program that compares two numbers. Check if the first number is divisible by the second (no remainder)"
   ]
  },
  {
   "cell_type": "code",
   "execution_count": null,
   "metadata": {
    "colab": {
     "base_uri": "https://localhost:8080/",
     "height": 214
    },
    "id": "H7hbp3m7O9-S",
    "outputId": "7d123dbe-6c0c-483b-f57f-dba80432cc22"
   },
   "outputs": [],
   "source": [
    "first_num = 10\n",
    "second_num = 2\n",
    "if first_num % second_num == 0:   # <---- FIX\n",
    "    print(first_num , \"is divisible by\", second_num)"
   ]
  },
  {
   "cell_type": "markdown",
   "metadata": {
    "id": "7XprYICSO-Pe"
   },
   "source": [
    "### Example 5\n",
    "\n",
    "**Intent**: program that prints all the items in a list"
   ]
  },
  {
   "cell_type": "code",
   "execution_count": null,
   "metadata": {
    "colab": {
     "base_uri": "https://localhost:8080/",
     "height": 128
    },
    "id": "iEhLRoI1O-el",
    "outputId": "2de16f77-016d-41da-e3af-d14c896b8d13",
    "scrolled": true
   },
   "outputs": [],
   "source": [
    "mylist = [\"Garlic\", \"Lime\", \"Onion\", \"Banana\", \"Broccoli\", \"Pomegranate\"]\n",
    "for item in mylist:\n",
    "    print(item)   # <--- FIX"
   ]
  }
 ],
 "metadata": {
  "colab": {
   "name": "INST126 SP21 Week10 Debugging_examples.ipynb",
   "provenance": [],
   "toc_visible": true
  },
  "kernelspec": {
   "display_name": "Python 3 (ipykernel)",
   "language": "python",
   "name": "python3"
  },
  "language_info": {
   "codemirror_mode": {
    "name": "ipython",
    "version": 3
   },
   "file_extension": ".py",
   "mimetype": "text/x-python",
   "name": "python",
   "nbconvert_exporter": "python",
   "pygments_lexer": "ipython3",
   "version": "3.11.7"
  },
  "toc-autonumbering": false,
  "toc-showcode": false,
  "toc-showmarkdowntxt": false,
  "toc-showtags": false
 },
 "nbformat": 4,
 "nbformat_minor": 4
}
