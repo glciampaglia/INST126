{
 "cells": [
  {
   "cell_type": "markdown",
   "id": "bcf49baa-823c-4908-b06f-bd206768346c",
   "metadata": {
    "nbgrader": {
     "grade": false,
     "grade_id": "cell-1ff02ce7d55e8229",
     "locked": true,
     "schema_version": 3,
     "solution": false,
     "task": false
    }
   },
   "source": [
    "# Scenario: Pride and Prejudice\n",
    "\n",
    "Today we will work with a classic of the English Literature: _[Pride and Prejudice](https://en.wikipedia.org/wiki/Pride_and_Prejudice)_.\n",
    "\n",
    "<img src=\"https://www.gutenberg.org/files/1342/1342-h/images/cover.jpg\" width=\"33%\"/>\n",
    "\n",
    "Since there is not enough time to read the whole book in one lecture, we will take an approach called [distant reading](https://uta.pressbooks.pub/datanotebook/chapter/1-4-distant-reading/), which uses computers to ingest large amounts of literary text (novels, short stories, etc.) and identify patterns in them. \n",
    "\n",
    "To keep things simpler, we will look for simple patterns of appearance of different words (for example the names of the main characters) throughout the chapters of _Pride and Prejudice_. This will give us an idea of which characters appear the most (central characters) and at which stages of the story."
   ]
  },
  {
   "cell_type": "markdown",
   "id": "d41f5c56-b79f-407c-862d-b20c4ac5a051",
   "metadata": {},
   "source": [
    "# The data file\n",
    "\n",
    "To make it simpler to process the data, we have prepared a .txt file where each chapter is (very long) line of text. This is what the initial part of the first 10 lines of the file look like: \n",
    "```\n",
    "Pride and Prejudice by Jane Austen\n",
    "Chapter 1 It is a truth universally acknowledged, that a single man in possession of  ...\n",
    "Chapter 2 Mr. Bennet was among the earliest of those who waited on Mr. Bingley.  He h ...\n",
    "Chapter 3 Not all that Mrs. Bennet, however, with the assistance of her five daughter ...\n",
    "Chapter 4 When Jane and Elizabeth were alone, the former, who had been cautious in he ...\n",
    "Chapter 5 Within a short walk of Longbourn lived a family with whom the Bennets were  ...\n",
    "Chapter 6 The ladies of Longbourn soon waited on those of Netherfield. The visit was  ...\n",
    "Chapter 7 Mr. Bennet's property consisted almost entirely in an estate of two thousan ...\n",
    "Chapter 8 At five o'clock the two ladies retired to dress, and at half-past six Eliza ...\n",
    "Chapter 9 Elizabeth passed the chief of the night in her sister's room, and in the mo ...\n",
    "```\n",
    "\n",
    "To view the full file in Jupyter, open the navigator sidebar and double click on `19-pandp12-simple.txt`, then do _File_ &rarr; _Wrap Words_."
   ]
  },
  {
   "cell_type": "markdown",
   "id": "d69743f9-e3b7-447f-b830-bc9c7531a61a",
   "metadata": {},
   "source": [
    "---\n",
    "\n",
    "<br/>\n",
    "<br/>\n",
    "<br/>\n",
    "<br/>\n",
    "<br/>\n",
    "<br/>\n",
    "<br/>\n",
    "<br/>\n",
    "<br/>"
   ]
  },
  {
   "cell_type": "markdown",
   "id": "80eb6e98-6715-4fd2-9f56-c84209f0d15c",
   "metadata": {},
   "source": [
    "<div class=\"alert alert-info\"><strong>Good to know</strong> If at any time you accidentally deleted or modified the data file, come back here and run this cell. It will recreate the file for you. This cell cannot be edited.</div>"
   ]
  },
  {
   "cell_type": "code",
   "execution_count": null,
   "id": "0ddeb80a-b1ed-4a2f-82e6-2dca72dc2525",
   "metadata": {
    "editable": false,
    "tags": []
   },
   "outputs": [],
   "source": [
    "!git restore 19-pandp12-simple.txt"
   ]
  },
  {
   "cell_type": "markdown",
   "id": "01808944-e633-4a5a-95c3-9551636a3998",
   "metadata": {},
   "source": [
    "---\n",
    "\n",
    "<br/>\n",
    "<br/>\n",
    "<br/>\n",
    "<br/>\n",
    "<br/>\n",
    "<br/>\n",
    "<br/>\n",
    "<br/>\n",
    "<br/>"
   ]
  },
  {
   "cell_type": "markdown",
   "id": "15dc06fa",
   "metadata": {
    "nbgrader": {
     "grade": false,
     "grade_id": "cell-fccd10f75a61f8ed",
     "locked": true,
     "schema_version": 3,
     "solution": false,
     "task": false
    }
   },
   "source": [
    "## Task \\#1: count how many times a character appears in each chapter\n",
    "\n",
    "Write a function called `count_mentions` that takes one string parameter &mdash; the `name` of a character. \n",
    "\n",
    "Your function should go through each chapter in the input file and count the number of times the name of that character appears in the chapter. \n",
    "\n",
    "It should then return a list with all these data. You can skip the first line of the file, since it only contains the title of the book and no other text.\n",
    "\n",
    "This is what the list looks like when calling `count_mentions` with`\"Elizabeth\"`:\n",
    "\n",
    "```python\n",
    "[0, 1, 4, 3, 2, 11, 14, 14, 8, 16, 13, 7, 2, 1, 6, 18, 9, 26, 11, 9, 8, 10, 11,\n",
    " 9, 7, 17, 8, 13, 14, 9, 10, 10, 4, 9, 2, 2, 4, 10, 9, 6, 10, 10, 40, 14, 18,\n",
    " 12, 19, 8, 13, 3, 15, 5, 15, 12, 18, 20, 11, 14, 13, 7]\n",
    "```\n",
    "\n",
    "### Hint\n",
    "\n",
    "A quick way to count how many times a string appears in some text is the `.count()` method of the `str` type. If you are unsure how it works, create a new cell and type `help(str.count)` to look up the docstring of this method."
   ]
  },
  {
   "cell_type": "code",
   "execution_count": null,
   "id": "2a37bb45",
   "metadata": {
    "nbgrader": {
     "grade": true,
     "grade_id": "cell-10b627de9c1fc5e9",
     "locked": false,
     "points": 0,
     "schema_version": 3,
     "solution": true,
     "task": false
    }
   },
   "outputs": [],
   "source": [
    "def count_mentions(name):\n",
    "    ...\n",
    "\n",
    "# Try with different arguments!\n",
    "mentions = count_mentions(\"Elizabeth\")\n",
    "    \n",
    "#  This code displays the results in compact form\n",
    "import pprint\n",
    "pprint.pprint(mentions, compact=True)"
   ]
  },
  {
   "cell_type": "markdown",
   "id": "ff9454d9-0953-4684-8727-dd2ebbbc1006",
   "metadata": {},
   "source": [
    "---\n",
    "\n",
    "<br/>\n",
    "<br/>\n",
    "<br/>\n",
    "<br/>\n",
    "<br/>\n",
    "<br/>\n",
    "<br/>\n",
    "<br/>\n",
    "<br/>"
   ]
  },
  {
   "cell_type": "markdown",
   "id": "b7a52154-b8cf-41ea-b087-4cffe85de273",
   "metadata": {},
   "source": [
    "## Task \\#2: create a dictionary of mentions of various characters\n",
    "\n",
    "Write a function called `create_dict` that takes one parameter &mdash; a list of character `names` (included in the cell below) &mdash; and returns a dictionaries with their mentions. \n",
    "\n",
    "Your function should start with an empty dictionary.\n",
    "\n",
    "For each character in `names`, your functtion should call `count_mentions` to count the mentions of that character throughout the book, and it should create a new key&ndash;value pair in the dictionary associating the name of the character (the key) to the list of mentions (the value). \n",
    "\n",
    "Finally, your function should return the created dictionary."
   ]
  },
  {
   "cell_type": "code",
   "execution_count": null,
   "id": "f028cd4a",
   "metadata": {
    "nbgrader": {
     "grade": true,
     "grade_id": "cell-82d1342287291df2",
     "locked": false,
     "points": 0,
     "schema_version": 3,
     "solution": true,
     "task": false
    }
   },
   "outputs": [],
   "source": [
    "def create_dict(names):\n",
    "    ...\n",
    "\n",
    "names = [\n",
    "    \"Elizabeth\",\n",
    "    \"Mr. Darcy\",\n",
    "    \"Mr. Bennet\",\n",
    "    \"Mrs. Bennet\",\n",
    "    \"Jane\",\n",
    "    \"Mary\",\n",
    "    \"Kitty\",\n",
    "    \"Lydia\",\n",
    "    \"Mr. Bingley\",\n",
    "    \"Caroline\",\n",
    "]\n",
    "    \n",
    "# This code displays the dictionary in compact format\n",
    "import pprint\n",
    "data = create_dict(names)\n",
    "pprint.pprint(data, compact=True)"
   ]
  },
  {
   "cell_type": "markdown",
   "id": "4decc7a7-778c-4bf4-8e4d-87858a5ab7b3",
   "metadata": {},
   "source": [
    "---\n",
    "\n",
    "<br/>\n",
    "<br/>\n",
    "<br/>\n",
    "<br/>\n",
    "<br/>\n",
    "<br/>\n",
    "<br/>\n",
    "<br/>\n",
    "<br/>"
   ]
  },
  {
   "cell_type": "markdown",
   "id": "a7a770c3",
   "metadata": {
    "nbgrader": {
     "grade": false,
     "grade_id": "cell-d2a48b4779627900",
     "locked": true,
     "schema_version": 3,
     "solution": false,
     "task": false
    }
   },
   "source": [
    "## Task \\#3: Store the mentions of all characters in a file\n",
    "\n",
    "Write a function called `write_data` that takes two parameters --- the `filename` of the output file and a dictionary of character mentions data created at the previous step, and stores the data into a text file.\n",
    "\n",
    "\n",
    "The data should be written in comma-separate format, with the character name first. For example, this is what the the file should look like for Elizabeth, Mr. Darcy, Mr. Bennet and Mrs. Bennet:\n",
    "```\n",
    "Elizabeth,0,1,4,3,2,11,14,14,8,16,13,7,2,1,6,18,9,26,11,9,8,10,11,9,7,17,8,13,14,9,10\n",
    "Mr. Darcy,0,0,6,0,3,14,1,4,3,11,8,1,0,0,2,18,4,32,0,0,3,0,0,4,4,3,0,0,1,4,7,7,11,7,4,\n",
    "Mr. Bennet,6,6,4,0,0,0,5,0,0,0,0,0,4,8,3,0,0,2,0,5,0,2,5,2,0,0,0,0,0,0,0,0,0,0,0,0,0,\n",
    "Mrs. Bennet,0,3,6,0,3,0,5,0,9,1,0,3,7,3,4,1,3,7,3,10,2,2,9,3,4,1,0,0,0,0,0,0,0,0,0,0,\n",
    "```\n",
    "\n",
    "Last but not least, make sure to close the output file.\n",
    "\n",
    "# Hint\n",
    "\n",
    "There are several ways to write a comma-separated 1values file. Use the file handle's `.write()` method in conjunction with a for loop to write each value separately. Alternatively, you can use the `.join()` method from class `str`. If you are unsure how it works, create a new cell and type `help(str.join)` to look up the docstring of this method."
   ]
  },
  {
   "cell_type": "code",
   "execution_count": null,
   "id": "70a94823-69e4-440c-93fb-2e63ead084d6",
   "metadata": {
    "tags": []
   },
   "outputs": [],
   "source": [
    "# Enter your code here!\n",
    "...\n",
    "\n",
    "names = [\n",
    "    \"Elizabeth\",\n",
    "    \"Mr. Darcy\",\n",
    "    \"Mr. Bennet\",\n",
    "    \"Mrs. Bennet\",\n",
    "    \"Jane\",\n",
    "    \"Mary\",\n",
    "    \"Kitty\",\n",
    "    \"Lydia\",\n",
    "    \"Mr. Bingley\",\n",
    "    \"Caroline\",\n",
    "]\n",
    "\n",
    "# create data dictionary\n",
    "data = create_dict(names)\n",
    "\n",
    "# save data to file in CSV format\n",
    "write_data(\"output.txt\", data)"
   ]
  },
  {
   "cell_type": "markdown",
   "id": "63272a8d-6ffa-4aa5-a589-df7c6c2c52c9",
   "metadata": {},
   "source": [
    "To view the full file in Jupyter, open the navigator sidebar and double click on `output.txt`, then do _File_ &rarr; _Wrap Words_."
   ]
  },
  {
   "cell_type": "markdown",
   "id": "235c9283-8368-4739-a8ea-44f15628e8c2",
   "metadata": {},
   "source": [
    "<br/>\n",
    "<br/>\n",
    "<br/>\n",
    "<br/>\n",
    "<br/>\n",
    "<br/>\n",
    "<br/>\n",
    "<br/>\n",
    "<br/>\n",
    "<br/>\n",
    "<br/>\n",
    "<br/>\n",
    "<br/>\n",
    "<br/>\n",
    "<br/>\n",
    "<br/>\n",
    "<br/>\n",
    "<br/>\n",
    "<br/>\n",
    "<br/>\n",
    "<br/>\n",
    "<br/>\n",
    "<br/>\n",
    "<br/>\n",
    "<br/>\n",
    "<br/>\n",
    "<br/>\n",
    "<br/>\n",
    "<br/>\n",
    "<br/>\n",
    "<br/>\n",
    "<br/>\n",
    "<br/>\n",
    "<br/>\n",
    "<br/>\n",
    "<br/>\n",
    "<br/>\n",
    "<br/>\n",
    "<br/>\n",
    "<br/>\n",
    "<br/>\n",
    "<br/>\n",
    "<br/>\n",
    "<br/>\n",
    "<br/>\n",
    "<br/>\n",
    "<br/>\n",
    "<br/>\n",
    "<br/>\n",
    "<br/>\n",
    "<br/>\n",
    "<br/>\n",
    "<br/>\n",
    "<br/>\n",
    "<br/>\n",
    "<br/>\n",
    "<br/>\n",
    "<br/>\n",
    "<br/>\n",
    "<br/>\n",
    "<br/>\n",
    "<br/>\n",
    "<br/>\n",
    "\n",
    "---"
   ]
  },
  {
   "cell_type": "markdown",
   "id": "09150216-6efd-4de1-8d4b-4310c295eea7",
   "metadata": {},
   "source": [
    "# Solutions"
   ]
  },
  {
   "cell_type": "markdown",
   "id": "7017a895-6e54-4cca-abbd-5b6d9d6d582a",
   "metadata": {},
   "source": [
    "## Task 1"
   ]
  },
  {
   "cell_type": "code",
   "execution_count": null,
   "id": "b06c50ba-16d9-4d35-86ad-0dbd01116f60",
   "metadata": {},
   "outputs": [],
   "source": [
    "def count_mentions(name):\n",
    "    # BEGIN SOLUTION\n",
    "    fh = open(\"19-pandp12-simple.txt\", \"r\")\n",
    "    counts = []\n",
    "    line_no = 0\n",
    "    for line in fh:\n",
    "        line_no += 1\n",
    "        if line_no == 1:\n",
    "            continue\n",
    "        line = line.strip()\n",
    "        counts.append(line.count(name))\n",
    "    return counts\n",
    "    # END SOLUTION\n",
    "\n",
    "# Try with different arguments!\n",
    "mentions = count_mentions(\"Elizabeth\")\n",
    "    \n",
    "#  This code displays the results in compact form\n",
    "import pprint\n",
    "pprint.pprint(mentions, compact=True)"
   ]
  },
  {
   "cell_type": "markdown",
   "id": "4c557aa0-5896-456f-939e-a0fed84fda0a",
   "metadata": {},
   "source": [
    "## Task 2"
   ]
  },
  {
   "cell_type": "code",
   "execution_count": null,
   "id": "24688f9f-9160-41a6-8f31-840079458edb",
   "metadata": {},
   "outputs": [],
   "source": [
    "def create_dict(names):\n",
    "    ### BEGIN SOLUTION\n",
    "    d = {}\n",
    "    for name in names:\n",
    "        d[name] = count_mentions(name)\n",
    "    return d\n",
    "    ### END SOLUTION\n",
    "\n",
    "names = [\n",
    "    \"Elizabeth\",\n",
    "    \"Mr. Darcy\",\n",
    "    \"Mr. Bennet\",\n",
    "    \"Mrs. Bennet\",\n",
    "    \"Jane\",\n",
    "    \"Mary\",\n",
    "    \"Kitty\",\n",
    "    \"Lydia\",\n",
    "    \"Mr. Bingley\",\n",
    "    \"Caroline\",\n",
    "]\n",
    "    \n",
    "# This code displays the dictionary in compact format\n",
    "import pprint\n",
    "data = create_dict(names)\n",
    "pprint.pprint(data, compact=True)"
   ]
  },
  {
   "cell_type": "markdown",
   "id": "b6acff0d-63e7-48ce-a2e7-2d6c18a07baf",
   "metadata": {},
   "source": [
    "## Task 3"
   ]
  },
  {
   "cell_type": "code",
   "execution_count": null,
   "id": "2f6a07ab-5230-4bc5-b5a9-8bff979f6073",
   "metadata": {},
   "outputs": [],
   "source": [
    "### BEGIN SOLUTION\n",
    "def write_data(filename, data):\n",
    "    fh = open(filename, mode='w')\n",
    "    for name in data:\n",
    "        values = data[name]\n",
    "        fh.write(name)\n",
    "        for c in values:\n",
    "            fh.write(\",\" + str(c))\n",
    "        fh.write(\"\\n\")\n",
    "    fh.close()\n",
    "### END SOLUTION\n",
    "\n",
    "names = [\n",
    "    \"Elizabeth\",\n",
    "    \"Mr. Darcy\",\n",
    "    \"Mr. Bennet\",\n",
    "    \"Mrs. Bennet\",\n",
    "    \"Jane\",\n",
    "    \"Mary\",\n",
    "    \"Kitty\",\n",
    "    \"Lydia\",\n",
    "    \"Mr. Bingley\",\n",
    "    \"Caroline\",\n",
    "]\n",
    "\n",
    "# create data dictionary\n",
    "data = create_dict(names)\n",
    "\n",
    "# save data to file in CSV format\n",
    "write_data(\"output.txt\", data)"
   ]
  }
 ],
 "metadata": {
  "celltoolbar": "Create Assignment",
  "kernelspec": {
   "display_name": "Python 3 (ipykernel)",
   "language": "python",
   "name": "python3"
  },
  "language_info": {
   "codemirror_mode": {
    "name": "ipython",
    "version": 3
   },
   "file_extension": ".py",
   "mimetype": "text/x-python",
   "name": "python",
   "nbconvert_exporter": "python",
   "pygments_lexer": "ipython3",
   "version": "3.11.7"
  }
 },
 "nbformat": 4,
 "nbformat_minor": 5
}
