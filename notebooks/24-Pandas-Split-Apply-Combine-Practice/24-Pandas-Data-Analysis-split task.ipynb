{
 "cells": [
  {
   "cell_type": "markdown",
   "id": "a871adf9-2b25-4ddf-9ab8-408fa80369f2",
   "metadata": {},
   "source": [
    "# Pandas Spilt-Apply-Combine Practice"
   ]
  },
  {
   "cell_type": "markdown",
   "id": "7a17b241-53ea-40e3-ab29-8002af01bfda",
   "metadata": {},
   "source": [
    "We will use 'IMDB-Movie-Data' opensource data to learn more about pandas. This dataset contains 1000 rows of data in 12 columns. It contains data about movies and shows on netflix."
   ]
  },
  {
   "cell_type": "markdown",
   "id": "9859e5b0-cb61-48a0-ac44-3b9a45eac2be",
   "metadata": {},
   "source": [
    "## Import Dataset and Get the initial overview"
   ]
  },
  {
   "cell_type": "code",
   "execution_count": 2,
   "id": "5fcd37c2-f97d-423a-96c1-6b0355063a52",
   "metadata": {},
   "outputs": [],
   "source": [
    "import pandas as pd"
   ]
  },
  {
   "cell_type": "code",
   "execution_count": 12,
   "id": "5ba1db23-19ba-4a93-9727-01e17547068e",
   "metadata": {},
   "outputs": [],
   "source": [
    "data = pd.read_csv('IMDB-Movie-Data.csv', index_col=False)"
   ]
  },
  {
   "cell_type": "code",
   "execution_count": 36,
   "id": "03516567-fea4-4aa4-8933-867714087505",
   "metadata": {},
   "outputs": [
    {
     "name": "stdout",
     "output_type": "stream",
     "text": [
      "<class 'pandas.core.frame.DataFrame'>\n",
      "RangeIndex: 1000 entries, 0 to 999\n",
      "Data columns (total 12 columns):\n",
      " #   Column              Non-Null Count  Dtype  \n",
      "---  ------              --------------  -----  \n",
      " 0   Rank                1000 non-null   int64  \n",
      " 1   Title               1000 non-null   object \n",
      " 2   Genre               1000 non-null   object \n",
      " 3   Description         1000 non-null   object \n",
      " 4   Director            1000 non-null   object \n",
      " 5   Actors              1000 non-null   object \n",
      " 6   Year                1000 non-null   int64  \n",
      " 7   Runtime (Minutes)   1000 non-null   int64  \n",
      " 8   Rating              1000 non-null   float64\n",
      " 9   Votes               1000 non-null   int64  \n",
      " 10  Revenue (Millions)  872 non-null    float64\n",
      " 11  Metascore           936 non-null    float64\n",
      "dtypes: float64(3), int64(4), object(5)\n",
      "memory usage: 93.9+ KB\n"
     ]
    }
   ],
   "source": [
    "data.info()"
   ]
  },
  {
   "cell_type": "code",
   "execution_count": 6,
   "id": "bc79d2cb-3d41-431e-886b-696fc06cd657",
   "metadata": {},
   "outputs": [
    {
     "data": {
      "text/plain": [
       "(1000, 12)"
      ]
     },
     "execution_count": 6,
     "metadata": {},
     "output_type": "execute_result"
    }
   ],
   "source": [
    "data.shape"
   ]
  },
  {
   "cell_type": "code",
   "execution_count": 7,
   "id": "c713f85b-24d0-4c8d-8e88-ce61a9907930",
   "metadata": {},
   "outputs": [
    {
     "data": {
      "text/plain": [
       "Index(['Rank', 'Title', 'Genre', 'Description', 'Director', 'Actors', 'Year',\n",
       "       'Runtime (Minutes)', 'Rating', 'Votes', 'Revenue (Millions)',\n",
       "       'Metascore'],\n",
       "      dtype='object')"
      ]
     },
     "execution_count": 7,
     "metadata": {},
     "output_type": "execute_result"
    }
   ],
   "source": [
    "data.columns"
   ]
  },
  {
   "cell_type": "code",
   "execution_count": 8,
   "id": "1f5cc6db-8921-4c08-a251-ce368b274246",
   "metadata": {},
   "outputs": [
    {
     "data": {
      "text/html": [
       "<div>\n",
       "<style scoped>\n",
       "    .dataframe tbody tr th:only-of-type {\n",
       "        vertical-align: middle;\n",
       "    }\n",
       "\n",
       "    .dataframe tbody tr th {\n",
       "        vertical-align: top;\n",
       "    }\n",
       "\n",
       "    .dataframe thead th {\n",
       "        text-align: right;\n",
       "    }\n",
       "</style>\n",
       "<table border=\"1\" class=\"dataframe\">\n",
       "  <thead>\n",
       "    <tr style=\"text-align: right;\">\n",
       "      <th></th>\n",
       "      <th>Rank</th>\n",
       "      <th>Title</th>\n",
       "      <th>Genre</th>\n",
       "      <th>Description</th>\n",
       "      <th>Director</th>\n",
       "      <th>Actors</th>\n",
       "      <th>Year</th>\n",
       "      <th>Runtime (Minutes)</th>\n",
       "      <th>Rating</th>\n",
       "      <th>Votes</th>\n",
       "      <th>Revenue (Millions)</th>\n",
       "      <th>Metascore</th>\n",
       "    </tr>\n",
       "  </thead>\n",
       "  <tbody>\n",
       "    <tr>\n",
       "      <th>0</th>\n",
       "      <td>1</td>\n",
       "      <td>Guardians of the Galaxy</td>\n",
       "      <td>Action,Adventure,Sci-Fi</td>\n",
       "      <td>A group of intergalactic criminals are forced ...</td>\n",
       "      <td>James Gunn</td>\n",
       "      <td>Chris Pratt, Vin Diesel, Bradley Cooper, Zoe S...</td>\n",
       "      <td>2014</td>\n",
       "      <td>121</td>\n",
       "      <td>8.1</td>\n",
       "      <td>757074</td>\n",
       "      <td>333.13</td>\n",
       "      <td>76.0</td>\n",
       "    </tr>\n",
       "    <tr>\n",
       "      <th>1</th>\n",
       "      <td>2</td>\n",
       "      <td>Prometheus</td>\n",
       "      <td>Adventure,Mystery,Sci-Fi</td>\n",
       "      <td>Following clues to the origin of mankind, a te...</td>\n",
       "      <td>Ridley Scott</td>\n",
       "      <td>Noomi Rapace, Logan Marshall-Green, Michael Fa...</td>\n",
       "      <td>2012</td>\n",
       "      <td>124</td>\n",
       "      <td>7.0</td>\n",
       "      <td>485820</td>\n",
       "      <td>126.46</td>\n",
       "      <td>65.0</td>\n",
       "    </tr>\n",
       "    <tr>\n",
       "      <th>2</th>\n",
       "      <td>3</td>\n",
       "      <td>Split</td>\n",
       "      <td>Horror,Thriller</td>\n",
       "      <td>Three girls are kidnapped by a man with a diag...</td>\n",
       "      <td>M. Night Shyamalan</td>\n",
       "      <td>James McAvoy, Anya Taylor-Joy, Haley Lu Richar...</td>\n",
       "      <td>2016</td>\n",
       "      <td>117</td>\n",
       "      <td>7.3</td>\n",
       "      <td>157606</td>\n",
       "      <td>138.12</td>\n",
       "      <td>62.0</td>\n",
       "    </tr>\n",
       "    <tr>\n",
       "      <th>3</th>\n",
       "      <td>4</td>\n",
       "      <td>Sing</td>\n",
       "      <td>Animation,Comedy,Family</td>\n",
       "      <td>In a city of humanoid animals, a hustling thea...</td>\n",
       "      <td>Christophe Lourdelet</td>\n",
       "      <td>Matthew McConaughey,Reese Witherspoon, Seth Ma...</td>\n",
       "      <td>2016</td>\n",
       "      <td>108</td>\n",
       "      <td>7.2</td>\n",
       "      <td>60545</td>\n",
       "      <td>270.32</td>\n",
       "      <td>59.0</td>\n",
       "    </tr>\n",
       "    <tr>\n",
       "      <th>4</th>\n",
       "      <td>5</td>\n",
       "      <td>Suicide Squad</td>\n",
       "      <td>Action,Adventure,Fantasy</td>\n",
       "      <td>A secret government agency recruits some of th...</td>\n",
       "      <td>David Ayer</td>\n",
       "      <td>Will Smith, Jared Leto, Margot Robbie, Viola D...</td>\n",
       "      <td>2016</td>\n",
       "      <td>123</td>\n",
       "      <td>6.2</td>\n",
       "      <td>393727</td>\n",
       "      <td>325.02</td>\n",
       "      <td>40.0</td>\n",
       "    </tr>\n",
       "  </tbody>\n",
       "</table>\n",
       "</div>"
      ],
      "text/plain": [
       "   Rank                    Title                     Genre  \\\n",
       "0     1  Guardians of the Galaxy   Action,Adventure,Sci-Fi   \n",
       "1     2               Prometheus  Adventure,Mystery,Sci-Fi   \n",
       "2     3                    Split           Horror,Thriller   \n",
       "3     4                     Sing   Animation,Comedy,Family   \n",
       "4     5            Suicide Squad  Action,Adventure,Fantasy   \n",
       "\n",
       "                                         Description              Director  \\\n",
       "0  A group of intergalactic criminals are forced ...            James Gunn   \n",
       "1  Following clues to the origin of mankind, a te...          Ridley Scott   \n",
       "2  Three girls are kidnapped by a man with a diag...    M. Night Shyamalan   \n",
       "3  In a city of humanoid animals, a hustling thea...  Christophe Lourdelet   \n",
       "4  A secret government agency recruits some of th...            David Ayer   \n",
       "\n",
       "                                              Actors  Year  Runtime (Minutes)  \\\n",
       "0  Chris Pratt, Vin Diesel, Bradley Cooper, Zoe S...  2014                121   \n",
       "1  Noomi Rapace, Logan Marshall-Green, Michael Fa...  2012                124   \n",
       "2  James McAvoy, Anya Taylor-Joy, Haley Lu Richar...  2016                117   \n",
       "3  Matthew McConaughey,Reese Witherspoon, Seth Ma...  2016                108   \n",
       "4  Will Smith, Jared Leto, Margot Robbie, Viola D...  2016                123   \n",
       "\n",
       "   Rating   Votes  Revenue (Millions)  Metascore  \n",
       "0     8.1  757074              333.13       76.0  \n",
       "1     7.0  485820              126.46       65.0  \n",
       "2     7.3  157606              138.12       62.0  \n",
       "3     7.2   60545              270.32       59.0  \n",
       "4     6.2  393727              325.02       40.0  "
      ]
     },
     "execution_count": 8,
     "metadata": {},
     "output_type": "execute_result"
    }
   ],
   "source": [
    "data.head()"
   ]
  },
  {
   "cell_type": "markdown",
   "id": "f8d834b2-9fa0-45fe-b91d-e4ad417c24ac",
   "metadata": {},
   "source": [
    "## Problem"
   ]
  },
  {
   "cell_type": "markdown",
   "id": "20e6e879-2df8-4aed-bdf2-c3aaa68d8235",
   "metadata": {},
   "source": [
    "We need to find out the top FIVE movie genres in terms of average ratings. Here, each movie has multiple genres, but we will focus on the primary genre of the movies. By primary genre, we refer to the first entry of the `Genre` column.\n",
    "\n",
    "Our final dataset (transformed from the original), must present this information of the 5 genres that have the best average ratings.\n",
    "\n",
    "Things to consider:\n",
    "* Need to create a separate column, `primary_genre` with the first entry from the `Genre` column\n",
    "* Only consider those genres that have at least 10 or more movies while calculating the average ratings.\n",
    "\n",
    "If all goes well, your end solution should return the following data frame:\n",
    "<table border=\"1\" class=\"dataframe\">\n",
    "  <thead>\n",
    "    <tr style=\"text-align: right;\">\n",
    "      <th></th>\n",
    "      <th>primary_genre</th>\n",
    "      <th>Rating</th>\n",
    "    </tr>\n",
    "  </thead>\n",
    "  <tbody>\n",
    "    <tr>\n",
    "      <th>0</th>\n",
    "      <td>Animation</td>\n",
    "      <td>7.324490</td>\n",
    "    </tr>\n",
    "    <tr>\n",
    "      <th>1</th>\n",
    "      <td>Biography</td>\n",
    "      <td>7.318750</td>\n",
    "    </tr>\n",
    "    <tr>\n",
    "      <th>2</th>\n",
    "      <td>Drama</td>\n",
    "      <td>6.954872</td>\n",
    "    </tr>\n",
    "    <tr>\n",
    "      <th>3</th>\n",
    "      <td>Adventure</td>\n",
    "      <td>6.908000</td>\n",
    "    </tr>\n",
    "    <tr>\n",
    "      <th>4</th>\n",
    "      <td>Mystery</td>\n",
    "      <td>6.876923</td>\n",
    "    </tr>\n",
    " </tbody>\n",
    "</table>"
   ]
  },
  {
   "cell_type": "markdown",
   "id": "030295c1-2d34-4733-981b-65c9a28e3e72",
   "metadata": {},
   "source": [
    "### Task A"
   ]
  },
  {
   "cell_type": "markdown",
   "id": "e3c11ab1-9d0b-4214-9b3e-be6aee09647f",
   "metadata": {},
   "source": [
    "Implement the following function, `get_primary_genre,` which takes genre entries as a parameter and returns the first entry as the primary genre. Then, apply this function to the data frame to create a new column, `primary_genre`."
   ]
  },
  {
   "cell_type": "code",
   "execution_count": 44,
   "id": "e7af8c4d-072b-40ff-adc9-4f20c2b166f0",
   "metadata": {},
   "outputs": [],
   "source": [
    "## Write your solution here\n",
    "def get_primary_genre(value):\n",
    "    ..."
   ]
  },
  {
   "cell_type": "code",
   "execution_count": 46,
   "id": "0ba78f7e-5af9-4c9b-8c20-ef4d8b552940",
   "metadata": {},
   "outputs": [],
   "source": [
    "data['Primary_Genre'] = ..."
   ]
  },
  {
   "cell_type": "markdown",
   "id": "4eee86f3-9b0c-4107-ade9-9338d9d0c895",
   "metadata": {},
   "source": [
    "### Task B"
   ]
  },
  {
   "cell_type": "markdown",
   "id": "2c58da9f-5d16-41ab-93aa-636a94232adb",
   "metadata": {},
   "source": [
    "Implement the function `filter_genre_by_movie_count`, which takes a dataframe as in input and return a list containing the primary genre names where each genre has more than 10 movies."
   ]
  },
  {
   "cell_type": "code",
   "execution_count": 47,
   "id": "3ca1ad0e-462d-4855-a988-506cc2d8f5b3",
   "metadata": {},
   "outputs": [],
   "source": [
    "def filter_genre_by_movie_count(df):\n",
    "    ..."
   ]
  },
  {
   "cell_type": "code",
   "execution_count": 24,
   "id": "3e623187-cfcc-4207-9ae7-8b2539753bd5",
   "metadata": {},
   "outputs": [],
   "source": [
    "filtered_genres = filter_genre_by_movie_count(data)"
   ]
  },
  {
   "cell_type": "markdown",
   "id": "4a815037-458c-4d46-bb30-c30afab34544",
   "metadata": {},
   "source": [
    "### Task C"
   ]
  },
  {
   "cell_type": "markdown",
   "id": "01e70094-a798-4920-8376-32ed784694cc",
   "metadata": {},
   "source": [
    "Implement the following function `sort_by_avg_rating`, which takes `filtered_genres` and the dataframe as input. The function should \n",
    "* filter the dataframe based on the `filtered_genres`\n",
    "* apply `groupby` to group the dataframe by genre name\n",
    "* calculate the mean rating of each group\n",
    "* return the sorted dataframe with top five entries"
   ]
  },
  {
   "cell_type": "code",
   "execution_count": 49,
   "id": "30dc3cc9-5dce-4818-8846-9ed876370f4a",
   "metadata": {},
   "outputs": [],
   "source": [
    "def sort_by_avg_rating(filtered_genres, data):\n",
    "    ..."
   ]
  },
  {
   "cell_type": "code",
   "execution_count": 43,
   "id": "4f6c4423-8763-428c-b4a9-5d355e891068",
   "metadata": {},
   "outputs": [
    {
     "data": {
      "text/html": [
       "<div>\n",
       "<style scoped>\n",
       "    .dataframe tbody tr th:only-of-type {\n",
       "        vertical-align: middle;\n",
       "    }\n",
       "\n",
       "    .dataframe tbody tr th {\n",
       "        vertical-align: top;\n",
       "    }\n",
       "\n",
       "    .dataframe thead th {\n",
       "        text-align: right;\n",
       "    }\n",
       "</style>\n",
       "<table border=\"1\" class=\"dataframe\">\n",
       "  <thead>\n",
       "    <tr style=\"text-align: right;\">\n",
       "      <th></th>\n",
       "      <th>Rating</th>\n",
       "    </tr>\n",
       "    <tr>\n",
       "      <th>Primary_Genre</th>\n",
       "      <th></th>\n",
       "    </tr>\n",
       "  </thead>\n",
       "  <tbody>\n",
       "    <tr>\n",
       "      <th>Action</th>\n",
       "      <td>6.592491</td>\n",
       "    </tr>\n",
       "    <tr>\n",
       "      <th>Adventure</th>\n",
       "      <td>6.908000</td>\n",
       "    </tr>\n",
       "    <tr>\n",
       "      <th>Animation</th>\n",
       "      <td>7.324490</td>\n",
       "    </tr>\n",
       "    <tr>\n",
       "      <th>Biography</th>\n",
       "      <td>7.318750</td>\n",
       "    </tr>\n",
       "    <tr>\n",
       "      <th>Comedy</th>\n",
       "      <td>6.493143</td>\n",
       "    </tr>\n",
       "  </tbody>\n",
       "</table>\n",
       "</div>"
      ],
      "text/plain": [
       "                 Rating\n",
       "Primary_Genre          \n",
       "Action         6.592491\n",
       "Adventure      6.908000\n",
       "Animation      7.324490\n",
       "Biography      7.318750\n",
       "Comedy         6.493143"
      ]
     },
     "execution_count": 43,
     "metadata": {},
     "output_type": "execute_result"
    }
   ],
   "source": [
    "sort_by_avg_rating(filtered_genres, data)"
   ]
  },
  {
   "cell_type": "code",
   "execution_count": null,
   "id": "69f3352a-50e7-4dd5-8bd5-2ad69118361d",
   "metadata": {},
   "outputs": [],
   "source": []
  },
  {
   "cell_type": "code",
   "execution_count": null,
   "id": "77edcf77-4e3e-4813-bf31-e71415cbc537",
   "metadata": {},
   "outputs": [],
   "source": []
  },
  {
   "cell_type": "code",
   "execution_count": null,
   "id": "1d4584d9-b7c2-43ac-932c-1701e8f192e1",
   "metadata": {},
   "outputs": [],
   "source": []
  },
  {
   "cell_type": "code",
   "execution_count": null,
   "id": "00b556c3-3818-41a1-b0cf-25d6f63a8ab6",
   "metadata": {},
   "outputs": [],
   "source": []
  },
  {
   "cell_type": "markdown",
   "id": "99012af4-500e-4e04-b4cb-bf72a303069d",
   "metadata": {},
   "source": [
    "## Solution"
   ]
  },
  {
   "cell_type": "markdown",
   "id": "eaee6a75-d7bf-40ba-b87a-821c04bbd845",
   "metadata": {},
   "source": [
    "### Task A"
   ]
  },
  {
   "cell_type": "code",
   "execution_count": 45,
   "id": "2aeeaf14-7528-4f1d-a028-3986ea1722a4",
   "metadata": {},
   "outputs": [],
   "source": [
    "def get_primary_genre(value):\n",
    "    return value.split(\",\")[0]"
   ]
  },
  {
   "cell_type": "markdown",
   "id": "73194539-bb8c-4e17-88ad-1ea6bd477c8f",
   "metadata": {},
   "source": [
    "### Task B"
   ]
  },
  {
   "cell_type": "code",
   "execution_count": 48,
   "id": "79d9c3f8-c69d-40da-840c-a442b358e8c9",
   "metadata": {},
   "outputs": [],
   "source": [
    "def filter_genre_by_movie_count(df):\n",
    "    genre_count = data.groupby(['Primary_Genre']).count()['Genre']\n",
    "    filtered_ = list(genre_count[genre_count>10].index)\n",
    "\n",
    "    return filtered_"
   ]
  },
  {
   "cell_type": "markdown",
   "id": "898bba5b-1a6b-48ae-81ee-181ac8d3c4b4",
   "metadata": {},
   "source": [
    "### Task C"
   ]
  },
  {
   "cell_type": "code",
   "execution_count": 50,
   "id": "68c73656-c8a4-4a44-805b-10b93e4536a5",
   "metadata": {},
   "outputs": [],
   "source": [
    "def sort_by_avg_rating(filtered_genres, data):\n",
    "    filtered_df = data[data['Primary_Genre'].isin(filtered_genres)]\n",
    "    new_df = filtered_df.groupby(['Primary_Genre'])['Rating'].mean().to_frame()\n",
    "    return new_df.head()"
   ]
  },
  {
   "cell_type": "code",
   "execution_count": null,
   "id": "1a7bdc4e-d620-4369-b67f-025d856ce635",
   "metadata": {},
   "outputs": [],
   "source": []
  }
 ],
 "metadata": {
  "kernelspec": {
   "display_name": "Python 3 (ipykernel)",
   "language": "python",
   "name": "python3"
  },
  "language_info": {
   "codemirror_mode": {
    "name": "ipython",
    "version": 3
   },
   "file_extension": ".py",
   "mimetype": "text/x-python",
   "name": "python",
   "nbconvert_exporter": "python",
   "pygments_lexer": "ipython3",
   "version": "3.11.7"
  }
 },
 "nbformat": 4,
 "nbformat_minor": 5
}
