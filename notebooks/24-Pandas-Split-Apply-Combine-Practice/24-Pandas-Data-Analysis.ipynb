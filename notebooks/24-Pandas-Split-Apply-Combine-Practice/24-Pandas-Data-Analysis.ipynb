{
 "cells": [
  {
   "cell_type": "markdown",
   "id": "a871adf9-2b25-4ddf-9ab8-408fa80369f2",
   "metadata": {},
   "source": [
    "# Pandas Spilt-Apply-Combine Practice"
   ]
  },
  {
   "cell_type": "markdown",
   "id": "7a17b241-53ea-40e3-ab29-8002af01bfda",
   "metadata": {},
   "source": [
    "We will use 'IMDB-Movie-Data' opensource data to learn more about pandas. This dataset contains 1000 rows of data in 12 columns. It contains data about movies and shows on netflix."
   ]
  },
  {
   "cell_type": "markdown",
   "id": "9859e5b0-cb61-48a0-ac44-3b9a45eac2be",
   "metadata": {},
   "source": [
    "## Import Dataset and Get the initial overview"
   ]
  },
  {
   "cell_type": "code",
   "execution_count": 2,
   "id": "5fcd37c2-f97d-423a-96c1-6b0355063a52",
   "metadata": {},
   "outputs": [],
   "source": [
    "import pandas as pd"
   ]
  },
  {
   "cell_type": "code",
   "execution_count": 35,
   "id": "5ba1db23-19ba-4a93-9727-01e17547068e",
   "metadata": {},
   "outputs": [],
   "source": [
    "data = pd.read_csv('IMDB-Movie-Data.csv', index_col=False)"
   ]
  },
  {
   "cell_type": "code",
   "execution_count": 36,
   "id": "03516567-fea4-4aa4-8933-867714087505",
   "metadata": {},
   "outputs": [
    {
     "name": "stdout",
     "output_type": "stream",
     "text": [
      "<class 'pandas.core.frame.DataFrame'>\n",
      "RangeIndex: 1000 entries, 0 to 999\n",
      "Data columns (total 12 columns):\n",
      " #   Column              Non-Null Count  Dtype  \n",
      "---  ------              --------------  -----  \n",
      " 0   Rank                1000 non-null   int64  \n",
      " 1   Title               1000 non-null   object \n",
      " 2   Genre               1000 non-null   object \n",
      " 3   Description         1000 non-null   object \n",
      " 4   Director            1000 non-null   object \n",
      " 5   Actors              1000 non-null   object \n",
      " 6   Year                1000 non-null   int64  \n",
      " 7   Runtime (Minutes)   1000 non-null   int64  \n",
      " 8   Rating              1000 non-null   float64\n",
      " 9   Votes               1000 non-null   int64  \n",
      " 10  Revenue (Millions)  872 non-null    float64\n",
      " 11  Metascore           936 non-null    float64\n",
      "dtypes: float64(3), int64(4), object(5)\n",
      "memory usage: 93.9+ KB\n"
     ]
    }
   ],
   "source": [
    "data.info()"
   ]
  },
  {
   "cell_type": "code",
   "execution_count": 6,
   "id": "bc79d2cb-3d41-431e-886b-696fc06cd657",
   "metadata": {},
   "outputs": [
    {
     "data": {
      "text/plain": [
       "(1000, 12)"
      ]
     },
     "execution_count": 6,
     "metadata": {},
     "output_type": "execute_result"
    }
   ],
   "source": [
    "data.shape"
   ]
  },
  {
   "cell_type": "code",
   "execution_count": 7,
   "id": "c713f85b-24d0-4c8d-8e88-ce61a9907930",
   "metadata": {},
   "outputs": [
    {
     "data": {
      "text/plain": [
       "Index(['Rank', 'Title', 'Genre', 'Description', 'Director', 'Actors', 'Year',\n",
       "       'Runtime (Minutes)', 'Rating', 'Votes', 'Revenue (Millions)',\n",
       "       'Metascore'],\n",
       "      dtype='object')"
      ]
     },
     "execution_count": 7,
     "metadata": {},
     "output_type": "execute_result"
    }
   ],
   "source": [
    "data.columns"
   ]
  },
  {
   "cell_type": "code",
   "execution_count": 8,
   "id": "1f5cc6db-8921-4c08-a251-ce368b274246",
   "metadata": {},
   "outputs": [
    {
     "data": {
      "text/html": [
       "<div>\n",
       "<style scoped>\n",
       "    .dataframe tbody tr th:only-of-type {\n",
       "        vertical-align: middle;\n",
       "    }\n",
       "\n",
       "    .dataframe tbody tr th {\n",
       "        vertical-align: top;\n",
       "    }\n",
       "\n",
       "    .dataframe thead th {\n",
       "        text-align: right;\n",
       "    }\n",
       "</style>\n",
       "<table border=\"1\" class=\"dataframe\">\n",
       "  <thead>\n",
       "    <tr style=\"text-align: right;\">\n",
       "      <th></th>\n",
       "      <th>Rank</th>\n",
       "      <th>Title</th>\n",
       "      <th>Genre</th>\n",
       "      <th>Description</th>\n",
       "      <th>Director</th>\n",
       "      <th>Actors</th>\n",
       "      <th>Year</th>\n",
       "      <th>Runtime (Minutes)</th>\n",
       "      <th>Rating</th>\n",
       "      <th>Votes</th>\n",
       "      <th>Revenue (Millions)</th>\n",
       "      <th>Metascore</th>\n",
       "    </tr>\n",
       "  </thead>\n",
       "  <tbody>\n",
       "    <tr>\n",
       "      <th>0</th>\n",
       "      <td>1</td>\n",
       "      <td>Guardians of the Galaxy</td>\n",
       "      <td>Action,Adventure,Sci-Fi</td>\n",
       "      <td>A group of intergalactic criminals are forced ...</td>\n",
       "      <td>James Gunn</td>\n",
       "      <td>Chris Pratt, Vin Diesel, Bradley Cooper, Zoe S...</td>\n",
       "      <td>2014</td>\n",
       "      <td>121</td>\n",
       "      <td>8.1</td>\n",
       "      <td>757074</td>\n",
       "      <td>333.13</td>\n",
       "      <td>76.0</td>\n",
       "    </tr>\n",
       "    <tr>\n",
       "      <th>1</th>\n",
       "      <td>2</td>\n",
       "      <td>Prometheus</td>\n",
       "      <td>Adventure,Mystery,Sci-Fi</td>\n",
       "      <td>Following clues to the origin of mankind, a te...</td>\n",
       "      <td>Ridley Scott</td>\n",
       "      <td>Noomi Rapace, Logan Marshall-Green, Michael Fa...</td>\n",
       "      <td>2012</td>\n",
       "      <td>124</td>\n",
       "      <td>7.0</td>\n",
       "      <td>485820</td>\n",
       "      <td>126.46</td>\n",
       "      <td>65.0</td>\n",
       "    </tr>\n",
       "    <tr>\n",
       "      <th>2</th>\n",
       "      <td>3</td>\n",
       "      <td>Split</td>\n",
       "      <td>Horror,Thriller</td>\n",
       "      <td>Three girls are kidnapped by a man with a diag...</td>\n",
       "      <td>M. Night Shyamalan</td>\n",
       "      <td>James McAvoy, Anya Taylor-Joy, Haley Lu Richar...</td>\n",
       "      <td>2016</td>\n",
       "      <td>117</td>\n",
       "      <td>7.3</td>\n",
       "      <td>157606</td>\n",
       "      <td>138.12</td>\n",
       "      <td>62.0</td>\n",
       "    </tr>\n",
       "    <tr>\n",
       "      <th>3</th>\n",
       "      <td>4</td>\n",
       "      <td>Sing</td>\n",
       "      <td>Animation,Comedy,Family</td>\n",
       "      <td>In a city of humanoid animals, a hustling thea...</td>\n",
       "      <td>Christophe Lourdelet</td>\n",
       "      <td>Matthew McConaughey,Reese Witherspoon, Seth Ma...</td>\n",
       "      <td>2016</td>\n",
       "      <td>108</td>\n",
       "      <td>7.2</td>\n",
       "      <td>60545</td>\n",
       "      <td>270.32</td>\n",
       "      <td>59.0</td>\n",
       "    </tr>\n",
       "    <tr>\n",
       "      <th>4</th>\n",
       "      <td>5</td>\n",
       "      <td>Suicide Squad</td>\n",
       "      <td>Action,Adventure,Fantasy</td>\n",
       "      <td>A secret government agency recruits some of th...</td>\n",
       "      <td>David Ayer</td>\n",
       "      <td>Will Smith, Jared Leto, Margot Robbie, Viola D...</td>\n",
       "      <td>2016</td>\n",
       "      <td>123</td>\n",
       "      <td>6.2</td>\n",
       "      <td>393727</td>\n",
       "      <td>325.02</td>\n",
       "      <td>40.0</td>\n",
       "    </tr>\n",
       "  </tbody>\n",
       "</table>\n",
       "</div>"
      ],
      "text/plain": [
       "   Rank                    Title                     Genre  \\\n",
       "0     1  Guardians of the Galaxy   Action,Adventure,Sci-Fi   \n",
       "1     2               Prometheus  Adventure,Mystery,Sci-Fi   \n",
       "2     3                    Split           Horror,Thriller   \n",
       "3     4                     Sing   Animation,Comedy,Family   \n",
       "4     5            Suicide Squad  Action,Adventure,Fantasy   \n",
       "\n",
       "                                         Description              Director  \\\n",
       "0  A group of intergalactic criminals are forced ...            James Gunn   \n",
       "1  Following clues to the origin of mankind, a te...          Ridley Scott   \n",
       "2  Three girls are kidnapped by a man with a diag...    M. Night Shyamalan   \n",
       "3  In a city of humanoid animals, a hustling thea...  Christophe Lourdelet   \n",
       "4  A secret government agency recruits some of th...            David Ayer   \n",
       "\n",
       "                                              Actors  Year  Runtime (Minutes)  \\\n",
       "0  Chris Pratt, Vin Diesel, Bradley Cooper, Zoe S...  2014                121   \n",
       "1  Noomi Rapace, Logan Marshall-Green, Michael Fa...  2012                124   \n",
       "2  James McAvoy, Anya Taylor-Joy, Haley Lu Richar...  2016                117   \n",
       "3  Matthew McConaughey,Reese Witherspoon, Seth Ma...  2016                108   \n",
       "4  Will Smith, Jared Leto, Margot Robbie, Viola D...  2016                123   \n",
       "\n",
       "   Rating   Votes  Revenue (Millions)  Metascore  \n",
       "0     8.1  757074              333.13       76.0  \n",
       "1     7.0  485820              126.46       65.0  \n",
       "2     7.3  157606              138.12       62.0  \n",
       "3     7.2   60545              270.32       59.0  \n",
       "4     6.2  393727              325.02       40.0  "
      ]
     },
     "execution_count": 8,
     "metadata": {},
     "output_type": "execute_result"
    }
   ],
   "source": [
    "data.head()"
   ]
  },
  {
   "cell_type": "markdown",
   "id": "f8d834b2-9fa0-45fe-b91d-e4ad417c24ac",
   "metadata": {},
   "source": [
    "## Task A"
   ]
  },
  {
   "cell_type": "markdown",
   "id": "20e6e879-2df8-4aed-bdf2-c3aaa68d8235",
   "metadata": {},
   "source": [
    "We need to find out the top FIVE movie genres in terms of average ratings. Here, each movie has multiple genres, but we will focus on the primary genre of the movies. By primary genre, we refer to the first entry of the `Genre` column.\n",
    "\n",
    "Our final dataset (transformed from the original), must present this information of the 5 genres that have the best average ratings.\n",
    "\n",
    "Things to consider:\n",
    "* Need to create a separate column, `primary_genre` with the first entry from the `Genre` column\n",
    "* Only consider those genres that have at least 10 or more movies while calculating the average ratings.\n",
    "\n",
    "If all goes well your solution should return the following data frame:\n",
    "<table border=\"1\" class=\"dataframe\">\n",
    "  <thead>\n",
    "    <tr style=\"text-align: right;\">\n",
    "      <th></th>\n",
    "      <th>primary_genre</th>\n",
    "      <th>avg_rating</th>\n",
    "    </tr>\n",
    "  </thead>\n",
    "  <tbody>\n",
    "    <tr>\n",
    "      <th>0</th>\n",
    "      <td>Animation</td>\n",
    "      <td>7.324490</td>\n",
    "    </tr>\n",
    "    <tr>\n",
    "      <th>1</th>\n",
    "      <td>Biography</td>\n",
    "      <td>7.318750</td>\n",
    "    </tr>\n",
    "    <tr>\n",
    "      <th>2</th>\n",
    "      <td>Drama</td>\n",
    "      <td>6.954872</td>\n",
    "    </tr>\n",
    "    <tr>\n",
    "      <th>3</th>\n",
    "      <td>Adventure</td>\n",
    "      <td>6.908000</td>\n",
    "    </tr>\n",
    "    <tr>\n",
    "      <th>4</th>\n",
    "      <td>Mystery</td>\n",
    "      <td>6.876923</td>\n",
    "    </tr>\n",
    " </tbody>\n",
    "</table>"
   ]
  },
  {
   "cell_type": "code",
   "execution_count": null,
   "id": "e7af8c4d-072b-40ff-adc9-4f20c2b166f0",
   "metadata": {},
   "outputs": [],
   "source": [
    "## Write your solution here\n"
   ]
  },
  {
   "cell_type": "markdown",
   "id": "59e4965e-6d35-4f7f-a592-f371a2e0bd98",
   "metadata": {},
   "source": [
    "## Task B"
   ]
  },
  {
   "cell_type": "markdown",
   "id": "e76fbf70-cbc5-46ab-87a6-134e43c4ab27",
   "metadata": {},
   "source": [
    "At this stage, we need to identify the directors with highest number of movies for each movie success categories. Movie success categories are defined as follows: if a movie's revenue (in million) is more than 300, it will be a `Blockbuster`. Similarly, if a movie's revenue is between 200 (inclusive) and 300, it will be considered as `Super Hit`, if the revenue is between 100 (inclusive) and 200, it will be a `Hit` Anything with revenue less than 100, will be considered as `Flop'.\n",
    "\n",
    "Our final dataset must be transformed from the original dataset, and provide an answer to our question.\n",
    "\n",
    "If all goes well your solution should return the following data frame:\n",
    "<table border=\"1\" class=\"dataframe\">\n",
    "  <thead>\n",
    "    <tr style=\"text-align: right;\">\n",
    "      <th></th>\n",
    "      <th>success_category</th>\n",
    "      <th>director</th>\n",
    "    </tr>\n",
    "  </thead>\n",
    "  <tbody>\n",
    "    <tr>\n",
    "      <th>0</th>\n",
    "      <td>Blockbuster</td>\n",
    "      <td>Jon Favreau</td>\n",
    "    </tr>\n",
    "    <tr>\n",
    "      <th>1</th>\n",
    "      <td>Flop</td>\n",
    "      <td>Paul W.S. Anderson</td>\n",
    "    </tr>\n",
    "    <tr>\n",
    "      <th>2</th>\n",
    "      <td>Hit</td>\n",
    "      <td>Paul Feig</td>\n",
    "    </tr>\n",
    "    <tr>\n",
    "      <th>3</th>\n",
    "      <td>Super Hit</td>\n",
    "      <td>David Yates</td>\n",
    "    </tr>\n",
    " </tbody>\n",
    "</table>"
   ]
  },
  {
   "cell_type": "code",
   "execution_count": null,
   "id": "a9b8b3d6-e020-4919-b1ff-a8953db1444f",
   "metadata": {},
   "outputs": [],
   "source": [
    "## Write your solution here\n"
   ]
  },
  {
   "cell_type": "code",
   "execution_count": null,
   "id": "41fa1fcd-4579-41ed-adbe-9e6752bac19c",
   "metadata": {},
   "outputs": [],
   "source": []
  },
  {
   "cell_type": "code",
   "execution_count": null,
   "id": "40ec2f45-e996-46c6-b569-1ae0274e83f4",
   "metadata": {},
   "outputs": [],
   "source": []
  },
  {
   "cell_type": "code",
   "execution_count": null,
   "id": "e47e1791-7bef-4d61-a1db-d28b448a1179",
   "metadata": {},
   "outputs": [],
   "source": []
  },
  {
   "cell_type": "code",
   "execution_count": null,
   "id": "287a1c3a-49e4-4802-a860-1b46d3c6f9e1",
   "metadata": {},
   "outputs": [],
   "source": []
  },
  {
   "cell_type": "code",
   "execution_count": null,
   "id": "9050cc54-e194-4668-ab67-a756f28ec66c",
   "metadata": {},
   "outputs": [],
   "source": []
  },
  {
   "cell_type": "code",
   "execution_count": null,
   "id": "a114b9e3-a5b3-4a3f-ae61-57070f249a45",
   "metadata": {},
   "outputs": [],
   "source": []
  },
  {
   "cell_type": "code",
   "execution_count": null,
   "id": "549fb9ed-e9be-4c33-acd7-18bc1295ad56",
   "metadata": {},
   "outputs": [],
   "source": []
  },
  {
   "cell_type": "code",
   "execution_count": null,
   "id": "9c5aa6d2-a1a4-4769-b3d8-9a0db80061b6",
   "metadata": {},
   "outputs": [],
   "source": []
  },
  {
   "cell_type": "code",
   "execution_count": null,
   "id": "faeec555-781c-4c83-8de2-6577f7f6259a",
   "metadata": {},
   "outputs": [],
   "source": []
  },
  {
   "cell_type": "code",
   "execution_count": null,
   "id": "a9c188f6-8cb5-4040-b753-cbe4db2b5b34",
   "metadata": {},
   "outputs": [],
   "source": []
  },
  {
   "cell_type": "markdown",
   "id": "e161c0ab-5443-4e2e-bdbe-cd3c1cfc3948",
   "metadata": {},
   "source": [
    "## Task A Solution"
   ]
  },
  {
   "cell_type": "code",
   "execution_count": 74,
   "id": "928e3a77-f476-42be-bda4-5ce36d2a7ba5",
   "metadata": {},
   "outputs": [],
   "source": [
    "def get_primary_genre(value):\n",
    "    return value.split(\",\")[0]"
   ]
  },
  {
   "cell_type": "code",
   "execution_count": 75,
   "id": "239a68e2-d2df-4090-bb37-cce55f0f2a79",
   "metadata": {},
   "outputs": [
    {
     "data": {
      "text/html": [
       "<div>\n",
       "<style scoped>\n",
       "    .dataframe tbody tr th:only-of-type {\n",
       "        vertical-align: middle;\n",
       "    }\n",
       "\n",
       "    .dataframe tbody tr th {\n",
       "        vertical-align: top;\n",
       "    }\n",
       "\n",
       "    .dataframe thead th {\n",
       "        text-align: right;\n",
       "    }\n",
       "</style>\n",
       "<table border=\"1\" class=\"dataframe\">\n",
       "  <thead>\n",
       "    <tr style=\"text-align: right;\">\n",
       "      <th></th>\n",
       "      <th>primary_genre</th>\n",
       "      <th>avg_rating</th>\n",
       "    </tr>\n",
       "  </thead>\n",
       "  <tbody>\n",
       "    <tr>\n",
       "      <th>0</th>\n",
       "      <td>Animation</td>\n",
       "      <td>7.324490</td>\n",
       "    </tr>\n",
       "    <tr>\n",
       "      <th>1</th>\n",
       "      <td>Biography</td>\n",
       "      <td>7.318750</td>\n",
       "    </tr>\n",
       "    <tr>\n",
       "      <th>2</th>\n",
       "      <td>Drama</td>\n",
       "      <td>6.954872</td>\n",
       "    </tr>\n",
       "    <tr>\n",
       "      <th>3</th>\n",
       "      <td>Adventure</td>\n",
       "      <td>6.908000</td>\n",
       "    </tr>\n",
       "    <tr>\n",
       "      <th>4</th>\n",
       "      <td>Mystery</td>\n",
       "      <td>6.876923</td>\n",
       "    </tr>\n",
       "  </tbody>\n",
       "</table>\n",
       "</div>"
      ],
      "text/plain": [
       "  primary_genre  avg_rating\n",
       "0     Animation    7.324490\n",
       "1     Biography    7.318750\n",
       "2         Drama    6.954872\n",
       "3     Adventure    6.908000\n",
       "4       Mystery    6.876923"
      ]
     },
     "execution_count": 75,
     "metadata": {},
     "output_type": "execute_result"
    }
   ],
   "source": [
    "data['Primary_Genre'] = data['Genre'].apply(get_primary_genre)\n",
    "grouper = data.groupby(['Primary_Genre'])\n",
    "tmp = []\n",
    "for genre, group in grouper:\n",
    "    if len(group) >= 3:\n",
    "        avg_rating = group['Rating'].mean()\n",
    "        tmp.append({'primary_genre': genre[0], 'avg_rating': avg_rating})\n",
    "\n",
    "df_tmp = pd.DataFrame(tmp).reset_index(drop=True)\n",
    "df_tmp.sort_values(by='avg_rating', ascending=False, inplace=True)\n",
    "df_tmp.head().reset_index(drop=True)"
   ]
  },
  {
   "cell_type": "markdown",
   "id": "2eb93430-6193-4639-a3da-151e73ba0637",
   "metadata": {},
   "source": [
    "## Task B Sloution"
   ]
  },
  {
   "cell_type": "code",
   "execution_count": 69,
   "id": "ef99ff57-5a45-4b7c-a02f-1d6374d300db",
   "metadata": {},
   "outputs": [],
   "source": [
    "def define_category(value):\n",
    "    revenue = float(value)\n",
    "    if revenue > 300:\n",
    "        return 'Blockbuster'\n",
    "    elif revenue <= 300 and revenue >=200:\n",
    "        return 'Super Hit'\n",
    "    elif revenue >=100 and revenue < 200:\n",
    "        return 'Hit'\n",
    "    else:\n",
    "        return 'Flop'"
   ]
  },
  {
   "cell_type": "code",
   "execution_count": 73,
   "id": "53e0096e-ac2a-4afc-8a0d-19ab7dc7a8db",
   "metadata": {},
   "outputs": [
    {
     "data": {
      "text/html": [
       "<div>\n",
       "<style scoped>\n",
       "    .dataframe tbody tr th:only-of-type {\n",
       "        vertical-align: middle;\n",
       "    }\n",
       "\n",
       "    .dataframe tbody tr th {\n",
       "        vertical-align: top;\n",
       "    }\n",
       "\n",
       "    .dataframe thead th {\n",
       "        text-align: right;\n",
       "    }\n",
       "</style>\n",
       "<table border=\"1\" class=\"dataframe\">\n",
       "  <thead>\n",
       "    <tr style=\"text-align: right;\">\n",
       "      <th></th>\n",
       "      <th>success_category</th>\n",
       "      <th>director</th>\n",
       "    </tr>\n",
       "  </thead>\n",
       "  <tbody>\n",
       "    <tr>\n",
       "      <th>0</th>\n",
       "      <td>Blockbuster</td>\n",
       "      <td>Jon Favreau</td>\n",
       "    </tr>\n",
       "    <tr>\n",
       "      <th>1</th>\n",
       "      <td>Flop</td>\n",
       "      <td>Paul W.S. Anderson</td>\n",
       "    </tr>\n",
       "    <tr>\n",
       "      <th>2</th>\n",
       "      <td>Hit</td>\n",
       "      <td>Paul Feig</td>\n",
       "    </tr>\n",
       "    <tr>\n",
       "      <th>3</th>\n",
       "      <td>Super Hit</td>\n",
       "      <td>David Yates</td>\n",
       "    </tr>\n",
       "  </tbody>\n",
       "</table>\n",
       "</div>"
      ],
      "text/plain": [
       "  success_category            director\n",
       "0      Blockbuster         Jon Favreau\n",
       "1             Flop  Paul W.S. Anderson\n",
       "2              Hit           Paul Feig\n",
       "3        Super Hit         David Yates"
      ]
     },
     "execution_count": 73,
     "metadata": {},
     "output_type": "execute_result"
    }
   ],
   "source": [
    "data['success_category'] = data['Revenue (Millions)'].apply(define_category)\n",
    "tmp = []\n",
    "for category,group in data.groupby(['success_category']):\n",
    "    sub_tmp = []\n",
    "    sub_grouper = group.groupby('Director')\n",
    "    for item, sub_group in sub_grouper:\n",
    "        item_pop = len(sub_group)\n",
    "        sub_tmp.append({'Director': item, 'movie_count': item_pop})\n",
    "    sub_df = pd.DataFrame(sub_tmp)\n",
    "    sub_df.sort_values(by='movie_count', ascending=False, inplace=True)\n",
    "    top_director = sub_df.reset_index().loc[0]['Director']\n",
    "    tmp.append({'success_category': category[0], 'director': top_director})\n",
    "df = pd.DataFrame(tmp)\n",
    "df"
   ]
  },
  {
   "cell_type": "code",
   "execution_count": null,
   "id": "85a58e10-aca7-4707-a974-458dae7e7a61",
   "metadata": {},
   "outputs": [],
   "source": []
  }
 ],
 "metadata": {
  "kernelspec": {
   "display_name": "Python 3 (ipykernel)",
   "language": "python",
   "name": "python3"
  },
  "language_info": {
   "codemirror_mode": {
    "name": "ipython",
    "version": 3
   },
   "file_extension": ".py",
   "mimetype": "text/x-python",
   "name": "python",
   "nbconvert_exporter": "python",
   "pygments_lexer": "ipython3",
   "version": "3.11.7"
  }
 },
 "nbformat": 4,
 "nbformat_minor": 5
}
