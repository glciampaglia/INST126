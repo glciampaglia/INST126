{
 "cells": [
  {
   "cell_type": "markdown",
   "id": "28d01680-38bd-4d58-9ad3-a7bf344427ae",
   "metadata": {},
   "source": [
    "# Intro to Python Requests (HTTP for Humans)"
   ]
  },
  {
   "cell_type": "markdown",
   "id": "c61af33e-f04c-48ce-b20e-6fd0dce96648",
   "metadata": {},
   "source": [
    "We need to import `requests` first."
   ]
  },
  {
   "cell_type": "code",
   "execution_count": null,
   "id": "9cd76e75-8318-46e7-b6f1-7cfa5ff0182a",
   "metadata": {
    "tags": []
   },
   "outputs": [],
   "source": [
    "import requests"
   ]
  },
  {
   "cell_type": "markdown",
   "id": "ab9aef3f-bd5d-46a2-9ca7-8f8d0b3b008c",
   "metadata": {},
   "source": [
    "The main function we will use is `requests.get`:"
   ]
  },
  {
   "cell_type": "code",
   "execution_count": null,
   "id": "e8e95f8d-7e02-46c5-af08-1dcee9fe0156",
   "metadata": {
    "tags": []
   },
   "outputs": [],
   "source": [
    "resp = requests.get(\"https://books.toscrape.com/\")\n",
    "# resp = requests.get(\"https://books.toscrape.com/giovanni\")  # non-existant URL (see below)\n",
    "\n",
    "resp"
   ]
  },
  {
   "cell_type": "markdown",
   "id": "8429c822-9afc-4287-a4bf-daf8daa3c878",
   "metadata": {},
   "source": [
    "A successful response will return a status of `200 OK`. The status code is available in a separate attribute in the response object:"
   ]
  },
  {
   "cell_type": "code",
   "execution_count": null,
   "id": "80699de6-0891-4916-929a-055cc46d7b2c",
   "metadata": {
    "tags": []
   },
   "outputs": [],
   "source": [
    "resp.status_code"
   ]
  },
  {
   "cell_type": "markdown",
   "id": "b5b79d72-2dfb-41be-aac6-b1e12a841b6c",
   "metadata": {},
   "source": [
    "It is generally a good idea to test whether the response went OK:"
   ]
  },
  {
   "cell_type": "code",
   "execution_count": null,
   "id": "ec545c7c-714d-40f5-9197-faf4be5ef352",
   "metadata": {
    "tags": []
   },
   "outputs": [],
   "source": [
    "if resp.status_code == 200: # Tests we receive 200 OK\n",
    "    print(\"The request was successful!\")\n",
    "else:\n",
    "    print(\"There was an error: \", resp.status_code)"
   ]
  },
  {
   "cell_type": "markdown",
   "id": "e7d41692-9788-4bb3-a629-cdb6860c1941",
   "metadata": {},
   "source": [
    "There are many different response code, and not all successful requests return exactly code 200. (See this [cheat sheet with all status codes](https://developer.mozilla.org/en-US/docs/Web/HTTP/Status).) So a more robust way is to use the `.ok` attribute. This is True if the requests did not generate an error, which corresponds to any 100/200/300-level code."
   ]
  },
  {
   "cell_type": "code",
   "execution_count": null,
   "id": "9f2be47b-c170-4cf6-897e-67ad18531820",
   "metadata": {
    "tags": []
   },
   "outputs": [],
   "source": [
    "if resp.ok:  # True for any 100/200/300-level status code\n",
    "    print(\"The request was successful!\")\n",
    "else:\n",
    "    print(\"There was an error: \", resp.status_code)"
   ]
  },
  {
   "cell_type": "markdown",
   "id": "dbf67d08-3580-4356-abb2-7c25d0cf1219",
   "metadata": {},
   "source": [
    "The message associated to the response status is available in a separate attribute called `.reason`:"
   ]
  },
  {
   "cell_type": "code",
   "execution_count": null,
   "id": "9d1dba8e-db4c-4372-921e-10d94c0aaf9b",
   "metadata": {
    "tags": []
   },
   "outputs": [],
   "source": [
    "resp.reason"
   ]
  },
  {
   "cell_type": "markdown",
   "id": "9ffd74c1-19de-42bd-8e88-a1c4916af13a",
   "metadata": {},
   "source": [
    "---\n",
    "\n",
    "## Simulating an unsuccessful request\n",
    "\n",
    "Now go back to the second cell, comment out the second line in it, and try again the other cells. What do you see?"
   ]
  }
 ],
 "metadata": {
  "kernelspec": {
   "display_name": "Python 3 (ipykernel)",
   "language": "python",
   "name": "python3"
  },
  "language_info": {
   "codemirror_mode": {
    "name": "ipython",
    "version": 3
   },
   "file_extension": ".py",
   "mimetype": "text/x-python",
   "name": "python",
   "nbconvert_exporter": "python",
   "pygments_lexer": "ipython3",
   "version": "3.11.7"
  }
 },
 "nbformat": 4,
 "nbformat_minor": 5
}
