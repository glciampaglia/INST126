{
 "cells": [
  {
   "cell_type": "markdown",
   "metadata": {
    "id": "YS4zb0r-Xu3x",
    "slideshow": {
     "slide_type": "slide"
    }
   },
   "source": [
    "# Data Analysis with Pandas\n",
    "\n",
    "<img src=\"https://terpconnect.umd.edu/~gciampag/INST126/images/pandas.png\" width=\"75%\"/>"
   ]
  },
  {
   "cell_type": "markdown",
   "metadata": {
    "id": "pirCy3GOXy7A",
    "slideshow": {
     "slide_type": "slide"
    }
   },
   "source": [
    "Pandas is a **library** in Python that is designed for **data manipulation and analysis**\n",
    "\n",
    "Especially tabular data, as in an SQL table or Excel spreadsheet. So things like:\n",
    "* Time series data\n",
    "* Arbitrary matrix data with meaningful row and column labels\n",
    "* Any other form of observational / statistical data sets"
   ]
  },
  {
   "cell_type": "markdown",
   "metadata": {
    "id": "y1nJ1dxvh1qc",
    "slideshow": {
     "slide_type": "slide"
    }
   },
   "source": [
    "<img src=\"https://terpconnect.umd.edu/~gciampag/INST126/images/latlon.png\" width=\"50%\"/>"
   ]
  },
  {
   "cell_type": "markdown",
   "metadata": {
    "id": "MKRiDOklsetz",
    "slideshow": {
     "slide_type": "slide"
    }
   },
   "source": [
    "# Importing the pandas library (getting started)"
   ]
  },
  {
   "cell_type": "markdown",
   "metadata": {
    "id": "l2gfEzKViujS",
    "slideshow": {
     "slide_type": "slide"
    }
   },
   "source": [
    "## What is a library?\n",
    "\n",
    "You can think of a library is a **collection of functions and data structures**. You *import* a library (or subsets of it) into your program / notebook so you have access to special functions or data structures in your program.\n",
    "\n",
    "You are already using Python's standard library, which includes built-in functions like `print()`, and built-in data structures like `str` and `dict`. Every time you fire up Python, these are \"imported\" into your program in the background.\n",
    "\n",
    "As you advance in your programming career, you will often find that you want to solve some (sub)problems that others have tried to do, and wrote a collection of functions and/or data structures to solve those problems really well, and saved that collection into a library that others can use. Take advantage of this!"
   ]
  },
  {
   "cell_type": "markdown",
   "metadata": {
    "id": "u7jmcWXJsw7l",
    "slideshow": {
     "slide_type": "slide"
    }
   },
   "source": [
    "## &ldquo;importing&rdquo; a library: mechanics"
   ]
  },
  {
   "cell_type": "markdown",
   "metadata": {
    "id": "iwVuI5GmszeR",
    "slideshow": {
     "slide_type": "slide"
    }
   },
   "source": [
    "Here's what it looks like to import a library and use it, conceptually with a \"fake\" library, and with the pandas library"
   ]
  },
  {
   "cell_type": "markdown",
   "metadata": {
    "id": "3mp-JCPQs87F",
    "slideshow": {
     "slide_type": "slide"
    }
   },
   "source": [
    "<img src=\"https://terpconnect.umd.edu/~gciampag/INST126/images/importing.png\" width=\"50%\"/>"
   ]
  },
  {
   "cell_type": "code",
   "execution_count": null,
   "metadata": {
    "slideshow": {
     "slide_type": "slide"
    }
   },
   "outputs": [],
   "source": [
    "import pandas"
   ]
  },
  {
   "cell_type": "markdown",
   "metadata": {
    "id": "d0xPjQu2s9RF",
    "slideshow": {
     "slide_type": "slide"
    }
   },
   "source": [
    "One problem with this is that we need to type the name of the library every time we want to access a function in it.\n",
    "\n",
    "This is tedious if the name of the library is too long to type. Or if it conflicts with a variable in our code.\n",
    "\n",
    "To solve this, we can use the `import ... as ...` version which lets us make it available under a name of our choice."
   ]
  },
  {
   "cell_type": "markdown",
   "metadata": {
    "id": "zUfoA-0etIkg",
    "slideshow": {
     "slide_type": "slide"
    }
   },
   "source": [
    "<img src=\"https://terpconnect.umd.edu/~gciampag/INST126/images/importingas.png\" width=\"50%\"/>"
   ]
  },
  {
   "cell_type": "code",
   "execution_count": null,
   "metadata": {
    "id": "p_bX2Zdhtfs0",
    "slideshow": {
     "slide_type": "slide"
    }
   },
   "outputs": [],
   "source": [
    "# import the pandas library, give it the name pd for easier access\n",
    "import pandas as pd"
   ]
  },
  {
   "cell_type": "markdown",
   "metadata": {
    "id": "4-Pwu6LeEUd5",
    "slideshow": {
     "slide_type": "slide"
    }
   },
   "source": [
    "## The core of Pandas: The dataframe data structure\n",
    "\n",
    "We've so far progressed from single-item data structures (`str`, `int`, `float`) to \"basic\" collections (`list`, `dict`)\n",
    "\n",
    "Now we will learn about the `dataframe`, which has:\n",
    "* nice properties of both lists (*orderable, indexable*) and dictionaries (can *retrieve things quickly by key, store associated values*)\n",
    "* and othe properties and *built-in algorithms and methods* that are useful for data analysis (e.g., summarizing, grouping, statistics, etc.)\n",
    "\n",
    "Remember: **data structures and algorithms go hand in hand**: people made dataframes (and the associated pandas library) so we can do particular kinds of algorithms more easily."
   ]
  },
  {
   "cell_type": "markdown",
   "metadata": {
    "id": "_c5MqErlSZXT",
    "slideshow": {
     "slide_type": "-"
    }
   },
   "source": [
    "Pandas represents data in as a table, using rows and columns.\n",
    "\n",
    "<img src=\"https://terpconnect.umd.edu/~gciampag/INST126/images/01_table_dataframe.svg\" />\n",
    "\n",
    "Individual columns in a data frame are called **series**; see the [official documentation](https://pandas.pydata.org/docs/getting_started/intro_tutorials/01_table_oriented.html#each-column-in-a-dataframe-is-a-series) for more information.\n",
    "\n",
    "Dataframes combine the best characteristics of lists and dictionaries, and more!\n",
    "\n",
    "- Can be sorted (like lists)\n",
    "- Allow to access data by key (like dicts)\n",
    "- _Bonus_: They can also reindex easily!"
   ]
  },
  {
   "cell_type": "code",
   "execution_count": null,
   "metadata": {
    "colab": {
     "base_uri": "https://localhost:8080/",
     "height": 580
    },
    "id": "hIWihqhrSX70",
    "outputId": "99ba51d0-3f41-486f-d096-2be34c1c26a3",
    "slideshow": {
     "slide_type": "slide"
    }
   },
   "outputs": [],
   "source": [
    "# integrated practice! how do we specify directions to the INST courses file?\n",
    "fname = 'data/INST_courses.csv'  # Note: on Windows use data\\INST_courses.csv instead!\n",
    "df = pd.read_csv(fname)\n",
    "df.head(10)"
   ]
  },
  {
   "cell_type": "code",
   "execution_count": null,
   "metadata": {
    "slideshow": {
     "slide_type": "slide"
    }
   },
   "outputs": [],
   "source": [
    "# show me the \"columns\"\n",
    "df.columns"
   ]
  },
  {
   "cell_type": "code",
   "execution_count": null,
   "metadata": {
    "slideshow": {
     "slide_type": "slide"
    }
   },
   "outputs": [],
   "source": [
    "# get the column with the class codes\n",
    "df['Code']"
   ]
  },
  {
   "cell_type": "code",
   "execution_count": null,
   "metadata": {
    "slideshow": {
     "slide_type": "-"
    }
   },
   "outputs": [],
   "source": [
    "# get all the data for the first row only (using the .loc attribute)\n",
    "df.loc[0]"
   ]
  },
  {
   "cell_type": "markdown",
   "metadata": {
    "slideshow": {
     "slide_type": "slide"
    }
   },
   "source": [
    "### Common error: forget the `.loc` attribute when indexing by row"
   ]
  },
  {
   "cell_type": "code",
   "execution_count": null,
   "metadata": {
    "scrolled": true,
    "slideshow": {
     "slide_type": "-"
    }
   },
   "outputs": [],
   "source": [
    "# this will result in KeyError!\n",
    "df[0]"
   ]
  },
  {
   "cell_type": "code",
   "execution_count": null,
   "metadata": {
    "slideshow": {
     "slide_type": "slide"
    }
   },
   "outputs": [],
   "source": [
    "# get the number of credits for the first course\n",
    "df.loc[0]['Credits']"
   ]
  },
  {
   "cell_type": "code",
   "execution_count": null,
   "metadata": {
    "colab": {
     "base_uri": "https://localhost:8080/",
     "height": 1000
    },
    "id": "Ci6MJTj0c1rD",
    "outputId": "8d233bc3-8a8a-4364-93cf-5177de680f2c",
    "slideshow": {
     "slide_type": "slide"
    }
   },
   "outputs": [],
   "source": [
    "# find the courses that are 3 credits\n",
    "df[df['Credits'] == 3.0]"
   ]
  },
  {
   "cell_type": "code",
   "execution_count": null,
   "metadata": {
    "slideshow": {
     "slide_type": "-"
    }
   },
   "outputs": [],
   "source": [
    "# find all courses where the title contains the word introduction\n",
    "df[df['Title'].str.contains(\"Introduction\")]"
   ]
  },
  {
   "cell_type": "code",
   "execution_count": null,
   "metadata": {
    "colab": {
     "base_uri": "https://localhost:8080/",
     "height": 580
    },
    "id": "1A4nn6EKwXbT",
    "outputId": "91b0269e-4780-40d1-e4aa-a6db87c8f931",
    "slideshow": {
     "slide_type": "-"
    }
   },
   "outputs": [],
   "source": [
    "df.head(10) # show me the top 10 rows in the dataframe"
   ]
  },
  {
   "cell_type": "markdown",
   "metadata": {},
   "source": [
    "# Common operations (basic)\n",
    "\n",
    "Let's go over some common operations with dataframes. This will overlap with the PCE, mostly Q1&ndash;5 and Q8.\n",
    "\n",
    "## Constructing a series\n",
    "\n",
    "Series can be created by scratch from existing data structures. There are two methods depending on whether the data are labeled or unlabeled.\n",
    "\n",
    "### Series from unlabeled data\n",
    "\n",
    "The simplest is to create a series from some unlabeled data, for example in a list. Here is a set of ages of three people:"
   ]
  },
  {
   "cell_type": "code",
   "execution_count": null,
   "metadata": {
    "tags": []
   },
   "outputs": [],
   "source": [
    "ages = pd.Series([22, 35, 58], name=\"Age\")\n",
    "ages"
   ]
  },
  {
   "cell_type": "markdown",
   "metadata": {},
   "source": [
    "I can ask the age of the first person by using list-like indexing (using the `.iloc[]` indexer)."
   ]
  },
  {
   "cell_type": "code",
   "execution_count": null,
   "metadata": {
    "tags": []
   },
   "outputs": [],
   "source": [
    "ages.iloc[0]"
   ]
  },
  {
   "cell_type": "markdown",
   "metadata": {},
   "source": [
    "Note that pandas is still labeling the data. When we supply unlabeled data, by default pandas uses the position of each element (0, 1, 2, ...) as the labels of the series. \n",
    "\n",
    "This means that technically this way of accessing the series elements is also allowed, but it shows a warning:"
   ]
  },
  {
   "cell_type": "code",
   "execution_count": null,
   "metadata": {
    "tags": []
   },
   "outputs": [],
   "source": [
    "ages[0]  # Allowed but not recommended"
   ]
  },
  {
   "cell_type": "markdown",
   "metadata": {},
   "source": [
    "What's happening here is that Pandas knows that the `ages` series uses integer labels and so when it detects that a integer key is passed within the square brackets, it interprets it as a list-like access. However this behavior has been deprecated by the Pandas developers and will be removed from future versions of the library. (Hence the warning.)\n",
    "\n",
    "So always use the `.iloc[]` indexer when you intend to use list-like access to a series."
   ]
  },
  {
   "cell_type": "markdown",
   "metadata": {},
   "source": [
    "### Series from labeled data\n",
    "\n",
    "Of course we can also specify labels for our data. This is achieved if instead of a list we use a dictionary.\n",
    "\n",
    "Here is the same height data, but now we map each person name (the key) to their age (the value). Pandas uses the key information to set up labels for the entries:"
   ]
  },
  {
   "cell_type": "code",
   "execution_count": null,
   "metadata": {
    "tags": []
   },
   "outputs": [],
   "source": [
    "# labeled series\n",
    "age_data = {\n",
    "    \"Giovanni\": 22, \n",
    "    \"Joel\": 35, \n",
    "    \"Frances\": 58\n",
    "}\n",
    "ages = pd.Series(age_data, name=\"Age\")\n",
    "ages"
   ]
  },
  {
   "cell_type": "markdown",
   "metadata": {},
   "source": [
    "Now Giovanni's age can be accessed like in a dictionary"
   ]
  },
  {
   "cell_type": "code",
   "execution_count": null,
   "metadata": {
    "tags": []
   },
   "outputs": [],
   "source": [
    "ages['Giovanni']"
   ]
  },
  {
   "cell_type": "markdown",
   "metadata": {},
   "source": [
    "Note that even though the labels do not represent positions anymore, list-like indexing is still available thanks to the `.iloc[]` indexer"
   ]
  },
  {
   "cell_type": "code",
   "execution_count": null,
   "metadata": {
    "tags": []
   },
   "outputs": [],
   "source": [
    "ages.iloc[0]  # Giovanni's age is 22"
   ]
  },
  {
   "cell_type": "markdown",
   "metadata": {
    "id": "m-HWfgJHpmMp",
    "slideshow": {
     "slide_type": "-"
    }
   },
   "source": [
    "## Constructing a dataframe\n",
    "\n",
    "Now that we have seen how to create series, let's move to the main data structure in pandas: the dataframe (also called _data frame_).\n",
    "\n",
    "There are two ways to construct them:\n",
    "1. From other data structures, like series;\n",
    "2. From external files.\n",
    "\n",
    "### From other data structures (e.g., lists, dictionaries)\n",
    "\n",
    "Even though dataframes are seldom created this way (usually we import data from an external file like a `.csv` file into a dataframe), the dataframe mirrors series in that we can create them from scratch from data already stored in Python objects.\n",
    "\n",
    "The key to understand how this works is to remember that Pandas sees dataframes as _collections of variables_, each variable being a column in the table. \n",
    "\n",
    "So the simplest method is to collect all such columns in a dictionary that maps names to Python lists."
   ]
  },
  {
   "cell_type": "code",
   "execution_count": null,
   "metadata": {
    "tags": []
   },
   "outputs": [],
   "source": [
    "# Dictionary of lists\n",
    "df_data = {\"age\": [22, 35, 58],\n",
    "           \"height_in\": [87, 95, 75],\n",
    "           \"weight_lbs\": [160, 199, 143]}\n",
    "\n",
    "df = pd.DataFrame(df_data)\n",
    "df"
   ]
  },
  {
   "cell_type": "markdown",
   "metadata": {},
   "source": [
    "What pandas is doing is to create a series for each list and then combine them together. In fact we can even do this last step explicitly, by passing a dict of series objects."
   ]
  },
  {
   "cell_type": "code",
   "execution_count": null,
   "metadata": {
    "tags": []
   },
   "outputs": [],
   "source": [
    "# Dictionary of series\n",
    "df_data_series = {\"age\": pd.Series([22, 35, 58]),\n",
    "                  \"height_in\": pd.Series([87, 95, 75]),\n",
    "                  \"weight_lbs\": pd.Series([160, 199, 143])}\n",
    "\n",
    "df = pd.DataFrame(df_data_series)\n",
    "df"
   ]
  },
  {
   "cell_type": "markdown",
   "metadata": {},
   "source": [
    "Like with series, if our data are unlabeled, by default the dataframe will employ integer positions as the labels. \n",
    "\n",
    "If we want the rows in the dataframe to be labeled, we can either supply labeled data (more on that below), or, if we want to label the rows of an otherwise unlabeled dataframe, we can supply them as a list through an extra argument, called `index=`."
   ]
  },
  {
   "cell_type": "code",
   "execution_count": null,
   "metadata": {
    "tags": []
   },
   "outputs": [],
   "source": [
    "# Dictionary of lists + row labels supplied separately\n",
    "df_data = {\"age\": [22, 35, 58],\n",
    "           \"height_in\": [87, 95, 75],\n",
    "           \"weight_lbs\": [160, 199, 143]}\n",
    "\n",
    "df = pd.DataFrame(df_data, index=[\"Giovanni\", \"Joel\", \"Frances\"])\n",
    "df"
   ]
  },
  {
   "cell_type": "markdown",
   "metadata": {},
   "source": [
    "An intermediate method is to supply a list of _records_, where each record is a really a Python dictionary (so a _list of dictionaries_) detailing the information about a person. So each record is going to be interpreted as a _row_."
   ]
  },
  {
   "cell_type": "code",
   "execution_count": null,
   "metadata": {
    "id": "nCRX4FnPwfdf",
    "slideshow": {
     "slide_type": "-"
    }
   },
   "outputs": [],
   "source": [
    "# List of dictionaries (aka list of records)\n",
    "records = [\n",
    "    {'age': 22, 'height_in': 87, 'weight_lbs': 160},\n",
    "    {'age': 35, 'height_in': 95, 'weight_lbs': 199},\n",
    "    {'age': 58, 'height_in': 75, 'weight_lbs': 143}\n",
    "]\n",
    "df = pd.DataFrame(records)\n",
    "df"
   ]
  },
  {
   "cell_type": "markdown",
   "metadata": {},
   "source": [
    "As before we can also supply a non-numerical index with the names of the individuals by passing a list of strings to the `index=` argument: "
   ]
  },
  {
   "cell_type": "code",
   "execution_count": null,
   "metadata": {
    "tags": []
   },
   "outputs": [],
   "source": [
    "# List of dictionaries (aka list of records)\n",
    "records = [\n",
    "    {'age': 22, 'height_in': 87, 'weight_lbs': 160},\n",
    "    {'age': 35, 'height_in': 95, 'weight_lbs': 199},\n",
    "    {'age': 58, 'height_in': 75, 'weight_lbs': 143}\n",
    "]\n",
    "df = pd.DataFrame(records, index=['Giovanni', 'Joel', 'Frances'])\n",
    "df"
   ]
  },
  {
   "cell_type": "markdown",
   "metadata": {},
   "source": [
    "In all these methods the information about the row labels was provided separately using the `index=` keyword argument. So they are methods to label some unlabeled data on the fly.\n",
    "\n",
    "The last method is a variant of the original dictionary of lists method, and it is inspired to the methods from creating series from labeled data.\n",
    "\n",
    "Liked the original methods, it sees a dataframe as a collection of variables, all grouped together in a dictionary mapping columns (identified by name)( to their data.\n",
    "\n",
    "So we still pass a dictionary mapping each column to its data points / series. But instead of supplying the data points in an unlabeled sequence, we supply them as a labeled mappings from labels (the keys) to data points (the values)."
   ]
  },
  {
   "cell_type": "code",
   "execution_count": null,
   "metadata": {
    "tags": []
   },
   "outputs": [],
   "source": [
    "# Dict of dictionaries (aka dict of labeled data)\n",
    "named_records = {\n",
    "    'age': {'Giovanni': 22, 'Joel': 35, 'Frances': 58},\n",
    "    'height_in': {'Giovanni': 87, 'Joel': 95, 'Frances': 75},\n",
    "    'weight_lbs': {'Giovanni': 160, 'Joel': 199, 'Frances': 143} \n",
    "}\n",
    "df = pd.DataFrame(named_records)\n",
    "df"
   ]
  },
  {
   "cell_type": "markdown",
   "metadata": {},
   "source": [
    "As before, what pandas is doing is to create a series for each inner dictionary and then combine these series together. In fact we can even do this last step explicitly, by passing a dict of series objects, each series created from a dict."
   ]
  },
  {
   "cell_type": "code",
   "execution_count": null,
   "metadata": {
    "tags": []
   },
   "outputs": [],
   "source": [
    "# Dict of dictionaries (aka dict of labeled *series*)\n",
    "named_records_series = {\n",
    "    'age': pd.Series({'Giovanni': 22, 'Joel': 35, 'Frances': 58}),\n",
    "    'height_in': pd.Series({'Giovanni': 87, 'Joel': 95, 'Frances': 75}),\n",
    "    'weight_lbs': pd.Series({'Giovanni': 160, 'Joel': 199, 'Frances': 143})\n",
    "}\n",
    "                            \n",
    "df = pd.DataFrame(named_records_series)\n",
    "df"
   ]
  },
  {
   "cell_type": "markdown",
   "metadata": {
    "id": "UeMRqwteihDX",
    "slideshow": {
     "slide_type": "-"
    }
   },
   "source": [
    "What's important to remember is that when passing a dictionary (of lists, of other dictionaries, and of series objects), pandas always treats the keys (and their corresponding values) as _the columns_ of your data.\n",
    "\n",
    "### From (external) data files\n",
    "\n",
    "Of course most of the times we want to create a dataframe from data sitting in an external file. Most frequently this is done with `.read_csv()`, but there are many other common formats, such as JSON or XML. See [here](https://pandas.pydata.org/docs/getting_started/intro_tutorials/02_read_write.html) for more information from the Pandas tutorial.\n",
    "\n",
    "The acronym **CSV** in `read_csv()` stands for **c**omma-**s**eparated **v**alues. It is a very common format since the files contain just *plain text*. This means any program that can read a string can read CSV files. Even a text editor. Excel files (those that ends in `.xls` or `.xlsx`) are instead binary files and typically cannot be opened with a text editor."
   ]
  },
  {
   "cell_type": "code",
   "execution_count": null,
   "metadata": {
    "id": "2byRBztyiUq7",
    "slideshow": {
     "slide_type": "slide"
    }
   },
   "outputs": [],
   "source": [
    "# (without pandas) csv files are plain text files. Let's grab all the lines.\n",
    "fname = 'data/INST_courses.csv'  # NOTE: on Windows use data\\INST_courses.csv instead.\n",
    "flines = open(fname, 'r').readlines()"
   ]
  },
  {
   "cell_type": "code",
   "execution_count": null,
   "metadata": {
    "colab": {
     "base_uri": "https://localhost:8080/"
    },
    "id": "ix1EdRJgjRxe",
    "outputId": "baa3b0a9-20ca-4395-af2c-7da192404ea5",
    "slideshow": {
     "slide_type": "-"
    }
   },
   "outputs": [],
   "source": [
    "for line in flines:\n",
    "    elements = line.strip().split(\",\")\n",
    "    print(elements)"
   ]
  },
  {
   "cell_type": "code",
   "execution_count": null,
   "metadata": {
    "colab": {
     "base_uri": "https://localhost:8080/",
     "height": 1000
    },
    "id": "O5k8pAnZwgCn",
    "outputId": "76e02a55-5e0f-474d-a4ee-93c1a4058d8d",
    "scrolled": true,
    "slideshow": {
     "slide_type": "slide"
    }
   },
   "outputs": [],
   "source": [
    "# with pandas\n",
    "fname = 'data/INST_courses.csv'  # NOTE: on Windows use data\\INST_courses.csv instead.\n",
    "df = pd.read_csv(fname) # needs a path to a csv file\n",
    "df"
   ]
  },
  {
   "cell_type": "markdown",
   "metadata": {
    "id": "6BB5xZrjqfCQ",
    "slideshow": {
     "slide_type": "slide"
    }
   },
   "source": [
    "## Inspecting your dataframe\n",
    "\n",
    "Common operations:\n",
    "- summarizing\n",
    "- filtering / accessing\n",
    "- sorting\n",
    "\n",
    "### Summarizing\n",
    "\n",
    "With:\n",
    "- `.head()` / `.tail()`\n",
    "- `.describe()`\n",
    "- various stats"
   ]
  },
  {
   "cell_type": "code",
   "execution_count": null,
   "metadata": {
    "colab": {
     "base_uri": "https://localhost:8080/",
     "height": 580
    },
    "id": "iQRQD1eWrb7-",
    "outputId": "5e1caf3f-896e-4fc0-81ac-fe476fb1c26e",
    "slideshow": {
     "slide_type": "slide"
    }
   },
   "outputs": [],
   "source": [
    "# print the first rows (5 by default) of the data frame\n",
    "df.head()"
   ]
  },
  {
   "cell_type": "code",
   "execution_count": null,
   "metadata": {
    "slideshow": {
     "slide_type": "slide"
    }
   },
   "outputs": [],
   "source": [
    "# print the last rows (5 by default) of the data frame\n",
    "df.tail()"
   ]
  },
  {
   "cell_type": "markdown",
   "metadata": {
    "slideshow": {
     "slide_type": "slide"
    }
   },
   "source": [
    "Let's use the second dataset, which gives the height and weight of 25,000 individuals. (Source: UCLA Stats Dept)\n",
    "\n",
    "Here is an example of what the data look like in the file:\n",
    "\n",
    "\t ﻿Index,Height(Inches),Weight(Pounds)\n",
    "\t 1,65.78331,112.9925\n",
    "\t 2,71.51521,136.4873\n",
    "\t 3,69.39874,153.0269\n",
    "\t 4,68.2166,142.3354\n",
    "\t 5,67.78781,144.2971\n",
    "\t 6,68.69784,123.3024\n",
    "\t 7,69.80204,141.4947\n",
    "\t 8,70.01472,136.4623\n",
    "\t 9,67.90265,112.3723\n"
   ]
  },
  {
   "cell_type": "markdown",
   "metadata": {
    "slideshow": {
     "slide_type": "slide"
    }
   },
   "source": [
    "Because the file already includes the index of each individual, we can tell pandas to use that column as the \"index\" of the data with the `index_col=` parameter."
   ]
  },
  {
   "cell_type": "code",
   "execution_count": null,
   "metadata": {
    "colab": {
     "base_uri": "https://localhost:8080/",
     "height": 295
    },
    "id": "nBiw8IOC652w",
    "outputId": "0aa7b092-5456-4cc9-b158-caa06e500a2b",
    "slideshow": {
     "slide_type": "slide"
    }
   },
   "outputs": [],
   "source": [
    "fname = 'data/SOCR-HeightWeight.csv'  # NOTE: on Windows use data\\SOCR-HeightWeight.csv\n",
    "socr = pd.read_csv(fname, index_col=0)\n",
    "socr.head()"
   ]
  },
  {
   "cell_type": "markdown",
   "metadata": {
    "slideshow": {
     "slide_type": "slide"
    }
   },
   "source": [
    "The `.describe()` method instead summarizes data from a statistical point of view."
   ]
  },
  {
   "cell_type": "code",
   "execution_count": null,
   "metadata": {
    "slideshow": {
     "slide_type": "-"
    }
   },
   "outputs": [],
   "source": [
    "socr.describe()"
   ]
  },
  {
   "cell_type": "markdown",
   "metadata": {
    "id": "dOUrhbmvqo_4",
    "slideshow": {
     "slide_type": "slide"
    }
   },
   "source": [
    "### Subsetting / getting / accessing parts of our dataframe\n",
    "\n",
    "Most basic is just getting a specific column. Looks like the basic way we index things in lists or dictionaries."
   ]
  },
  {
   "cell_type": "code",
   "execution_count": null,
   "metadata": {
    "colab": {
     "base_uri": "https://localhost:8080/"
    },
    "id": "m2e1HZHHeJIz",
    "outputId": "ac89ac48-36a2-4e4f-a840-d29648d06239",
    "slideshow": {
     "slide_type": "-"
    }
   },
   "outputs": [],
   "source": [
    "socr['Height(Inches)']"
   ]
  },
  {
   "cell_type": "markdown",
   "metadata": {
    "id": "kzOMmpJH-RvE",
    "slideshow": {
     "slide_type": "slide"
    }
   },
   "source": [
    "Let's say you want a particular statistic for only one column. You can do this by accessing the series, and asking for a specific statistic."
   ]
  },
  {
   "cell_type": "code",
   "execution_count": null,
   "metadata": {
    "colab": {
     "base_uri": "https://localhost:8080/"
    },
    "id": "8xdgSyiG-SzX",
    "outputId": "8217029e-18cd-4cf7-e95e-041ccc634f16",
    "slideshow": {
     "slide_type": "-"
    }
   },
   "outputs": [],
   "source": [
    "socr['Height(Inches)'].median()"
   ]
  },
  {
   "cell_type": "markdown",
   "metadata": {
    "slideshow": {
     "slide_type": "slide"
    }
   },
   "source": [
    "We can rename columns with the `.rename()` method. It takes a dictionary specifying which columns need to be renamed (keys) to what new name (values).\n",
    "\n",
    "The dictionary must be passed to the `columns=` parameter.\n",
    "\n",
    "Let's say I want to rename `\"Height(Inches)\"` to `\"height\"` (lowercase) and `\"Weight(Pounds)\"` to `\"weight\"`:"
   ]
  },
  {
   "cell_type": "code",
   "execution_count": null,
   "metadata": {
    "slideshow": {
     "slide_type": "-"
    }
   },
   "outputs": [],
   "source": [
    "new_names = {\n",
    "    'Height(Inches)': \"height\",\n",
    "    'Weight(Pounds)': \"weight\"\n",
    "}\n",
    "socr = socr.rename(columns=new_names)\n",
    "socr"
   ]
  },
  {
   "cell_type": "markdown",
   "metadata": {
    "id": "oK9hP1H4qwTL",
    "slideshow": {
     "slide_type": "-"
    }
   },
   "source": [
    "### Filtering the data based on one or more columns\n",
    "\n",
    "But we sometimes also want to get **subsets** of the data, depending on one or more column values. For this, we will use another dataset about college sports. You can find an explanation of some of the columns [on this glossary](https://www.sports-reference.com/cbb/about/glossary.html).\n",
    "\n",
    "First let's look at the head of the data frame (first 5 rows):"
   ]
  },
  {
   "cell_type": "code",
   "execution_count": null,
   "metadata": {
    "colab": {
     "base_uri": "https://localhost:8080/",
     "height": 1000
    },
    "id": "gwwkb5gJraIw",
    "outputId": "bc8f4b1d-57b4-4ebb-8090-99454948dddd"
   },
   "outputs": [],
   "source": [
    "fname = \"data/ncaa-team-data.csv\"  # NOTE: on Windows use data\\ncaa-team-data.csv\n",
    "\n",
    "ncaa = pd.read_csv(fname)\n",
    "ncaa.head()"
   ]
  },
  {
   "cell_type": "markdown",
   "metadata": {},
   "source": [
    "To find subsets of the rows, we use a special syntax of pandas Dataframes called _boolean indexing_. Here are a few examples of queries we may want to ask:"
   ]
  },
  {
   "cell_type": "code",
   "execution_count": null,
   "metadata": {
    "colab": {
     "base_uri": "https://localhost:8080/",
     "height": 751
    },
    "id": "VM8V96T8lwyM",
    "outputId": "16c848a2-c0b7-4fbe-e6fb-368260e6d826",
    "scrolled": true,
    "slideshow": {
     "slide_type": "slide"
    }
   },
   "outputs": [],
   "source": [
    "# find all of the seasons where maryland had a won more than it lost (column `wl` > 0.5)\n",
    "ncaa[(ncaa['wl'] > .5) & (ncaa['school'] == \"maryland\")]"
   ]
  },
  {
   "cell_type": "code",
   "execution_count": null,
   "metadata": {
    "scrolled": true,
    "slideshow": {
     "slide_type": "slide"
    }
   },
   "outputs": [],
   "source": [
    "# find all of the seasons where a Big Ten school won more than it lost (column `conf`)\n",
    "ncaa[(ncaa['wl'] > .5) & (ncaa['conf'] == \"Big Ten\")]"
   ]
  },
  {
   "cell_type": "code",
   "execution_count": null,
   "metadata": {
    "slideshow": {
     "slide_type": "slide"
    }
   },
   "outputs": [],
   "source": [
    "# find all of the seasons where a Duke lost more than it won\n",
    "ncaa[(ncaa['wl'] < .5) & (ncaa['school'] == \"duke\")]"
   ]
  },
  {
   "cell_type": "code",
   "execution_count": null,
   "metadata": {
    "slideshow": {
     "slide_type": "slide"
    }
   },
   "outputs": [],
   "source": [
    "# All losing seasons for coach K\n",
    "target = \"Mike Krzyzewski\"\n",
    "ncaa[(ncaa['wl'] < .5) & (ncaa['coaches'].str.startswith(target))]"
   ]
  },
  {
   "cell_type": "markdown",
   "metadata": {
    "colab": {
     "base_uri": "https://localhost:8080/",
     "height": 1000
    },
    "id": "fN5dAkCisaSa",
    "outputId": "9b5e6f5c-1e18-4523-a3ab-80d81e10a6c2",
    "slideshow": {
     "slide_type": "slide"
    }
   },
   "source": [
    "### Reshaping\n",
    "\n",
    "Most basic is form of reshaping is _sorting/reordering_ the rows in a dataframe. More advanced stuff like _transposing_ and so on we will discuss next week. Let's sort the INST courses data frame by class code:"
   ]
  },
  {
   "cell_type": "code",
   "execution_count": null,
   "metadata": {
    "slideshow": {
     "slide_type": "-"
    }
   },
   "outputs": [],
   "source": [
    "fname = \"data/INST_courses.csv\"  # Note: on Windows use data\\INST_courses.csv instead!\n",
    "df = pd.read_csv(fname)\n",
    "df.columns"
   ]
  },
  {
   "cell_type": "code",
   "execution_count": null,
   "metadata": {
    "scrolled": true,
    "slideshow": {
     "slide_type": "-"
    }
   },
   "outputs": [],
   "source": [
    "df.sort_values(by=\"Code\")"
   ]
  },
  {
   "cell_type": "code",
   "execution_count": null,
   "metadata": {
    "scrolled": true,
    "slideshow": {
     "slide_type": "-"
    }
   },
   "outputs": [],
   "source": [
    "# reverse the sort order\n",
    "df.sort_values(by=\"Code\", ascending=False)"
   ]
  },
  {
   "cell_type": "markdown",
   "metadata": {
    "slideshow": {
     "slide_type": "slide"
    }
   },
   "source": [
    "By default, `.sort_values()` will return a new sorted data frame. So the last step did not change what's stored in variable `df`"
   ]
  },
  {
   "cell_type": "code",
   "execution_count": null,
   "metadata": {
    "slideshow": {
     "slide_type": "-"
    }
   },
   "outputs": [],
   "source": [
    "df"
   ]
  },
  {
   "cell_type": "markdown",
   "metadata": {
    "slideshow": {
     "slide_type": "slide"
    }
   },
   "source": [
    "So to store the result you will need to save it to a new variables"
   ]
  },
  {
   "cell_type": "code",
   "execution_count": null,
   "metadata": {
    "slideshow": {
     "slide_type": "-"
    }
   },
   "outputs": [],
   "source": [
    "df_reversed = df.sort_values(by=\"Code\", ascending=False)"
   ]
  },
  {
   "cell_type": "code",
   "execution_count": null,
   "metadata": {
    "slideshow": {
     "slide_type": "-"
    }
   },
   "outputs": [],
   "source": [
    "df.head()"
   ]
  },
  {
   "cell_type": "code",
   "execution_count": null,
   "metadata": {
    "slideshow": {
     "slide_type": "-"
    }
   },
   "outputs": [],
   "source": [
    "df_reversed.head()"
   ]
  },
  {
   "cell_type": "markdown",
   "metadata": {
    "slideshow": {
     "slide_type": "slide"
    }
   },
   "source": [
    "But `.sort_values()` can also be told to modify the data frame *in place*"
   ]
  },
  {
   "cell_type": "code",
   "execution_count": null,
   "metadata": {
    "id": "_N-CkYS1_Plr",
    "slideshow": {
     "slide_type": "-"
    }
   },
   "outputs": [],
   "source": [
    "df.sort_values(by=\"Code\", ascending=False, inplace=True)"
   ]
  },
  {
   "cell_type": "code",
   "execution_count": null,
   "metadata": {
    "slideshow": {
     "slide_type": "-"
    }
   },
   "outputs": [],
   "source": [
    "df.head()"
   ]
  },
  {
   "cell_type": "markdown",
   "metadata": {
    "slideshow": {
     "slide_type": "slide"
    }
   },
   "source": [
    "Can also sort by multiple columns. Let's go back to the NCAA data"
   ]
  },
  {
   "cell_type": "code",
   "execution_count": null,
   "metadata": {
    "colab": {
     "base_uri": "https://localhost:8080/",
     "height": 1000
    },
    "id": "LphfaK2__48-",
    "outputId": "fe59c1c7-f46b-4ae5-c3f7-c9b43ab2aea8",
    "slideshow": {
     "slide_type": "slide"
    }
   },
   "outputs": [],
   "source": [
    "ncaa.sort_values(by=\"wl\")"
   ]
  },
  {
   "cell_type": "code",
   "execution_count": null,
   "metadata": {
    "slideshow": {
     "slide_type": "-"
    }
   },
   "outputs": [],
   "source": [
    "# To sort by year and wl, pass a list with the column names\n",
    "ncaa.sort_values(by=['wl', 'year'])"
   ]
  },
  {
   "cell_type": "markdown",
   "metadata": {},
   "source": [
    "## Computing new columns from existing ones\n",
    "\n",
    "To create new columns, we need to remember that dataframes are collections of columns that can be accessed like dictionaries. So the syntax for creating a new column is very similar to what you would do with a dictionary.\n",
    "\n",
    "As an example, let's go back to the SOCR dataset use again the formula for the Body Mass Index:\n",
    "\n",
    "$$BMI = \\frac{w}{h^2} \\times 703$$ "
   ]
  },
  {
   "cell_type": "code",
   "execution_count": null,
   "metadata": {
    "slideshow": {
     "slide_type": "-"
    }
   },
   "outputs": [],
   "source": [
    "# Associate a new column in the data frame to the name 'bmi'\n",
    "socr['bmi'] = socr['weight'] / socr['height'] ** 2 * 703"
   ]
  },
  {
   "cell_type": "code",
   "execution_count": null,
   "metadata": {
    "tags": []
   },
   "outputs": [],
   "source": [
    "socr.head()"
   ]
  },
  {
   "cell_type": "markdown",
   "metadata": {},
   "source": [
    "Note also that operations among columns result in a Pandas series."
   ]
  },
  {
   "cell_type": "code",
   "execution_count": null,
   "metadata": {
    "tags": []
   },
   "outputs": [],
   "source": [
    "socr['weight'] / socr['height'] ** 2 * 703"
   ]
  },
  {
   "cell_type": "markdown",
   "metadata": {
    "id": "s7_bUZKOAB0V",
    "slideshow": {
     "slide_type": "slide"
    }
   },
   "source": [
    "## Aside: dataframes are (mostly) immutable\n",
    "\n",
    "Python wants you to treat dataframes as immutable: by default, any modifications you make to a dataframe will create a modified copy (just like a string), rather than modifying the dataframe itself. \n",
    "\n",
    "You *can* get around this if you want, by passing in a `inplace=True` argument to most function calls."
   ]
  },
  {
   "cell_type": "markdown",
   "metadata": {},
   "source": [
    "# Coding Challenge\n",
    "\n",
    "Using the `ncaa` data frame, find the rank (column `rk`) of Maryland in the last 10 years available in the dataset. Your dataframe should look like something like this: \n",
    "\n",
    "<table border=\"1\" class=\"dataframe\">\n",
    "  <thead>\n",
    "    <tr style=\"text-align: right;\">\n",
    "      <th></th>\n",
    "      <th>year</th>\n",
    "      <th>rk</th>\n",
    "    </tr>\n",
    "  </thead>\n",
    "  <tbody>\n",
    "    <tr>\n",
    "      <th>10814</th>\n",
    "      <td>2007.0</td>\n",
    "      <td>10</td>\n",
    "    </tr>\n",
    "    <tr>\n",
    "      <th>10813</th>\n",
    "      <td>2008.0</td>\n",
    "      <td>9</td>\n",
    "    </tr>\n",
    "    <tr>\n",
    "      <th>10812</th>\n",
    "      <td>2009.0</td>\n",
    "      <td>8</td>\n",
    "    </tr>\n",
    "    <tr>\n",
    "      <th>10811</th>\n",
    "      <td>2010.0</td>\n",
    "      <td>7</td>\n",
    "    </tr>\n",
    "    <tr>\n",
    "      <th>10810</th>\n",
    "      <td>2011.0</td>\n",
    "      <td>6</td>\n",
    "    </tr>\n",
    "    <tr>\n",
    "      <th>10809</th>\n",
    "      <td>2012.0</td>\n",
    "      <td>5</td>\n",
    "    </tr>\n",
    "    <tr>\n",
    "      <th>10808</th>\n",
    "      <td>2013.0</td>\n",
    "      <td>4</td>\n",
    "    </tr>\n",
    "    <tr>\n",
    "      <th>10807</th>\n",
    "      <td>2014.0</td>\n",
    "      <td>3</td>\n",
    "    </tr>\n",
    "    <tr>\n",
    "      <th>10806</th>\n",
    "      <td>2015.0</td>\n",
    "      <td>2</td>\n",
    "    </tr>\n",
    "    <tr>\n",
    "      <th>10805</th>\n",
    "      <td>2016.0</td>\n",
    "      <td>1</td>\n",
    "    </tr>\n",
    "  </tbody>\n",
    "</table>"
   ]
  },
  {
   "cell_type": "code",
   "execution_count": null,
   "metadata": {
    "tags": []
   },
   "outputs": [],
   "source": [
    "# Enter your solution here!\n",
    "..."
   ]
  },
  {
   "cell_type": "markdown",
   "metadata": {
    "id": "MKRiDOklsetz",
    "slideshow": {
     "slide_type": "skip"
    }
   },
   "source": [
    "# What to do next: learn how to read documentation for libraries\n",
    "\n",
    "Pandas is a huge topic and this notebook barely scratched the surface. As you begin your journey learning it, you should have handy access to (and know how to use):\n",
    "- Docs for \"ground truth\"; the pandas website is decent place to start: https://pandas.pydata.org/, and you can always access the inline help directly from Jupyter (see cells below);\n",
    "- Some collection of examples for references; this \"cheat sheet\" is also a really helpful guide to more common operations that you may run into later: https://pandas.pydata.org/Pandas_Cheat_Sheet.pdf;\n",
    "- A set of principles for how to use pandas in your code; This &ldquo;style guide&rdquo; gives some recommendations for writing good code using pandas: https://tomaugspurger.github.io/posts/modern-1-intro/.\n",
    "\n",
    "Last but not least, a note about collaborative learning. The cool thing about pandas and data analysis in python is that many people share notebooks that you can inspect / learn from / adapt code for your own projects (just like this one!). In Data Science (and many other fields) nobody writes anything all from scratch, unless they are trying to *really* learn something deeply. So learning how to use libraries is also good training for learning to code in teams, where using code from others is typically strongly expected."
   ]
  },
  {
   "cell_type": "code",
   "execution_count": null,
   "metadata": {
    "slideshow": {
     "slide_type": "-"
    }
   },
   "outputs": [],
   "source": [
    "# Open help page for the pandas library\n",
    "import pandas\n",
    "pandas?"
   ]
  },
  {
   "cell_type": "code",
   "execution_count": null,
   "metadata": {
    "slideshow": {
     "slide_type": "-"
    }
   },
   "outputs": [],
   "source": [
    "# Open help page for the read_csv function in the pandas library\n",
    "pandas.read_csv?"
   ]
  },
  {
   "cell_type": "markdown",
   "metadata": {},
   "source": [
    "<br/>\n",
    "<br/>\n",
    "<br/>\n",
    "<br/>\n",
    "<br/>\n",
    "<br/>\n",
    "<br/>\n",
    "<br/>\n",
    "<br/>\n",
    "\n",
    "<br/>\n",
    "<br/>\n",
    "<br/>\n",
    "<br/>\n",
    "<br/>\n",
    "<br/>\n",
    "<br/>\n",
    "<br/>\n",
    "<br/>\n",
    "\n",
    "<br/>\n",
    "<br/>\n",
    "<br/>\n",
    "<br/>\n",
    "<br/>\n",
    "<br/>\n",
    "<br/>\n",
    "<br/>\n",
    "<br/>\n",
    "\n",
    "<br/>\n",
    "<br/>\n",
    "<br/>\n",
    "<br/>\n",
    "<br/>\n",
    "<br/>\n",
    "<br/>\n",
    "<br/>\n",
    "<br/>\n",
    "\n",
    "<br/>\n",
    "<br/>\n",
    "<br/>\n",
    "<br/>\n",
    "<br/>\n",
    "<br/>\n",
    "<br/>\n",
    "<br/>\n",
    "<br/>\n",
    "\n",
    "<br/>\n",
    "<br/>\n",
    "<br/>\n",
    "<br/>\n",
    "<br/>\n",
    "<br/>\n",
    "<br/>\n",
    "<br/>\n",
    "<br/>\n",
    "\n",
    "<br/>\n",
    "<br/>\n",
    "<br/>\n",
    "<br/>\n",
    "<br/>\n",
    "<br/>\n",
    "<br/>\n",
    "<br/>\n",
    "<br/>\n",
    "\n",
    "---\n"
   ]
  },
  {
   "cell_type": "markdown",
   "metadata": {},
   "source": [
    "# Solution"
   ]
  },
  {
   "cell_type": "code",
   "execution_count": null,
   "metadata": {
    "tags": []
   },
   "outputs": [],
   "source": [
    "ncaa[ncaa['school'] == 'maryland'][['year', 'rk']].sort_values(by='year').tail(10)"
   ]
  }
 ],
 "metadata": {
  "celltoolbar": "Slideshow",
  "colab": {
   "collapsed_sections": [],
   "name": "INST126_SP21_Week14_Pandas-1.ipynb",
   "provenance": [],
   "toc_visible": true
  },
  "kernelspec": {
   "display_name": "Python 3 (ipykernel)",
   "language": "python",
   "name": "python3"
  },
  "language_info": {
   "codemirror_mode": {
    "name": "ipython",
    "version": 3
   },
   "file_extension": ".py",
   "mimetype": "text/x-python",
   "name": "python",
   "nbconvert_exporter": "python",
   "pygments_lexer": "ipython3",
   "version": "3.11.7"
  }
 },
 "nbformat": 4,
 "nbformat_minor": 4
}
