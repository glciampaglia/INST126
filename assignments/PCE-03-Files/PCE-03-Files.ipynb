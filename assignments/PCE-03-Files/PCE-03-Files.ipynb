{
 "cells": [
  {
   "cell_type": "code",
   "execution_count": null,
   "id": "62b1452b",
   "metadata": {
    "deletable": false,
    "editable": false
   },
   "outputs": [],
   "source": [
    "# Initialize Otter\n",
    "import otter\n",
    "grader = otter.Notebook(\"PCE-03-Files.ipynb\")"
   ]
  },
  {
   "cell_type": "markdown",
   "id": "6ec678c4-ae09-48bf-a629-0ff369ae87ae",
   "metadata": {},
   "source": [
    "# PCE 03 &ndash; Files"
   ]
  },
  {
   "cell_type": "markdown",
   "id": "fb8448d6-397b-4cca-bb8e-312ec29b636a",
   "metadata": {},
   "source": [
    "## Q1: Read a file into a string\n",
    "\n",
    "Write a function called `read_file()` that takes the name of a file as parameter, opens the file and reads its contents, and returns them in a string. \n",
    "\n",
    "Parameters:\n",
    "\n",
    "- `filename` &ndash; name of file to read as a string\n",
    "\n",
    "Returns:\n",
    "- `contents` &ndash; contents of the file\n",
    "\n",
    "For example, if the file is `myfile.txt`, then your function should return `'In INST126, we learn problem formulation and Python.'`."
   ]
  },
  {
   "cell_type": "code",
   "execution_count": null,
   "id": "4de23865-797d-4c48-afd7-9ea741b1b39d",
   "metadata": {
    "tags": []
   },
   "outputs": [],
   "source": [
    "def read_file(filename):\n",
    "    ...\n",
    "    \n",
    "# Test your code here. \n",
    "fn = \"myfile.txt\"\n",
    "read_file(fn)"
   ]
  },
  {
   "cell_type": "markdown",
   "id": "fec9b9d8-54ab-434e-a153-ec80146fce0b",
   "metadata": {
    "deletable": false,
    "editable": false
   },
   "source": [
    "When you're ready run the cell below to get feedback on your answer."
   ]
  },
  {
   "cell_type": "code",
   "execution_count": null,
   "id": "4bb6c766",
   "metadata": {
    "deletable": false,
    "editable": false
   },
   "outputs": [],
   "source": [
    "grader.check(\"q1\")"
   ]
  },
  {
   "cell_type": "markdown",
   "id": "9c2c027b-7143-40e9-8a5a-a4092fc5cdbc",
   "metadata": {},
   "source": [
    "<br/>\n",
    "<br/>\n",
    "<br/>\n",
    "<br/>\n",
    "<br/>\n",
    "<br/>\n",
    "\n",
    "---"
   ]
  },
  {
   "cell_type": "markdown",
   "id": "807ecbdd-a963-4cdb-8d32-b5806af4a9c0",
   "metadata": {},
   "source": [
    "## Q2: Read a file into a list with or without newline characters\n",
    "\n",
    "Write a function called `read_list()` that takes the name of a file as parameter and a boolean called `keepnewline`, opens the file and reads its contents, and returns them in a list (one line per element): if `keepnewline` is True, each line ends with the trailing newline character (`\\n`); if False, each line should be stripped of the newline character `\\n`.\n",
    "\n",
    "Parameters:\n",
    "\n",
    "- `filename` &ndash; name of file to read\n",
    "- `keepnewline` &ndash; boolean value \n",
    "\n",
    "Returns:\n",
    "- `lines_list` &ndash; a list with the lines of the files (one line per element), stripped or not from any trailing `\\n`. \n",
    "\n",
    "For example, if the file `\"listfile.txt\"` contains \n",
    "```\n",
    "one\n",
    "two\n",
    "three\n",
    "four\n",
    "five\n",
    "```\n",
    "then `read_list(\"listfile.txt\", True)` should return the list `['one\\n', 'two\\n', 'three\\n', 'four\\n', 'five\\n']`, while `read_list(\"listfile.txt\", False)` should return the list `['one', 'two', 'three', 'four', 'five']`. \n",
    "\n",
    "⬇️⬇️⬇️ Enter your solution in the cell below ⬇️⬇️⬇️"
   ]
  },
  {
   "cell_type": "code",
   "execution_count": null,
   "id": "2547ff01-f87a-4f38-9690-43050d7ca148",
   "metadata": {
    "tags": []
   },
   "outputs": [],
   "source": [
    "def read_list(filename, keepnewline):\n",
    "    ...\n",
    "\n",
    "# Test your code here. \n",
    "fn = \"listfile2.txt\"\n",
    "keep = False\n",
    "lines = read_list(fn, keep)\n",
    "lines"
   ]
  },
  {
   "cell_type": "markdown",
   "id": "e7e75641-5018-4e66-9013-334027c97aa6",
   "metadata": {
    "deletable": false,
    "editable": false
   },
   "source": [
    "When you're ready run the cell below to get feedback on your answer."
   ]
  },
  {
   "cell_type": "code",
   "execution_count": null,
   "id": "d255369e",
   "metadata": {
    "deletable": false,
    "editable": false
   },
   "outputs": [],
   "source": [
    "grader.check(\"q2\")"
   ]
  },
  {
   "cell_type": "markdown",
   "id": "9a56aeb6-e59f-4751-b944-0984e964a299",
   "metadata": {},
   "source": [
    "<br/>\n",
    "<br/>\n",
    "<br/>\n",
    "<br/>\n",
    "<br/>\n",
    "<br/>\n",
    "\n",
    "---"
   ]
  },
  {
   "cell_type": "markdown",
   "id": "e06f2ab0-5781-4c60-b38c-2098297b21f8",
   "metadata": {},
   "source": [
    "## Q3: Read selected lines from a file\n",
    "\n",
    "Write a function called `filter_read()` that reads a file, line by line, and only adds lines to a new list if they contain a certain user-defined keyword. For simplicity, you can assume that all contents are lowercase, so you don't have to worry about matching case for strings.\n",
    "\n",
    "Parameters:\n",
    "\n",
    "- `filename` (`str`) - name of file to be read\n",
    "- `keyword` (`str`) - keyword to use to select lines in the file\n",
    "\n",
    "Returns:\n",
    "- `filtered` (`list`) - list of lines that contain the keyword\n",
    "\n",
    "For example, given a file with contents like this:\n",
    "\n",
    "`hello my name is joel`  \n",
    "`i like programming`  \n",
    "`i study it at umd`  \n",
    "`what is your name?`  \n",
    "\n",
    "and a user-defined keyword `name`, your program should return a list with these lines:\n",
    "\n",
    "`[\"hello my name is joel\",\"what is your name?\"]` \n",
    "\n",
    "Hint: Do not be surprised if your output comes back with this character in them: `\\n`: this is the string encoding for a \"new line\" (equivalent of hitting the \"enter\" key on your keyboard.\n",
    "\n",
    "⬇️⬇️⬇️ Enter your solution in the cell below ⬇️⬇️⬇️"
   ]
  },
  {
   "cell_type": "code",
   "execution_count": null,
   "id": "48c1fac4-0f70-4536-bbc5-ba297d28f484",
   "metadata": {
    "tags": []
   },
   "outputs": [],
   "source": [
    "def filter_read(filename, keyword):\n",
    "    ...\n",
    "\n",
    "# Test your code here.\n",
    "filename = \"filtertest1.txt\"\n",
    "key = \"name\"\n",
    "filter_read(filename, key)"
   ]
  },
  {
   "cell_type": "markdown",
   "id": "af97bdda-43a4-44c1-82e5-b9b5617982f4",
   "metadata": {
    "deletable": false,
    "editable": false
   },
   "source": [
    "When you're ready run the cell below to get feedback on your answer."
   ]
  },
  {
   "cell_type": "code",
   "execution_count": null,
   "id": "b306a3a4",
   "metadata": {
    "deletable": false,
    "editable": false
   },
   "outputs": [],
   "source": [
    "grader.check(\"q3\")"
   ]
  },
  {
   "cell_type": "markdown",
   "id": "ac44d290-6e81-42b9-aa11-d0fb78aed0db",
   "metadata": {},
   "source": [
    "<br/>\n",
    "<br/>\n",
    "<br/>\n",
    "<br/>\n",
    "<br/>\n",
    "<br/>\n",
    "\n",
    "---"
   ]
  },
  {
   "cell_type": "markdown",
   "id": "f144b637-9b51-4f80-acc0-b3ff8b4186fd",
   "metadata": {},
   "source": [
    "## Manually graded: Documentation task [2 Points]\n",
    "\n",
    "Go back to the solution cell above, and add documentation to the `filter_read` function. Your documentation should consist of two parts:\n",
    "* A docstring [1 pt];\n",
    "* Line comments [1 pt]. \n",
    "\n",
    "The **docstring** should contain:\n",
    "\n",
    "1. A brief description of what the function does;\n",
    "2. A list of the parameters with a brief description of each parameter and its type;\n",
    "3. A brief description of the return value.\n",
    "\n",
    "For this task you are free to format the docstring however you like. If you are unsure on how to get started, refer to the &ldquo;Functions&rdquo; slides on ELMS for an example of a docstring that includes all the required pieces of information. \n",
    "\n",
    "The **line comments** should describe concisely what each line of code is doing. Each comment line should start with the `#` character. (For example: `# Initialize return list`.)\n",
    "\n",
    "__NOTE__: _There is no autograder for this task: we will grade it manually. Note that you can earn points for this task even if your solution for the previous task is not passing the autograder, however we will check that your docstring and comments do not generate syntax errors of their own._ ⚠️ _**NEW**_ ⚠️ _The docstring should be placed inside the function (after the `def` line). Solutions with misplaced docstring will receive a point deduction._\n",
    "\n",
    "⬇️⬇️⬇️ You can use the cell below to see what your docstring looks like. ⬇️⬇️⬇️"
   ]
  },
  {
   "cell_type": "code",
   "execution_count": null,
   "id": "70979cad-83cf-446f-aab0-28701c5cbdee",
   "metadata": {},
   "outputs": [],
   "source": [
    "help(filter_read)"
   ]
  },
  {
   "cell_type": "markdown",
   "id": "e232821e-f8bf-4461-9f7f-c9166a1097bd",
   "metadata": {},
   "source": [
    "</br>\n",
    "</br>\n",
    "</br>\n",
    "</br>\n",
    "</br>\n",
    "</br>\n",
    "\n",
    "---"
   ]
  },
  {
   "cell_type": "markdown",
   "id": "20bb989c-2b82-44af-8570-b8f76e4b5b83",
   "metadata": {},
   "source": [
    "## Q4: Write to a file\n",
    "\n",
    "Write a function called `create_file()` that writes to a new file with user-defined text, then reads that file and returns its contents as a string.\n",
    "\n",
    "Parameters:\n",
    "\n",
    "- `filename` &ndash; the name of the file to be written \n",
    "- `content` &ndash; string to be written\n",
    "\n",
    "Returns:\n",
    "\n",
    "- `numwritten` &ndash; the number of characters written to the file\n",
    "\n",
    "\n",
    "For example, if we want to create a file called `abc.txt` with the contents `\"Hello world\"`, we should see a new file in our folder called `abc.txt` and return the value `11` (since `len(\"Hello world\") == 11`).\n",
    "\n",
    "⚠️⚠️⚠️ Do not forget to close the file! ⚠️⚠️⚠️\n",
    "\n",
    "---\n",
    "\n",
    "### Notes about the autograder\n",
    "\n",
    "1. When grading your submission we will test your code against additional tests. \n",
    "\n",
    "2. Note that to pass the tests your code must both return the current number of characters written _and_ create a new file. To make sure a new file is actually created, before testing your code the autograder will delete any existing file with the same name as `filename`. <b>The autograder will also clean up after itself so any file created by running your code will be deleted after passing a test</b>. But if a test fails the autograder will stop and you can inspect the file your code created (if any was created at all).\n",
    "\n",
    "---\n",
    "\n",
    "⬇️⬇️⬇️ Enter your solution in the cell below ⬇️⬇️⬇️"
   ]
  },
  {
   "cell_type": "code",
   "execution_count": null,
   "id": "ed0ef2e3-c7a9-4f30-b369-b92526d5099a",
   "metadata": {
    "tags": []
   },
   "outputs": [],
   "source": [
    "def create_file(filename, content):\n",
    "    ...\n",
    "\n",
    "# Test your code here.\n",
    "fname = \"helloworld.txt\"\n",
    "msg = \"Hello world\"\n",
    "create_file(fname, msg)\n",
    "\n",
    "# Note: you should also check that a file with that name has been created"
   ]
  },
  {
   "cell_type": "markdown",
   "id": "7a8af0ab-27d7-4ed9-966f-9e929c0d8dd0",
   "metadata": {
    "deletable": false,
    "editable": false
   },
   "source": [
    "When you're ready run the cell below to get feedback on your answer."
   ]
  },
  {
   "cell_type": "code",
   "execution_count": null,
   "id": "91466ac0",
   "metadata": {
    "deletable": false,
    "editable": false
   },
   "outputs": [],
   "source": [
    "grader.check(\"q4\")"
   ]
  },
  {
   "cell_type": "markdown",
   "id": "28cef7d4-47c7-4cfe-b1af-db9d4d794e44",
   "metadata": {},
   "source": [
    "<br/>\n",
    "<br/>\n",
    "<br/>\n",
    "<br/>\n",
    "<br/>\n",
    "<br/>\n",
    "\n",
    "---"
   ]
  },
  {
   "cell_type": "markdown",
   "id": "c0a7b7f9-05e0-42aa-8dfa-75de52bd8a63",
   "metadata": {},
   "source": [
    "### **_NOTE:_**  Do not forget to run this cell"
   ]
  },
  {
   "cell_type": "code",
   "execution_count": null,
   "id": "78308578-9dab-4de8-be3b-3ca79db709b6",
   "metadata": {},
   "outputs": [],
   "source": [
    "!jupyter nbconvert --to script PCE-03-Files.ipynb"
   ]
  },
  {
   "cell_type": "markdown",
   "id": "f69bb26b",
   "metadata": {
    "deletable": false,
    "editable": false
   },
   "source": [
    "## Submission\n",
    "\n",
    "Make sure you have run all cells in your notebook in order before running the cell below, so that all images/graphs appear in the output. The cell below will generate a zip file for you to submit."
   ]
  },
  {
   "cell_type": "code",
   "execution_count": null,
   "id": "0460e1ee",
   "metadata": {
    "deletable": false,
    "editable": false
   },
   "outputs": [],
   "source": [
    "grader.export(pdf=False, force_save=True, run_tests=True, files=['PCE-03-Files.py'])"
   ]
  },
  {
   "cell_type": "markdown",
   "id": "490cce44",
   "metadata": {},
   "source": [
    " "
   ]
  }
 ],
 "metadata": {
  "kernelspec": {
   "display_name": "Python 3 (ipykernel)",
   "language": "python",
   "name": "python3"
  },
  "language_info": {
   "codemirror_mode": {
    "name": "ipython",
    "version": 3
   },
   "file_extension": ".py",
   "mimetype": "text/x-python",
   "name": "python",
   "nbconvert_exporter": "python",
   "pygments_lexer": "ipython3",
   "version": "3.11.7"
  },
  "otter": {
   "OK_FORMAT": false,
   "tests": {
    "q1": "from otter.test_files import test_case\n\nOK_FORMAT = False\n\nname = \"q1\"\npoints = None\n\n@test_case(points=None, hidden=False)\ndef q1_test1(read_file):\n    import os\n    import os.path\n    cwd = os.getcwd()\n    file_path = os.path.join(cwd, \"myfile.txt\")  # TODO\n    assert type(read_file(file_path)) == str, \"The function should return a string\"\n\n@test_case(points=None, hidden=False)\ndef q1_test2(read_file):\n    import os\n    import os.path\n    cwd = os.getcwd()\n    file_path = os.path.join(cwd, \"myfile.txt\")\n    _expectedValue = \"In INST126, we learn problem formulation and Python.\"\n    _result = read_file(file_path)\n    _error = \"With filename myfile.txt, the function should return \" + _expectedValue + \" but found \" + str(_result)\n    assert read_file(file_path) == _expectedValue, _error\n\n@test_case(points=None, hidden=False)\ndef q1_test3(read_file):\n    import os\n    import os.path\n    cwd = os.getcwd()\n    file_path = os.path.join(cwd, \"myfile2.txt\")\n    _expectedValue = 'Hello World'\n    _result = read_file(file_path)\n    _error = \"With filename myfile2.txt, the function should return \" + _expectedValue + \" but found \" + str(_result)\n    assert read_file(file_path) == _expectedValue, _error\n\n@test_case(points=None, hidden=False)\ndef q1_test4(read_file):\n    import os\n    import os.path\n    cwd = os.getcwd()\n    file_path = os.path.join(cwd, \"myfile3.txt\")\n    _expectedValue = 'Test 3'\n    _result = read_file(file_path)\n    _error = \"With filename myfile3.txt, the function should return \" + _expectedValue + \" but found \" + str(_result)\n    assert read_file(file_path) == _expectedValue, _error\n\n",
    "q2": "from otter.test_files import test_case\n\nOK_FORMAT = False\n\nname = \"q2\"\npoints = None\n\n@test_case(points=None, hidden=False)\ndef q2_test1(read_list):\n    import os\n    import os.path\n    cwd = os.getcwd()\n    file_path = os.path.join(cwd, \"listfile.txt\")\n    _keep = False\n    _expected = ['a', 'b', 'c', 'd', 'e', 'f', 'g']\n    assert type(read_list(file_path,_keep)) == list, \"The function should return a list\"\n\n@test_case(points=None, hidden=False)\ndef q2_test2(read_list):\n    import os\n    import os.path\n    cwd = os.getcwd()\n    file_path = os.path.join(cwd, \"listfile.txt\")\n    _keep = False\n    _expected = ['a', 'b', 'c', 'd', 'e', 'f', 'g']\n    _error = \"With filename listfile.txt and keepnewline False, the function should return \" + str(_expected)\n    assert read_list(file_path,_keep) == _expected, _error\n\n@test_case(points=None, hidden=False)\ndef q2_test3(read_list):\n    import os\n    import os.path\n    cwd = os.getcwd()\n    file_path = os.path.join(cwd, \"listfile.txt\")\n    _keep = True\n    _expected = ['a\\n', 'b\\n', 'c\\n', 'd\\n', 'e\\n', 'f\\n', 'g\\n']\n    _error = \"With filename listfile.txt and keepnewline True, the function should return \" + str(_expected)\n    assert read_list(file_path,_keep) == _expected, _error\n\n@test_case(points=None, hidden=False)\ndef q2_test4(read_list):\n    import os\n    import os.path\n    cwd = os.getcwd()\n    file_path = os.path.join(cwd, \"listfile2.txt\")\n    _keep = False\n    _expected = [\"apple\", \"banana\", \"orange\", \"kiwi\", \"pineapple\"]\n    _error = \"With filename listfile2.txt and keepnewline False, the function should return \" + str(_expected)\n    assert read_list(file_path,_keep) == _expected, _error\n\n@test_case(points=None, hidden=False)\ndef q2_test5(read_list):\n    import os\n    import os.path\n    cwd = os.getcwd()\n    file_path = os.path.join(cwd, \"listfile2.txt\")\n    _keep = True\n    _expected = [\"apple\\n\", \"banana\\n\", \"orange\\n\", \"kiwi\\n\", \"pineapple\\n\"]\n    _error = \"With filename listfile2.txt and keepnewline True, the function should return \" + str(_expected)\n    assert read_list(file_path,_keep) == _expected, _error\n\n",
    "q3": "from otter.test_files import test_case\n\nOK_FORMAT = False\n\nname = \"q3\"\npoints = None\n\n@test_case(points=None, hidden=False)\ndef q3_test1(filter_read):\n    import os\n    import os.path\n    cwd = os.getcwd()\n    file_path = os.path.join(cwd, \"filtertest1.txt\")\n    _key = 'name'\n    _expected = ['hello my name is sarah', 'what is your name?']\n    assert type(filter_read(file_path,_key)) == list, \"The function should return a list\"\n\n@test_case(points=None, hidden=False)\ndef q3_test2(filter_read):\n    import os\n    import os.path\n    cwd = os.getcwd()\n    file_path = os.path.join(cwd, \"filtertest1.txt\")\n    _key = 'name'\n    _expected = ['hello my name is sarah', 'what is your name?']\n    _error = \"With the filename 'filtertest1.txt' and key 'name', the function should return \" + str(_expected)\n    assert filter_read(file_path,_key) == _expected, _error\n\n@test_case(points=None, hidden=False)\ndef q3_test3(filter_read):\n    import os\n    import os.path\n    cwd = os.getcwd()\n    file_path = os.path.join(cwd, \"filtertest1.txt\")\n    _key = 'programming'\n    _expected = ['i like programming']\n    _error = \"With the filename 'filtertest1.txt' and key 'programming', the function should return \" + str(_expected)\n    assert filter_read(file_path,_key) == _expected, _error\n\n@test_case(points=None, hidden=False)\ndef q3_test4(filter_read):\n    import os\n    import os.path\n    cwd = os.getcwd()\n    file_path = os.path.join(cwd, \"filtertest2.txt\")\n    _key = 'muffins'\n    _expected = ['i really like to eat blueberry muffins', 'but also chocolate muffins']\n    _error = \"With the filename 'filtertest2.txt' and key 'muffins', the function should return \" + str(_expected)\n    assert filter_read(file_path,_key) == _expected, _error\n\n@test_case(points=None, hidden=False)\ndef q3_test5(filter_read):\n    import os\n    import os.path\n    cwd = os.getcwd()\n    file_path = os.path.join(cwd, \"filtertest2.txt\")\n    _key = 'chocolate'\n    _expected = ['and chocolate chip cookies', 'but also chocolate muffins']\n    _error = \"With the filename 'filtertest2.txt' and key 'chocolate', the function should return \" + str(_expected)\n    assert filter_read(file_path,_key) == _expected, _error\n\n",
    "q4": "from otter.test_files import test_case\n\nOK_FORMAT = False\n\nname = \"q4\"\npoints = None\n\n@test_case(points=None, hidden=False)\ndef q4_test1(create_file):\n    import os\n    import os.path\n\n    _filename = 'bruh.txt'\n    _content = 'name'\n    _exp_result = 4\n    cwd = os.getcwd()\n    _filepath = os.path.join(cwd, _filename)\n\n    try:\n        if os.path.exists(_filepath):\n            os.remove(_filepath)\n    except IOError:\n        pass\n    _result = create_file(_filepath, _content)\n    \n    assert os.path.exists(_filepath), \"Expected a file named \" + _filename + \" to be created, but no file found under this name.\"\n    assert type(_result) == int, \"The expected result to be an integer but found \" + str(type(_result))\n    assert _result == _exp_result, \"The expected outcome is \" + str(_exp_result) + \", but found \" + str(_result)\n    \n    with open(_filepath) as _fh:\n        assert _fh.read() == _content, \"The file content does not match with the input content.\"\n        \n    try:\n        if os.path.exists(_filepath):\n            os.remove(_filepath)\n    except IOError:\n        pass\n\n@test_case(points=None, hidden=False)\ndef q4_test2(create_file):\n    import os\n    import os.path\n\n    _filename = 'dabh.txt'\n    _content = 'muffins'\n    _exp_result = 7\n    cwd = os.getcwd()\n    _filepath = os.path.join(cwd, _filename)\n\n    try:\n        if os.path.exists(_filepath):\n            os.remove(_filepath)\n    except IOError:\n        pass\n    _result = create_file(_filepath, _content)\n    \n    assert os.path.exists(_filepath), \"Expected a file named \" + _filename + \" to be created, but no file found under this name.\"\n    assert type(_result) == int, \"The expected result to be an integer but found \" + str(type(_result))\n    assert _result == _exp_result, \"The expected outcome is \" + str(_exp_result) + \", but found \" + str(_result)\n    \n    with open(_filepath) as _fh:\n        assert _fh.read() == _content, \"The file content does not match with the input content.\"\n        \n    try:\n        if os.path.exists(_filepath):\n            os.remove(_filepath)\n    except IOError:\n        pass\n\n@test_case(points=None, hidden=False)\ndef q4_test3(create_file):\n    import os\n    import os.path\n\n    _filename = 'tagh.txt'\n    _content = 'programming'\n    _exp_result = 11\n    cwd = os.getcwd()\n    _filepath = os.path.join(cwd, _filename)\n\n    try:\n        if os.path.exists(_filepath):\n            os.remove(_filepath)\n    except IOError:\n        pass\n    _result = create_file(_filepath, _content)\n    \n    assert os.path.exists(_filepath), \"Expected a file named \" + _filename + \" to be created, but no file found under this name.\"\n    assert type(_result) == int, \"The expected result to be an integer but found \" + str(type(_result))\n    assert _result == _exp_result, \"The expected outcome is \" + str(_exp_result) + \", but found \" + str(_result)\n    \n    with open(_filepath) as _fh:\n        assert _fh.read() == _content, \"The file content does not match with the input content.\"\n        \n    try:\n        if os.path.exists(_filepath):\n            os.remove(_filepath)\n    except IOError:\n        pass\n\n@test_case(points=None, hidden=False)\ndef q4_test4(create_file):\n    import os\n    import os.path\n\n    _filename = 'dagh.txt'\n    _content = 'chocolate'\n    _exp_result = 9\n    cwd = os.getcwd()\n    _filepath = os.path.join(cwd, _filename)\n\n    try:\n        if os.path.exists(_filepath):\n            os.remove(_filepath)\n    except IOError:\n        pass\n    _result = create_file(_filepath, _content)\n    \n    assert os.path.exists(_filepath), \"Expected a file named \" + _filename + \" to be created, but no file found under this name.\"\n    assert type(_result) == int, \"The expected result to be an integer but found \" + str(type(_result))\n    assert _result == _exp_result, \"The expected outcome is \" + str(_exp_result) + \", but found \" + str(_result)\n    \n    with open(_filepath) as _fh:\n        assert _fh.read() == _content, \"The file content does not match with the input content.\"\n        \n    try:\n        if os.path.exists(_filepath):\n            os.remove(_filepath)\n    except IOError:\n        pass\n\n"
   }
  }
 },
 "nbformat": 4,
 "nbformat_minor": 5
}
