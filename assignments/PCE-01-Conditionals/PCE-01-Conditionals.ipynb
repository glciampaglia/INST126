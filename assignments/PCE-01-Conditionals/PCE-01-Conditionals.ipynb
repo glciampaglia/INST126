{
 "cells": [
  {
   "cell_type": "code",
   "execution_count": null,
   "metadata": {
    "deletable": false,
    "editable": false
   },
   "outputs": [],
   "source": [
    "# Initialize Otter\n",
    "import otter\n",
    "grader = otter.Notebook(\"PCE-01-Conditionals.ipynb\")"
   ]
  },
  {
   "cell_type": "markdown",
   "metadata": {
    "id": "y3G0wdCFC5up",
    "nbgrader": {
     "grade": false,
     "grade_id": "cell-28f202f0b0d37eb2",
     "locked": true,
     "schema_version": 3,
     "solution": false,
     "task": false
    }
   },
   "source": [
    "# Programming Component Exercises 01 &ndash; Conditionals"
   ]
  },
  {
   "cell_type": "markdown",
   "metadata": {
    "id": "4-Pwu6LeEUd5",
    "nbgrader": {
     "grade": false,
     "grade_id": "cell-f60e53eb676dea67",
     "locked": true,
     "schema_version": 3,
     "solution": false,
     "task": false
    }
   },
   "source": [
    "## Q1: Test if number is even\n",
    "\n",
    "Write a function called `is_even` that tests whether `num` is even: the function should `True` if the number is even, and `False` if it is not.\n",
    "\n",
    "_Hint_: consider using the modulo operator (`%`) to determine is a number is divisible by two."
   ]
  },
  {
   "cell_type": "code",
   "execution_count": null,
   "metadata": {
    "id": "JXbpsvNF5in3",
    "tags": []
   },
   "outputs": [],
   "source": [
    "...\n",
    "\n",
    "# Try with different arguments!\n",
    "is_even(num=10)"
   ]
  },
  {
   "cell_type": "markdown",
   "metadata": {
    "deletable": false,
    "editable": false
   },
   "source": [
    "The cell below is an autograder cell, run it to check if your solution is correct."
   ]
  },
  {
   "cell_type": "code",
   "execution_count": null,
   "metadata": {
    "deletable": false,
    "editable": false
   },
   "outputs": [],
   "source": [
    "grader.check(\"q1\")"
   ]
  },
  {
   "cell_type": "markdown",
   "metadata": {},
   "source": [
    "<br/>\n",
    "<br/>\n",
    "<br/>\n",
    "<br/>\n",
    "<br/>\n",
    "<br/>\n",
    "\n",
    "---"
   ]
  },
  {
   "cell_type": "markdown",
   "metadata": {
    "id": "ml6TsbTfJogr",
    "nbgrader": {
     "grade": false,
     "grade_id": "cell-3787d5399ef1746f",
     "locked": true,
     "schema_version": 3,
     "solution": false,
     "task": false
    }
   },
   "source": [
    "## Q2: Speeding ticket algorithm\n",
    "\n",
    "Write a function called `speeding_ticket` that takes an observed speed and a speed limit  (both in miles per hour) as parameters, and returns either the string `\"ok\"` (if the speed is at or below the limit), `\"grace\"` (if the speed is over, but no more than 10 mph over the limit), or `\"ticket\"` (if the speed is more than 10 mph over the limit).\n",
    "\n",
    "The two parameters should be called `speed` and `limit`.\n",
    "\n",
    "*Hint: you may find a chained conditional pattern helpful here.*"
   ]
  },
  {
   "cell_type": "code",
   "execution_count": null,
   "metadata": {
    "id": "NDNAF0Gc5t3J",
    "nbgrader": {
     "grade": false,
     "grade_id": "cell-7af5c870e65dac33",
     "locked": true,
     "schema_version": 3,
     "solution": false,
     "task": false
    },
    "tags": []
   },
   "outputs": [],
   "source": [
    "def speeding_ticket(speed, limit):\n",
    "    ...\n",
    "\n",
    "# Test with different arguments!\n",
    "speeding_ticket(speed=25, limit=35)"
   ]
  },
  {
   "cell_type": "markdown",
   "metadata": {
    "deletable": false,
    "editable": false
   },
   "source": [
    "The cell below is an autograder cell, run it to check if your solution is correct."
   ]
  },
  {
   "cell_type": "code",
   "execution_count": null,
   "metadata": {
    "deletable": false,
    "editable": false
   },
   "outputs": [],
   "source": [
    "grader.check(\"q2\")"
   ]
  },
  {
   "cell_type": "markdown",
   "metadata": {},
   "source": [
    "<br/>\n",
    "<br/>\n",
    "<br/>\n",
    "<br/>\n",
    "<br/>\n",
    "<br/>\n",
    "\n",
    "---"
   ]
  },
  {
   "cell_type": "markdown",
   "metadata": {
    "nbgrader": {
     "grade": false,
     "grade_id": "cell-0f808fff93c69f5e",
     "locked": true,
     "points": 2,
     "schema_version": 3,
     "solution": false,
     "task": true
    }
   },
   "source": [
    "## Manually graded: Add a docstring to `speeding_ticket`\n",
    "\n",
    "Go back to the solution cell above, and add a docstring to the `speeding_ticket` function. The docstring should contain:\n",
    "\n",
    "1. A brief description of what the function does;\n",
    "2. A list of the parameters with a brief description of each parameter and its type;\n",
    "3. A brief description of the return value.\n",
    "\n",
    "For this task you are free to format the docstring however you like. If you are unsure on how to get started, refer to the &ldquo;Functions&rdquo; slides on ELMS for an example of a docstring that includes all the required pieces of information.\n",
    "\n",
    "__NOTE__: _There is no autograder for this task: we will grade it manually. Note that you can earn points for this task even if your solution for the previous task is not passing the autograder, however we will check that your docstring does not generate syntax errors of its own._"
   ]
  },
  {
   "cell_type": "markdown",
   "metadata": {},
   "source": [
    "<br/>\n",
    "<br/>\n",
    "<br/>\n",
    "<br/>\n",
    "<br/>\n",
    "<br/>\n",
    "\n",
    "---"
   ]
  },
  {
   "cell_type": "markdown",
   "metadata": {
    "id": "kok_XTaVv5zI",
    "nbgrader": {
     "grade": false,
     "grade_id": "cell-ec09c92d3c703297",
     "locked": true,
     "schema_version": 3,
     "solution": false,
     "task": false
    }
   },
   "source": [
    "## Q3: A complex Boolean expression\n",
    "\n",
    "Write a function `complex_boolean_numfilter` that returns `True` when `x` is an even number falling OUTSIDE of the interval $[10, 50]$, `False` otherwise."
   ]
  },
  {
   "cell_type": "code",
   "execution_count": null,
   "metadata": {
    "id": "wsWHbSpr5_X8",
    "nbgrader": {
     "grade": false,
     "grade_id": "cell-6007f2de3f0462b0",
     "locked": true,
     "schema_version": 3,
     "solution": false,
     "task": false
    },
    "tags": []
   },
   "outputs": [],
   "source": [
    "def complex_boolean_numfilter(x):\n",
    "    ...\n",
    "\n",
    "# Test with different arguments!\n",
    "complex_boolean_numfilter(x=52)"
   ]
  },
  {
   "cell_type": "markdown",
   "metadata": {
    "deletable": false,
    "editable": false
   },
   "source": [
    "The cell below is an autograder cell, run it to check if your solution is correct."
   ]
  },
  {
   "cell_type": "code",
   "execution_count": null,
   "metadata": {
    "deletable": false,
    "editable": false
   },
   "outputs": [],
   "source": [
    "grader.check(\"q3\")"
   ]
  },
  {
   "cell_type": "markdown",
   "metadata": {},
   "source": [
    "<br/>\n",
    "<br/>\n",
    "<br/>\n",
    "<br/>\n",
    "<br/>\n",
    "<br/>\n",
    "\n",
    "---"
   ]
  },
  {
   "cell_type": "markdown",
   "metadata": {},
   "source": [
    "### **_NOTE:_**  Do not forget to run this cell"
   ]
  },
  {
   "cell_type": "code",
   "execution_count": null,
   "metadata": {},
   "outputs": [],
   "source": [
    "!jupyter nbconvert --to script PCE-01-Conditionals.ipynb"
   ]
  },
  {
   "cell_type": "markdown",
   "metadata": {
    "deletable": false,
    "editable": false
   },
   "source": [
    "## Submission\n",
    "\n",
    "Make sure you have run all cells in your notebook in order before running the cell below, so that all images/graphs appear in the output. The cell below will generate a zip file for you to submit."
   ]
  },
  {
   "cell_type": "code",
   "execution_count": null,
   "metadata": {
    "deletable": false,
    "editable": false
   },
   "outputs": [],
   "source": [
    "grader.export(pdf=False, force_save=True, run_tests=True, files=['PCE-01-Conditionals.py'])"
   ]
  },
  {
   "cell_type": "markdown",
   "metadata": {},
   "source": [
    " "
   ]
  }
 ],
 "metadata": {
  "celltoolbar": "Create Assignment",
  "colab": {
   "collapsed_sections": [],
   "name": "INST126_SP21_PCE_M1_Conditionals_Student_Template.ipynb",
   "provenance": []
  },
  "kernelspec": {
   "display_name": "Python 3 (ipykernel)",
   "language": "python",
   "name": "python3"
  },
  "language_info": {
   "codemirror_mode": {
    "name": "ipython",
    "version": 3
   },
   "file_extension": ".py",
   "mimetype": "text/x-python",
   "name": "python",
   "nbconvert_exporter": "python",
   "pygments_lexer": "ipython3",
   "version": "3.12.7"
  },
  "otter": {
   "OK_FORMAT": true,
   "tests": {
    "q1": {
     "name": "q1",
     "points": null,
     "suites": [
      {
       "cases": [
        {
         "code": ">>> assert type(is_even(num=2)) == bool, 'The function should return a boolean'\n",
         "hidden": false,
         "locked": false
        },
        {
         "code": ">>> assert is_even(num=2) == True, 'Wrong return value'\n",
         "hidden": false,
         "locked": false
        },
        {
         "code": ">>> assert is_even(num=1) == False, 'Wrong return value'\n",
         "hidden": false,
         "locked": false
        },
        {
         "code": ">>> assert is_even(num=0) == True, 'Wrong return value'\n",
         "hidden": false,
         "locked": false
        },
        {
         "code": ">>> assert is_even(num=-1) == False, 'Wrong return value'\n",
         "hidden": false,
         "locked": false
        }
       ],
       "scored": true,
       "setup": "",
       "teardown": "",
       "type": "doctest"
      }
     ]
    },
    "q2": {
     "name": "q2",
     "points": null,
     "suites": [
      {
       "cases": [
        {
         "code": ">>> assert type(speeding_ticket(speed=35, limit=55)) == str, 'The function should return a str'\n",
         "hidden": false,
         "locked": false
        },
        {
         "code": ">>> assert speeding_ticket(speed=50, limit=55) == 'ok', 'Wrong return value'\n",
         "hidden": false,
         "locked": false
        },
        {
         "code": ">>> assert speeding_ticket(speed=65, limit=55) == 'grace', 'Wrong return value'\n",
         "hidden": false,
         "locked": false
        },
        {
         "code": ">>> assert speeding_ticket(speed=73, limit=55) == 'ticket', 'Wrong return value'\n",
         "hidden": false,
         "locked": false
        }
       ],
       "scored": true,
       "setup": "",
       "teardown": "",
       "type": "doctest"
      }
     ]
    },
    "q3": {
     "name": "q3",
     "points": null,
     "suites": [
      {
       "cases": [
        {
         "code": ">>> assert type(complex_boolean_numfilter(x=2)) == bool, 'The function should return a bool'\n",
         "hidden": false,
         "locked": false
        },
        {
         "code": ">>> assert complex_boolean_numfilter(x=17) == False, 'Wrong return value'\n",
         "hidden": false,
         "locked": false
        },
        {
         "code": ">>> assert complex_boolean_numfilter(x=57) == False, 'Wrong return value'\n",
         "hidden": false,
         "locked": false
        },
        {
         "code": ">>> assert complex_boolean_numfilter(x=78) == True, 'Wrong return value'\n",
         "hidden": false,
         "locked": false
        },
        {
         "code": ">>> assert complex_boolean_numfilter(x=5) == False, 'Wrong return value'\n",
         "hidden": false,
         "locked": false
        },
        {
         "code": ">>> assert complex_boolean_numfilter(x=20) == False, 'Wrong return value'\n",
         "hidden": false,
         "locked": false
        }
       ],
       "scored": true,
       "setup": "",
       "teardown": "",
       "type": "doctest"
      }
     ]
    }
   }
  },
  "toc": {
   "base_numbering": 1,
   "nav_menu": {},
   "number_sections": false,
   "sideBar": true,
   "skip_h1_title": false,
   "title_cell": "Table of Contents",
   "title_sidebar": "Contents",
   "toc_cell": false,
   "toc_position": {},
   "toc_section_display": true,
   "toc_window_display": false
  }
 },
 "nbformat": 4,
 "nbformat_minor": 4
}
