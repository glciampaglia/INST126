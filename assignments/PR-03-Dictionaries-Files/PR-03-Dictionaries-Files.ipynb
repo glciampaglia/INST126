{
 "cells": [
  {
   "cell_type": "code",
   "execution_count": null,
   "metadata": {
    "deletable": false,
    "editable": false
   },
   "outputs": [],
   "source": [
    "# Initialize Otter\n",
    "import otter\n",
    "grader = otter.Notebook(\"PR-03-Dictionaries-Files.ipynb\")"
   ]
  },
  {
   "cell_type": "markdown",
   "metadata": {
    "id": "Q4DUKQu30UpM",
    "nbgrader": {
     "grade": false,
     "grade_id": "cell-151ad98ae70e5e34",
     "locked": true,
     "schema_version": 3,
     "solution": false,
     "task": false
    }
   },
   "source": [
    "# Project 3: \n",
    "\n",
    "### Dictionaries and Files\n"
   ]
  },
  {
   "cell_type": "markdown",
   "metadata": {
    "nbgrader": {
     "grade": false,
     "grade_id": "cell-0d4f97315e86ec8d",
     "locked": true,
     "schema_version": 3,
     "solution": false,
     "task": false
    }
   },
   "source": [
    "<br/>\n",
    "<br/>\n",
    "<br/>\n",
    "\n",
    "---"
   ]
  },
  {
   "cell_type": "markdown",
   "metadata": {},
   "source": [
    "<div class=\"alert alert-info\"><strong>Good to know</strong>: if at any time you accidentally alter or delete any of the data files, run this cell to restore all data files to the original version.</div>"
   ]
  },
  {
   "cell_type": "code",
   "execution_count": null,
   "metadata": {
    "editable": false,
    "tags": []
   },
   "outputs": [],
   "source": [
    "# This cell cannot be edited\n",
    "!git restore *.txt"
   ]
  },
  {
   "cell_type": "markdown",
   "metadata": {
    "nbgrader": {
     "grade": false,
     "grade_id": "cell-0d4f97315e86ec8d",
     "locked": true,
     "schema_version": 3,
     "solution": false,
     "task": false
    }
   },
   "source": [
    "<br/>\n",
    "<br/>\n",
    "<br/>\n",
    "\n",
    "---"
   ]
  },
  {
   "cell_type": "markdown",
   "metadata": {
    "nbgrader": {
     "grade": false,
     "grade_id": "cell-03c2b03b80d54d8e",
     "locked": true,
     "schema_version": 3,
     "solution": false,
     "task": false
    }
   },
   "source": [
    "## Instructions\n",
    "\n",
    "Pick one problem and complete it. Then run the last cell in the notebook to export your work.\n",
    "\n",
    "### Grading Rubric\n",
    "\n",
    "Your submission will be evaluated based on the following criteria (see on ELMS for more info):\n",
    "* __Correctness__: _Does the program adequately solve the problem posed for the project? (Note we use autograder to determine this.)_\n",
    "* __Logic__: _Regardless of execution, is the solution approach taken sound (i.e., likely to lead to a solution)? Note: this requirement can be satisfied even if the program isn’t passing the autograder tests!_\n",
    "* __Style__: _Is the code understandable and well documented?_\n",
    "  * _Is the variable names clear and intuitive (e.g. `rate` instead of `x`) and there are no conflicts with names of existing functions (e.g. you call your list `list_of_numbers` instead of `list`, etc.)?_\n",
    "  * _Are the key elements of the code clearly documented with comments?_\n",
    "  * _Are the main functions documented with a complete docstring?_\n",
    "* __Final Checklist__: _All steps in the \"Submission checklist\" below have been followed_.\n",
    "\n",
    "### Working on Multiple Problems\n",
    "\n",
    "You do not have to complete all problems in the notebook: if your code passes all the tests in a single problem it will pass the autograder for the whole project. That said, you will earn credit for passing any test in the notebook. This means that if you are not passing all the tests in a given problem, you can attempt a different problem and see if you can pass any of its tests. However, keep in mind that we will consider all the problems you submit when grading for logic and style."
   ]
  },
  {
   "cell_type": "markdown",
   "metadata": {
    "nbgrader": {
     "grade": false,
     "grade_id": "cell-0d4f97315e86ec8d",
     "locked": true,
     "schema_version": 3,
     "solution": false,
     "task": false
    }
   },
   "source": [
    "<br/>\n",
    "<br/>\n",
    "<br/>\n",
    "<br/>\n",
    "<br/>\n",
    "<br/>\n",
    "\n",
    "---"
   ]
  },
  {
   "cell_type": "markdown",
   "metadata": {
    "deletable": false,
    "editable": false,
    "nbgrader": {
     "grade": false,
     "grade_id": "cell-0ae2c932d19b3fce",
     "locked": true,
     "schema_version": 3,
     "solution": false,
     "task": false
    }
   },
   "source": [
    "\n",
    "## Problem 1: Join two datasets\n",
    "\n",
    "You are given two files, each containing various measurements (one measurement per line). For instance, these measurements could represent the population of different cities (file \\#1) and their corresponding area in square miles (file \\#2). Each measurement line begins with an item label (the city name), followed by a comma, and the measurement value. The measurements are not in any specific order. \n",
    "\n",
    "\n",
    "For example, file \\#1 could have the following lines:\n",
    "\n",
    "<span\n",
    "style=\"font-family: 'courier new', courier;\">DC,213280</span>  \n",
    "<span\n",
    "style=\"font-family: 'courier new', courier;\">MD,1198747</span>  \n",
    "<span\n",
    "style=\"font-family: 'courier new', courier;\">VA,239545</span>  \n",
    "\n",
    "While file \\#2 these other lines:  \n",
    "\n",
    "<span\n",
    "style=\"font-family: 'courier new', courier;\">MD,112.49</span>  \n",
    "<span style=\"font-family: 'courier new', courier;\">VA,412.34</span>  \n",
    "<span\n",
    "style=\"font-family: 'courier new', courier;\">DC,31.43</span>  \n",
    "\n",
    "Your task is to join the two files and produce a third set of\n",
    "measurements (in this example, it could be the population per square\n",
    "mile). All new measurements should be rounded to two decimal places.\n",
    "\n",
    "Your program should take three parameters : two filenames,\n",
    "and a string specifying the operation to perform. The acceptable operation options are `\"sum\"`, `\"subtract\"`, `\"multiply\"`, or\n",
    "`\"divide\"` (in this instance, the operation to use would be `\"divide\"`). It should return a dictionary containing the new set of measurements, where each dictionary entry maps the item's label (key) to its new measurement (value).\n",
    "\n",
    "Finally, your program must print the following message: \n",
    "\n",
    "    Created XX measurements with operation ZZZZ \n",
    "    \n",
    "where ZZZZ is one of the four options above.  \n",
    "   \n",
    "\n",
    "---\n",
    "\n",
    "⬇️⬇️⬇️ Enter your solution in the cell below ⬇️⬇️⬇️"
   ]
  },
  {
   "cell_type": "code",
   "execution_count": null,
   "metadata": {
    "id": "Stj6Fd_4ghH0",
    "nbgrader": {
     "grade": false,
     "grade_id": "cell-af888b82d947e9f9",
     "locked": false,
     "schema_version": 3,
     "solution": true,
     "task": false
    },
    "tags": []
   },
   "outputs": [],
   "source": [
    "def joinDatasets(filename1, filename2, operation):\n",
    "    ...\n",
    "\n",
    "...\n",
    "\n",
    "## Test your solution\n",
    "fn1 = \"city-pop.txt\"\n",
    "fn2 = \"city-size.txt\"\n",
    "op = \"divide\"\n",
    "joinDatasets(fn1, fn2, op)"
   ]
  },
  {
   "cell_type": "code",
   "execution_count": null,
   "metadata": {
    "deletable": false,
    "editable": false
   },
   "outputs": [],
   "source": [
    "grader.check(\"prob1\")"
   ]
  },
  {
   "cell_type": "markdown",
   "metadata": {
    "nbgrader": {
     "grade": false,
     "grade_id": "cell-0d4f97315e86ec8d",
     "locked": true,
     "schema_version": 3,
     "solution": false,
     "task": false
    }
   },
   "source": [
    "<br/>\n",
    "<br/>\n",
    "<br/>\n",
    "<br/>\n",
    "<br/>\n",
    "<br/>\n",
    "\n",
    "---"
   ]
  },
  {
   "cell_type": "markdown",
   "metadata": {
    "deletable": false,
    "editable": false,
    "nbgrader": {
     "grade": false,
     "grade_id": "cell-56c4cc63beb734fc",
     "locked": true,
     "schema_version": 3,
     "solution": false,
     "task": false
    }
   },
   "source": [
    "## Problem 2: Create a book index while filtering out stop words.\n",
    "\n",
    "You are provided with a file containing chapters of a book. Each line consists of a chapter title, followed by a colon, and then the text of the chapter. For instance, one of the chapters of Dante's “*The Divine\n",
    "Comedy*” would be given by this line\n",
    "\n",
    "    Inferno Canto V: Thus I descended out of the first circle Down to the second, that less space begirds, And so much greater dole, that goads to wailing.\n",
    "\n",
    "Your task is to generate an index mapping each unique word in the book to the\n",
    "chapters in which the word appears. Stopwords, which are very\n",
    "frequent words in the English language (such as *the*, *but,*\n",
    "*with*, etc.) should be excluded from the index. Note that the\n",
    "index should be case-insensitive (for example, *Circle* and *circle*\n",
    "should go in the same index entry) and should not include\n",
    "punctuation. \n",
    "\n",
    "Your program should accept two parameters: the name of a file containing the chapters and the name of a file listing the stopwords. It should return a dictionary representing the index, where each entry maps a word (key) to a list of chapters (value) in which that word is found.\n",
    "\n",
    "Finally, your program should print the following message to the console:\n",
    "\n",
    "    Indexed XX chapters, YY words, of which ZZ stopwords were excluded\n",
    "    \n",
    "where YY is the total number of words in the book and ZZ the total number of stopwords in the book.\n",
    "\n",
    "---\n",
    "\n",
    "⬇️⬇️⬇️ Enter your solution in the cell below ⬇️⬇️⬇️"
   ]
  },
  {
   "cell_type": "code",
   "execution_count": null,
   "metadata": {
    "nbgrader": {
     "grade": false,
     "grade_id": "cell-1cafbe59eb9d7d3c",
     "locked": false,
     "schema_version": 3,
     "solution": true,
     "task": false
    },
    "tags": []
   },
   "outputs": [],
   "source": [
    "punctuation = '!\"#$%&\\'()*+,-./:;<=>?@[\\\\]^_`{|}~'\n",
    "\n",
    "def createIndex(chapters_filename, stopwords_filename):\n",
    "    ...\n",
    "\n",
    "# Test your code\n",
    "bookfn = \"dante.txt\"\n",
    "stopfn = \"stopwords.txt\"\n",
    "createIndex(bookfn, stopfn)"
   ]
  },
  {
   "cell_type": "code",
   "execution_count": null,
   "metadata": {
    "deletable": false,
    "editable": false
   },
   "outputs": [],
   "source": [
    "grader.check(\"prob2\")"
   ]
  },
  {
   "cell_type": "markdown",
   "metadata": {
    "nbgrader": {
     "grade": false,
     "grade_id": "cell-0d4f97315e86ec8d",
     "locked": true,
     "schema_version": 3,
     "solution": false,
     "task": false
    }
   },
   "source": [
    "<br/>\n",
    "<br/>\n",
    "<br/>\n",
    "<br/>\n",
    "<br/>\n",
    "<br/>\n",
    "\n",
    "---"
   ]
  },
  {
   "cell_type": "markdown",
   "metadata": {
    "deletable": false,
    "editable": false
   },
   "source": [
    "## Problem 3: Identify top retweeted user\n",
    "\n",
    "Given a file containing a collection of tweets (one tweet per line), your objective is to determine the Twitter user who has received the highest number of retweets. A tweet is considered a retweet when it begins with \"RT\" followed by the Twitter handle of the user being retweeted.\n",
    "\n",
    "For example, the string\n",
    "\n",
    "    RT @NASA: LIVE: Astronauts Frank Rubio and @Astro_Josh make their spacewalk debut. The duo will work outside the @Space_Station preparing the orbiting laboratory for future solar power upgrades. 🥰\n",
    "\n",
    "is a retweet of user @NASA. If a tweet does not begin with\n",
    "RT followed by a Twitter handle, then it is not a retweet and should\n",
    "not be counted. \n",
    "\n",
    "Your program should take one parameter: the name of the file with the tweets.\n",
    "\n",
    "It must return a dictionary with one single entry. The dictionary should have the Twitter handle of the most retweeted user as the key and the number of retweets received by that user as the value. If there are no retweets in the file the returned dictionary should be empty.\n",
    "\n",
    "Your program should also count how many tweets and retweets were present in the file. Finally, in addition to returning the above dictionary, it must also print on the console the message: \n",
    "\n",
    "    There were XX tweets in the file, YY of which were retweets \n",
    "    \n",
    "---\n",
    "\n",
    "⬇️⬇️⬇️ Enter your solution in the cell below ⬇️⬇️⬇️"
   ]
  },
  {
   "cell_type": "code",
   "execution_count": null,
   "metadata": {
    "nbgrader": {
     "grade": false,
     "grade_id": "cell-b5c98bb7508195c8",
     "locked": false,
     "schema_version": 3,
     "solution": true,
     "task": false
    },
    "tags": []
   },
   "outputs": [],
   "source": [
    "def topRetweets(tweets_file_name):\n",
    "    ...\n",
    "\n",
    "# Test your code\n",
    "fn = \"top_retweets1.txt\"\n",
    "topRetweets(fn)"
   ]
  },
  {
   "cell_type": "code",
   "execution_count": null,
   "metadata": {
    "deletable": false,
    "editable": false
   },
   "outputs": [],
   "source": [
    "grader.check(\"prob3\")"
   ]
  },
  {
   "cell_type": "markdown",
   "metadata": {
    "deletable": false,
    "editable": false,
    "nbgrader": {
     "grade": false,
     "grade_id": "cell-0d4f97315e86ec8d",
     "locked": true,
     "schema_version": 3,
     "solution": false,
     "task": false
    }
   },
   "source": [
    "<br/>\n",
    "<br/>\n",
    "<br/>\n",
    "<br/>\n",
    "<br/>\n",
    "<br/>\n",
    "\n",
    "---"
   ]
  },
  {
   "cell_type": "markdown",
   "metadata": {
    "deletable": false,
    "editable": false,
    "nbgrader": {
     "grade": false,
     "grade_id": "cell-12240e31acc807ec",
     "locked": true,
     "schema_version": 3,
     "solution": false,
     "task": false
    }
   },
   "source": [
    "## Problem 4: Search document records in a database\n",
    "\n",
    "You are given a file with a database of document records and a search query for documents. Each\n",
    "record comprises of a number of attributes about the document (one\n",
    "attribute per line). Records are separated by a line with three\n",
    "hyphen characters. For example if ID, Title, Author, and Text are\n",
    "the attributes, the record for *Little Women* by Louisa May Alcott\n",
    "would be given by these four lines (last line is the record\n",
    "separator):  \n",
    "\n",
    "<span style=\"font-family: 'courier new', courier;\">id:\n",
    "alcottLittleWomen  \n",
    "author: Louisa May Alcott</span>  \n",
    "<span style=\"font-family: 'courier new', courier;\">title: Little Women</span>  \n",
    "<span style=\"font-family: 'courier new', courier;\">text:\n",
    "</span><span style=\"font-family: 'courier new', courier;\">\"Christmas won't be Christmas without any presents,\" grumbled Jo, lying on the rug. \"It's so dreadful to be poor!\" sighed Meg, looking down at her old dress. \"I don't think it's fair for some girls to have plenty of pretty things, and other girls nothing at all,\" added little Amy, with an injured sniff.  \n",
    "---</span>\n",
    "\n",
    "(Note: The first attribute is always ID, while other attributes may vary.)\n",
    "\n",
    "The search query is a dictionary consisting of a single entry that maps an attribute (key) to a\n",
    "search term (value), for example: `{\"title\": \"women\"}`. Your task is\n",
    "to develop a program that searches the database for documents that\n",
    "match the query. For example, the query before would match the above\n",
    "document, while the query given by the dictionary\n",
    "`{\"author\": \"Dante\"}` would not. \n",
    "\n",
    "Your program should return a\n",
    "dictionary of search results, where each entry maps a record ID\n",
    "(key) to a sub-dictionary with the full record. Each entry in the\n",
    "sub-dictionary maps the name of an attribute (key) to its contents\n",
    "(value). \n",
    "\n",
    "For example, the full search results for the first query\n",
    "would be:  \n",
    "\n",
    "<span style=\"font-family: 'courier new', courier;\">{</span>  \n",
    "<span style=\"font-family: 'courier new', courier;\">  <span\n",
    "style=\"color: #e03e2d;\">\"alcottLittleWomen\"</span>: {</span>  \n",
    "<span style=\"font-family: 'courier new', courier;\">     <span\n",
    "style=\"color: #e03e2d;\">\"author\"</span>: <span\n",
    "style=\"color: #e03e2d;\">\"Louisa May Alcott\"</span>,</span>  \n",
    "<span style=\"font-family: 'courier new', courier;\">     \"<span\n",
    "style=\"color: #e03e2d;\">title\"</span>: <span\n",
    "style=\"color: #e03e2d;\">\"Little Women\"</span>,</span>  \n",
    "<span style=\"font-family: 'courier new', courier;\">     <span\n",
    "style=\"color: #e03e2d;\">\"text\"</span>: <span\n",
    "style=\"color: #e03e2d;\">'\"Christmas won't be Christmas without any presents,\" grumbled Jo, lying on the rug. \"It's so dreadful to be poor!\" sighed Meg, looking down at her old dress. \"I don't think it's fair for some girls to have plenty of pretty things, and other girls nothing at all,\" added little Amy, with an injured sniff.'</span></span>  \n",
    "<span style=\"font-family: 'courier new', courier;\">  }</span>  \n",
    "<span style=\"font-family: 'courier new', courier;\">}</span>\n",
    "\n",
    "Finally, your program must print on the console the message: \n",
    "\n",
    "    Searched XX documents and returned YY results\n",
    "\n",
    "---\n",
    "\n",
    "⬇️⬇️⬇️ Enter your solution in the cell below ⬇️⬇️⬇️"
   ]
  },
  {
   "cell_type": "code",
   "execution_count": null,
   "metadata": {
    "nbgrader": {
     "grade": false,
     "grade_id": "cell-09ba3c1c2db9aaa4",
     "locked": false,
     "schema_version": 3,
     "solution": true,
     "task": false
    },
    "tags": []
   },
   "outputs": [],
   "source": [
    "def searchDocuments(records_filename, query):\n",
    "    ...\n",
    "\n",
    "# Test your code\n",
    "recfn = \"testudo.txt\"\n",
    "query = {\"section\": \"0101\"}\n",
    "searchDocuments(recfn, query)"
   ]
  },
  {
   "cell_type": "code",
   "execution_count": null,
   "metadata": {
    "deletable": false,
    "editable": false
   },
   "outputs": [],
   "source": [
    "grader.check(\"prob4\")"
   ]
  },
  {
   "cell_type": "markdown",
   "metadata": {
    "nbgrader": {
     "grade": false,
     "grade_id": "cell-0d4f97315e86ec8d",
     "locked": true,
     "schema_version": 3,
     "solution": false,
     "task": false
    }
   },
   "source": [
    "<br/>\n",
    "<br/>\n",
    "<br/>\n",
    "<br/>\n",
    "<br/>\n",
    "<br/>\n",
    "\n",
    "---"
   ]
  },
  {
   "cell_type": "markdown",
   "metadata": {},
   "source": [
    "<div class=\"alert alert-info\"> <b><i>Note:</i></b> Do not forget to run this cell before exporting the ZIP file for Gradescope! </div>"
   ]
  },
  {
   "cell_type": "code",
   "execution_count": null,
   "metadata": {},
   "outputs": [],
   "source": [
    "!jupyter nbconvert --to script PR-03-Dictionaries-Files.ipynb"
   ]
  },
  {
   "cell_type": "markdown",
   "metadata": {
    "deletable": false,
    "editable": false
   },
   "source": [
    "## Submission\n",
    "\n",
    "Make sure you have run all cells in your notebook in order before running the cell below, so that all images/graphs appear in the output. The cell below will generate a zip file for you to submit."
   ]
  },
  {
   "cell_type": "code",
   "execution_count": null,
   "metadata": {
    "deletable": false,
    "editable": false
   },
   "outputs": [],
   "source": [
    "grader.export(pdf=False, force_save=True, run_tests=True, files=['PR-03-Dictionaries-Files.py'])"
   ]
  },
  {
   "cell_type": "markdown",
   "metadata": {},
   "source": [
    " "
   ]
  }
 ],
 "metadata": {
  "celltoolbar": "Create Assignment",
  "colab": {
   "collapsed_sections": [],
   "name": "INST126_SP21_Project2_FinalDeliverable_TEMPLATE.ipynb",
   "provenance": []
  },
  "kernelspec": {
   "display_name": "Python 3 (ipykernel)",
   "language": "python",
   "name": "python3"
  },
  "language_info": {
   "codemirror_mode": {
    "name": "ipython",
    "version": 3
   },
   "file_extension": ".py",
   "mimetype": "text/x-python",
   "name": "python",
   "nbconvert_exporter": "python",
   "pygments_lexer": "ipython3",
   "version": "3.8.10"
  },
  "otter": {
   "OK_FORMAT": false,
   "tests": {
    "prob1": "from otter.test_files import test_case\n\nOK_FORMAT = False\n\nname = \"prob1\"\npoints = None\n\n@test_case(points=None, hidden=False)\ndef test1_joinDatasets(joinDatasets):\n    from contextlib import redirect_stdout\n    from io import StringIO\n    \n    if joinDatasets is None:\n        raise AssertionError(\"No student function found for this problem.\")\n        \n    with redirect_stdout(StringIO()) as output:\n        return_value = joinDatasets(\"city-pop.txt\", \"city-size.txt\", \"divide\")\n    printed_output = output.getvalue().strip()\n        \n    assert return_value == {'NY': 18635.97, 'LA': 8304.22, 'DC': 10089.92}, \\\n        'Failed test when calling joinDatasets(\"city-pop.txt\", \"city-size.txt\", \"divide\")'\n    assert printed_output == \"Created 3 measurements with operation divide\", \\\n        'The printed message is not correct when calling joinDatasets(\"city-pop.txt\", \"city-size.txt\", \"divide\")'\n\n@test_case(points=None, hidden=False)\ndef test2_joinDatasets(joinDatasets):\n    from contextlib import redirect_stdout\n    from io import StringIO\n    import re\n\n    if joinDatasets is None:\n        raise AssertionError(\"No student function found for this problem.\")\n        \n    with redirect_stdout(StringIO()) as output:\n        return_value = joinDatasets(\"city-pop.txt\", \"city-size.txt\", \"sum\")\n    printed_output = output.getvalue().strip()\n\n    assert return_value == {'NY': 8804662.43, 'LA': 3899216.49, 'DC': 689613.34}, \\\n        'Failed test when calling joinDatasets(\"city-pop.txt\", \"city-size.txt\", \"sum\")'\n    assert printed_output == \"Created 3 measurements with operation sum\", \\\n        'The printed message is not correct when calling joinDatasets(\"city-pop.txt\", \"city-size.txt\", \"sum\")'\n\n@test_case(points=None, hidden=False)\ndef test3_joinDatasets(joinDatasets):\n    from contextlib import redirect_stdout\n    from io import StringIO\n    import re\n\n    if joinDatasets is None:\n        raise AssertionError(\"No student function found for this problem.\")\n        \n    with redirect_stdout(StringIO()) as output:\n        return_value = joinDatasets(\"city-pop.txt\", \"city-size.txt\", \"multiply\")\n    printed_output = output.getvalue().strip()\n\n    assert return_value == {'NY': 4159363481.7, 'LA': 1830422729.03, 'DC': 47123505.3}, \\\n        'Failed test when calling joinDatasets(\"city-pop.txt\", \"city-size.txt\", \"multiply\")'\n    assert printed_output == \"Created 3 measurements with operation multiply\", \\\n        'The printed message is not correct when calling joinDatasets(\"city-pop.txt\", \"city-size.txt\", \"multiply\")'\n    \n@test_case(points=None, hidden=False)\ndef test4_joinDatasets(joinDatasets):\n    from contextlib import redirect_stdout\n    from io import StringIO\n    import re\n\n    if joinDatasets is None:\n        raise AssertionError(\"No student function found for this problem.\")\n        \n\n    with redirect_stdout(StringIO()) as output:\n        answer = joinDatasets(\"produce-price.txt\", \"produce-weight.txt\", \"divide\")\n    printed_output = output.getvalue().strip()\n\n    assert answer == {'grapes': 1.6, 'apples': 2.04, 'kiwi': 3.64, 'bananas': 0.8}, \\\n        'Failed test when calling joinDatasets(\"produce-price.txt\", \"produce-weight.txt\", \"divide\")'\n    assert printed_output == \"Created 4 measurements with operation divide\", \\\n        'The printed message is not correct when calling joinDatasets(\"produce-price.txt\", \"produce-weight.txt\", \"divide\")'\n\n@test_case(points=None, hidden=False)\ndef test5_joinDatasets(joinDatasets):\n    from contextlib import redirect_stdout\n    from io import StringIO\n    import re\n\n    if joinDatasets is None:\n        raise AssertionError(\"No student function found for this problem.\")\n    \n    with redirect_stdout(StringIO()) as output:\n        answer = joinDatasets(\"produce-price.txt\", \"produce-weight.txt\", \"sum\")\n    printed_output = output.getvalue().strip()\n\n    assert answer == {'grapes': 6.49, 'apples': 3.65, 'kiwi': 5.1, 'bananas': 3.59}, \\\n        'Failed test when calling joinDatasets(\"produce-price.txt\", \"produce-weight.txt\", \"sum\")'\n    assert printed_output == \"Created 4 measurements with operation sum\", \\\n        'The printed message is not correct when calling joinDatasets(\"produce-price.txt\", \"produce-weight.txt\", \"sum\")'\n\n@test_case(points=None, hidden=False)\ndef test6_joinDatasets(joinDatasets):\n    from contextlib import redirect_stdout\n    from io import StringIO\n    import re\n\n    if joinDatasets is None:\n        raise AssertionError(\"No student function found for this problem.\")\n        \n    with redirect_stdout(StringIO()) as output:\n        answer = joinDatasets(\"produce-price.txt\", \"produce-weight.txt\", \"subtract\")\n    printed_output = output.getvalue().strip()\n\n    assert answer == {'grapes': 1.49, 'apples': 1.25, 'kiwi': 2.9, 'bananas': -0.41}, \\\n        'Failed test when calling joinDatasets(\"produce-price.txt\", \"produce-weight.txt\", \"subtract\")'\n    assert printed_output == \"Created 4 measurements with operation subtract\", \\\n        'The printed message is not correct when calling joinDatasets(\"produce-price.txt\", \"produce-weight.txt\", \"subtract\")'\n    \n",
    "prob2": "from otter.test_files import test_case\n\nOK_FORMAT = False\n\nname = \"prob2\"\npoints = None\n\n@test_case(points=None, hidden=False)\ndef test1_createIndex(createIndex):\n    from contextlib import redirect_stdout\n    from io import StringIO\n    import re\n\n    if createIndex is None:\n        raise AssertionError(\"No student function found for this problem.\")\n        \n    expected_answer = {\n            'midway': ['Inferno Canto I'],\n            'upon': ['Inferno Canto I', 'Inferno Canto IV'],\n            'journey': ['Inferno Canto I'],\n            'life': ['Inferno Canto I'],\n            'found': ['Inferno Canto I', 'Inferno Canto IV'],\n            'within': ['Inferno Canto I', 'Inferno Canto IV'],\n            'forest': ['Inferno Canto I'],\n            'dark': ['Inferno Canto I'],\n            'straightforward': ['Inferno Canto I'],\n            'pathway': ['Inferno Canto I'],\n            'lost': ['Inferno Canto I', 'Inferno Canto III'],\n            'ah': ['Inferno Canto I'],\n            'hard': ['Inferno Canto I'],\n            'thing': ['Inferno Canto I'],\n            'say': ['Inferno Canto I', 'Inferno Canto V'],\n            'savage': ['Inferno Canto I'],\n            'rough': ['Inferno Canto I'],\n            'stern': ['Inferno Canto I'],\n            'thought': ['Inferno Canto I'],\n            'renews': ['Inferno Canto I'],\n            'fear': ['Inferno Canto I'],\n            'bitter': ['Inferno Canto I'],\n            'death': ['Inferno Canto I'],\n            'little': ['Inferno Canto I'],\n            'good': ['Inferno Canto I'],\n            'treat': ['Inferno Canto I'],\n            'speak': ['Inferno Canto I'],\n            'things': ['Inferno Canto I', 'Inferno Canto III'],\n            'saw': ['Inferno Canto I', 'Inferno Canto II'],\n            'day': ['Inferno Canto II'],\n            'departing': ['Inferno Canto II'],\n            'embrowned': ['Inferno Canto II'],\n            'air': ['Inferno Canto II'],\n            'released': ['Inferno Canto II'],\n            'animals': ['Inferno Canto II'],\n            'earth': ['Inferno Canto II'],\n            'fatigues': ['Inferno Canto II'],\n            'one': ['Inferno Canto II'],\n            'made': ['Inferno Canto II'],\n            'ready': ['Inferno Canto II'],\n            'sustain': ['Inferno Canto II'],\n            'war': ['Inferno Canto II'],\n            'way': ['Inferno Canto II', 'Inferno Canto III'],\n            'likewise': ['Inferno Canto II'],\n            'woe': ['Inferno Canto II'],\n            'memory': ['Inferno Canto II'],\n            'errs': ['Inferno Canto II'],\n            'shall': ['Inferno Canto II'],\n            'retrace': ['Inferno Canto II'],\n            'o': ['Inferno Canto II'],\n            'muses': ['Inferno Canto II'],\n            'high': ['Inferno Canto II'],\n            'genius': ['Inferno Canto II'],\n            'assist': ['Inferno Canto II'],\n            'didst': ['Inferno Canto II'],\n            'write': ['Inferno Canto II'],\n            'thy': ['Inferno Canto II'],\n            'nobility': ['Inferno Canto II'],\n            'manifest': ['Inferno Canto II'],\n            'city': ['Inferno Canto III'],\n            'dolent': ['Inferno Canto III'],\n            'eternal': ['Inferno Canto III'],\n            'dole': ['Inferno Canto III', 'Inferno Canto V'],\n            'among': ['Inferno Canto III'],\n            'people': ['Inferno Canto III'],\n            'justice': ['Inferno Canto III'],\n            'incited': ['Inferno Canto III'],\n            'sublime': ['Inferno Canto III'],\n            'creator': ['Inferno Canto III'],\n            'created': ['Inferno Canto III'],\n            'divine': ['Inferno Canto III'],\n            'omnipotence': ['Inferno Canto III'],\n            'highest': ['Inferno Canto III'],\n            'wisdom': ['Inferno Canto III'],\n            'primal': ['Inferno Canto III'],\n            'love': ['Inferno Canto III'],\n            'eterne': ['Inferno Canto III'],\n            'last': ['Inferno Canto III'],\n            'hope': ['Inferno Canto III'],\n            'abandon': ['Inferno Canto III'],\n            'ye': ['Inferno Canto III'],\n            'enter': ['Inferno Canto III'],\n            'broke': ['Inferno Canto IV'],\n            'deep': ['Inferno Canto IV'],\n            'lethargy': ['Inferno Canto IV'],\n            'head': ['Inferno Canto IV'],\n            'heavy': ['Inferno Canto IV'],\n            'thunder': ['Inferno Canto IV'],\n            'upstarted': ['Inferno Canto IV'],\n            'like': ['Inferno Canto IV'],\n            'person': ['Inferno Canto IV'],\n            'force': ['Inferno Canto IV'],\n            'wakened': ['Inferno Canto IV'],\n            'round': ['Inferno Canto IV'],\n            'moved': ['Inferno Canto IV'],\n            'rested': ['Inferno Canto IV'],\n            'eyes': ['Inferno Canto IV'],\n            'uprisen': ['Inferno Canto IV'],\n            'erect': ['Inferno Canto IV'],\n            'steadfastly': ['Inferno Canto IV'],\n            'gazed': ['Inferno Canto IV'],\n            'recognise': ['Inferno Canto IV'],\n            'place': ['Inferno Canto IV'],\n            'wherein': ['Inferno Canto IV'],\n            'true': ['Inferno Canto IV'],\n            'verge': ['Inferno Canto IV'],\n            'abysmal': ['Inferno Canto IV'],\n            'valley': ['Inferno Canto IV'],\n            'dolorous': ['Inferno Canto IV'],\n            'gathers': ['Inferno Canto IV'],\n            'infinite': ['Inferno Canto IV'],\n            'ululations': ['Inferno Canto IV'],\n            'thus': ['Inferno Canto V'],\n            'descended': ['Inferno Canto V'],\n            'first': ['Inferno Canto V'],\n            'circle': ['Inferno Canto V'],\n            'second': ['Inferno Canto V'],\n            'less': ['Inferno Canto V'],\n            'space': ['Inferno Canto V'],\n            'begirds': ['Inferno Canto V'],\n            'much': ['Inferno Canto V'],\n            'greater': ['Inferno Canto V'],\n            'goads': ['Inferno Canto V'],\n            'wailing': ['Inferno Canto V'],\n            'standeth': ['Inferno Canto V'],\n            'minos': ['Inferno Canto V'],\n            'horribly': ['Inferno Canto V'],\n            'snarls': ['Inferno Canto V'],\n            'examines': ['Inferno Canto V'],\n            'transgressions': ['Inferno Canto V'],\n            'entrance': ['Inferno Canto V'],\n            'judges': ['Inferno Canto V'],\n            'sends': ['Inferno Canto V'],\n            'according': ['Inferno Canto V'],\n            'girds': ['Inferno Canto V'],\n            'spirit': ['Inferno Canto V'],\n            'evilborn': ['Inferno Canto V'],\n            'cometh': ['Inferno Canto V'],\n            'wholly': ['Inferno Canto V'],\n            'confesses': ['Inferno Canto V'],\n            'discriminator': ['Inferno Canto V']\n        }\n\n    with redirect_stdout(StringIO()) as output:\n        answer = createIndex(\"dante.txt\", \"stopwords.txt\")\n    printed_output = output.getvalue().strip()\n\n    assert answer == expected_answer, \\\n        'Failed test when calling createIndex(\"dante.txt\", \"stopwords.txt\")'\n    assert printed_output == \"Indexed 5 chapters, 332 words, of which 170 stopwords were excluded\", \\\n        'The printed message is not correct when calling createIndex(\"dante.txt\", \"stopwords.txt\")'\n\n@test_case(points=None, hidden=False)\ndef test2_createIndex(createIndex):\n    from contextlib import redirect_stdout\n    from io import StringIO\n    import re\n\n    if createIndex is None:\n        raise AssertionError(\"No student function found for this problem.\")\n        \n    expected_answer = {\n            'sells': ['Chapter 1', 'Chapter 2'],\n            'seashells': ['Chapter 1', 'Chapter 2'],\n            'seashore': ['Chapter 1', 'Chapter 2'],\n            'shells': ['Chapter 1', 'Chapter 2'],\n            'im': ['Chapter 1', 'Chapter 2'],\n            'sure': ['Chapter 1', 'Chapter 2'],\n            'sally': ['Chapter 2'],\n            'seashell': ['Chapter 2'],\n            'shore': ['Chapter 2'],\n            'hopes': ['Chapter 2'],\n            'sell': ['Chapter 2'],\n            'soon': ['Chapter 2'],\n            'neither': ['Chapter 2'],\n            'shall': ['Chapter 2'],\n            'sold': ['Chapter 2']\n        }\n\n    with redirect_stdout(StringIO()) as output:\n        answer = createIndex(\"seashells.txt\", \"stopwords.txt\")\n    printed_output = output.getvalue().strip()\n\n    assert answer == expected_answer, \\\n        'Failed test when calling createIndex(\"seashells.txt\", \"stopwords.txt\")'\n    assert printed_output == \"Indexed 2 chapters, 85 words, of which 37 stopwords were excluded\", \\\n        'The printed message is not correct when calling createIndex(\"seashells.txt\", \"stopwords.txt\")'\n    \n\n@test_case(points=None, hidden=False)\ndef test3_createIndex(createIndex):\n    from contextlib import redirect_stdout\n    from io import StringIO\n    import re\n\n    if createIndex is None:\n        raise AssertionError(\"No student function found for this problem.\")\n        \n    expected_answer = {\n            'mary': ['Chapter 1', 'Chapter 2', 'Chapter 5', 'Chapter 6', 'Chapter 7'],\n            'little': ['Chapter 1'],\n            'lamb': ['Chapter 1', 'Chapter 2', 'Chapter 4', 'Chapter 6', 'Chapter 7'],\n            'whose': ['Chapter 1'],\n            'fleece': ['Chapter 1'],\n            'white': ['Chapter 1'],\n            'snow': ['Chapter 1'],\n            'everywhere': ['Chapter 2'],\n            'went': ['Chapter 2'],\n            'sure': ['Chapter 2'],\n            'go': ['Chapter 2'],\n            'followed': ['Chapter 3'],\n            'school': ['Chapter 3', 'Chapter 4'],\n            'one': ['Chapter 3'],\n            'day': ['Chapter 3'],\n            'rules': ['Chapter 3'],\n            'made': ['Chapter 4'],\n            'children': ['Chapter 4', 'Chapter 6'],\n            'laugh': ['Chapter 4'],\n            'play': ['Chapter 4'],\n            'see': ['Chapter 4'],\n            'teacher': ['Chapter 5', 'Chapter 7'],\n            'turned': ['Chapter 5'],\n            'still': ['Chapter 5'],\n            'lingered': ['Chapter 5'],\n            'near': ['Chapter 5'],\n            'waited': ['Chapter 5'],\n            'patiently': ['Chapter 5'],\n            'till': ['Chapter 5'],\n            'appear': ['Chapter 5'],\n            'love': ['Chapter 6'],\n            'eager': ['Chapter 6'],\n            'cry': ['Chapter 6'],\n            'loves': ['Chapter 7'],\n            'know': ['Chapter 7'],\n            'reply': ['Chapter 7']\n        }\n\n    with redirect_stdout(StringIO()) as output:\n        answer = createIndex(\"mary.txt\", \"stopwords.txt\")\n    printed_output = output.getvalue().strip()\n\n    assert answer == expected_answer, \\\n        'Failed test when calling createIndex(\"mary.txt\", \"stopwords.txt\")'\n    assert printed_output == \"Indexed 7 chapters, 89 words, of which 42 stopwords were excluded\", \\\n        'The printed message is not correct when calling createIndex(\"mary.txt\", \"stopwords.txt\")'\n    \n@test_case(points=None, hidden=False)\ndef test4_createIndex(createIndex):\n    from contextlib import redirect_stdout\n    from io import StringIO\n    import re\n\n    if createIndex is None:\n        raise AssertionError(\"No student function found for this problem.\")\n    \n    expected_answer = {\n            'hush': ['Verse 1'],\n            'little': ['Verse 1', 'Verse 8'],\n            'baby': ['Verse 1', 'Verse 8'],\n            'dont': ['Verse 1', 'Verse 2'],\n            'say': ['Verse 1'],\n            'word': ['Verse 1'],\n            'mamas': ['Verse 1', 'Verse 2', 'Verse 3', 'Verse 4', 'Verse 5', 'Verse 6', 'Verse 7'],\n            'gonna': ['Verse 1', 'Verse 2',\n            'Verse 3', 'Verse 4', 'Verse 5', 'Verse 6', 'Verse 7'],\n            'buy': ['Verse 1', 'Verse 2', 'Verse 3', 'Verse 4', 'Verse 5', 'Verse 6', 'Verse 7'],\n            'mockingbird': ['Verse 1', 'Verse 2'],\n            'sing': ['Verse 2'],\n            'diamond': ['Verse 2', 'Verse 3'],\n            'ring': ['Verse 2', 'Verse 3'],\n            'turns': ['Verse 3'],\n            'brass': ['Verse 3'],\n            'looking': ['Verse 3', 'Verse 4'],\n            'glass': ['Verse 3', 'Verse 4'],\n            'gets': ['Verse 4'],\n            'broke': ['Verse 4'],\n            'billy': ['Verse 4', 'Verse 5'],\n            'goat': ['Verse 4', 'Verse 5'],\n            'wont': ['Verse 5', 'Verse 7'],\n            'pull': ['Verse 5'],\n            'cart': ['Verse 5', 'Verse 6', 'Verse 7', 'Verse 8'],\n            'bull': ['Verse 5', 'Verse 6'],\n            'turn': ['Verse 6'],\n            'dog': ['Verse 6', 'Verse 7'],\n            'named': ['Verse 6', 'Verse 7'],\n            'rover': ['Verse 6', 'Verse 7'],\n            'bark': ['Verse 7'],\n            'horse': ['Verse 7', 'Verse 8'],\n            'fall': ['Verse 8'],\n            'youll': ['Verse 8'],\n            'still': ['Verse 8'],\n            'sweetest': ['Verse 8'],\n            'town': ['Verse 8']\n        }\n\n    with redirect_stdout(StringIO()) as output:\n        answer = createIndex(\"hush.txt\", \"stopwords.txt\")\n    printed_output = output.getvalue().strip()\n\n    assert answer == expected_answer, \\\n        'Failed test when calling createIndex(\"hush.txt\", \"stopwords.txt\")'\n    assert printed_output == \"Indexed 8 chapters, 120 words, of which 47 stopwords were excluded\", \\\n        'The printed message is not correct when calling createIndex(\"hush.txt\", \"stopwords.txt\")'\n    \n\n@test_case(points=None, hidden=False)\ndef test5_createIndex(createIndex):\n    from contextlib import redirect_stdout\n    from io import StringIO\n    import re\n\n    if createIndex is None:\n        raise AssertionError(\"No student function found for this problem.\")\n        \n    expected_answer = {\n            'dashing': ['Rhyme I'],\n            'snow': ['Rhyme I'],\n            'onehorse': ['Rhyme I', 'Rhyme III', 'Rhyme IV'],\n            'open': ['Rhyme I', 'Rhyme III', 'Rhyme IV'],\n            'sleigh': ['Rhyme I', 'Rhyme III', 'Rhyme IV'],\n            'oer': ['Rhyme I'],\n            'fields': ['Rhyme I'],\n            'go': ['Rhyme I'],\n            'laughing': ['Rhyme I'],\n            'way': ['Rhyme I', 'Rhyme III', 'Rhyme IV'],\n            'bells': ['Rhyme II', 'Rhyme III', 'Rhyme IV'],\n            'bob': ['Rhyme II'],\n            'tail': ['Rhyme II'],\n            'ring': ['Rhyme II'],\n            'making': ['Rhyme II'],\n            'spirits': ['Rhyme II'],\n            'bright': ['Rhyme II'],\n            'fun': ['Rhyme II', 'Rhyme III', 'Rhyme IV'],\n            'ride': ['Rhyme II', 'Rhyme III', 'Rhyme IV'],\n            'sing': ['Rhyme II'],\n            'sleighing': ['Rhyme II'],\n            'song': ['Rhyme II'],\n            'tonight': ['Rhyme II'],\n            'jingle': ['Rhyme III', 'Rhyme IV'],\n            'oh': ['Rhyme III', 'Rhyme IV']\n        }\n\n    with redirect_stdout(StringIO()) as output:\n        answer = createIndex(\"jingle.txt\", \"stopwords.txt\")\n    printed_output = output.getvalue().strip()\n\n    assert answer == expected_answer, \\\n        \"Failed test when calling createIndex('jingle.txt', 'stopwords.txt')\"\n    assert printed_output == \"Indexed 4 chapters, 78 words, of which 31 stopwords were excluded\", \\\n        \"The printed message is not correct when calling createIndex('jingle.txt', 'stopwords.txt')\"\n\n",
    "prob3": "from otter.test_files import test_case\n\nOK_FORMAT = False\n\nname = \"prob3\"\npoints = None\n\n@test_case(points=None, hidden=False)\ndef test1_topRetweets(topRetweets):\n    from contextlib import redirect_stdout\n    from io import StringIO\n    import re\n\n    if topRetweets is None:\n        raise AssertionError(\"No student function found for this problem.\")\n        \n    with redirect_stdout(StringIO()) as output:\n        answer = topRetweets(\"top_retweets1.txt\")\n    printed_output = output.getvalue().strip()\n\n    assert answer == {'@rihanna':7}, \\\n        'Failed test when calling topRetweets(\"top_retweets1.txt\")'\n    assert printed_output == \"There were 26 tweets in the file, 22 of which were retweets\", \\\n        'The printed message is not correct when calling topRetweets(\"top_retweets1.txt\")'\n    \n\n@test_case(points=None, hidden=False)\ndef test2_topRetweets(topRetweets):\n    from contextlib import redirect_stdout\n    from io import StringIO\n    import re\n\n    if topRetweets is None:\n        raise AssertionError(\"No student function found for this problem.\")\n        \n    with redirect_stdout(StringIO()) as output:\n        answer = topRetweets(\"top_retweets2.txt\")\n    printed_output = output.getvalue().strip()\n\n    assert answer == {}, \\\n        'Failed test when calling topRetweets(\"top_retweets2.txt\")'\n    assert printed_output == \"There were 4 tweets in the file, 0 of which were retweets\", \\\n        'The printed message is not correct when calling topRetweets(\"top_retweets2.txt\")'\n    \n@test_case(points=None, hidden=False)\ndef test3_topRetweets(topRetweets):\n    from contextlib import redirect_stdout\n    from io import StringIO\n    import re\n\n    if topRetweets is None:\n        raise AssertionError(\"No student function found for this problem.\")\n        \n    with redirect_stdout(StringIO()) as output:\n        answer = topRetweets(\"top_retweets3.txt\")\n    printed_output = output.getvalue().strip()\n\n    assert answer == {'@Nishad': 3}, \\\n        'Failed test when calling topRetweets(\"top_retweets3.txt\")'\n    assert printed_output == \"There were 6 tweets in the file, 4 of which were retweets\", \\\n        'The printed message is not correct when calling topRetweets(\"top_retweets3.txt\")'\n    \n\n",
    "prob4": "from otter.test_files import test_case\n\nOK_FORMAT = False\n\nname = \"prob4\"\npoints = None\n\n@test_case(points=None, hidden=False)\ndef test1_searchDocuments(searchDocuments):\n    from contextlib import redirect_stdout\n    from io import StringIO\n    import re\n\n    if searchDocuments is None:\n        raise AssertionError(\"No student function found for this problem.\")\n        \n    expected_answer = {\n            'fosterRoomView': {\n                'author': 'E. M. Foster',\n                'title': 'A Room with View',\n                'text': '\"The Signora had no business to do it,\" said Miss Bartlett, \"no business at all. She promised us south rooms with a view close together, instead of which here are north rooms, looking into a courtyard, and a long way apart. Oh, Lucy!\"'\n            }\n        }\n\n    with redirect_stdout(StringIO()) as output:\n        answer = searchDocuments(\"gutenberg.txt\", {'title': 'Room'})\n\n    assert answer == expected_answer, \\\n        'Failed test when calling searchDocuments(\"gutenberg.txt\", {\"title\": \"Room\"})'\n    assert output.getvalue().strip() == \"Searched 4 documents and returned 1 results\", \\\n        'The printed message is not correct when calling searchDocuments(\"gutenberg.txt\", {\"title\": \"Room\"})'\n    \n@test_case(points=None, hidden=False)\ndef test2_searchDocuments(searchDocuments):\n    from contextlib import redirect_stdout\n    from io import StringIO\n    import re\n\n    if searchDocuments is None:\n        raise AssertionError(\"No student function found for this problem.\")\n        \n    expected_answer = {\n            'fosterRoomView': {\n                'author': 'E. M. Foster',\n                'title': 'A Room with View',\n                'text': '\"The Signora had no business to do it,\" said Miss Bartlett, \"no business at all. She promised us south rooms with a view close together, instead of which here are north rooms, looking into a courtyard, and a long way apart. Oh, Lucy!\"'\n            }\n        }\n\n    with redirect_stdout(StringIO()) as output:\n        answer = searchDocuments(\"gutenberg.txt\", {'text': 'Signora'})\n    print_output = output.getvalue().strip()\n\n    assert answer == expected_answer, \\\n        'Failed test when calling searchDocuments(\"gutenberg.txt\", {\"text\": \"Signora\"})'\n    assert print_output == \"Searched 4 documents and returned 1 results\", \\\n        'The printed message is not correct when calling searchDocuments(\"gutenberg.txt\", {\"text\": \"Signora\"})'\n    \n@test_case(points=None, hidden=False)\ndef test3_searchDocuments(searchDocuments):\n    from contextlib import redirect_stdout\n    from io import StringIO\n    import re\n\n    if searchDocuments is None:\n        raise AssertionError(\"No student function found for this problem.\")\n    \n    expected_answer = {}\n\n    with redirect_stdout(StringIO()) as output:\n        answer = searchDocuments(\"gutenberg.txt\", {'author': 'Giovanni'})\n    print_output = output.getvalue().strip()\n\n    assert answer == expected_answer, \\\n        'Failed test when calling searchDocuments(\"gutenberg.txt\", {\"author\": \"Giovanni\"})'\n    assert print_output == \"Searched 4 documents and returned 0 results\", \\\n        'The printed message is not correct when calling searchDocuments(\"gutenberg.txt\", {\"author\": \"Giovanni\"})'\n    \n@test_case(points=None, hidden=False)\ndef test4_searchDocuments(searchDocuments):\n    from contextlib import redirect_stdout\n    from io import StringIO\n    import re\n\n    if searchDocuments is None:\n        raise AssertionError(\"No student function found for this problem.\")\n        \n    expected_answer = {\n            'INST104': {\n                'title': 'Design Across Campus',\n                'section': '0101',\n                'instructor': 'Katie Shilton'\n            }\n        }\n\n    with redirect_stdout(StringIO()) as output:\n        answer = searchDocuments(\"testudo.txt\", {'title': 'Campus'})\n    print_output = output.getvalue().strip()\n\n    assert answer == expected_answer, \\\n        'Failed test when calling searchDocuments(\"testudo.txt\", {\"title\": \"Campus\"})'\n    assert print_output == \"Searched 3 documents and returned 1 results\", \\\n        'The printed message is not correct when calling searchDocuments(\"testudo.txt\", {\"title\": \"Campus\"})'\n    \n@test_case(points=None, hidden=False)\ndef test5_searchDocuments(searchDocuments):\n    from contextlib import redirect_stdout\n    from io import StringIO\n    import re\n\n    if searchDocuments is None:\n        raise AssertionError(\"No student function found for this problem.\")\n        \n    expected_answer = {\n            'INST101': {\n                'title': 'Bits and Bytes of Computer and Information Sciences',\n                'section': '0101',\n                'instructor': 'Madeline Georgevich'\n            },\n            'INST104': {\n                'title': 'Design Across Campus',\n                'section': '0101',\n                'instructor': 'Katie Shilton'\n            }\n        }\n\n    with redirect_stdout(StringIO()) as output:\n        answer = searchDocuments(\"testudo.txt\", {'section': '0101'})\n    print_output = output.getvalue().strip()\n\n    assert answer == expected_answer, \\\n        'Failed test when calling searchDocuments(\"testudo.txt\", {\"section\": \"0101\"})'\n    assert print_output == \"Searched 3 documents and returned 2 results\", \\\n        'The printed message is not correct when calling searchDocuments(\"testudo.txt\", {\"section\": \"0101\"})'\n    \n"
   }
  },
  "toc": {
   "base_numbering": 1,
   "nav_menu": {},
   "number_sections": false,
   "sideBar": true,
   "skip_h1_title": false,
   "title_cell": "Table of Contents",
   "title_sidebar": "Contents",
   "toc_cell": false,
   "toc_position": {},
   "toc_section_display": true,
   "toc_window_display": false
  }
 },
 "nbformat": 4,
 "nbformat_minor": 4
}
