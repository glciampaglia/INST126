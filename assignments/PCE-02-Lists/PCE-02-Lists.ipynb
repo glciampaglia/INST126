{
 "cells": [
  {
   "cell_type": "code",
   "execution_count": null,
   "id": "49b17c65",
   "metadata": {
    "deletable": false,
    "editable": false
   },
   "outputs": [],
   "source": [
    "# Initialize Otter\n",
    "import otter\n",
    "grader = otter.Notebook(\"PCE-02-Lists.ipynb\")"
   ]
  },
  {
   "cell_type": "markdown",
   "id": "081edc1f-6c8f-4ab0-85ee-1d670bcc0055",
   "metadata": {},
   "source": [
    "# Programming Component Excercise 02 &ndash; Lists"
   ]
  },
  {
   "cell_type": "markdown",
   "id": "aaffe229-fff1-45ec-bad7-606c240185eb",
   "metadata": {
    "deletable": false,
    "editable": false
   },
   "source": [
    "## Q1: Create a list\n",
    "\n",
    "### Q1.1 Autograded task\n",
    "\n",
    "Write a function called `create_list` that takes three strings and an integer, puts them in a list in the order that they're received, and returns the list.\n",
    "\n",
    "Parameters:\n",
    "- `string1` : `str`\n",
    "\n",
    "    Any string\n",
    "    \n",
    "    \n",
    "- `string2` : `str`\n",
    "\n",
    "    Any string\n",
    "\n",
    "\n",
    "- `string3` : `str`\n",
    "\n",
    "    Any string\n",
    "\n",
    "\n",
    "- `num1` : `int`\n",
    "\n",
    "    Any integer\n",
    "\n",
    "Returns:\n",
    "\n",
    "- `result` : `list` \n",
    "\n",
    "    A list that contains the three input strings, and an integer in order.\n",
    "\n",
    "\n",
    "⬇️⬇️⬇️ Write your solution in the cell below. ⬇️⬇️⬇️"
   ]
  },
  {
   "cell_type": "code",
   "execution_count": null,
   "id": "4b39516a-74be-4118-87b2-1bc230809cc0",
   "metadata": {
    "tags": []
   },
   "outputs": [],
   "source": [
    "\n",
    "def create_list(string1, string2, string3, num1):\n",
    "    \n",
    "    result = ...\n",
    "    return result\n",
    "\n",
    "# Try different arguments! Test your function in the cell below using these 3 strings. Feel free to change them to run your own experiments.\n",
    "s1 = \"apples\"\n",
    "s2 = \"oranges\"\n",
    "s3 = \"bananas\"\n",
    "n1 = 9001\n",
    "create_list(s1, s2, s3, n1)"
   ]
  },
  {
   "cell_type": "markdown",
   "id": "c427f3a3-b51f-47e2-a68c-a989d1cd442e",
   "metadata": {
    "deletable": false,
    "editable": false
   },
   "source": [
    "The cell below is an autograder cell, run it to check if your solution is correct."
   ]
  },
  {
   "cell_type": "code",
   "execution_count": null,
   "id": "cfa9ce7f",
   "metadata": {
    "deletable": false,
    "editable": false
   },
   "outputs": [],
   "source": [
    "grader.check(\"q1\")"
   ]
  },
  {
   "cell_type": "markdown",
   "id": "d9f33fe7-8b6f-41b2-8654-d6ba9c5519df",
   "metadata": {},
   "source": [
    "<br/>\n",
    "<br/>\n",
    "<br/>\n",
    "<br/>\n",
    "<br/>\n",
    "<br/>\n",
    "\n",
    "---"
   ]
  },
  {
   "cell_type": "markdown",
   "id": "9a9d1c00-c043-4097-bf86-3b41ecb0b5e0",
   "metadata": {},
   "source": [
    "### Q1.2: Manually graded task\n",
    "\n",
    "Go back to the solution cell above, and add a docstring to the `create_list` function. The docstring should contain:\n",
    "\n",
    "1. A brief description of what the function does;\n",
    "2. A list of the parameters with a brief description of each parameter and its type;\n",
    "3. A brief description of the return value.\n",
    "\n",
    "For this task you are free to format the docstring however you like. If you are unsure on how to get started, refer to the &ldquo;Functions&rdquo; slides on ELMS for an example of a docstring that includes all the required pieces of information.\n",
    "\n",
    "__NOTE__: _There is no autograder for this task: we will grade it manually. Note that you can earn points for this task even if your solution for the previous task is not passing the autograder, however we will check that your docstring does not generate syntax errors of its own._\n",
    "\n",
    "⬇️⬇️⬇️ You can use the cell below to see what your docstring looks like. ⬇️⬇️⬇️"
   ]
  },
  {
   "cell_type": "code",
   "execution_count": null,
   "id": "8e76dcc5-a0e9-45fe-8b9a-9c8a00405edd",
   "metadata": {},
   "outputs": [],
   "source": [
    "help(create_list)"
   ]
  },
  {
   "cell_type": "markdown",
   "id": "e8901da1-8ddb-44c9-99ca-a016f7526614",
   "metadata": {
    "tags": []
   },
   "source": [
    "## Q2: Find the length of a list\n",
    "\n",
    "Write a function called `list_len` that tells you if a given list is a small list if length is less than or equal to 3 and big list otherwise.\n",
    "\n",
    "Parameters:\n",
    "- `input_list` : `list` \n",
    "\n",
    "    A list\n",
    "\n",
    "\n",
    "Returns:\n",
    "\n",
    "- `result` : `str` \n",
    "\n",
    "    A string that can take the following values:\n",
    "    \n",
    "    - `\"small list\"` if `input_list` has length 3 or less\n",
    "    - `\"big list\"` otherwise\n",
    "\n",
    "⬇️⬇️⬇️ Write your solution in the cell below. ⬇️⬇️⬇️"
   ]
  },
  {
   "cell_type": "code",
   "execution_count": null,
   "id": "fb966511-c169-42e1-82c4-82b901ae0fb2",
   "metadata": {
    "tags": []
   },
   "outputs": [],
   "source": [
    "def list_len(input_list):\n",
    "    ...\n",
    "\n",
    "# Test with different arguments!\n",
    "day_list = [\"Monday\", \"Tuesday\", \"Wednesday\", \"Thursday\", \"Friday\", \"Saturday\", \"Sunday\"]\n",
    "list_len(day_list)"
   ]
  },
  {
   "cell_type": "markdown",
   "id": "07ac8a0a-2557-4564-b79c-6d70b2f1029e",
   "metadata": {
    "deletable": false,
    "editable": false
   },
   "source": [
    "The cell below is an autograder cell, run it to check if your solution is correct."
   ]
  },
  {
   "cell_type": "code",
   "execution_count": null,
   "id": "08b139fe",
   "metadata": {
    "deletable": false,
    "editable": false
   },
   "outputs": [],
   "source": [
    "grader.check(\"q2\")"
   ]
  },
  {
   "cell_type": "markdown",
   "id": "5f6701bb-b450-49a8-8275-16fd983cd319",
   "metadata": {},
   "source": [
    "<br/>\n",
    "<br/>\n",
    "<br/>\n",
    "<br/>\n",
    "<br/>\n",
    "<br/>\n",
    "\n",
    "---"
   ]
  },
  {
   "cell_type": "markdown",
   "id": "ec3a21b3-898b-45ea-a67e-ffd865ef81fe",
   "metadata": {},
   "source": [
    "## Q3: Retrieve the fourth item from list\n",
    "Write a function `get_fourth_item` that returns the fourth item in a list.\n",
    "\n",
    "Parameters:\n",
    "- `items` : `list`\n",
    "\n",
    "   A list of items, any type\n",
    "\n",
    "Returns:\n",
    "- `result` : (any type)\n",
    "\n",
    "   The fourth element in the list\n",
    "\n",
    "*hint: indexes (which you use to grab items from a list) and numerical positions (e.g., the fourth item) are not the same!*\n",
    "\n",
    "⬇️⬇️⬇️ Write your solution in the cell below. ⬇️⬇️⬇️"
   ]
  },
  {
   "cell_type": "code",
   "execution_count": null,
   "id": "9cb886f9-374b-4f62-9d21-53a014d87618",
   "metadata": {
    "tags": []
   },
   "outputs": [],
   "source": [
    "def get_fourth_item(items):\n",
    "    ...\n",
    "    \n",
    "# Test with different arguments!\n",
    "get_fourth_item([\"INST126\", \"INST201\", \"INST311\", \"INST326\", \"INST335\"])"
   ]
  },
  {
   "cell_type": "markdown",
   "id": "c5065864-a175-4a6c-89a7-691f113cab2d",
   "metadata": {
    "deletable": false,
    "editable": false
   },
   "source": [
    "The cell below is an autograder cell, run it to check if your solution is correct."
   ]
  },
  {
   "cell_type": "code",
   "execution_count": null,
   "id": "cbeb7614",
   "metadata": {
    "deletable": false,
    "editable": false
   },
   "outputs": [],
   "source": [
    "grader.check(\"q3\")"
   ]
  },
  {
   "cell_type": "markdown",
   "id": "84cf32be-a2e3-4283-859b-061ecf8272e6",
   "metadata": {},
   "source": [
    "<br/>\n",
    "<br/>\n",
    "<br/>\n",
    "<br/>\n",
    "<br/>\n",
    "<br/>\n",
    "\n",
    "---"
   ]
  },
  {
   "cell_type": "markdown",
   "id": "69f1701f-1dfe-4076-a051-8a882e81092d",
   "metadata": {},
   "source": [
    "## Q4: Find smallest number\n",
    "\n",
    "Write a function `find_smallest` that returns the smallest item from a list of numbers. For example, given the list `[77, 68, 100, 95]` as an argument, your function should return the value `68`.\n",
    "\n",
    "Parameters:\n",
    "- `nums` : `list`\n",
    "        \n",
    "    A list of numbers (each an `int`)\n",
    "\n",
    "Returns:\n",
    "- `result` : `int` \n",
    "\n",
    "    The smallest number in the list\n",
    "\n",
    "To do this, you should:\n",
    "1. Sort the list (either in descending or ascending order),\n",
    "2. Retrieve the first (or the last, depending on order) item in the sorted list;\n",
    "\n",
    "\n",
    "*Hint: remember that the `.sort()` method sorts the list in place and thus is non-fruitful (i.e., it returns `None`). This is unlike the `sorted()` function, which is fruitful and does not sort the list in place: it returns a new, sorted list instead.*\n",
    "\n",
    "---\n",
    "\n",
    "This problem is worth 2 points:\n",
    "- 1 point for writing a function that returns correctly the smallest item.\n",
    "- 1 point for using the sort function and index access instead of the `min()` function\n",
    "\n",
    "---\n",
    "\n",
    "⬇️⬇️⬇️ Write your solution in the cell below. ⬇️⬇️⬇️"
   ]
  },
  {
   "cell_type": "code",
   "execution_count": null,
   "id": "6921555f-b053-4f1d-849a-3a54fa019146",
   "metadata": {
    "tags": []
   },
   "outputs": [],
   "source": [
    "def find_smallest(nums):\n",
    "    ...\n",
    "\n",
    "# Test with different arguments!\n",
    "find_smallest([77, 68, 100, 95, 86, 82, 99])"
   ]
  },
  {
   "cell_type": "markdown",
   "id": "5c4b34b6-9e93-4f76-a9fe-4203bbec73c9",
   "metadata": {
    "deletable": false,
    "editable": false
   },
   "source": [
    "The cell below is an autograder cell, run it to check if your solution is correct."
   ]
  },
  {
   "cell_type": "code",
   "execution_count": null,
   "id": "d08ca05e",
   "metadata": {
    "deletable": false,
    "editable": false
   },
   "outputs": [],
   "source": [
    "grader.check(\"q4\")"
   ]
  },
  {
   "cell_type": "code",
   "execution_count": null,
   "id": "c2e2eea2-6078-4210-9787-c77c64da6f28",
   "metadata": {},
   "outputs": [],
   "source": []
  },
  {
   "cell_type": "code",
   "execution_count": null,
   "id": "62d7b45d-05b9-4fa3-b5ed-0d16f047714e",
   "metadata": {},
   "outputs": [],
   "source": []
  },
  {
   "cell_type": "markdown",
   "id": "2b259a53-cf20-4e41-9484-58f885292eb5",
   "metadata": {},
   "source": [
    "### **_NOTE:_**  Do not forget to run this cell"
   ]
  },
  {
   "cell_type": "code",
   "execution_count": null,
   "id": "8e4448a8-09dc-41ad-b993-1630729c6391",
   "metadata": {},
   "outputs": [],
   "source": [
    "!jupyter nbconvert --to script PCE-02-Lists.ipynb"
   ]
  },
  {
   "cell_type": "markdown",
   "id": "363a342b",
   "metadata": {
    "deletable": false,
    "editable": false
   },
   "source": [
    "## Submission\n",
    "\n",
    "Make sure you have run all cells in your notebook in order before running the cell below, so that all images/graphs appear in the output. The cell below will generate a zip file for you to submit."
   ]
  },
  {
   "cell_type": "code",
   "execution_count": null,
   "id": "522287cd",
   "metadata": {
    "deletable": false,
    "editable": false
   },
   "outputs": [],
   "source": [
    "grader.export(pdf=False, force_save=True, run_tests=True, files=['PCE-02-Lists.py'])"
   ]
  },
  {
   "cell_type": "markdown",
   "id": "3690c9f7",
   "metadata": {},
   "source": [
    " "
   ]
  }
 ],
 "metadata": {
  "kernelspec": {
   "display_name": "Python 3 (ipykernel)",
   "language": "python",
   "name": "python3"
  },
  "language_info": {
   "codemirror_mode": {
    "name": "ipython",
    "version": 3
   },
   "file_extension": ".py",
   "mimetype": "text/x-python",
   "name": "python",
   "nbconvert_exporter": "python",
   "pygments_lexer": "ipython3",
   "version": "3.12.7"
  },
  "otter": {
   "OK_FORMAT": true,
   "tests": {
    "q1": {
     "name": "q1",
     "points": null,
     "suites": [
      {
       "cases": [
        {
         "code": ">>> assert type(create_list('apples', 'oranges', 'bananas', 111)) == list, 'The return value should be a list'\n",
         "hidden": false,
         "locked": false
        },
        {
         "code": ">>> assert create_list('apples', 'oranges', 'bananas', 111) == ['apples', 'oranges', 'bananas', 111], 'The return value should be a list containing the values of s1, s2, s3, and n1'\n",
         "hidden": false,
         "locked": false
        },
        {
         "code": ">>> assert create_list('apples', 'oranges', 'kiwis', 118) == ['apples', 'oranges', 'kiwis', 118], 'The return value should be a list containing the values of s1, s2, s3, and n1'\n",
         "hidden": false,
         "locked": false
        },
        {
         "code": ">>> assert create_list('apples', 'lemons', 'durian', 113) == ['apples', 'lemons', 'durian', 113], 'The return value should be a list containing the values of s1, s2, s3, and n1'\n",
         "hidden": false,
         "locked": false
        }
       ],
       "scored": true,
       "setup": "",
       "teardown": "",
       "type": "doctest"
      }
     ]
    },
    "q2": {
     "name": "q2",
     "points": null,
     "suites": [
      {
       "cases": [
        {
         "code": ">>> assert type(list_len(['Mon', 'Tue', 'Wed', 'Thu', 'Fri', 'Sat', 'Sun'])) == str, 'The function should return a str'\n",
         "hidden": false,
         "locked": false
        },
        {
         "code": ">>> assert list_len(['Mon', 'Tue', 'Wed', 'Thu', 'Fri', 'Sat', 'Sun']) == 'big list', 'The function should return \"big list\" for the input [\"Mon\", \"Tue\", \"Wed\", \"Thu\", \"Fri\", \"Sat\", \"Sun\"]'\n",
         "hidden": false,
         "locked": false
        },
        {
         "code": ">>> assert list_len([0, 1, 2, 3]) == 'big list', 'The function should return \"big lidt\" for the input [0, 1, 2, 3]'\n",
         "hidden": false,
         "locked": false
        },
        {
         "code": ">>> assert list_len(['Friday', 'Saturday', 'Sunday']) == 'small list', 'The function should return \"small list\" for the input [\"Friday\", \"Saturday\", \"Sunday\"]'\n",
         "hidden": false,
         "locked": false
        }
       ],
       "scored": true,
       "setup": "",
       "teardown": "",
       "type": "doctest"
      }
     ]
    },
    "q3": {
     "name": "q3",
     "points": null,
     "suites": [
      {
       "cases": [
        {
         "code": ">>> assert get_fourth_item(['INST126', 'INST201', 'INST311', 'INST326', 'INST335']) == 'INST326', 'For input [\"INST126\", \"INST201\", \"INST311\", \"INST326\", \"INST335\"], the function should return \"INST326\"'\n",
         "hidden": false,
         "locked": false
        },
        {
         "code": ">>> assert get_fourth_item(['INST326', 'INST201', 'INST311', 'INST126', 'INST335']) == 'INST126', 'For input [\"INST326\", \"INST201\", \"INST311\", \"INST126\", \"INST335\"], the function should return \"INST126\"'\n",
         "hidden": false,
         "locked": false
        },
        {
         "code": ">>> assert get_fourth_item(['INST126', 'INST326', 'INST311', 'INST201', 'INST335']) == 'INST201', 'For input [\"INST126\", \"INST326\", \"INST311\", \"INST201\", \"INST335\"], the function should return \"INST201\"'\n",
         "hidden": false,
         "locked": false
        },
        {
         "code": ">>> assert get_fourth_item(['INST126', 'INST201', 'INST326', 'INST311', 'INST335']) == 'INST311', 'For input [\"INST126\", \"INST201\", \"INST326\", \"INST311\", \"INST335\"], the function should return \"INST311\"'\n",
         "hidden": false,
         "locked": false
        }
       ],
       "scored": true,
       "setup": "",
       "teardown": "",
       "type": "doctest"
      }
     ]
    },
    "q4": {
     "name": "q4",
     "points": null,
     "suites": [
      {
       "cases": [
        {
         "code": ">>> assert type(find_smallest([77, 68, 100, 95, 86, 82, 99])) == int, 'The function should return an int'\n",
         "hidden": false,
         "locked": false
        },
        {
         "code": ">>> assert find_smallest([77, 68, 100, 95, 86, 82, 99]) == 68, 'The function should return 68 for the input [77, 68, 100, 95, 86, 82, 99]'\n",
         "hidden": false,
         "locked": false
        },
        {
         "code": ">>> assert find_smallest([32, 76, 97, 54, 86]) == 32, 'The function should return 32'\n",
         "hidden": false,
         "locked": false
        },
        {
         "code": ">>> assert find_smallest([43, 88, 67, 77, 54, 91, 22]) == 22, 'The function should return 22'\n",
         "hidden": false,
         "locked": false
        }
       ],
       "scored": true,
       "setup": "",
       "teardown": "",
       "type": "doctest"
      }
     ]
    }
   }
  }
 },
 "nbformat": 4,
 "nbformat_minor": 5
}
