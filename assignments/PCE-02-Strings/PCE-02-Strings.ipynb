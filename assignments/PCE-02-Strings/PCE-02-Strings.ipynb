{
 "cells": [
  {
   "cell_type": "code",
   "execution_count": null,
   "metadata": {
    "deletable": false,
    "editable": false
   },
   "outputs": [],
   "source": [
    "# Initialize Otter\n",
    "import otter\n",
    "grader = otter.Notebook(\"PCE-02-Strings.ipynb\")"
   ]
  },
  {
   "cell_type": "markdown",
   "metadata": {
    "id": "y3G0wdCFC5up",
    "nbgrader": {
     "grade": false,
     "grade_id": "cell-0e432b229b175847",
     "locked": true,
     "schema_version": 3,
     "solution": false,
     "task": false
    }
   },
   "source": [
    "# PCE 02 &ndash; Strings [Total: 5 pts]"
   ]
  },
  {
   "cell_type": "markdown",
   "metadata": {
    "id": "4-Pwu6LeEUd5",
    "nbgrader": {
     "grade": false,
     "grade_id": "cell-2dc8dc6805996f5d",
     "locked": true,
     "schema_version": 3,
     "solution": false,
     "task": false
    }
   },
   "source": [
    "## Q1: Grab a character at a given position in a five-letter string [1 Point]\n",
    "\n",
    "Write a function called `index_string` that has two parameters:\n",
    "1. `s` &ndash; a five-letter string;\n",
    "2. `psn`&ndash; an integer between 0 and 4. \n",
    "\n",
    "And that returns:\n",
    "\n",
    "`result` &ndash; the character that is at position `psn` in `s`.\n",
    "\n",
    "For example, `index_string(\"hello\", 3)` should return `\"l\"`.\n",
    "\n",
    "⬇️⬇️⬇️ Enter your solution in the cell below ⬇️⬇️⬇️"
   ]
  },
  {
   "cell_type": "code",
   "execution_count": null,
   "metadata": {
    "id": "FfhDpCj11O07",
    "nbgrader": {
     "grade": false,
     "grade_id": "cell-fd0dc0c592eb57c1",
     "locked": false,
     "schema_version": 3,
     "solution": true,
     "task": false
    },
    "tags": []
   },
   "outputs": [],
   "source": [
    "def index_string(s, psn):\n",
    "    ..."
   ]
  },
  {
   "cell_type": "markdown",
   "metadata": {
    "deletable": false,
    "editable": false,
    "nbgrader": {
     "grade": false,
     "grade_id": "cell-9f3c6a299fe74896",
     "locked": true,
     "schema_version": 3,
     "solution": false,
     "task": false
    }
   },
   "source": [
    "Test your function below. Feel free to change the values."
   ]
  },
  {
   "cell_type": "code",
   "execution_count": null,
   "metadata": {
    "deletable": false,
    "editable": false,
    "id": "JXbpsvNF5in3"
   },
   "outputs": [],
   "source": [
    "test_s = \"shore\"\n",
    "test_psn = 2\n",
    "print(index_string(test_s, test_psn))"
   ]
  },
  {
   "cell_type": "markdown",
   "metadata": {
    "deletable": false,
    "editable": false,
    "nbgrader": {
     "grade": false,
     "grade_id": "cell-ed8a255f6ef6a5d3",
     "locked": true,
     "schema_version": 3,
     "solution": false,
     "task": false
    }
   },
   "source": [
    "When you're ready run the cell below to get feedback on your answer."
   ]
  },
  {
   "cell_type": "code",
   "execution_count": null,
   "metadata": {
    "deletable": false,
    "editable": false
   },
   "outputs": [],
   "source": [
    "grader.check(\"q1\")"
   ]
  },
  {
   "cell_type": "markdown",
   "metadata": {
    "id": "ml6TsbTfJogr",
    "nbgrader": {
     "grade": false,
     "grade_id": "cell-730a3f7ef76e478a",
     "locked": true,
     "schema_version": 3,
     "solution": false,
     "task": false
    }
   },
   "source": [
    "## Q2: Convert a string to all lower- or all upper-case, depending on the input [1 pt]\n",
    "Write a function called `change_case()` that has two parameters:\n",
    "1. `string` &ndash; an input string to transform;\n",
    "2. `direction` &ndash; a string that tells you which direction to change the case (`'lower'` or `'upper'`). \n",
    "\n",
    "And that returns:\n",
    "\n",
    "`new_string` &ndash; a new lower- or upper-case string depending on the direction.\n",
    "\n",
    "*Hint*: You'll need an if/else conditional for this problem.\n",
    "\n",
    "⬇️⬇️⬇️ Enter your solution in the cell below ⬇️⬇️⬇️"
   ]
  },
  {
   "cell_type": "code",
   "execution_count": null,
   "metadata": {
    "id": "TA9lHAOo1uSn",
    "nbgrader": {
     "grade": false,
     "grade_id": "cell-35cf559ffe28dc64",
     "locked": false,
     "schema_version": 3,
     "solution": true,
     "task": false
    },
    "tags": []
   },
   "outputs": [],
   "source": [
    "def change_case(s, direction):\n",
    "    ..."
   ]
  },
  {
   "cell_type": "markdown",
   "metadata": {
    "deletable": false,
    "editable": false,
    "nbgrader": {
     "grade": false,
     "grade_id": "cell-61354635ea5b5503",
     "locked": true,
     "schema_version": 3,
     "solution": false,
     "task": false
    }
   },
   "source": [
    "Test your function below. Feel free to change the values."
   ]
  },
  {
   "cell_type": "code",
   "execution_count": null,
   "metadata": {
    "deletable": false,
    "editable": false,
    "id": "NDNAF0Gc5t3J"
   },
   "outputs": [],
   "source": [
    "test_s = \"sarah\"\n",
    "test_direction = \"lower\"\n",
    "change_case(test_s, test_direction)"
   ]
  },
  {
   "cell_type": "markdown",
   "metadata": {
    "deletable": false,
    "editable": false,
    "nbgrader": {
     "grade": false,
     "grade_id": "cell-da831b228088cff9",
     "locked": true,
     "schema_version": 3,
     "solution": false,
     "task": false
    }
   },
   "source": [
    "When you're ready run the cell below to get feedback on your answer."
   ]
  },
  {
   "cell_type": "code",
   "execution_count": null,
   "metadata": {
    "deletable": false,
    "editable": false
   },
   "outputs": [],
   "source": [
    "grader.check(\"q2\")"
   ]
  },
  {
   "cell_type": "markdown",
   "metadata": {
    "id": "kok_XTaVv5zI",
    "nbgrader": {
     "grade": false,
     "grade_id": "cell-2f398d4d93e5d94f",
     "locked": true,
     "schema_version": 3,
     "solution": false,
     "task": false
    }
   },
   "source": [
    "## Q3: Get domain name from website name\n",
    "\n",
    "### Q3.1 Coding Task [1 pt]\n",
    "\n",
    "Write a function `get_website_domain()` that has a single parameter:\n",
    "1. `website` &ndash; a website name (e.g., `'www.umd.edu'`)\n",
    "\n",
    "And returns:\n",
    "\n",
    "`domain` &ndash; the domain of the website name, which is the substring _between_ the two `.` characters. \n",
    "\n",
    "For example, if I call `get_website_domain(\"www.umd.edu\")`, I should get back `'umd'`, and if I call `get_website_domain(\"www.cnn.com\")`, I should get back `'cnn'`).\n",
    "\n",
    "__Hint__: This is the split pattern we discussed in class.\n",
    "\n",
    "⬇️⬇️⬇️ Enter your solution in the cell below ⬇️⬇️⬇️"
   ]
  },
  {
   "cell_type": "code",
   "execution_count": null,
   "metadata": {
    "id": "4ykWPu7Dv9bf",
    "nbgrader": {
     "grade": false,
     "grade_id": "cell-64ee35227074ed60",
     "locked": false,
     "schema_version": 3,
     "solution": true,
     "task": false
    },
    "tags": []
   },
   "outputs": [],
   "source": [
    "def get_website_domain(website):\n",
    "    ..."
   ]
  },
  {
   "cell_type": "markdown",
   "metadata": {
    "deletable": false,
    "editable": false,
    "nbgrader": {
     "grade": false,
     "grade_id": "cell-03d1646c45beb5f4",
     "locked": true,
     "schema_version": 3,
     "solution": false,
     "task": false
    }
   },
   "source": [
    "Test your function below. Feel free to change the values."
   ]
  },
  {
   "cell_type": "code",
   "execution_count": null,
   "metadata": {
    "deletable": false,
    "editable": false,
    "id": "g84592MTEzRL"
   },
   "outputs": [],
   "source": [
    "test_website = \"www.umd.edu\"\n",
    "print(get_website_domain(test_website))"
   ]
  },
  {
   "cell_type": "markdown",
   "metadata": {
    "deletable": false,
    "editable": false,
    "nbgrader": {
     "grade": false,
     "grade_id": "cell-5e4846891e6afd90",
     "locked": true,
     "schema_version": 3,
     "solution": false,
     "task": false
    }
   },
   "source": [
    "When you're ready run the cell below to get feedback on your answer."
   ]
  },
  {
   "cell_type": "code",
   "execution_count": null,
   "metadata": {
    "deletable": false,
    "editable": false
   },
   "outputs": [],
   "source": [
    "grader.check(\"q3\")"
   ]
  },
  {
   "cell_type": "markdown",
   "metadata": {
    "nbgrader": {
     "grade": false,
     "grade_id": "cell-5091ba1575c30d8a",
     "locked": true,
     "points": 2,
     "schema_version": 3,
     "solution": false,
     "task": true
    }
   },
   "source": [
    "## Q3.2: Documentation task [1 pt]\n",
    "\n",
    "Go back to the solution cell above, and add documentation to the `get_website_domain` function. Your documentation should consist of two parts:\n",
    "* A docstring [1 pt];\n",
    "* ⚠️ _NEW_ ⚠️ Line comments [1 pt]. \n",
    "\n",
    "The **docstring** should contain:\n",
    "\n",
    "1. A brief description of what the function does;\n",
    "2. A list of the parameters with a brief description of each parameter and its type;\n",
    "3. A brief description of the return value.\n",
    "\n",
    "For this task you are free to format the docstring however you like. If you are unsure on how to get started, refer to the &ldquo;Functions&rdquo; slides on ELMS for an example of a docstring that includes all the required pieces of information.\n",
    "\n",
    "The **line comments** should describe concisely what each line of code is doing. Each comment line should start with the `#` character. (For example: `# Initialize return list`.)\n",
    "\n",
    "__NOTE__: _There is no autograder for this task: we will grade it manually. Note that you can earn points for this task even if your solution for the previous task is not passing the autograder, however we will check that your docstring and comments do not generate syntax errors of their own._\n",
    "\n",
    "⬇️⬇️⬇️ You can use the cell below to see what your docstring looks like. ⬇️⬇️⬇️"
   ]
  },
  {
   "cell_type": "code",
   "execution_count": null,
   "metadata": {
    "nbgrader": {
     "grade": false,
     "grade_id": "cell-8fab2ea4dccea845",
     "locked": true,
     "schema_version": 3,
     "solution": false,
     "task": false
    }
   },
   "outputs": [],
   "source": [
    "help(get_website_domain)"
   ]
  },
  {
   "cell_type": "markdown",
   "metadata": {
    "id": "Wp4JvHAOFcC6",
    "nbgrader": {
     "grade": false,
     "grade_id": "cell-7a86843c14f629de",
     "locked": true,
     "schema_version": 3,
     "solution": false,
     "task": false
    }
   },
   "source": [
    "## Q4: Construct a message with string formatting for a waiter splitting the bill for a table [1 Point]\n",
    "\n",
    "Write a function `split_check()` with parameters:\n",
    "1. `customer_name` &ndash; the name of the customer\n",
    "2. `total_check` &ndash; the amount that is owed for the whole table\n",
    "3. `fraction_owed` &ndash; the fraction of the total check owed by the customer. Should be a flat between 0 and 1 (e.g., `0.2` to denote that this person owes 20% of the check).\n",
    "\n",
    "And returns the message __\"(customer_name) owes (amount_owed)\"__, with string formatting so that the `amount_owed` is only showing 2 decimal places. \n",
    "\n",
    "* Your program should first compute the amount owed, which should be the product of `total_check` and `fraction_owed`.\n",
    "\n",
    "* Then it should construct a message that has appropriate string formatting variables for the `customer_name` and `amount_owed` values.\n",
    "\n",
    "* Finally, it should return this message string.\n",
    "\n",
    "Note that sometimes the result will be more than 2 decimal places; even in those cases, your resulting message should only display 2 decimal points. For example, `split_check(\"Joel\", 32.50, 0.25)` should return the message \"Joel owes 8.12\" (even though $32.50 \\times 0.25 = 8.125$).\n",
    "\n",
    "⬇️⬇️⬇️ Enter your solution in the cell below ⬇️⬇️⬇️"
   ]
  },
  {
   "cell_type": "code",
   "execution_count": null,
   "metadata": {
    "id": "JVyj6-TLJ-OQ",
    "nbgrader": {
     "grade": false,
     "grade_id": "cell-710c646983dc4dc3",
     "locked": false,
     "schema_version": 3,
     "solution": true,
     "task": false
    },
    "tags": []
   },
   "outputs": [],
   "source": [
    "def split_check(customer_name, total_check, fraction_owed):\n",
    "    ..."
   ]
  },
  {
   "cell_type": "markdown",
   "metadata": {
    "deletable": false,
    "editable": false,
    "nbgrader": {
     "grade": false,
     "grade_id": "cell-f97b21729f6daadc",
     "locked": true,
     "schema_version": 3,
     "solution": false,
     "task": false
    }
   },
   "source": [
    "Test your function below. Feel free to change the values."
   ]
  },
  {
   "cell_type": "code",
   "execution_count": null,
   "metadata": {
    "deletable": false,
    "editable": false,
    "id": "pxaxamLyKDHj"
   },
   "outputs": [],
   "source": [
    "test_name = \"Joel\"\n",
    "test_check = 32.50\n",
    "test_fraction = 0.25\n",
    "print(split_check(test_name, test_check, test_fraction))"
   ]
  },
  {
   "cell_type": "markdown",
   "metadata": {
    "deletable": false,
    "editable": false,
    "nbgrader": {
     "grade": false,
     "grade_id": "cell-9e2c69b418a763bc",
     "locked": true,
     "schema_version": 3,
     "solution": false,
     "task": false
    }
   },
   "source": [
    "When you're ready run the cell below to get feedback on your answer."
   ]
  },
  {
   "cell_type": "code",
   "execution_count": null,
   "metadata": {
    "deletable": false,
    "editable": false
   },
   "outputs": [],
   "source": [
    "grader.check(\"q4\")"
   ]
  },
  {
   "cell_type": "markdown",
   "metadata": {
    "deletable": false,
    "editable": false
   },
   "source": [
    "## Submission\n",
    "\n",
    "Make sure you have run all cells in your notebook in order before running the cell below, so that all images/graphs appear in the output. The cell below will generate a zip file for you to submit."
   ]
  },
  {
   "cell_type": "code",
   "execution_count": null,
   "metadata": {
    "deletable": false,
    "editable": false
   },
   "outputs": [],
   "source": [
    "grader.export(pdf=False, force_save=True, run_tests=True)"
   ]
  },
  {
   "cell_type": "markdown",
   "metadata": {},
   "source": [
    " "
   ]
  }
 ],
 "metadata": {
  "celltoolbar": "Create Assignment",
  "colab": {
   "collapsed_sections": [],
   "name": "INST126_SP22_PCE_M2_Strings_Student_Template.ipynb",
   "provenance": []
  },
  "kernelspec": {
   "display_name": "Python 3 (ipykernel)",
   "language": "python",
   "name": "python3"
  },
  "language_info": {
   "codemirror_mode": {
    "name": "ipython",
    "version": 3
   },
   "file_extension": ".py",
   "mimetype": "text/x-python",
   "name": "python",
   "nbconvert_exporter": "python",
   "pygments_lexer": "ipython3",
   "version": "3.8.10"
  },
  "otter": {
   "OK_FORMAT": true,
   "tests": {
    "q1": {
     "name": "q1",
     "points": null,
     "suites": [
      {
       "cases": [
        {
         "code": ">>> assert type(index_string(\"asken\", 3)) == str, \"Error: return value must be a string\"\n",
         "hidden": false,
         "locked": false
        },
        {
         "code": ">>> assert index_string(\"asken\", 3) == \"e\", \"Wrong return value\"\n",
         "hidden": false,
         "locked": false
        },
        {
         "code": ">>> assert index_string(\"asken\", 1) == \"s\", \"Wrong return value\"\n",
         "hidden": false,
         "locked": false
        },
        {
         "code": ">>> assert index_string(\"hello\", 2) == \"l\", \"Wrong return value\"\n",
         "hidden": false,
         "locked": false
        },
        {
         "code": ">>> assert index_string(\"hello\", 4) == \"o\", \"Wrong return value\"\n",
         "hidden": false,
         "locked": false
        },
        {
         "code": ">>> assert index_string(\"unify\", 0) == \"u\", \"Wrong return value\"\n",
         "hidden": false,
         "locked": false
        },
        {
         "code": ">>> assert index_string(\"unify\", 3) == \"f\", \"Wrong return value\"\n",
         "hidden": false,
         "locked": false
        }
       ],
       "scored": true,
       "setup": "",
       "teardown": "",
       "type": "doctest"
      }
     ]
    },
    "q2": {
     "name": "q2",
     "points": null,
     "suites": [
      {
       "cases": [
        {
         "code": ">>> assert type(change_case(\"sarah\", \"upper\")) == str, \"Error: return value must be a string\"\n",
         "hidden": false,
         "locked": false
        },
        {
         "code": ">>> assert change_case(\"hello\", \"upper\") == \"HELLO\", \"Wrong return value\"\n",
         "hidden": false,
         "locked": false
        },
        {
         "code": ">>> assert change_case(\"yEs\", \"lower\") == \"yes\", \"Wrong return value\"\n",
         "hidden": false,
         "locked": false
        },
        {
         "code": ">>> assert change_case(\"BRIDGE\", \"lower\") == \"bridge\", \"Wrong return value\"\n",
         "hidden": false,
         "locked": false
        },
        {
         "code": ">>> assert change_case(\"hoUSE\", \"upper\") == \"HOUSE\", \"Wrong return value\"\n",
         "hidden": false,
         "locked": false
        },
        {
         "code": ">>> assert change_case(\"BRIDGE\", \"upper\") == \"BRIDGE\", \"Wrong return value\"\n",
         "hidden": false,
         "locked": false
        }
       ],
       "scored": true,
       "setup": "",
       "teardown": "",
       "type": "doctest"
      }
     ]
    },
    "q3": {
     "name": "q3",
     "points": null,
     "suites": [
      {
       "cases": [
        {
         "code": ">>> assert type(get_website_domain(\"www.umd.edu\")) == str, \"Error: return value must be a string\"\n",
         "hidden": false,
         "locked": false
        },
        {
         "code": ">>> assert get_website_domain(\"www.umd.edu\") == \"umd\", \"Wrong return value\"\n",
         "hidden": false,
         "locked": false
        },
        {
         "code": ">>> assert get_website_domain(\"www.cnn.com\") == \"cnn\", \"Wrong return value\"\n",
         "hidden": false,
         "locked": false
        },
        {
         "code": ">>> assert get_website_domain(\"en.wikipedia.org\") == \"wikipedia\", \"Wrong return value\"\n",
         "hidden": false,
         "locked": false
        },
        {
         "code": ">>> assert get_website_domain(\"state.md.gov\") == \"md\", \"Wrong return value\"\n",
         "hidden": false,
         "locked": false
        }
       ],
       "scored": true,
       "setup": "",
       "teardown": "",
       "type": "doctest"
      }
     ]
    },
    "q4": {
     "name": "q4",
     "points": null,
     "suites": [
      {
       "cases": [
        {
         "code": ">>> assert type(split_check(\"Joel\", 32.50, 0.25)) == str, \"Error: return value must be a string\"\n",
         "hidden": false,
         "locked": false
        },
        {
         "code": ">>> assert split_check(\"joel\", 32.5, 0.25) == \"joel owes 8.12\", \"Wrong return value\"\n",
         "hidden": false,
         "locked": false
        },
        {
         "code": ">>> assert split_check(\"sarah\", 21.5, 0.13) == \"sarah owes 2.79\", \"Wrong return value\"\n",
         "hidden": false,
         "locked": false
        },
        {
         "code": ">>> assert split_check(\"rk\", 2.5, 0.79) == \"rk owes 1.98\", \"Wrong return value\"\n",
         "hidden": false,
         "locked": false
        },
        {
         "code": ">>> assert split_check(\"samar\", 7.22, 0.28) == \"samar owes 2.02\", \"Wrong return value\"\n",
         "hidden": false,
         "locked": false
        },
        {
         "code": ">>> assert split_check(\"joel\", 102.8, 0.35) == \"joel owes 35.98\", \"Wrong return value\"\n",
         "hidden": false,
         "locked": false
        }
       ],
       "scored": true,
       "setup": "",
       "teardown": "",
       "type": "doctest"
      }
     ]
    }
   }
  },
  "toc": {
   "base_numbering": 1,
   "nav_menu": {},
   "number_sections": false,
   "sideBar": true,
   "skip_h1_title": false,
   "title_cell": "Table of Contents",
   "title_sidebar": "Contents",
   "toc_cell": false,
   "toc_position": {},
   "toc_section_display": true,
   "toc_window_display": false
  }
 },
 "nbformat": 4,
 "nbformat_minor": 1
}
