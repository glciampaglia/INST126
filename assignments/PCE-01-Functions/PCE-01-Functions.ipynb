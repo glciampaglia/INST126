{
 "cells": [
  {
   "cell_type": "code",
   "execution_count": null,
   "metadata": {
    "deletable": false,
    "editable": false
   },
   "outputs": [],
   "source": [
    "# Initialize Otter\n",
    "import otter\n",
    "grader = otter.Notebook(\"PCE-01-Functions.ipynb\")"
   ]
  },
  {
   "cell_type": "markdown",
   "metadata": {
    "id": "y3G0wdCFC5up",
    "nbgrader": {
     "grade": false,
     "grade_id": "cell-a9a8026b421c369a",
     "locked": true,
     "schema_version": 3,
     "solution": false,
     "task": false
    }
   },
   "source": [
    "# Programming Component Exercise 01 &ndash; Functions"
   ]
  },
  {
   "cell_type": "markdown",
   "metadata": {
    "id": "4-Pwu6LeEUd5",
    "nbgrader": {
     "grade": false,
     "grade_id": "cell-9cc6b4287274f3b2",
     "locked": true,
     "schema_version": 3,
     "solution": false,
     "task": false
    }
   },
   "source": [
    "## Q1: Average of two numbers\n",
    "\n",
    "Write a function called `average` that calculates the average of `x` and `y`."
   ]
  },
  {
   "cell_type": "code",
   "execution_count": null,
   "metadata": {
    "id": "FfhDpCj11O07",
    "nbgrader": {
     "grade": true,
     "grade_id": "cell-9d87fae5e7aad672",
     "locked": false,
     "points": 1,
     "schema_version": 3,
     "solution": true,
     "task": false
    },
    "tags": []
   },
   "outputs": [],
   "source": [
    "...\n",
    "\n",
    "# Try different arguments!\n",
    "average(3, 2)"
   ]
  },
  {
   "cell_type": "markdown",
   "metadata": {
    "deletable": false,
    "editable": false
   },
   "source": [
    "The cell below is an autograder cell, run it to check if your solution is correct."
   ]
  },
  {
   "cell_type": "code",
   "execution_count": null,
   "metadata": {
    "deletable": false,
    "editable": false
   },
   "outputs": [],
   "source": [
    "grader.check(\"q1\")"
   ]
  },
  {
   "cell_type": "markdown",
   "metadata": {},
   "source": [
    "<br/>\n",
    "<br/>\n",
    "<br/>\n",
    "<br/>\n",
    "<br/>\n",
    "<br/>\n",
    "\n",
    "---"
   ]
  },
  {
   "cell_type": "markdown",
   "metadata": {
    "id": "ml6TsbTfJogr",
    "nbgrader": {
     "grade": false,
     "grade_id": "cell-ccac6d49047f9506",
     "locked": true,
     "schema_version": 3,
     "solution": false,
     "task": false
    }
   },
   "source": [
    "## Q2: Concatenation of two strings\n",
    "\n",
    "Write a function called `concatenate` that concatenates string `s1` and `s2` together (with no spaces)."
   ]
  },
  {
   "cell_type": "code",
   "execution_count": null,
   "metadata": {
    "id": "TA9lHAOo1uSn",
    "nbgrader": {
     "grade": false,
     "grade_id": "cell-6df18a24d4ffee41",
     "locked": false,
     "schema_version": 3,
     "solution": true,
     "task": false
    },
    "tags": []
   },
   "outputs": [],
   "source": [
    "...\n",
    "\n",
    "# Try different arguments!\n",
    "concatenate(\"fun\", \"nily\")"
   ]
  },
  {
   "cell_type": "markdown",
   "metadata": {
    "deletable": false,
    "editable": false
   },
   "source": [
    "The cell below is an autograder cell, run it to check if your solution is correct."
   ]
  },
  {
   "cell_type": "code",
   "execution_count": null,
   "metadata": {
    "deletable": false,
    "editable": false
   },
   "outputs": [],
   "source": [
    "grader.check(\"q2\")"
   ]
  },
  {
   "cell_type": "markdown",
   "metadata": {},
   "source": [
    "<br/>\n",
    "<br/>\n",
    "<br/>\n",
    "<br/>\n",
    "<br/>\n",
    "<br/>\n",
    "\n",
    "---"
   ]
  },
  {
   "cell_type": "markdown",
   "metadata": {
    "id": "HdTYpSWFZYbJ",
    "nbgrader": {
     "grade": false,
     "grade_id": "cell-5144dbf50acff271",
     "locked": true,
     "schema_version": 3,
     "solution": false,
     "task": false
    }
   },
   "source": [
    "## Q3: Fix a function so it passes the autograder\n",
    "\n",
    "The function `multiply_as_ints` is supposed to take variables `x` and `y` holding any as argument any value that can be converted to integer, and returns their product. \n",
    "\n",
    "However it is currently failing the autograder tests. Fix `multiply_as_ints` so that all tests pass correctly."
   ]
  },
  {
   "cell_type": "code",
   "execution_count": null,
   "metadata": {
    "id": "GSAFxJUgLgO1",
    "nbgrader": {
     "grade": true,
     "grade_id": "cell-b878c57dc23178ef",
     "locked": false,
     "points": 1,
     "schema_version": 3,
     "solution": true,
     "task": false
    },
    "tags": []
   },
   "outputs": [],
   "source": [
    "def multiply_as_ints(x, y):\n",
    "    result = float(x) * float(y)\n",
    "    return x\n",
    "\n",
    "# Try different arguments!\n",
    "multiply_as_ints(\"2\", \"5\")"
   ]
  },
  {
   "cell_type": "markdown",
   "metadata": {
    "deletable": false,
    "editable": false
   },
   "source": [
    "The cell below is an autograder cell, run it to check if your solution is correct."
   ]
  },
  {
   "cell_type": "code",
   "execution_count": null,
   "metadata": {
    "deletable": false,
    "editable": false
   },
   "outputs": [],
   "source": [
    "grader.check(\"q3\")"
   ]
  },
  {
   "cell_type": "markdown",
   "metadata": {},
   "source": [
    "<br/>\n",
    "<br/>\n",
    "<br/>\n",
    "<br/>\n",
    "<br/>\n",
    "<br/>\n",
    "\n",
    "---"
   ]
  },
  {
   "cell_type": "markdown",
   "metadata": {
    "id": "kok_XTaVv5zI",
    "nbgrader": {
     "grade": false,
     "grade_id": "cell-ef629092d647b076",
     "locked": true,
     "schema_version": 3,
     "solution": false,
     "task": false
    }
   },
   "source": [
    "## Q4: Fix another function so it passes the autograder\n",
    "\n",
    "The function `compute_tip` is supposed to take variables `subtotal` and `percentage` (a number betwen 0 and 100) and to return how much to tip for a check. It is then called by `display_tip` to print a message to the customer.\n",
    "\n",
    "However the code is currently failing the autograder tests. Fix `compute_tip` so that all tests pass correctly."
   ]
  },
  {
   "cell_type": "code",
   "execution_count": null,
   "metadata": {
    "id": "4ykWPu7Dv9bf",
    "nbgrader": {
     "grade": true,
     "grade_id": "cell-ff7943e294b3e0e9",
     "locked": false,
     "points": 1,
     "schema_version": 3,
     "solution": true,
     "task": false
    },
    "tags": []
   },
   "outputs": [],
   "source": [
    "def compute_tip(subtotal, percentage):\n",
    "    tip = x * percentage / 100\n",
    "    print(tip)\n",
    "\n",
    "# Try with different arguments!\n",
    "x = 100\n",
    "y = 18\n",
    "compute_tip(x, y)"
   ]
  },
  {
   "cell_type": "code",
   "execution_count": null,
   "metadata": {
    "editable": false,
    "id": "4ykWPu7Dv9bf",
    "nbgrader": {
     "grade": true,
     "grade_id": "cell-ff7943e294b3e0e9",
     "locked": false,
     "points": 1,
     "schema_version": 3,
     "solution": true,
     "task": false
    },
    "tags": []
   },
   "outputs": [],
   "source": [
    "# This cell is not editable!\n",
    "def display_tip(s, p):\n",
    "    tip = \"$\" + str(compute_tip(s, p))\n",
    "    print(\"The tip for this check is\", tip)\n",
    "    \n",
    "x = 100\n",
    "y = 23\n",
    "display_tip(x, y)"
   ]
  },
  {
   "cell_type": "markdown",
   "metadata": {
    "deletable": false,
    "editable": false
   },
   "source": [
    "The cell below is an autograder cell, run it to check if your solution is correct."
   ]
  },
  {
   "cell_type": "code",
   "execution_count": null,
   "metadata": {
    "deletable": false,
    "editable": false
   },
   "outputs": [],
   "source": [
    "grader.check(\"q4\")"
   ]
  },
  {
   "cell_type": "markdown",
   "metadata": {},
   "source": [
    "<br/>\n",
    "<br/>\n",
    "<br/>\n",
    "<br/>\n",
    "<br/>\n",
    "<br/>\n",
    "\n",
    "---"
   ]
  },
  {
   "cell_type": "markdown",
   "metadata": {},
   "source": [
    "### **_NOTE:_**  Do not forget to run this cell"
   ]
  },
  {
   "cell_type": "code",
   "execution_count": null,
   "metadata": {},
   "outputs": [],
   "source": [
    "!jupyter nbconvert --to script PCE-01-Functions.ipynb"
   ]
  },
  {
   "cell_type": "markdown",
   "metadata": {
    "deletable": false,
    "editable": false
   },
   "source": [
    "## Submission\n",
    "\n",
    "Make sure you have run all cells in your notebook in order before running the cell below, so that all images/graphs appear in the output. The cell below will generate a zip file for you to submit."
   ]
  },
  {
   "cell_type": "code",
   "execution_count": null,
   "metadata": {
    "deletable": false,
    "editable": false
   },
   "outputs": [],
   "source": [
    "grader.export(pdf=False, force_save=True, run_tests=True, files=['PCE-01-Functions.py'])"
   ]
  },
  {
   "cell_type": "markdown",
   "metadata": {},
   "source": [
    " "
   ]
  }
 ],
 "metadata": {
  "celltoolbar": "Create Assignment",
  "colab": {
   "collapsed_sections": [],
   "name": "INST126_SP21_PCE_M1_Functions_Student_Template.ipynb",
   "provenance": []
  },
  "kernelspec": {
   "display_name": "Python 3 (ipykernel)",
   "language": "python",
   "name": "python3"
  },
  "language_info": {
   "codemirror_mode": {
    "name": "ipython",
    "version": 3
   },
   "file_extension": ".py",
   "mimetype": "text/x-python",
   "name": "python",
   "nbconvert_exporter": "python",
   "pygments_lexer": "ipython3",
   "version": "3.12.7"
  },
  "otter": {
   "OK_FORMAT": true,
   "tests": {
    "q1": {
     "name": "q1",
     "points": null,
     "suites": [
      {
       "cases": [
        {
         "code": ">>> assert type(average(3, 4)) == float, 'The function should return a float'\n",
         "hidden": false,
         "locked": false
        },
        {
         "code": ">>> assert average(3, 2) == 2.5, 'Your functions computed the wrong value'\n",
         "hidden": false,
         "locked": false
        },
        {
         "code": ">>> assert average(10, 4) == 7, 'Your functions computed the wrong value'\n",
         "hidden": false,
         "locked": false
        },
        {
         "code": ">>> assert average(10, -1) == 4.5, 'Your functions computed the wrong value'\n",
         "hidden": false,
         "locked": false
        }
       ],
       "scored": true,
       "setup": "",
       "teardown": "",
       "type": "doctest"
      }
     ]
    },
    "q2": {
     "name": "q2",
     "points": null,
     "suites": [
      {
       "cases": [
        {
         "code": ">>> assert type(concatenate('fun', 'nily')) == str, 'The function should return a string'\n",
         "hidden": false,
         "locked": false
        },
        {
         "code": ">>> assert concatenate('fun', 'nily') == 'funnily', 'Your functions computed the wrong value'\n",
         "hidden": false,
         "locked": false
        },
        {
         "code": ">>> assert concatenate('appro', 'vingly') == 'approvingly', 'Your functions computed the wrong value'\n",
         "hidden": false,
         "locked": false
        },
        {
         "code": ">>> assert concatenate('Hello ', 'world!') == 'Hello world!', 'Your functions computed the wrong value'\n",
         "hidden": false,
         "locked": false
        }
       ],
       "scored": true,
       "setup": "",
       "teardown": "",
       "type": "doctest"
      }
     ]
    },
    "q3": {
     "name": "q3",
     "points": null,
     "suites": [
      {
       "cases": [
        {
         "code": ">>> assert type(multiply_as_ints('3', '4')) == int, 'The function should return an int'\n",
         "hidden": false,
         "locked": false
        },
        {
         "code": ">>> assert multiply_as_ints('3', '4') == 12, 'Your functions computed the wrong value'\n",
         "hidden": false,
         "locked": false
        },
        {
         "code": ">>> assert multiply_as_ints(3.4, 4.0) == 12, 'Your functions computed the wrong value'\n",
         "hidden": false,
         "locked": false
        },
        {
         "code": ">>> assert multiply_as_ints(3.4, '-1') == -3, 'Your functions computed the wrong value'\n",
         "hidden": false,
         "locked": false
        },
        {
         "code": ">>> assert multiply_as_ints('10', '-1') == -10, 'Your functions computed the wrong value'\n",
         "hidden": false,
         "locked": false
        }
       ],
       "scored": true,
       "setup": "",
       "teardown": "",
       "type": "doctest"
      }
     ]
    },
    "q4": {
     "name": "q4",
     "points": null,
     "suites": [
      {
       "cases": [
        {
         "code": ">>> assert compute_tip(200, 20) == 40, 'The function computes the wrong value.'\n",
         "hidden": false,
         "locked": false
        },
        {
         "code": ">>> from io import StringIO\n>>> from contextlib import redirect_stdout\n>>> with redirect_stdout(StringIO()) as buf:\n...     display_tip(300, 25)\n...     out = buf.getvalue()\n...     assert out == 'The tip for this check is $75.0\\n', f'Wrong message: {out!r}.'\n",
         "hidden": false,
         "locked": false
        }
       ],
       "scored": true,
       "setup": "",
       "teardown": "",
       "type": "doctest"
      }
     ]
    }
   }
  },
  "toc": {
   "base_numbering": 1,
   "nav_menu": {},
   "number_sections": true,
   "sideBar": true,
   "skip_h1_title": false,
   "title_cell": "Table of Contents",
   "title_sidebar": "Contents",
   "toc_cell": false,
   "toc_position": {},
   "toc_section_display": true,
   "toc_window_display": false
  }
 },
 "nbformat": 4,
 "nbformat_minor": 4
}
