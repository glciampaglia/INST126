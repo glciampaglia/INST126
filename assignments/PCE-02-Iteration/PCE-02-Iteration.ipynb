{
 "cells": [
  {
   "cell_type": "code",
   "execution_count": null,
   "metadata": {
    "deletable": false,
    "editable": false
   },
   "outputs": [],
   "source": [
    "# Initialize Otter\n",
    "import otter\n",
    "grader = otter.Notebook(\"PCE-02-Iteration.ipynb\")"
   ]
  },
  {
   "cell_type": "markdown",
   "metadata": {
    "id": "ghB6x7zE5v12",
    "nbgrader": {
     "grade": false,
     "grade_id": "cell-ca7ff2042cace878",
     "locked": true,
     "schema_version": 3,
     "solution": false,
     "task": false
    }
   },
   "source": [
    "# Q1: Pad a string with a single-character string\n",
    "\n",
    "Define a function called `padding` that has two parameters &mdash; a base string, and another string made of a single character.\n",
    "\n",
    "The function should use a loop to concatenate the character repeatedly to the base string until it reaches a length of 5 (i.e., it _pads_ the base string with the character), and then return the resulting modified string. If the base string is already at length 5 or more it should be returned as it is without any padding.\n",
    "\n",
    "For example, given `\"aa\"` and `\"b\"` as arguments, your function should return `\"aabbb\"`. If instead you pass in a string that is already 5 characters long (e.g., `abcde`), you should get the same string out of the function.\n",
    "\n",
    "## Parameters\n",
    "* `base` &ndash; a string,\n",
    "* `c` &ndash; single character that needs to be concatenated with the input string.\n",
    "\n",
    "## Returns\n",
    "* `newbase` &ndash; new string that has the character `c` added to `base` as many times as it takes to make it 5 characters long.\n",
    "\n",
    "## Hint\n",
    "Use an indefinite loop to concatenate the padding character until the desired length has been reached. To check the lenght of a string, you can use the `len()` function.\n",
    "\n",
    "---\n",
    "\n",
    "⬇️⬇️⬇️ Enter your solution in the cell below ⬇️⬇️⬇️"
   ]
  },
  {
   "cell_type": "code",
   "execution_count": null,
   "metadata": {
    "id": "kLlcLOCG5sUg",
    "nbgrader": {
     "grade": true,
     "grade_id": "cell-4c9a4b1f07c01a92",
     "locked": false,
     "points": 1,
     "schema_version": 3,
     "solution": true,
     "task": false
    },
    "tags": []
   },
   "outputs": [],
   "source": [
    "def padding(base, c):\n",
    "...\n",
    "\n",
    "# Test with different arguments!\n",
    "_base = \"vvv\"\n",
    "_c = \"1\"\n",
    "_newbase = padding(_base, _c)\n",
    "print(\"Original:\", _base, \"length:\", len(_base))\n",
    "print(\"Padded:\", _newbase, \"length:\", len(_newbase))"
   ]
  },
  {
   "cell_type": "markdown",
   "metadata": {
    "deletable": false,
    "editable": false,
    "nbgrader": {
     "grade": false,
     "grade_id": "cell-2c02e3f472eca5a7",
     "locked": true,
     "schema_version": 3,
     "solution": false,
     "task": false
    }
   },
   "source": [
    "When you're ready run the cell below to get feedback on your answer."
   ]
  },
  {
   "cell_type": "code",
   "execution_count": null,
   "metadata": {
    "deletable": false,
    "editable": false
   },
   "outputs": [],
   "source": [
    "grader.check(\"q1\")"
   ]
  },
  {
   "cell_type": "markdown",
   "metadata": {},
   "source": [
    "<br/>\n",
    "<br/>\n",
    "<br/>\n",
    "<br/>\n",
    "<br/>\n",
    "<br/>\n",
    "\n",
    "---"
   ]
  },
  {
   "cell_type": "markdown",
   "metadata": {
    "id": "cETDfKKx7OQK",
    "nbgrader": {
     "grade": false,
     "grade_id": "cell-e6c7702dcc6b051c",
     "locked": true,
     "schema_version": 3,
     "solution": false,
     "task": false
    }
   },
   "source": [
    "# Q2: Multiply numbers in a list\n",
    "\n",
    "Write a function called `multiplynums` with two parameters &ndash; a list of numbers and a multiplication factor (another number). The function should return a new list where each element has been multiplied by the multiplication factor.\n",
    "\n",
    "For example, given `[3, 2, 6]` and `2` as arguments, your function should return `[6, 4, 12]`.\n",
    "\n",
    "## Parameters\n",
    "- `nums` &ndash; list of numbers\n",
    "- `multiplier` &ndash; a number\n",
    "\n",
    "## Returns\n",
    "- `newnums` &ndash; new list of numbers\n",
    "\n",
    "---\n",
    "\n",
    "⬇️⬇️⬇️ Enter your solution in the cell below ⬇️⬇️⬇️"
   ]
  },
  {
   "cell_type": "code",
   "execution_count": null,
   "metadata": {
    "id": "q9__n7ka5sd_",
    "nbgrader": {
     "grade": false,
     "grade_id": "cell-0b0623ccd2463c19",
     "locked": false,
     "schema_version": 3,
     "solution": true,
     "task": false
    },
    "tags": []
   },
   "outputs": [],
   "source": [
    "def multiplynums(nums, multiplier):\n",
    "...\n",
    "\n",
    "# Test with different arguments!\n",
    "my_nums = [12, 54, 75, 88, 54]\n",
    "my_multiplier = 2\n",
    "my_newnums = multiplynums(my_nums, my_multiplier)\n",
    "print(\"Original:\", my_nums)\n",
    "print(\"Multiplied:\", my_newnums)"
   ]
  },
  {
   "cell_type": "code",
   "execution_count": null,
   "metadata": {
    "deletable": false,
    "editable": false
   },
   "outputs": [],
   "source": [
    "grader.check(\"q2\")"
   ]
  },
  {
   "cell_type": "markdown",
   "metadata": {},
   "source": [
    "<br/>\n",
    "<br/>\n",
    "<br/>\n",
    "<br/>\n",
    "<br/>\n",
    "<br/>\n",
    "\n",
    "---"
   ]
  },
  {
   "cell_type": "markdown",
   "metadata": {
    "id": "o1PbSt64fXSi",
    "nbgrader": {
     "grade": false,
     "grade_id": "cell-1cd163b03a9f4f25",
     "locked": true,
     "schema_version": 3,
     "solution": false,
     "task": false
    }
   },
   "source": [
    "# Q3: Filter a list of numbers that are not even\n",
    "\n",
    "\n",
    "Define a function called `onlyeven` that takes a list of numbers and returns a list of all even numbers in that original list and no odd number.\n",
    "\n",
    "For example, with `[2, 4, 65, 67, 89, 87, 88, 90, 23, 34]` as argument, your function should return `[2, 4, 88, 90, 34]`.\n",
    "\n",
    "### Parameters\n",
    "* `numbers` &ndash; list of numbers.\n",
    "\n",
    "### Returns\n",
    "* `evens` &ndash; a new list with the even numbers that are in `nums`.\n",
    "\n",
    "⬇️⬇️⬇️ Enter your solution in the cell below ⬇️⬇️⬇️"
   ]
  },
  {
   "cell_type": "code",
   "execution_count": null,
   "metadata": {
    "id": "bFkdQ4s9prBI",
    "nbgrader": {
     "grade": false,
     "grade_id": "cell-aeefa9518c89deaa",
     "locked": false,
     "schema_version": 3,
     "solution": true,
     "task": false
    },
    "tags": []
   },
   "outputs": [],
   "source": [
    "def onlyeven(numbers):\n",
    "...\n",
    "\n",
    "# Test with different arguments!\n",
    "_numbers = [2, 4, 65, 67, 89, 87, 88, 90, 23, 34]\n",
    "_evens = onlyeven(_numbers)\n",
    "print(\"Original:\", _numbers)\n",
    "print(\"Filtered:\", _evens)"
   ]
  },
  {
   "cell_type": "markdown",
   "metadata": {
    "deletable": false,
    "editable": false,
    "nbgrader": {
     "grade": false,
     "grade_id": "cell-ed8a255f6ef6a5d3",
     "locked": true,
     "schema_version": 3,
     "solution": false,
     "task": false
    }
   },
   "source": [
    "When you're ready run the cell below to get feedback on your answer."
   ]
  },
  {
   "cell_type": "code",
   "execution_count": null,
   "metadata": {
    "deletable": false,
    "editable": false
   },
   "outputs": [],
   "source": [
    "grader.check(\"q3\")"
   ]
  },
  {
   "cell_type": "markdown",
   "metadata": {},
   "source": [
    "<br/>\n",
    "<br/>\n",
    "<br/>\n",
    "<br/>\n",
    "<br/>\n",
    "<br/>\n",
    "\n",
    "---"
   ]
  },
  {
   "cell_type": "markdown",
   "metadata": {
    "nbgrader": {
     "grade": false,
     "grade_id": "cell-0afa742d30c3177c",
     "locked": true,
     "points": 2,
     "schema_version": 3,
     "solution": false,
     "task": true
    }
   },
   "source": [
    "## Manually graded: Add a docstring to `onlyeven`\n",
    "\n",
    "Go back to the solution cell above, and add a docstring to the `onlyeven` function. The docstring should contain:\n",
    "\n",
    "1. A brief description of what the function does;\n",
    "2. A list of the parameters with a brief description of each parameter and its type;\n",
    "3. A brief description of the return value.\n",
    "\n",
    "For this task you are free to format the docstring however you like. If you are unsure on how to get started, refer to the &ldquo;Functions&rdquo; slides on ELMS for an example of a docstring that includes all the required pieces of information.\n",
    "\n",
    "__NOTE__: _There is no autograder for this task: we will grade it manually. Note that you can earn points for this task even if your solution for the previous task is not passing the autograder, however we will check that your docstring does not generate syntax errors of its own._"
   ]
  },
  {
   "cell_type": "markdown",
   "metadata": {},
   "source": [
    "<br/>\n",
    "<br/>\n",
    "<br/>\n",
    "<br/>\n",
    "<br/>\n",
    "<br/>\n",
    "\n",
    "---"
   ]
  },
  {
   "cell_type": "markdown",
   "metadata": {
    "id": "t76GLzj4zXL3",
    "nbgrader": {
     "grade": false,
     "grade_id": "cell-37b3f5e9875daf3f",
     "locked": true,
     "schema_version": 3,
     "solution": false,
     "task": false
    }
   },
   "source": [
    "# Q4: Counting odds\n",
    "\n",
    "Define a function called `howmanyodds` that takes a list of numbers and returns how many odd numbers are in the list. \n",
    "\n",
    "For example, given `[2, 4, 65, 67, 89, 87, 88, 90, 22, 34]` as argument, your function should return `3`\n",
    "\n",
    "## Inputs\n",
    "* `nums` &ndash; a list of numbers\n",
    "\n",
    "## Returns\n",
    "* `count_odds` &ndash; count of odd numbers in the list\n",
    "\n",
    "⬇️⬇️⬇️ Enter your solution in the cell below ⬇️⬇️⬇️"
   ]
  },
  {
   "cell_type": "code",
   "execution_count": null,
   "metadata": {
    "id": "LLDdv7svyzeK",
    "nbgrader": {
     "grade": false,
     "grade_id": "cell-ee571907f08817b4",
     "locked": false,
     "schema_version": 3,
     "solution": true,
     "task": false
    },
    "tags": []
   },
   "outputs": [],
   "source": [
    "def howmanyodds(nums):\n",
    "...\n",
    "\n",
    "# Test with different arguments!\n",
    "_nums = [2, 4, 65, 67, 89, 87, 88, 90, 23, 34]\n",
    "_count = howmanyodds(_nums)\n",
    "print(\"Original:\", _nums)\n",
    "print(\"Odds:\", _count)"
   ]
  },
  {
   "cell_type": "markdown",
   "metadata": {
    "deletable": false,
    "editable": false,
    "nbgrader": {
     "grade": false,
     "grade_id": "cell-beea3e039033338a",
     "locked": true,
     "schema_version": 3,
     "solution": false,
     "task": false
    }
   },
   "source": [
    "When you're ready run the cell below to get feedback on your answer."
   ]
  },
  {
   "cell_type": "code",
   "execution_count": null,
   "metadata": {
    "deletable": false,
    "editable": false
   },
   "outputs": [],
   "source": [
    "grader.check(\"q4\")"
   ]
  },
  {
   "cell_type": "markdown",
   "metadata": {},
   "source": [
    "### **_NOTE:_**  Do not forget to run this cell"
   ]
  },
  {
   "cell_type": "code",
   "execution_count": null,
   "metadata": {},
   "outputs": [],
   "source": [
    "!jupyter nbconvert --to script PCE-02-Iteration.ipynb"
   ]
  },
  {
   "cell_type": "markdown",
   "metadata": {
    "deletable": false,
    "editable": false
   },
   "source": [
    "## Submission\n",
    "\n",
    "Make sure you have run all cells in your notebook in order before running the cell below, so that all images/graphs appear in the output. The cell below will generate a zip file for you to submit."
   ]
  },
  {
   "cell_type": "code",
   "execution_count": null,
   "metadata": {
    "deletable": false,
    "editable": false
   },
   "outputs": [],
   "source": [
    "grader.export(pdf=False, force_save=True, run_tests=True, files=['PCE-02-Iteration.py'])"
   ]
  },
  {
   "cell_type": "markdown",
   "metadata": {},
   "source": [
    " "
   ]
  }
 ],
 "metadata": {
  "celltoolbar": "Create Assignment",
  "colab": {
   "collapsed_sections": [],
   "name": "INST126_SP22_PCE_M2_Iteration_Student_Template.ipynb",
   "provenance": []
  },
  "kernelspec": {
   "display_name": "Python 3 (ipykernel)",
   "language": "python",
   "name": "python3"
  },
  "language_info": {
   "codemirror_mode": {
    "name": "ipython",
    "version": 3
   },
   "file_extension": ".py",
   "mimetype": "text/x-python",
   "name": "python",
   "nbconvert_exporter": "python",
   "pygments_lexer": "ipython3",
   "version": "3.12.2"
  },
  "otter": {
   "OK_FORMAT": true,
   "tests": {
    "q1": {
     "name": "q1",
     "points": null,
     "suites": [
      {
       "cases": [
        {
         "code": ">>> assert type(padding('aa', 'b')) == str, \"For input 'aa' and 'b'', the function should return a str value\"\n",
         "hidden": false,
         "locked": false
        },
        {
         "code": ">>> assert padding('aa', 'b') == 'aabbb', 'Wrong return value'\n",
         "hidden": false,
         "locked": false
        },
        {
         "code": ">>> assert padding('c', 'a') == 'caaaa', 'Wrong return value'\n",
         "hidden": false,
         "locked": false
        },
        {
         "code": ">>> assert padding('12345', 'b') == '12345', 'Wrong return value'\n",
         "hidden": false,
         "locked": false
        }
       ],
       "scored": true,
       "setup": "",
       "teardown": "",
       "type": "doctest"
      }
     ]
    },
    "q2": {
     "name": "q2",
     "points": null,
     "suites": [
      {
       "cases": [
        {
         "code": ">>> assert type(multiplynums([1, 2, 3, 4, 5], 5)) == list, 'For input ([1, 2, 3, 4, 5], 5), the function should return a list'\n",
         "hidden": false,
         "locked": false
        },
        {
         "code": ">>> assert multiplynums([1, 2, 3, 4, 5], 5) == [5, 10, 15, 20, 25], 'Wrong return value'\n",
         "hidden": false,
         "locked": false
        },
        {
         "code": ">>> assert multiplynums([0, 1, 2, 3], 4) == [0, 4, 8, 12], 'Wrong return value'\n",
         "hidden": false,
         "locked": false
        },
        {
         "code": ">>> assert multiplynums([-2, 4, -6], 3) == [-6, 12, -18], 'Wrong return value'\n",
         "hidden": false,
         "locked": false
        },
        {
         "code": ">>> _original = [1, 2, 3]\n>>> _newnums = multiplynums(_original, 3)\n>>> assert _original == [1, 2, 3], 'Wrong return value'\n",
         "hidden": false,
         "locked": false
        },
        {
         "code": ">>> _original = [4, 5, 6]\n>>> _newnums = multiplynums(_original, 5)\n>>> assert _original == [4, 5, 6], 'Wrong return value'\n",
         "hidden": false,
         "locked": false
        }
       ],
       "scored": true,
       "setup": "",
       "teardown": "",
       "type": "doctest"
      }
     ]
    },
    "q3": {
     "name": "q3",
     "points": null,
     "suites": [
      {
       "cases": [
        {
         "code": ">>> assert type(onlyeven([1, 3, 4, 6, 8, 10])) == list, 'For input ([1, 3, 4, 6, 8, 10]), the function should return a list'\n",
         "hidden": false,
         "locked": false
        },
        {
         "code": ">>> assert onlyeven([1, 3, 4, 6, 8, 10]) == [4, 6, 8, 10], 'Wrong return value'\n",
         "hidden": false,
         "locked": false
        },
        {
         "code": ">>> assert onlyeven([1, 3, 5, 7, 9]) == [], 'Wrong return value'\n",
         "hidden": false,
         "locked": false
        },
        {
         "code": ">>> assert onlyeven([2, 4, 66, 88, 44]) == [2, 4, 66, 88, 44], 'Wrong return value'\n",
         "hidden": false,
         "locked": false
        }
       ],
       "scored": true,
       "setup": "",
       "teardown": "",
       "type": "doctest"
      }
     ]
    },
    "q4": {
     "name": "q4",
     "points": null,
     "suites": [
      {
       "cases": [
        {
         "code": ">>> assert type(howmanyodds([1, 3, 4, 6, 8, 10])) == int, 'For input ([1, 3, 4, 6, 8, 10]), the function should return an int'\n",
         "hidden": false,
         "locked": false
        },
        {
         "code": ">>> assert howmanyodds([1, 3, 4, 6, 8, 10]) == 2, 'Wrong return value'\n",
         "hidden": false,
         "locked": false
        },
        {
         "code": ">>> assert howmanyodds([1, 3, 5, 7, 9]) == 5, 'Wrong return value'\n",
         "hidden": false,
         "locked": false
        },
        {
         "code": ">>> assert howmanyodds(nums=[2, 4, 66, 88, 44]) == 0, 'Wrong return value'\n",
         "hidden": false,
         "locked": false
        }
       ],
       "scored": true,
       "setup": "",
       "teardown": "",
       "type": "doctest"
      }
     ]
    }
   }
  },
  "toc": {
   "base_numbering": 1,
   "nav_menu": {},
   "number_sections": false,
   "sideBar": true,
   "skip_h1_title": false,
   "title_cell": "Table of Contents",
   "title_sidebar": "Contents",
   "toc_cell": false,
   "toc_position": {},
   "toc_section_display": true,
   "toc_window_display": false
  }
 },
 "nbformat": 4,
 "nbformat_minor": 1
}
