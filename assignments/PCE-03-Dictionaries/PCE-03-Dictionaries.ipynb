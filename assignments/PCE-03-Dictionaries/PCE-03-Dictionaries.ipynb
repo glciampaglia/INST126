{
 "cells": [
  {
   "cell_type": "code",
   "execution_count": null,
   "metadata": {
    "deletable": false,
    "editable": false
   },
   "outputs": [],
   "source": [
    "# Initialize Otter\n",
    "import otter\n",
    "grader = otter.Notebook(\"PCE-03-Dictionaries.ipynb\")"
   ]
  },
  {
   "cell_type": "markdown",
   "metadata": {
    "id": "y3G0wdCFC5up",
    "nbgrader": {
     "grade": false,
     "grade_id": "cell-e59000a086359196",
     "locked": true,
     "schema_version": 3,
     "solution": false,
     "task": false
    }
   },
   "source": [
    "# PCE 3: Dictionaries\n"
   ]
  },
  {
   "cell_type": "markdown",
   "metadata": {},
   "source": [
    "<br/>\n",
    "<br/>\n",
    "<br/>\n",
    "<br/>\n",
    "<br/>\n",
    "<br/>\n",
    "\n",
    "---"
   ]
  },
  {
   "cell_type": "markdown",
   "metadata": {
    "id": "4ue5lOAO383w",
    "nbgrader": {
     "grade": false,
     "grade_id": "cell-0ebe769e5238c7e8",
     "locked": true,
     "schema_version": 3,
     "solution": false,
     "task": false
    }
   },
   "source": [
    "## Q1: Create a dictionary\n",
    "\n",
    "Write a function called `make_dict()` that takes two paramenters &ndash; k, v &ndash; and returns a dictionary with value v corresponding to key k.\n",
    "\n",
    "Parameters:\n",
    "- `k` &ndash; the key\n",
    "- `v` &ndash; the value\n",
    "\n",
    "Returns:\n",
    "- `new_dict` &ndash; a dictionary\n",
    "\n",
    "For example, given `'a'` and `4`as input arguments, `make_dict()` should return `{'a': 4}`\n",
    "\n",
    "⬇️⬇️⬇️ Enter your solution in the cell below ⬇️⬇️⬇️"
   ]
  },
  {
   "cell_type": "code",
   "execution_count": null,
   "metadata": {
    "id": "cJtSe-DDGS9e",
    "nbgrader": {
     "grade": false,
     "grade_id": "cell-7294e987de67cc3d",
     "locked": false,
     "schema_version": 3,
     "solution": true,
     "task": false
    },
    "tags": []
   },
   "outputs": [],
   "source": [
    "def make_dict(k, v):\n",
    "...\n",
    "\n",
    "# Test your function below. Feel free to change the values.\n",
    "new_dict = make_dict(k='a', v=4)\n",
    "new_dict"
   ]
  },
  {
   "cell_type": "markdown",
   "metadata": {
    "deletable": false,
    "editable": false,
    "nbgrader": {
     "grade": false,
     "grade_id": "cell-3a88d8641409a231",
     "locked": true,
     "schema_version": 3,
     "solution": false,
     "task": false
    }
   },
   "source": [
    "When you're ready run the cell below to get feedback on your answer."
   ]
  },
  {
   "cell_type": "code",
   "execution_count": null,
   "metadata": {
    "deletable": false,
    "editable": false
   },
   "outputs": [],
   "source": [
    "grader.check(\"q1\")"
   ]
  },
  {
   "cell_type": "markdown",
   "metadata": {},
   "source": [
    "<br/>\n",
    "<br/>\n",
    "<br/>\n",
    "<br/>\n",
    "<br/>\n",
    "<br/>\n",
    "\n",
    "---"
   ]
  },
  {
   "cell_type": "markdown",
   "metadata": {
    "id": "SKkefbjF8SVj",
    "nbgrader": {
     "grade": false,
     "grade_id": "cell-9df73067505032d0",
     "locked": true,
     "schema_version": 3,
     "solution": false,
     "task": false
    }
   },
   "source": [
    "\n",
    "## Q2: Create a dictionary from lists\n",
    "Write a function called `make_dict_from_lists()` that takes two lists as parameters &ndash; `keys` and `values` &ndash; and returns a dictionary where each element in `keys` is mapped into the corresponding element (by position) in `values`.\n",
    "\n",
    "Parameters:\n",
    "- `keys` &ndash; list of elements to use as keys\n",
    "- `values` &ndash; list of values to use as values\n",
    "\n",
    "Returns:\n",
    "- `new_dict` &ndash; a dictionary\n",
    "\n",
    "For example, given `['a', 'b']`and `['c', 'd']` as arguments, `make_dict_from_lists()` should return `{'a': 'c', 'b': 'd'}`\n",
    "\n",
    "⬇️⬇️⬇️ Enter your solution in the cell below ⬇️⬇️⬇️"
   ]
  },
  {
   "cell_type": "code",
   "execution_count": null,
   "metadata": {
    "id": "aT2aYHKb8SVq",
    "nbgrader": {
     "grade": false,
     "grade_id": "cell-9753350ff6a6c6dc",
     "locked": false,
     "schema_version": 3,
     "solution": true,
     "task": false
    },
    "tags": []
   },
   "outputs": [],
   "source": [
    "\n",
    "def make_dict_from_lists(keys, values):\n",
    "...\n",
    "\n",
    "#Test your function below. Feel free to change the values.\n",
    "\n",
    "newdict = make_dict_from_lists(keys=['a','c'],values= ['b', 'd'])\n",
    "newdict"
   ]
  },
  {
   "cell_type": "markdown",
   "metadata": {
    "deletable": false,
    "editable": false,
    "nbgrader": {
     "grade": false,
     "grade_id": "cell-fb778b652f51cc50",
     "locked": true,
     "schema_version": 3,
     "solution": false,
     "task": false
    }
   },
   "source": [
    "When you're ready run the cell below to get feedback on your answer."
   ]
  },
  {
   "cell_type": "code",
   "execution_count": null,
   "metadata": {
    "deletable": false,
    "editable": false
   },
   "outputs": [],
   "source": [
    "grader.check(\"q2\")"
   ]
  },
  {
   "cell_type": "markdown",
   "metadata": {},
   "source": [
    "<br/>\n",
    "<br/>\n",
    "<br/>\n",
    "<br/>\n",
    "<br/>\n",
    "<br/>\n",
    "\n",
    "---"
   ]
  },
  {
   "cell_type": "markdown",
   "metadata": {
    "id": "4-Pwu6LeEUd5",
    "nbgrader": {
     "grade": false,
     "grade_id": "cell-646b877295e612ff",
     "locked": true,
     "schema_version": 3,
     "solution": false,
     "task": false
    }
   },
   "source": [
    "\n",
    "## Q3: Access items from a dictionary\n",
    "\n",
    "Write a function called `get_details()` that takes a dictionary called `d` and a key called `key` as parameters, and returns the value corresponding to the entered `key` in the dictionary.\n",
    "\n",
    "Parameters:\n",
    "- `d` &ndash; a dictionary with 2 or more key&ndash;value pairs\n",
    "- `key` &ndash; key for which we want extract the corresponding value from the dictionary\n",
    "\n",
    "Returns:\n",
    "- `value` &ndash; value corresponding to the key\n",
    "\n",
    "For example, given as argument this dictionary\n",
    "```python\n",
    "dict1 = {\n",
    "    'laptop_brand': 'Apple',\n",
    "    'laptop_model': 'MacBook Air',\n",
    "    'laptop_os' : 'macOS',\n",
    "    'laptop_os_version': '10.15.7'\n",
    "}\n",
    "``` \n",
    " and `\"laptop_model\"` as the key, `get_details()` should return `\"MacBook Air\"`\n",
    " \n",
    " ⬇️⬇️⬇️ Enter your solution in the cell below ⬇️⬇️⬇️"
   ]
  },
  {
   "cell_type": "code",
   "execution_count": null,
   "metadata": {
    "id": "L3ZdiibTxsr0",
    "nbgrader": {
     "grade": false,
     "grade_id": "cell-a4ce783edf9231cd",
     "locked": false,
     "schema_version": 3,
     "solution": true,
     "task": false
    },
    "tags": []
   },
   "outputs": [],
   "source": [
    "def get_details(d, key):\n",
    "...\n",
    "\n",
    "# test your function here\n",
    "laptop_dict = {\n",
    "    'laptop_brand': 'Apple',\n",
    "    'laptop_model': 'MacBook Air',\n",
    "    'laptop_os' : 'macOS',\n",
    "    'laptop_os_version': '10.15.7'\n",
    "}\n",
    "value = get_details(d = laptop_dict, key = 'laptop_model')\n",
    "value"
   ]
  },
  {
   "cell_type": "markdown",
   "metadata": {
    "deletable": false,
    "editable": false,
    "nbgrader": {
     "grade": false,
     "grade_id": "cell-f62f98e6efd31e7e",
     "locked": true,
     "schema_version": 3,
     "solution": false,
     "task": false
    }
   },
   "source": [
    "When you're ready run the cell below to get feedback on your answer."
   ]
  },
  {
   "cell_type": "code",
   "execution_count": null,
   "metadata": {
    "deletable": false,
    "editable": false
   },
   "outputs": [],
   "source": [
    "grader.check(\"q3\")"
   ]
  },
  {
   "cell_type": "markdown",
   "metadata": {},
   "source": [
    "<br/>\n",
    "<br/>\n",
    "<br/>\n",
    "<br/>\n",
    "<br/>\n",
    "<br/>\n",
    "\n",
    "---"
   ]
  },
  {
   "cell_type": "markdown",
   "metadata": {
    "id": "jt7hUDdeCJV3",
    "nbgrader": {
     "grade": false,
     "grade_id": "cell-21c4e7f80bbe3f49",
     "locked": true,
     "schema_version": 3,
     "solution": false,
     "task": false
    }
   },
   "source": [
    "\n",
    "## Q4: Add a new entry to a dictionary\n",
    "\n",
    "Write a function called `add_entry()` that takes one dictionary, a key, and a value and returns the dictionary with the newly added key&ndash;value pair.\n",
    "\n",
    "Parameters:\n",
    "- `dict1` &ndash; a dictionary \n",
    "- `key` &ndash; a key\n",
    "- `value` &ndash; a value  \n",
    "\n",
    "Returns:\n",
    "- `dict2` &ndash; the original dictionary with the new key&ndash;value pair\n",
    "\n",
    "For example, given as argument this dictionary\n",
    "```python\n",
    "{\n",
    "    'laptop_brand': 'Apple',\n",
    "    'laptop_model': 'MacBook Air'\n",
    "}\n",
    "``` \n",
    "and `'laptop_os'` as the key and `'macOS'` as the value, `add_entry()` should return \n",
    "```python\n",
    "{\n",
    "    'laptop_brand': 'Apple',\n",
    "    'laptop_model': 'MacBook Air',\n",
    "    'laptop_os' : 'macOS'\n",
    "}\n",
    "```\n",
    "\n",
    "⬇️⬇️⬇️ Enter your solution in the cell below ⬇️⬇️⬇️"
   ]
  },
  {
   "cell_type": "code",
   "execution_count": null,
   "metadata": {
    "id": "8zZKoQnPEG49",
    "nbgrader": {
     "grade": false,
     "grade_id": "cell-17ee6d63362e0d09",
     "locked": false,
     "schema_version": 3,
     "solution": true,
     "task": false
    },
    "tags": []
   },
   "outputs": [],
   "source": [
    "\n",
    "def add_entry(dict1, key, value):\n",
    "...\n",
    "\n",
    "# test your function\n",
    "laptop_dict2 = {\n",
    "    'laptop_brand': 'Apple',\n",
    "    'laptop_model': 'MacBook Air'\n",
    "}\n",
    "\n",
    "add_entry(dict1= laptop_dict2, key = 'laptop_os', value = 'macOS',)"
   ]
  },
  {
   "cell_type": "markdown",
   "metadata": {
    "deletable": false,
    "editable": false,
    "nbgrader": {
     "grade": false,
     "grade_id": "cell-82bbe1ca20185304",
     "locked": true,
     "schema_version": 3,
     "solution": false,
     "task": false
    }
   },
   "source": [
    "When you're ready run the cell below to get feedback on your answer."
   ]
  },
  {
   "cell_type": "code",
   "execution_count": null,
   "metadata": {
    "deletable": false,
    "editable": false
   },
   "outputs": [],
   "source": [
    "grader.check(\"q4\")"
   ]
  },
  {
   "cell_type": "markdown",
   "metadata": {},
   "source": [
    "<br/>\n",
    "<br/>\n",
    "<br/>\n",
    "<br/>\n",
    "<br/>\n",
    "<br/>\n",
    "\n",
    "---"
   ]
  },
  {
   "cell_type": "markdown",
   "metadata": {
    "id": "d7YtiASUtyi3",
    "nbgrader": {
     "grade": false,
     "grade_id": "cell-5cdea993459803ba",
     "locked": true,
     "schema_version": 3,
     "solution": false,
     "task": false
    }
   },
   "source": [
    "\n",
    "## Q5: Update value of a key in a dictionary \n",
    "\n",
    "Write a function called `update_value_dict()` that takes as parameters a dictionary, an existing key to be updated, and a new value to assign to the key, and returns the updated dictionary.\n",
    "\n",
    "Parameters:\n",
    "- `dict1` &ndash; dictionary with 2 or more key&ndash;value pairs\n",
    "- `key` &ndash; existing key whose value needs to be changed\n",
    "- `value` &ndash; new value to assign to the existing key\n",
    "\n",
    "Returns:\n",
    "- `dict2` &ndash; updated dictionary\n",
    "\n",
    "For example, given as arguments this dictionary:\n",
    "\n",
    "```python\n",
    "dict1 = {\n",
    "     \"INST201\": \"A-\",\n",
    "     \"INST126\": \"F\",\n",
    "     \"INST311\": \"B+\"\n",
    "}\n",
    "```\n",
    "\n",
    "as well as `'INST126'`, and `'A'` as arguments, `update_value_dict()` should return \n",
    "\n",
    "```python\n",
    "dict2 = {\n",
    "     \"INST201\": \"A-\",\n",
    "     \"INST126\": \"A\",\n",
    "     \"INST311\": \"B+\"\n",
    "}\n",
    "```\n",
    " \n",
    "⬇️⬇️⬇️ Enter your solution in the cell below ⬇️⬇️⬇️"
   ]
  },
  {
   "cell_type": "code",
   "execution_count": null,
   "metadata": {
    "id": "dF5vbziXtjia",
    "nbgrader": {
     "grade": false,
     "grade_id": "cell-ba9d662ddb847de5",
     "locked": false,
     "schema_version": 3,
     "solution": true,
     "task": false
    },
    "tags": []
   },
   "outputs": [],
   "source": [
    "\n",
    "def update_value_dict(dict1, key, value):\n",
    "...\n",
    "\n",
    "# test your function here\n",
    "classes = {\n",
    "     \"INST201\": \"A-\",\n",
    "     \"INST126\": \"F\",\n",
    "     \"INST311\": \"B+\"\n",
    " }\n",
    "\n",
    "update_value_dict(dict1 = classes,key = 'INST126',value = 'A')"
   ]
  },
  {
   "cell_type": "markdown",
   "metadata": {
    "deletable": false,
    "editable": false,
    "nbgrader": {
     "grade": false,
     "grade_id": "cell-2d30ad747d75e899",
     "locked": true,
     "schema_version": 3,
     "solution": false,
     "task": false
    }
   },
   "source": [
    "When you're ready run the cell below to get feedback on your answer."
   ]
  },
  {
   "cell_type": "code",
   "execution_count": null,
   "metadata": {
    "deletable": false,
    "editable": false
   },
   "outputs": [],
   "source": [
    "grader.check(\"q5\")"
   ]
  },
  {
   "cell_type": "markdown",
   "metadata": {},
   "source": [
    "<br/>\n",
    "<br/>\n",
    "<br/>\n",
    "<br/>\n",
    "<br/>\n",
    "<br/>\n",
    "\n",
    "---"
   ]
  },
  {
   "cell_type": "markdown",
   "metadata": {
    "id": "AFN6jBFkqunA",
    "nbgrader": {
     "grade": false,
     "grade_id": "cell-5cae6c74bbf8019d",
     "locked": true,
     "schema_version": 3,
     "solution": false,
     "task": false
    }
   },
   "source": [
    "\n",
    "## Q6: Return length of a dictionary\n",
    "\n",
    "Write a function called `check_length()` that takes a dictionary as input, and returns its length as output.\n",
    "\n",
    "Parameters:\n",
    "- `dict1` &ndash; a dictionary with 2 or more key&ndash;value pairs\n",
    "\n",
    "Returns:\n",
    "- `length` &ndash; the length of the input dictionary\n",
    "\n",
    "For example, given as argument\n",
    "```python\n",
    "dict1 = {\n",
    "     \"INST201\": \"A-\",\n",
    "     \"INST126\": \"F\",\n",
    "     \"INST311\": \"B+\"\n",
    "}\n",
    "``` \n",
    "\n",
    "`check_length()` should return `4`\n",
    "\n",
    "⬇️⬇️⬇️ Enter your solution in the cell below ⬇️⬇️⬇️"
   ]
  },
  {
   "cell_type": "code",
   "execution_count": null,
   "metadata": {
    "id": "YQw7t3b5rQvi",
    "nbgrader": {
     "grade": false,
     "grade_id": "cell-ebb41802c3ec0d46",
     "locked": false,
     "schema_version": 3,
     "solution": true,
     "task": false
    },
    "tags": []
   },
   "outputs": [],
   "source": [
    "def check_length(dict1):\n",
    "...\n",
    "\n",
    "# test your function here\n",
    "classes2 = {\n",
    "     \"INST201\": \"A-\",\n",
    "     \"INST126\": \"A\",\n",
    "     \"INST311\": \"B+\",\n",
    "     \"INST326\": \"A-\"\n",
    " }\n",
    "check_length(dict1 = classes2)"
   ]
  },
  {
   "cell_type": "markdown",
   "metadata": {
    "deletable": false,
    "editable": false,
    "nbgrader": {
     "grade": false,
     "grade_id": "cell-fcacfa0612dd8a89",
     "locked": true,
     "schema_version": 3,
     "solution": false,
     "task": false
    }
   },
   "source": [
    "When you're ready run the cell below to get feedback on your answer."
   ]
  },
  {
   "cell_type": "code",
   "execution_count": null,
   "metadata": {
    "deletable": false,
    "editable": false
   },
   "outputs": [],
   "source": [
    "grader.check(\"q6\")"
   ]
  },
  {
   "cell_type": "markdown",
   "metadata": {},
   "source": [
    "<br/>\n",
    "<br/>\n",
    "<br/>\n",
    "<br/>\n",
    "<br/>\n",
    "<br/>\n",
    "\n",
    "---"
   ]
  },
  {
   "cell_type": "markdown",
   "metadata": {
    "id": "Tp0VZBE-tapH",
    "nbgrader": {
     "grade": false,
     "grade_id": "cell-53732888c129729f",
     "locked": true,
     "schema_version": 3,
     "solution": false,
     "task": false
    }
   },
   "source": [
    "\n",
    "## Q7: Return keys/values based on parameter\n",
    "\n",
    "Write a function called `return_keys_or_values()` that takes as parameters a dictionary and a string that can be either `\"keys\"` or `\"values\"` and returns a list of either keys or values in the dictionary.\n",
    "\n",
    "Inputs:\n",
    "- `dict1` &ndash; dictionary with 2 or more key&ndash;value pairs\n",
    "- `what`  &ndash; specify what to return &ndash; a list of either keys (argument should be `\"keys\"`) or values (argument should be `\"values\"`). \n",
    "\n",
    "⚠️⚠️ **WARNING**: *if your function uses different strings for this parameter, the autograder will still fail even if your logic is correct!* ⚠️⚠️\n",
    "\n",
    "Returns:\n",
    "- `result` &ndash; list of either keys or values in `dict1`.\n",
    "\n",
    "For example, given as argument\n",
    "```python\n",
    "dict1 = {\n",
    "    'grain': 'Pasta',\n",
    "    'protein': 'Chicken',\n",
    "    'vegetable' : 'Broccoli',\n",
    "    'sauce': 'Butter'\n",
    "}\n",
    "```\n",
    "calling `return_keys_or_values(dict1, \"keys\")` should return \n",
    "```python\n",
    "['grain', 'protein', 'vegetable', 'sauce']\n",
    "```\n",
    "while calling `return_keys_or_values(dict1, \"values\")` should return \n",
    "```python\n",
    "['Pasta', 'Chicken', 'Broccoli', 'Butter']\n",
    "```\n",
    "\n",
    "⬇️⬇️⬇️ Enter your solution in the cell below ⬇️⬇️⬇️"
   ]
  },
  {
   "cell_type": "code",
   "execution_count": null,
   "metadata": {
    "id": "jtflFm09yEzE",
    "nbgrader": {
     "grade": false,
     "grade_id": "cell-436229d6df5dbbd3",
     "locked": false,
     "schema_version": 3,
     "solution": true,
     "task": false
    },
    "tags": []
   },
   "outputs": [],
   "source": [
    "def return_keys_or_values(dict1, what):\n",
    "...\n",
    "\n",
    "# test your function \n",
    "meal_dict = {\n",
    "    'grain': 'Pasta',\n",
    "    'protein': 'Chicken',\n",
    "    'vegetable' : 'Broccoli',\n",
    "    'sauce': 'Butter'\n",
    "}\n",
    "keys = return_keys_or_values(dict1= meal_dict, what = 'keys')\n",
    "keys"
   ]
  },
  {
   "cell_type": "markdown",
   "metadata": {
    "deletable": false,
    "editable": false,
    "nbgrader": {
     "grade": false,
     "grade_id": "cell-51431558c09a97d2",
     "locked": true,
     "schema_version": 3,
     "solution": false,
     "task": false
    }
   },
   "source": [
    "When you're ready run the cell below to get feedback on your answer."
   ]
  },
  {
   "cell_type": "code",
   "execution_count": null,
   "metadata": {
    "deletable": false,
    "editable": false
   },
   "outputs": [],
   "source": [
    "grader.check(\"q7\")"
   ]
  },
  {
   "cell_type": "markdown",
   "metadata": {},
   "source": [
    "<br/>\n",
    "<br/>\n",
    "<br/>\n",
    "<br/>\n",
    "<br/>\n",
    "<br/>\n",
    "\n",
    "---"
   ]
  },
  {
   "cell_type": "markdown",
   "metadata": {
    "id": "rbF8MWG82QvN",
    "nbgrader": {
     "grade": false,
     "grade_id": "cell-3dc17af1ce0ff27d",
     "locked": true,
     "schema_version": 3,
     "solution": false,
     "task": false
    }
   },
   "source": [
    "\n",
    "## Q8: Check if a key is present in a dictionary\n",
    "\n",
    "Write a function called `check_key()` that takes as parameters a dictionary and a key and returns `True` or `False` based on whether the key is present in the dictionary or not.\n",
    "\n",
    "Parameters:\n",
    "- `dict1` &ndash; dictionary with some key&ndash;value pairs\n",
    "- `key` &ndash; a key to check if it is present in the dictionary or not. Could be any object, but for now, assume it is of type `str`.\n",
    "\n",
    "Returns:\n",
    "- result &ndash; a boolean based on whether key is present or not\n",
    "\n",
    "For example, given as argument this dictionary\n",
    "```python\n",
    "dict1 = {\n",
    "    'grain': 'Pasta',\n",
    "    'protein': 'Chicken',\n",
    "    'vegetable' : 'Broccoli',\n",
    "    'sauce': 'Butter'\n",
    "}\n",
    "```\n",
    "the function call `check_key(dict1, \"grain\")` should return `True`.\n",
    "\n",
    "⬇️⬇️⬇️ Enter your solution in the cell below ⬇️⬇️⬇️"
   ]
  },
  {
   "cell_type": "code",
   "execution_count": null,
   "metadata": {
    "id": "lqi7yWTm3qzL",
    "nbgrader": {
     "grade": false,
     "grade_id": "cell-0ec4d4d49a7c0969",
     "locked": false,
     "schema_version": 3,
     "solution": true,
     "task": false
    },
    "tags": []
   },
   "outputs": [],
   "source": [
    "def check_key(dict1, key):\n",
    "...\n",
    "\n",
    "#test the function\n",
    "meal_dict = {\n",
    "   'grain': 'Pasta',\n",
    "    'protein': 'Chicken',\n",
    "    'vegetable' : 'Broccoli',\n",
    "    'sauce': 'Butter'\n",
    "}\n",
    "\n",
    "check_key(dict1 = meal_dict,key = 'grain')"
   ]
  },
  {
   "cell_type": "markdown",
   "metadata": {
    "deletable": false,
    "editable": false,
    "nbgrader": {
     "grade": false,
     "grade_id": "cell-44af0b51c444746a",
     "locked": true,
     "schema_version": 3,
     "solution": false,
     "task": false
    }
   },
   "source": [
    "When you're ready run the cell below to get feedback on your answer."
   ]
  },
  {
   "cell_type": "code",
   "execution_count": null,
   "metadata": {
    "deletable": false,
    "editable": false
   },
   "outputs": [],
   "source": [
    "grader.check(\"q8\")"
   ]
  },
  {
   "cell_type": "markdown",
   "metadata": {},
   "source": [
    "<br/>\n",
    "<br/>\n",
    "<br/>\n",
    "<br/>\n",
    "<br/>\n",
    "<br/>\n",
    "\n",
    "---"
   ]
  },
  {
   "cell_type": "markdown",
   "metadata": {
    "id": "i2fDEbDT8SWR",
    "nbgrader": {
     "grade": false,
     "grade_id": "cell-be5d9134a3b0f91d",
     "locked": true,
     "schema_version": 3,
     "solution": false,
     "task": false
    }
   },
   "source": [
    "\n",
    "## Q9 : Update value of keys if already present in a dictionary 1\n",
    "\n",
    "Write a function called `update_if_present()` that takes as parameters a base dictionary with some key&ndash;value pairs and an update dictionary with some other key&ndash;value pairs (with some keys in common to the base dict) and returns an updated base dictionary where if key exists in the base dict, its value is updated to the new value in the update dict.\n",
    "\n",
    "Parameters:\n",
    "- `base_dict` &ndash; dictionary with some key&ndash;value pairs\n",
    "- `updates` &ndash; dictionary with keys to be updated (along with their new values)\n",
    "\n",
    "Returns:\n",
    "- `updated_base` &ndash; updated base dictionary\n",
    "\n",
    "For example, given as arguments the dictionaries\n",
    "```python\n",
    "base_dict = {\n",
    "     \"INST201\": \"A-\",\n",
    "     \"INST126\": \"F\",\n",
    "     \"INST311\": \"B+\"\n",
    "}\n",
    "``` \n",
    "and \n",
    "```python\n",
    "updates = {\n",
    "     \"INST126\": \"C+\",\n",
    "     \"INST326\": \"A-\"\n",
    "}\n",
    "``` \n",
    " \n",
    "the function `update_if_present()` should return the dictionary\n",
    "```python\n",
    "updated_dict = {\n",
    "     \"INST201\": \"A-\",\n",
    "     \"INST126\": \"C+\",\n",
    "     \"INST311\": \"B+\"\n",
    "}\n",
    "```\n",
    "In other words, it should update `\"INST126\"` since it was present, but should not add the key `\"INST326\"` since it is not present in the base.\n",
    "\n",
    "_**Hint**: you'll need to iterate through the keys and values of the update dictionary._\n",
    "\n",
    "⬇️⬇️⬇️ Enter your solution in the cell below ⬇️⬇️⬇️"
   ]
  },
  {
   "cell_type": "code",
   "execution_count": null,
   "metadata": {
    "id": "zSCZ5__c8SWS",
    "nbgrader": {
     "grade": false,
     "grade_id": "cell-f1816a6a676421ff",
     "locked": false,
     "schema_version": 3,
     "solution": true,
     "task": false
    },
    "tags": []
   },
   "outputs": [],
   "source": [
    "def update_if_present(base_dict, updates):\n",
    "...\n",
    "\n",
    "#test your function\n",
    "base_dictionary = {\n",
    "     \"INST201\": \"A-\",\n",
    "     \"INST126\": \"F\",\n",
    "     \"INST311\": \"B+\"\n",
    " }\n",
    "dict_updates = {\n",
    "     \"INST126\": \"C+\",\n",
    "     \"INST326\": \"A-\"\n",
    " }\n",
    "updated_dict = update_if_present(base_dict = base_dictionary, updates = dict_updates)\n",
    "updated_dict"
   ]
  },
  {
   "cell_type": "markdown",
   "metadata": {
    "deletable": false,
    "editable": false,
    "nbgrader": {
     "grade": false,
     "grade_id": "cell-c90352f57eb73457",
     "locked": true,
     "schema_version": 3,
     "solution": false,
     "task": false
    }
   },
   "source": [
    "When you're ready run the cell below to get feedback on your answer."
   ]
  },
  {
   "cell_type": "code",
   "execution_count": null,
   "metadata": {
    "deletable": false,
    "editable": false
   },
   "outputs": [],
   "source": [
    "grader.check(\"q9\")"
   ]
  },
  {
   "cell_type": "markdown",
   "metadata": {},
   "source": [
    "<br/>\n",
    "<br/>\n",
    "<br/>\n",
    "<br/>\n",
    "<br/>\n",
    "<br/>\n",
    "\n",
    "---"
   ]
  },
  {
   "cell_type": "markdown",
   "metadata": {
    "id": "hnmGks0f8SWU",
    "nbgrader": {
     "grade": false,
     "grade_id": "cell-08d1712cbe73aeba",
     "locked": true,
     "schema_version": 3,
     "solution": false,
     "task": false
    }
   },
   "source": [
    "\n",
    "## Q10: Convert a list of records into a dictionary\n",
    "\n",
    "Write a function called `recordstodict()` that takes as parameters a list of records that are each composed of a key and value separated by a separator (that is also passed in as input), and returns a dictionary representation of that list of strings, mapping each key to its corresponding value. \n",
    "\n",
    "Parameters:\n",
    "- `records` &ndash; list of records, where each record is a string composed of a key and value separated by a separator  character\n",
    "- `separator` &ndash; a string of a single character that separates the key and value portions of the records\n",
    "\n",
    "Returns:\n",
    "- `recsdict` &ndash; a dictionary that maps each key with its corresponding value\n",
    "\n",
    "For example, given as arguments the list\n",
    "```python\n",
    "records = [\n",
    "     \"stephen curry,warriors\",\n",
    "     \"lebron james,lakers\",\n",
    "     \"kevin durant,nets\",\n",
    "     \"giannis antetokounmpo,bucks\"\n",
    "]\n",
    "``` \n",
    "and the string `\",\"`, the function `recordstodict()` should return \n",
    "```python\n",
    "recsdict = {\n",
    "     \"stephen curry\": \"warriors\",\n",
    "     \"lebron james\": \"lakers\",\n",
    "     \"giannis antetokounmpo\": \"bucks\"\n",
    "}\n",
    "```\n",
    "\n",
    "⬇️⬇️⬇️ Enter your solution in the cell below ⬇️⬇️⬇️"
   ]
  },
  {
   "cell_type": "code",
   "execution_count": null,
   "metadata": {
    "id": "y9WLRIDl8SWV",
    "nbgrader": {
     "grade": false,
     "grade_id": "cell-e4318517156b4f90",
     "locked": false,
     "schema_version": 3,
     "solution": true,
     "task": false
    },
    "tags": []
   },
   "outputs": [],
   "source": [
    "def recordstodict(records, separator):\n",
    "...\n",
    "\n",
    "# test your function\n",
    "records = [\n",
    "     \"stephen curry,warriors\",\n",
    "     \"lebron james,lakers\",\n",
    "     \"kevin durant,nets\",\n",
    "     \"giannis antetokounmpo,bucks\"\n",
    " ]\n",
    "sep = \",\"\n",
    "d = recordstodict(records=records,separator= sep)\n",
    "d"
   ]
  },
  {
   "cell_type": "markdown",
   "metadata": {
    "deletable": false,
    "editable": false,
    "nbgrader": {
     "grade": false,
     "grade_id": "cell-eaf0efd9c4d2985b",
     "locked": true,
     "schema_version": 3,
     "solution": false,
     "task": false
    }
   },
   "source": [
    "When you're ready run the cell below to get feedback on your answer."
   ]
  },
  {
   "cell_type": "code",
   "execution_count": null,
   "metadata": {
    "deletable": false,
    "editable": false
   },
   "outputs": [],
   "source": [
    "grader.check(\"q10\")"
   ]
  },
  {
   "cell_type": "markdown",
   "metadata": {},
   "source": [
    "### **_NOTE:_**  Do not forget to run this cell"
   ]
  },
  {
   "cell_type": "code",
   "execution_count": null,
   "metadata": {},
   "outputs": [],
   "source": [
    "!jupyter nbconvert --to script PCE-03-Dictionaries.ipynb"
   ]
  },
  {
   "cell_type": "markdown",
   "metadata": {
    "deletable": false,
    "editable": false
   },
   "source": [
    "## Submission\n",
    "\n",
    "Make sure you have run all cells in your notebook in order before running the cell below, so that all images/graphs appear in the output. The cell below will generate a zip file for you to submit."
   ]
  },
  {
   "cell_type": "code",
   "execution_count": null,
   "metadata": {
    "deletable": false,
    "editable": false
   },
   "outputs": [],
   "source": [
    "grader.export(pdf=False, force_save=True, run_tests=True, files=['PCE-03-Dictionaries.py'])"
   ]
  },
  {
   "cell_type": "markdown",
   "metadata": {},
   "source": [
    " "
   ]
  }
 ],
 "metadata": {
  "celltoolbar": "Create Assignment",
  "colab": {
   "collapsed_sections": [],
   "name": "PCE_M3_Dictionaries_Student_SP22_Template.ipynb",
   "provenance": [
    {
     "file_id": "1NVydEzmqNCu94mhfedlN1ffO6HfYoQqv",
     "timestamp": 1616609304746
    }
   ]
  },
  "kernelspec": {
   "display_name": "Python 3 (ipykernel)",
   "language": "python",
   "name": "python3"
  },
  "language_info": {
   "codemirror_mode": {
    "name": "ipython",
    "version": 3
   },
   "file_extension": ".py",
   "mimetype": "text/x-python",
   "name": "python",
   "nbconvert_exporter": "python",
   "pygments_lexer": "ipython3",
   "version": "3.12.2"
  },
  "otter": {
   "OK_FORMAT": true,
   "tests": {
    "q1": {
     "name": "q1",
     "points": null,
     "suites": [
      {
       "cases": [
        {
         "code": ">>> assert type(make_dict('a', 'b')) == dict, 'the function should return a dict value'\n",
         "hidden": false,
         "locked": false
        },
        {
         "code": ">>> assert make_dict('a', 'b') == {'a': 'b'}, 'Wrong return value'\n",
         "hidden": false,
         "locked": false
        },
        {
         "code": ">>> assert make_dict(0, 'b') == {0: 'b'}, 'Wrong return value'\n",
         "hidden": false,
         "locked": false
        },
        {
         "code": ">>> assert make_dict(0, 6) == {0: 6}, 'Wrong return value'\n",
         "hidden": false,
         "locked": false
        }
       ],
       "scored": true,
       "setup": "",
       "teardown": "",
       "type": "doctest"
      }
     ]
    },
    "q10": {
     "name": "q10",
     "points": null,
     "suites": [
      {
       "cases": [
        {
         "code": ">>> assert type(recordstodict(['lunch,bread', 'breakfast,cereal', 'dinner,spaghetti'], ',')) == dict, 'the function should return a str value'\n",
         "hidden": false,
         "locked": false
        },
        {
         "code": ">>> assert recordstodict(['lunch,bread', 'breakfast,cereal', 'dinner,spaghetti'], ',') == {'lunch': 'bread', 'breakfast': 'cereal', 'dinner': 'spaghetti'}, 'Wrong return value'\n",
         "hidden": false,
         "locked": false
        },
        {
         "code": ">>> assert recordstodict(['bread-$2.50', 'cereal-$1.25', 'spaghetti-$5.00'], '-') == {'bread': '$2.50', 'cereal': '$1.25', 'spaghetti': '$5.00'}, 'Wrong return value'\n",
         "hidden": false,
         "locked": false
        },
        {
         "code": ">>> assert recordstodict(['INST126|undergraduate', 'INST326|undergraduate', 'INST802|graduate'], '|') == {'INST126': 'undergraduate', 'INST326': 'undergraduate', 'INST802': 'graduate'}, 'Wrong return value'\n",
         "hidden": false,
         "locked": false
        }
       ],
       "scored": true,
       "setup": "",
       "teardown": "",
       "type": "doctest"
      }
     ]
    },
    "q2": {
     "name": "q2",
     "points": null,
     "suites": [
      {
       "cases": [
        {
         "code": ">>> assert type(make_dict_from_lists(['a', 'c'], ['b', 'd'])) == dict, 'the function should return a str value'\n",
         "hidden": false,
         "locked": false
        },
        {
         "code": ">>> assert make_dict_from_lists(['a', 'c'], ['b', 'd']) == {'a': 'b', 'c': 'd'}, 'Wrong return value'\n",
         "hidden": false,
         "locked": false
        },
        {
         "code": ">>> assert make_dict_from_lists([0, 'b'], ['c', 1]) == {0: 'c', 'b': 1}, 'Wrong return value'\n",
         "hidden": false,
         "locked": false
        },
        {
         "code": ">>> assert make_dict_from_lists([0, 6], [5, 1]) == {0: 5, 6: 1}, 'Wrong return value'\n",
         "hidden": false,
         "locked": false
        }
       ],
       "scored": true,
       "setup": "",
       "teardown": "",
       "type": "doctest"
      }
     ]
    },
    "q3": {
     "name": "q3",
     "points": null,
     "suites": [
      {
       "cases": [
        {
         "code": ">>> assert type(get_details({'smartphone_brand': 'Samsung', 'smartphone_model': 'S20'}, 'smartphone_brand')) == str, 'the function should return a str value'\n",
         "hidden": false,
         "locked": false
        },
        {
         "code": ">>> assert get_details({'smartphone_brand': 'Samsung', 'smartphone_model': 'S20'}, 'smartphone_brand') == 'Samsung', 'Wrong return value'\n",
         "hidden": false,
         "locked": false
        },
        {
         "code": ">>> assert get_details({'a': 'b', 'c': 'd'}, 'a') == 'b', 'Wrong return value'\n",
         "hidden": false,
         "locked": false
        },
        {
         "code": ">>> assert get_details({'p': 'q', 'r': 's'}, 'r') == 's', 'Wrong return value'\n",
         "hidden": false,
         "locked": false
        }
       ],
       "scored": true,
       "setup": "",
       "teardown": "",
       "type": "doctest"
      }
     ]
    },
    "q4": {
     "name": "q4",
     "points": null,
     "suites": [
      {
       "cases": [
        {
         "code": ">>> assert type(add_entry({'l': 'm', 'n': 'o'}, 'p', 'q')) == dict, 'the function should return a dict value'\n",
         "hidden": false,
         "locked": false
        },
        {
         "code": ">>> assert add_entry({'l': 'm', 'n': 'o'}, 'p', 'q') == {'l': 'm', 'n': 'o', 'p': 'q'}, 'Wrong return value'\n",
         "hidden": false,
         "locked": false
        },
        {
         "code": ">>> assert add_entry({'a': 'b', 'c': 'd'}, 'p', 'q') == {'a': 'b', 'c': 'd', 'p': 'q'}, 'Wrong return value'\n",
         "hidden": false,
         "locked": false
        },
        {
         "code": ">>> assert add_entry({9: 'b', 'c': 'd'}, 66, 'q') == {9: 'b', 'c': 'd', 66: 'q'}, 'Wrong return value'\n",
         "hidden": false,
         "locked": false
        }
       ],
       "scored": true,
       "setup": "",
       "teardown": "",
       "type": "doctest"
      }
     ]
    },
    "q5": {
     "name": "q5",
     "points": null,
     "suites": [
      {
       "cases": [
        {
         "code": ">>> assert type(update_value_dict({'a': 'b', 'c': 'd'}, 'a', 'hi')) == dict, 'the function should return a dict value'\n",
         "hidden": false,
         "locked": false
        },
        {
         "code": ">>> assert update_value_dict({'a': 'b', 'c': 'd'}, 'a', 'hi') == {'a': 'hi', 'c': 'd'}, 'Wrong return value'\n",
         "hidden": false,
         "locked": false
        },
        {
         "code": ">>> assert update_value_dict({'a': 'b', 'c': 'd'}, 'c', 'hello') == {'a': 'b', 'c': 'hello'}, 'Wrong return value'\n",
         "hidden": false,
         "locked": false
        },
        {
         "code": ">>> assert update_value_dict({'a': 'b', 'c': 'd'}, 'a', 2) == {'a': 2, 'c': 'd'}, 'Wrong return value'\n",
         "hidden": false,
         "locked": false
        }
       ],
       "scored": true,
       "setup": "",
       "teardown": "",
       "type": "doctest"
      }
     ]
    },
    "q6": {
     "name": "q6",
     "points": null,
     "suites": [
      {
       "cases": [
        {
         "code": ">>> assert type(check_length({'a': 'b', 'c': 'd'})) == int, 'the function should return a int value'\n",
         "hidden": false,
         "locked": false
        },
        {
         "code": ">>> assert check_length({'a': 'b', 'c': 'd'}) == 2, 'Wrong return value'\n",
         "hidden": false,
         "locked": false
        },
        {
         "code": ">>> assert check_length({'a': 'b', 'c': 'd', 'e': 'f'}) == 3, 'Wrong return value'\n",
         "hidden": false,
         "locked": false
        },
        {
         "code": ">>> assert check_length({'a': 'b'}) == 1, 'Wrong return value'\n",
         "hidden": false,
         "locked": false
        }
       ],
       "scored": true,
       "setup": "",
       "teardown": "",
       "type": "doctest"
      }
     ]
    },
    "q7": {
     "name": "q7",
     "points": null,
     "suites": [
      {
       "cases": [
        {
         "code": ">>> assert type(set(return_keys_or_values({'brand': 'Samsung', 'model': 'S20', 'os': 'Android', 'os_version': '10.2.2'}, 'keys'))) == set, 'the function should return a set value'\n",
         "hidden": false,
         "locked": false
        },
        {
         "code": ">>> assert set(return_keys_or_values({'brand': 'Samsung', 'model': 'S20', 'os': 'Android', 'os_version': '10.2.2'}, 'keys')) == {'brand', 'model', 'os', 'os_version'}, 'Wrong return value'\n",
         "hidden": false,
         "locked": false
        },
        {
         "code": ">>> assert set(return_keys_or_values({'brand': 'Samsung', 'model': 'S20', 'os': 'Android', 'os_version': '10.2.2'}, 'values')) == {'Samsung', 'S20', 'Android', '10.2.2'}, 'Wrong return value'\n",
         "hidden": false,
         "locked": false
        },
        {
         "code": ">>> assert set(return_keys_or_values({'a': 'b'}, 'keys')) == {'a'}, 'Wrong return value'\n",
         "hidden": false,
         "locked": false
        }
       ],
       "scored": true,
       "setup": "",
       "teardown": "",
       "type": "doctest"
      }
     ]
    },
    "q8": {
     "name": "q8",
     "points": null,
     "suites": [
      {
       "cases": [
        {
         "code": ">>> assert type(check_key({'smartphone_brand': 'Apple'}, 'smartphone_brand')) == bool, 'the function should return a bool value'\n",
         "hidden": false,
         "locked": false
        },
        {
         "code": ">>> assert check_key({'smartphone_brand': 'Apple'}, 'smartphone_brand') == True, 'Wrong return value'\n",
         "hidden": false,
         "locked": false
        },
        {
         "code": ">>> assert check_key({'smartphone_brand': 'Apple'}, 'smartphone_os') == False, 'Wrong return value'\n",
         "hidden": false,
         "locked": false
        },
        {
         "code": ">>> assert check_key({'a': 'b', 0: 'd'}, 0) == True, 'Wrong return value'\n",
         "hidden": false,
         "locked": false
        }
       ],
       "scored": true,
       "setup": "",
       "teardown": "",
       "type": "doctest"
      }
     ]
    },
    "q9": {
     "name": "q9",
     "points": null,
     "suites": [
      {
       "cases": [
        {
         "code": ">>> assert type(update_if_present({'name': 'Joel', 'age': 22, 'job': 'student'}, {'age': 35, 'eyes': 'brown'})) == dict, 'the function should return a dict value'\n",
         "hidden": false,
         "locked": false
        },
        {
         "code": ">>> assert update_if_present({'name': 'Joel', 'age': 22, 'job': 'student'}, {'age': 35, 'eyes': 'brown'}) == {'name': 'Joel', 'age': 35, 'job': 'student'}, 'Wrong return value'\n",
         "hidden": false,
         "locked": false
        },
        {
         "code": ">>> assert update_if_present({'item': 'iPhone', 'brand': 'Apple', 'cost': 300.0}, {'item': 'iPhone Pro', 'color': 'gold'}) == {'item': 'iPhone Pro', 'brand': 'Apple', 'cost': 300.0}, 'Wrong return value'\n>>> print('PASS')\nPASS\n",
         "hidden": false,
         "locked": false
        },
        {
         "code": ">>> assert update_if_present({'pocket': 'empty', 'backpack': 'full', 'briefcase': 'empty'}, {'pocket': 'full', 'umbrella': 'open'}) == {'pocket': 'full', 'backpack': 'full', 'briefcase': 'empty'}, 'Wrong return value'\n>>> print('PASS')\nPASS\n",
         "hidden": false,
         "locked": false
        }
       ],
       "scored": true,
       "setup": "",
       "teardown": "",
       "type": "doctest"
      }
     ]
    }
   }
  }
 },
 "nbformat": 4,
 "nbformat_minor": 1
}
