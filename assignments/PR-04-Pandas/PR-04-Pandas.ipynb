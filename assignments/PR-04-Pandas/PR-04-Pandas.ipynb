{
 "cells": [
  {
   "cell_type": "code",
   "execution_count": null,
   "id": "7272f491",
   "metadata": {
    "deletable": false,
    "editable": false,
    "tags": []
   },
   "outputs": [],
   "source": [
    "# Initialize Otter\n",
    "import otter\n",
    "grader = otter.Notebook(\"PR-04-Pandas.ipynb\")"
   ]
  },
  {
   "cell_type": "markdown",
   "id": "2a7fe0d5-4a6f-42b7-b9d4-58b913dea9de",
   "metadata": {},
   "source": [
    "# Project 4: \n",
    "\n",
    "### Data Analysis with Pandas\n"
   ]
  },
  {
   "cell_type": "markdown",
   "id": "0b6f3f07-cc2f-4206-b7b6-95f5ba7cc4b5",
   "metadata": {},
   "source": [
    "\n",
    "\n",
    "---"
   ]
  },
  {
   "cell_type": "markdown",
   "id": "e7f7d034-90b0-4e87-bae1-6452c17be9a7",
   "metadata": {},
   "source": [
    "## Instructions\n",
    "\n",
    "Pick one problem and complete it. Then run the last cell in the notebook to export your work.\n",
    "\n",
    "### Grading Rubric\n",
    "\n",
    "Your submission will be evaluated based on the following criteria (see on ELMS for more info):\n",
    "* __Correctness__: _Does the program adequately solve the problem posed for the project? (Note we use autograder to determine this.)_\n",
    "* __Logic__: _Regardless of execution, is the solution approach taken sound (i.e., likely to lead to a solution)? Note: this requirement can be satisfied even if the program isn’t passing the autograder tests!_\n",
    "* __Style__: _Is the code understandable and well documented?_\n",
    "  * _Is the variable names clear and intuitive (e.g. `rate` instead of `x`) and there are no conflicts with names of existing functions (e.g. you call your list `list_of_numbers` instead of `list`, etc.)?_\n",
    "  * _Are the key elements of the code clearly documented with comments?_\n",
    "  * _Are the main functions documented with a complete docstring?_\n",
    "* __Final Checklist__: _All steps in the \"Submission checklist\" below have been followed_.\n",
    "\n",
    "### Working on Multiple Problems\n",
    "\n",
    "You do not have to complete all problems in the notebook: if your code passes all the tests in a single problem it will pass the autograder for the whole project. That said, you will earn credit for passing any test in the notebook. This means that if you are not passing all the tests in a given problem, you can attempt a different problem and see if you can pass any of its tests. However, keep in mind that we will consider all the problems you submit when grading for logic and style."
   ]
  },
  {
   "cell_type": "markdown",
   "id": "33ee0da8-e47b-4f8d-8d1d-5b98614dac69",
   "metadata": {},
   "source": [
    "<br/>\n",
    "<br/>\n",
    "<br/>\n",
    "<br/>\n",
    "<br/>\n",
    "<br/>\n",
    "\n",
    "---"
   ]
  },
  {
   "cell_type": "markdown",
   "id": "8aecfc2e-a832-42c6-88d2-68e58ea9a6f8",
   "metadata": {
    "deletable": false,
    "editable": false
   },
   "source": [
    "## Problem 1:  Flexible Course Prerequisites\n",
    "\n",
    "The file `\"testudo_fall2020.csv\"` shows course descriptions from Fall 2020 at UMD. We are investigating whether and how  different schools/areas of the university vary, in being flexible with regard to prerequisites for their courses.  Your dataset must provide this information (transformed from the original), with the 6 most and 6 least flexible schools/areas. (as measured by percentage of courses with rigid or flexible prerequisites).\n",
    "\n",
    "If all goes well your solution should return the following data frame:\n",
    "\n",
    "<table border=\"1\" class=\"dataframe\">\n",
    "  <thead>\n",
    "    <tr style=\"text-align: right;\">\n",
    "      <th></th>\n",
    "      <th>area</th>\n",
    "      <th>flexibility</th>\n",
    "    </tr>\n",
    "  </thead>\n",
    "  <tbody>\n",
    "    <tr>\n",
    "      <th>0</th>\n",
    "      <td>INFM</td>\n",
    "      <td>1.000000</td>\n",
    "    </tr>\n",
    "    <tr>\n",
    "      <th>1</th>\n",
    "      <td>SPHL</td>\n",
    "      <td>1.000000</td>\n",
    "    </tr>\n",
    "    <tr>\n",
    "      <th>2</th>\n",
    "      <td>PLCY</td>\n",
    "      <td>0.892857</td>\n",
    "    </tr>\n",
    "    <tr>\n",
    "      <th>3</th>\n",
    "      <td>URSP</td>\n",
    "      <td>0.857143</td>\n",
    "    </tr>\n",
    "    <tr>\n",
    "      <th>4</th>\n",
    "      <td>ENSP</td>\n",
    "      <td>0.833333</td>\n",
    "    </tr>\n",
    "    <tr>\n",
    "      <th>5</th>\n",
    "      <td>AMST</td>\n",
    "      <td>0.777778</td>\n",
    "    </tr>\n",
    "    <tr>\n",
    "      <th>6</th>\n",
    "      <td>PHSC</td>\n",
    "      <td>0.600000</td>\n",
    "    </tr>\n",
    "    <tr>\n",
    "      <th>7</th>\n",
    "      <td>PSYC</td>\n",
    "      <td>0.447368</td>\n",
    "    </tr>\n",
    "    <tr>\n",
    "      <th>8</th>\n",
    "      <td>BMGT</td>\n",
    "      <td>0.433962</td>\n",
    "    </tr>\n",
    "    <tr>\n",
    "      <th>9</th>\n",
    "      <td>MATH</td>\n",
    "      <td>0.408163</td>\n",
    "    </tr>\n",
    "    <tr>\n",
    "      <th>10</th>\n",
    "      <td>STAT</td>\n",
    "      <td>0.400000</td>\n",
    "    </tr>\n",
    "    <tr>\n",
    "      <th>11</th>\n",
    "      <td>ECON</td>\n",
    "      <td>0.265625</td>\n",
    "    </tr>\n",
    "  </tbody>\n",
    "</table>\n",
    "\n",
    "### Hint\n",
    "\n",
    "To read this particular dataset correctly with the `read_csv` function, make sure to pass `keep_default_na=False`. Otherwise, some entries in the CSV file may not be recognized correctly. \n",
    "\n",
    "---\n",
    "\n",
    "⬇️⬇️⬇️ Enter your solution in the cell below ⬇️⬇️⬇️"
   ]
  },
  {
   "cell_type": "code",
   "execution_count": null,
   "id": "be1a0289-94c1-4b30-a269-803e7d4f6ec4",
   "metadata": {
    "tags": []
   },
   "outputs": [],
   "source": [
    "import pandas as pd\n",
    "\n",
    "def flexible_course_prerequisites(filename):\n",
    "    ...\n",
    "\n",
    "## Test your solution\n",
    "fn = \"testudo_fall2020.csv\"\n",
    "my_cp_df = flexible_course_prerequisites(fn)\n",
    "my_cp_df"
   ]
  },
  {
   "cell_type": "code",
   "execution_count": null,
   "id": "117fc146",
   "metadata": {
    "deletable": false,
    "editable": false,
    "tags": []
   },
   "outputs": [],
   "source": [
    "grader.check(\"prob1\")"
   ]
  },
  {
   "cell_type": "markdown",
   "id": "19cc9209-a662-4917-8a6a-d0261271f9d5",
   "metadata": {},
   "source": [
    "<br/>\n",
    "<br/>\n",
    "<br/>\n",
    "<br/>\n",
    "<br/>\n",
    "<br/>\n",
    "\n",
    "---"
   ]
  },
  {
   "cell_type": "markdown",
   "id": "22de8bed-9ceb-4729-a9ec-01952b4ce32f",
   "metadata": {
    "deletable": false,
    "editable": false
   },
   "source": [
    "\n",
    "## Problem 2: Gender Gap in Labor Statistics\n",
    "\n",
    "The file `\"bls-by-category.csv\"` shows number of workers and weekly earnings broken down by occupation, occupation category, and gender. Our aim is to find out how the average weekly earnings gap between males and females varies across occupation category. The final dataset (transformed from the original), must present this information, alongwith the 6 categories that have the largest <span style=\"text-decoration: underline;\">average</span> gender gap in weekly earnings, and the 6 categories that have the smallest <span style=\"text-decoration: underline;\">average</span> gender gap in weekly earnings. NOTE: For missing data, a data cleaning step may be required. Also, since earnings gap is not available in original data, it must be computed.     \n",
    "\n",
    "If all goes well your solution should return the following data frame:\n",
    "\n",
    "<table border=\"1\" class=\"dataframe\">\n",
    "  <thead>\n",
    "    <tr style=\"text-align: right;\">\n",
    "      <th></th>\n",
    "      <th>Category</th>\n",
    "      <th>Gap_weekly</th>\n",
    "    </tr>\n",
    "  </thead>\n",
    "  <tbody>\n",
    "    <tr>\n",
    "      <th>0</th>\n",
    "      <td>SCIENCE</td>\n",
    "      <td>367.000000</td>\n",
    "    </tr>\n",
    "    <tr>\n",
    "      <th>1</th>\n",
    "      <td>SALES</td>\n",
    "      <td>311.545455</td>\n",
    "    </tr>\n",
    "    <tr>\n",
    "      <th>2</th>\n",
    "      <td>MANAGEMENT</td>\n",
    "      <td>306.125000</td>\n",
    "    </tr>\n",
    "    <tr>\n",
    "      <th>3</th>\n",
    "      <td>BUSINESS</td>\n",
    "      <td>287.916667</td>\n",
    "    </tr>\n",
    "    <tr>\n",
    "      <th>4</th>\n",
    "      <td>COMPUTATIONAL</td>\n",
    "      <td>218.714286</td>\n",
    "    </tr>\n",
    "    <tr>\n",
    "      <th>5</th>\n",
    "      <td>HEALTHCARE PROFESSIONAL</td>\n",
    "      <td>207.714286</td>\n",
    "    </tr> \n",
    "    <tr>\n",
    "      <th>6</th>\n",
    "      <td>CULINARY</td>\n",
    "      <td>81.000000</td>\n",
    "    </tr>\n",
    "    <tr>\n",
    "      <th>7</th>\n",
    "      <td>OFFICE</td>\n",
    "      <td>74.411765</td>\n",
    "    </tr>\n",
    "    <tr>\n",
    "      <th>8</th>\n",
    "      <td>HEALTHCARE SUPPORT</td>\n",
    "      <td>69.000000</td>\n",
    "    </tr>\n",
    "    <tr>\n",
    "      <th>9</th>\n",
    "      <td>AGRICULTURAL</td>\n",
    "      <td>62.000000</td>\n",
    "    </tr>\n",
    "    <tr>\n",
    "      <th>10</th>\n",
    "      <td>SOCIAL SERVICE</td>\n",
    "      <td>61.333333</td>\n",
    "    </tr>\n",
    "    <tr>\n",
    "      <th>11</th>\n",
    "      <td>PROTECTIVE SERVICE</td>\n",
    "      <td>54.000000</td>\n",
    "    </tr>\n",
    "  </tbody>\n",
    "</table>\n",
    "\n",
    "\n",
    "---\n",
    "\n",
    "⬇️⬇️⬇️ Enter your solution in the cell below ⬇️⬇️⬇️"
   ]
  },
  {
   "cell_type": "code",
   "execution_count": null,
   "id": "dc63f4e1-ce21-4c4b-9665-2efc066bc4b2",
   "metadata": {
    "tags": []
   },
   "outputs": [],
   "source": [
    "import pandas as pd\n",
    "\n",
    "def labor_stats_gender_gap(filename):\n",
    "    ...\n",
    "\n",
    "## Test your solution\n",
    "fn = \"bls-by-category.csv\"\n",
    "my_stats_df = labor_stats_gender_gap(fn)\n",
    "my_stats_df"
   ]
  },
  {
   "cell_type": "code",
   "execution_count": null,
   "id": "bcd4ad15",
   "metadata": {
    "deletable": false,
    "editable": false
   },
   "outputs": [],
   "source": [
    "grader.check(\"prob2\")"
   ]
  },
  {
   "cell_type": "markdown",
   "id": "164d3308-1030-40e3-a7c5-ca28b494e4d7",
   "metadata": {},
   "source": [
    "<br/>\n",
    "<br/>\n",
    "<br/>\n",
    "<br/>\n",
    "<br/>\n",
    "<br/>\n",
    "\n",
    "---"
   ]
  },
  {
   "cell_type": "markdown",
   "id": "81df5b97-9eee-4e8e-827e-33971e3011f4",
   "metadata": {
    "deletable": false,
    "editable": false
   },
   "source": [
    "## Problem 3: NCAA Basketball Coaches Winrates \n",
    "\n",
    "The file `\"ncaa-team-data.csv\"` contains data of season statistics for NCAA basketball teams and their associated head coaches. Our aim is to learn how the season winrates (defined as the \\% of wins over total number of matches) vary across coaches. \n",
    "\n",
    "Our final dataset (transformed from the original), must present this information of the 6 coaches that have the best <span style=\"text-decoration: underline;\">average</span> winrates (across seasons), and the 6 coaches that have the worst <span style=\"text-decoration: underline;\">average</span> winrates (across seasons).\n",
    "\n",
    "A couple of things to keep in mind:\n",
    "1. Consider only the coaches that have participated in at least 3 seasons;\n",
    "2. The `\"wl\"` column is the winrate for each season. You can also compute the winrate from columns `\"w\"` and `\"l\"` though you will see a small discrepancy in some cases;\n",
    "3. Some teams had multiple coaches in a season; consider only the first one.\n",
    "\n",
    "If all goes well your solution should return the following data frame:\n",
    "\n",
    "<table border=\"1\" class=\"dataframe\">\n",
    "  <thead>\n",
    "    <tr style=\"text-align: right;\">\n",
    "      <th></th>\n",
    "      <th>Coach</th>\n",
    "      <th>winrate</th>\n",
    "    </tr>\n",
    "  </thead>\n",
    "  <tbody>\n",
    "    <tr>\n",
    "      <th>0</th>\n",
    "      <td>Thomas Mills</td>\n",
    "      <td>0.966667</td>\n",
    "    </tr>\n",
    "    <tr>\n",
    "      <th>1</th>\n",
    "      <td>George Sweetland</td>\n",
    "      <td>0.916750</td>\n",
    "    </tr>\n",
    "    <tr>\n",
    "      <th>2</th>\n",
    "      <td>Joseph Raycroft</td>\n",
    "      <td>0.901250</td>\n",
    "    </tr>\n",
    "    <tr>\n",
    "      <th>3</th>\n",
    "      <td>Carlisle Cutchin</td>\n",
    "      <td>0.890333</td>\n",
    "    </tr>\n",
    "    <tr>\n",
    "      <th>4</th>\n",
    "      <td>Theo Bellmont</td>\n",
    "      <td>0.888750</td>\n",
    "    </tr>\n",
    "    <tr>\n",
    "      <th>5</th>\n",
    "      <td>B.C. Edwards</td>\n",
    "      <td>0.887500</td>\n",
    "    </tr>\n",
    "    <tr>\n",
    "      <th>6</th>\n",
    "      <td>Larry Smith</td>\n",
    "      <td>0.134000</td>\n",
    "    </tr>      \n",
    "    <tr>\n",
    "      <th>7</th>\n",
    "      <td>Tony Relvas</td>\n",
    "      <td>0.132000</td>\n",
    "    </tr>\n",
    "    <tr>\n",
    "      <th>8</th>\n",
    "      <td>Louis Gillesby</td>\n",
    "      <td>0.128500</td>\n",
    "    </tr>\n",
    "    <tr>\n",
    "      <th>9</th>\n",
    "      <td>Arthur Badenoch</td>\n",
    "      <td>0.122667</td>\n",
    "    </tr>\n",
    "    <tr>\n",
    "      <th>10</th>\n",
    "      <td>Howie Evans</td>\n",
    "      <td>0.121000</td>\n",
    "    </tr>\n",
    "    <tr>\n",
    "      <th>11</th>\n",
    "      <td>Franklyn Ashcraft</td>\n",
    "      <td>0.073667</td>\n",
    "    </tr>\n",
    "  </tbody>\n",
    "</table>\n",
    "\n",
    "---\n",
    "\n",
    "⬇️⬇️⬇️ Enter your solution in the cell below ⬇️⬇️⬇️"
   ]
  },
  {
   "cell_type": "code",
   "execution_count": null,
   "id": "2b7f1c63-19d4-498b-9837-324f1eb4fed1",
   "metadata": {
    "tags": []
   },
   "outputs": [],
   "source": [
    "import pandas as pd\n",
    "\n",
    "...\n",
    "\n",
    "def ncaa_basketball_coach_winning(filename):\n",
    "    ...\n",
    "\n",
    "## Test your solution\n",
    "fn = \"ncaa-team-data.csv\"\n",
    "my_coaches_df = ncaa_basketball_coach_winning(fn)\n",
    "my_coaches_df"
   ]
  },
  {
   "cell_type": "code",
   "execution_count": null,
   "id": "23606e28",
   "metadata": {
    "deletable": false,
    "editable": false
   },
   "outputs": [],
   "source": [
    "grader.check(\"prob3\")"
   ]
  },
  {
   "cell_type": "markdown",
   "id": "6a9a2d67-8250-4a68-8731-a69782596417",
   "metadata": {},
   "source": [
    "<br/>\n",
    "<br/>\n",
    "<br/>\n",
    "<br/>\n",
    "<br/>\n",
    "<br/>\n",
    "\n",
    "---"
   ]
  },
  {
   "cell_type": "markdown",
   "id": "7c502b0f-ea36-487c-9dca-0d800255f03c",
   "metadata": {
    "deletable": false,
    "editable": false
   },
   "source": [
    "## Problem 4: Restaurant Transactions by Time of Day \n",
    "\n",
    "The file `\"BreadBasket_DMS.csv\"` contains data of time-stamped transactions from a restaurant. We would like to know the most popular items by time of day, in the following 6 categories: 1) breakfast (opening to 10am), 2) preLunch (between 10am and 12pm), 3) lunch (12-3pm), 4) postLunch (between 3p and 6pm) 5) dinner (6-8pm), and 6) lateDinner (8pm to close). Our final dataset must be transformed from the original dataset, and provide an answer to our question. NOTE: the time categories are not in the original dataset (only time stamps), so you will need to compute them.\n",
    "\n",
    "If all goes well your solution should return the following data frame:\n",
    "\n",
    "<table border=\"1\" class=\"dataframe\">\n",
    "  <thead>\n",
    "    <tr style=\"text-align: right;\">\n",
    "      <th></th>\n",
    "      <th>Time_Category</th>\n",
    "      <th>item</th>\n",
    "    </tr>\n",
    "  </thead>\n",
    "  <tbody>\n",
    "    <tr>\n",
    "      <th>0</th>\n",
    "      <td>breakfast</td>\n",
    "      <td>Coffee</td>\n",
    "    </tr>\n",
    "    <tr>\n",
    "      <th>1</th>\n",
    "      <td>dinner</td>\n",
    "      <td>Coffee</td>\n",
    "    </tr>\n",
    "    <tr>\n",
    "      <th>2</th>\n",
    "      <td>lateDinner</td>\n",
    "      <td>Postcard</td>\n",
    "    </tr>\n",
    "    <tr>\n",
    "      <th>3</th>\n",
    "      <td>lunch</td>\n",
    "      <td>Coffee</td>\n",
    "    </tr>\n",
    "    <tr>\n",
    "      <th>4</th>\n",
    "      <td>postLunch</td>\n",
    "      <td>Coffee</td>\n",
    "    </tr>\n",
    "    <tr>\n",
    "      <th>5</th>\n",
    "      <td>preLunch</td>\n",
    "      <td>Coffee</td>\n",
    "    </tr>\n",
    "  </tbody>\n",
    "</table>\n",
    "\n",
    "---\n",
    "\n",
    "⬇️⬇️⬇️ Enter your solution in the cell below ⬇️⬇️⬇️"
   ]
  },
  {
   "cell_type": "code",
   "execution_count": null,
   "id": "45120bbc-190c-4be1-b15f-d81cc14ae92b",
   "metadata": {
    "tags": []
   },
   "outputs": [],
   "source": [
    "import pandas as pd\n",
    "\n",
    "...\n",
    "    \n",
    "def restaurant_transactions_by_time_day(filename):\n",
    "    ...\n",
    "\n",
    "## Test your solution\n",
    "fn = \"BreadBasket_DMS.csv\"\n",
    "my_restaurant_df = restaurant_transactions_by_time_day(fn)\n",
    "my_restaurant_df"
   ]
  },
  {
   "cell_type": "code",
   "execution_count": null,
   "id": "a06cdb64",
   "metadata": {
    "deletable": false,
    "editable": false
   },
   "outputs": [],
   "source": [
    "grader.check(\"prob4\")"
   ]
  },
  {
   "cell_type": "markdown",
   "id": "62632927-e7d6-44fe-b724-4fe000bc1bed",
   "metadata": {},
   "source": [
    "<br/>\n",
    "<br/>\n",
    "<br/>\n",
    "<br/>\n",
    "<br/>\n",
    "<br/>\n",
    "\n",
    "---"
   ]
  },
  {
   "cell_type": "markdown",
   "id": "bcde9f1b-b243-4f2d-a68d-6da8fc5d200b",
   "metadata": {},
   "source": [
    "<div class=\"alert alert-info\"> <b><i>Note:</i></b> Do not forget to run this cell before exporting the ZIP file for Gradescope! </div>"
   ]
  },
  {
   "cell_type": "code",
   "execution_count": null,
   "id": "cc271964-727d-4b60-ad03-47e4ed4f8b71",
   "metadata": {},
   "outputs": [],
   "source": [
    "!jupyter nbconvert --to script PR-04-Pandas.ipynb"
   ]
  },
  {
   "cell_type": "markdown",
   "id": "88d25cf0",
   "metadata": {
    "deletable": false,
    "editable": false
   },
   "source": [
    "## Submission\n",
    "\n",
    "Make sure you have run all cells in your notebook in order before running the cell below, so that all images/graphs appear in the output. The cell below will generate a zip file for you to submit."
   ]
  },
  {
   "cell_type": "code",
   "execution_count": null,
   "id": "837b91f5",
   "metadata": {
    "deletable": false,
    "editable": false
   },
   "outputs": [],
   "source": [
    "grader.export(pdf=False, force_save=True, run_tests=True, files=['PR-04-Pandas.py'])"
   ]
  },
  {
   "cell_type": "markdown",
   "id": "4569442d",
   "metadata": {},
   "source": [
    " "
   ]
  }
 ],
 "metadata": {
  "kernelspec": {
   "display_name": "Python 3 (ipykernel)",
   "language": "python",
   "name": "python3"
  },
  "language_info": {
   "codemirror_mode": {
    "name": "ipython",
    "version": 3
   },
   "file_extension": ".py",
   "mimetype": "text/x-python",
   "name": "python",
   "nbconvert_exporter": "python",
   "pygments_lexer": "ipython3",
   "version": "3.11.7"
  },
  "otter": {
   "OK_FORMAT": false,
   "tests": {
    "prob1": "from otter.test_files import test_case\n\nOK_FORMAT = False\n\nname = \"prob1\"\npoints = None\n\n@test_case(points=None, hidden=False)\ndef test1_flexible_course_prerequisites(flexible_course_prerequisites):\n    import pandas as pd\n    from io import StringIO\n    from pandas.testing import assert_frame_equal\n\n    if flexible_course_prerequisites is None:\n        raise AssertionError(\"No student function found for this problem.\")\n        \n    file_name = 'testudo_fall2020.csv'\n    expected_answer_str = \"\"\"area,flexibility\nINFM,1.0\nSPHL,1.0\nPLCY,0.8928571428571429\nURSP,0.8571428571428571\nENSP,0.8333333333333334\nAMST,0.777778\nPHSC,0.600000\nPSYC,0.4473684210526316\nBMGT,0.4339622641509434\nMATH,0.40816326530612246\nSTAT,0.4\nECON,0.265625\"\"\"\n    \n    answer = flexible_course_prerequisites(file_name)   \n    expected = pd.read_csv(StringIO(expected_answer_str))\n\n    assert type(answer) == type(expected), \"Expected the return value to be a Pandas Data Frame\"\n    \n    try:\n        assert_frame_equal(expected.reset_index(drop=True), answer.reset_index(drop=True), atol=1e-3)\n    except AssertionError as e:\n        raise AssertionError(f\"Your solution returned:\\n{answer}\\n\\n\\nWhile it should have returned:\\n{expected}\") from e\n\n@test_case(points=None, hidden=False)\ndef test2_flexible_course_prerequisites(flexible_course_prerequisites):\n    import pandas as pd\n    from io import StringIO\n    from pandas.testing import assert_frame_equal, assert_series_equal\n\n    if flexible_course_prerequisites is None:\n        raise AssertionError(\"No student function found for this problem.\")\n        \n    file_name = 'testudo_fall2020_random.csv'\n    expected_answer_str = \"\"\"area,flexibility\nAMST,0.8888888888888888\nURSP,0.8571428571428571\nENSP,0.8333333333333334\nPLCY,0.75\nCMSC,0.7391304347826086\nSPHL,0.7142857142857143\nBMGT,0.6037735849056604\nINFM,0.6\nPHSC,0.6\nPSYC,0.5526315789473685\nENTS,0.5\nSTAT,0.3333333333333333\"\"\"\n    \n    answer = flexible_course_prerequisites(file_name)   \n    expected = pd.read_csv(StringIO(expected_answer_str))\n\n    assert type(answer) == type(expected), \"Expected the return value to be a Pandas Data Frame\"\n    \n    try:\n        assert_frame_equal(expected.reset_index(drop=True), answer.reset_index(drop=True), atol=1e-3)\n    except AssertionError as e:\n        raise AssertionError(f\"Your solution returned:\\n{answer}\\n\\n\\nWhile it should have returned:\\n{expected}\") from e\n\n",
    "prob2": "from otter.test_files import test_case\n\nOK_FORMAT = False\n\nname = \"prob2\"\npoints = None\n\n@test_case(points=None, hidden=False)\ndef test1_labor_stats_gender_gap(labor_stats_gender_gap):\n    import pandas as pd\n    from io import StringIO\n    from pandas.testing import assert_frame_equal, assert_series_equal\n\n    if labor_stats_gender_gap is None:\n        raise AssertionError(\"No student function found for this problem.\")\n\n    file_name = \"bls-by-category.csv\"\n    expected_answer_str = \"\"\"Category,Gap_weekly\nSCIENCE,367.0\nSALES,311.54545454545456\nMANAGEMENT,306.125\nBUSINESS,287.9166666666667\nCOMPUTATIONAL,218.71428571428572\nHEALTHCARE PROFESSIONAL,207.714286\nCULINARY,81.000000\nOFFICE,74.41176470588235\nHEALTHCARE SUPPORT,69.0\nAGRICULTURAL,62.0\nSOCIAL SERVICE,61.333333333333336\nPROTECTIVE SERVICE,54.0\"\"\"\n    \n    answer = labor_stats_gender_gap(file_name)   \n    expected = pd.read_csv(StringIO(expected_answer_str))\n    \n    assert type(answer) == type(expected), \"Expected the return value to be a Pandas Data Frame\"\n    \n    try:\n        assert_frame_equal(expected.reset_index(drop=True), answer.reset_index(drop=True), atol=1e-3)\n    except AssertionError as e:\n        raise AssertionError(f\"Your solution returned:\\n{answer}\\n\\n\\nWhile it should have returned:\\n{expected}\") from e\n\n@test_case(points=None, hidden=False)\ndef test2_labor_stats_gender_gap(labor_stats_gender_gap):\n    import pandas as pd\n    from io import StringIO\n    from pandas.testing import assert_frame_equal, assert_series_equal\n\n    if labor_stats_gender_gap is None:\n        raise AssertionError(\"No student function found for this problem.\")\n\n    file_name = \"bls-by-category-random.csv\"\n    expected_answer_str = \"\"\"Category,Gap_weekly\nHEALTHCARE SUPPORT,1521.0\nAGRICULTURAL,883.0\nTRANSPORTATION,866.0\nARTS,845.3333333333334\nPRODUCTION,792.5454545454545\nCOMPUTATIONAL,718.4285714285714\nEDUCATION,405.25\nSALES,320.09090909090907\nOFFICE,275.70588235294116\nSERVICE,188.0\nPROTECTIVE SERVICE,185.33333333333334\nSOCIAL SERVICE,169.0\"\"\"\n    \n    answer = labor_stats_gender_gap(file_name)   \n    expected = pd.read_csv(StringIO(expected_answer_str))\n    \n    assert type(answer) == type(expected), \"Expected the return value to be a Pandas Data Frame\"\n    \n    try:\n        assert_frame_equal(expected.reset_index(drop=True), answer.reset_index(drop=True), atol=1e-3)\n    except AssertionError as e:\n        raise AssertionError(f\"Your solution returned:\\n{answer}\\n\\n\\nWhile it should have returned:\\n{expected}\") from e\n\n",
    "prob3": "from otter.test_files import test_case\n\nOK_FORMAT = False\n\nname = \"prob3\"\npoints = None\n\n@test_case(points=None, hidden=False)\ndef test1_ncaa_basketball_coach_winning(ncaa_basketball_coach_winning):\n    import pandas as pd\n    from io import StringIO\n    from pandas.testing import assert_frame_equal, assert_series_equal\n\n    if ncaa_basketball_coach_winning is None:\n        raise AssertionError(\"No student function found for this problem.\")\n        \n    file_name = \"ncaa-team-data.csv\"\n    expected_answer_str = \"\"\"Coach,winrate\nThomas Mills,0.9666666666666667\nGeorge Sweetland,0.9167500000000001\nJoseph Raycroft,0.9012500000000001\nCarlisle Cutchin,0.8903333333333333\nTheo Bellmont,0.8887499999999999\nB.C. Edwards,0.887500\nLarry Smith,0.134000\nTony Relvas,0.132\nLouis Gillesby,0.1285\nArthur Badenoch,0.12266666666666666\nHowie Evans,0.121\nFranklyn Ashcraft,0.07366666666666666\"\"\"\n    \n    answer = ncaa_basketball_coach_winning(file_name)   \n    expected = pd.read_csv(StringIO(expected_answer_str))\n    \n    assert type(answer) == type(expected), \"Expected the return value to be a Pandas Data Frame\"\n    \n    try:\n        assert_frame_equal(expected.reset_index(drop=True), answer.reset_index(drop=True), atol=1e-3)\n    except AssertionError as e:\n        raise AssertionError(f\"Your solution returned:\\n{answer}\\n\\n\\nWhile it should have returned:\\n{expected}\") from e\n\n@test_case(points=None, hidden=False)\ndef test2_ncaa_basketball_coach_winning(ncaa_basketball_coach_winning):\n    import pandas as pd\n    from io import StringIO\n    from pandas.testing import assert_frame_equal, assert_series_equal\n\n    if ncaa_basketball_coach_winning is None:\n        raise AssertionError(\"No student function found for this problem.\")\n        \n    file_name = \"ncaa-team-data-random.csv\"\n    expected_answer_str = \"\"\"Coach,winrate\nFrank Summers,0.9219684169848289\nHarold Woodbury,0.9022317829984677\nKenneth Fairman,0.881684380965489\nArad McCutchan,0.8737821864122015\nCharles Keinath,0.8687983744848905\nBurton Rix,0.8567896072950976\nJohn Birkett,0.13708354670213316\nPaul Biancardi,0.13349652098995532\nJohn Colrick,0.13078652775733773\nJohn Koehler,0.11584995238175855\nArt Perry,0.0731001747005128\nW.E. Metzenthin,0.0494775779119902\"\"\"\n    \n    answer = ncaa_basketball_coach_winning(file_name)   \n    expected = pd.read_csv(StringIO(expected_answer_str))\n    \n    assert type(answer) == type(expected), \"Expected the return value to be a Pandas Data Frame\"\n    \n    try:\n        assert_frame_equal(expected.reset_index(drop=True), answer.reset_index(drop=True), atol=1e-3)\n    except AssertionError as e:\n        raise AssertionError(f\"Your solution returned:\\n{answer}\\n\\n\\nWhile it should have returned:\\n{expected}\") from e\n\n\n\n",
    "prob4": "from otter.test_files import test_case\n\nOK_FORMAT = False\n\nname = \"prob4\"\npoints = None\n\n@test_case(points=None, hidden=False)\ndef test1_restaurant_transactions_by_time_day(restaurant_transactions_by_time_day):\n    import pandas as pd\n    from io import StringIO\n    from pandas.testing import assert_frame_equal, assert_series_equal\n\n    if restaurant_transactions_by_time_day is None:\n        raise AssertionError(\"No student function found for this problem.\")\n    file_name = \"BreadBasket_DMS.csv\"\n    expected_answer_str = \"\"\"Time_Category,item\nbreakfast,Coffee\ndinner,Coffee\nlateDinner,Postcard\nlunch,Coffee\npostLunch,Coffee\npreLunch,Coffee\n\"\"\"\n    answer = restaurant_transactions_by_time_day(file_name)   \n    expected = pd.read_csv(StringIO(expected_answer_str))\n    \n    assert type(answer) == type(expected), \"Expected the return value to be a Pandas Data Frame\"\n    \n    try:\n        assert_frame_equal(expected.reset_index(drop=True), answer.reset_index(drop=True), atol=1e-3)\n    except AssertionError as e:\n        raise AssertionError(f\"Your solution returned:\\n{answer}\\n\\n\\nWhile it should have returned:\\n{expected}\") from e\n\n\n\n@test_case(points=None, hidden=False)\ndef test2_restaurant_transactions_by_time_day(restaurant_transactions_by_time_day):\n    import pandas as pd\n    from io import StringIO\n    from pandas.testing import assert_frame_equal, assert_series_equal\n\n    if restaurant_transactions_by_time_day is None:\n        raise AssertionError(\"No student function found for this problem.\")\n    file_name = \"BreadBasket_DMS_random.csv\"\n    expected_answer_str = \"\"\"Time_Category,item\nbreakfast,Brownie\ndinner,Victorian Sponge\nlateDinner,Crisps\nlunch,Bread Pudding\npostLunch,Tiffin\npreLunch,Smoothies\n\"\"\"\n    answer = restaurant_transactions_by_time_day(file_name)   \n    expected = pd.read_csv(StringIO(expected_answer_str))\n    \n    assert type(answer) == type(expected), \"Expected the return value to be a Pandas Data Frame\"\n    \n    try:\n        assert_frame_equal(expected.reset_index(drop=True), answer.reset_index(drop=True), atol=1e-3)\n    except AssertionError as e:\n        raise AssertionError(f\"Your solution returned:\\n{answer}\\n\\n\\nWhile it should have returned:\\n{expected}\") from e\n\n\n\n"
   }
  }
 },
 "nbformat": 4,
 "nbformat_minor": 5
}
