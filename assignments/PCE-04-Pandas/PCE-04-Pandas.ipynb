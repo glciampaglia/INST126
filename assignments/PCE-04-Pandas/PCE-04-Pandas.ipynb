{
 "cells": [
  {
   "cell_type": "code",
   "execution_count": null,
   "metadata": {
    "deletable": false,
    "editable": false
   },
   "outputs": [],
   "source": [
    "# Initialize Otter\n",
    "import otter\n",
    "grader = otter.Notebook(\"PCE-04-Pandas.ipynb\")"
   ]
  },
  {
   "cell_type": "markdown",
   "metadata": {
    "id": "y3G0wdCFC5up",
    "nbgrader": {
     "grade": false,
     "grade_id": "cell-0cbcfd9b106d447f",
     "locked": true,
     "schema_version": 3,
     "solution": false,
     "task": false
    }
   },
   "source": [
    "# PCE 04: Pandas"
   ]
  },
  {
   "cell_type": "markdown",
   "metadata": {},
   "source": [
    "### **_NOTE:_**  Run this cell before you start coding to import necessary libraries"
   ]
  },
  {
   "cell_type": "code",
   "execution_count": null,
   "metadata": {
    "nbgrader": {
     "grade": false,
     "grade_id": "cell-02f9b12c1fe0e597",
     "locked": true,
     "schema_version": 3,
     "solution": false,
     "task": false
    }
   },
   "outputs": [],
   "source": [
    "# DO NOT MODIFY, RUN THE CELL BEFORE YOU CODE\n",
    "import pandas as pd\n",
    "import io"
   ]
  },
  {
   "cell_type": "markdown",
   "metadata": {
    "id": "4-Pwu6LeEUd5",
    "nbgrader": {
     "grade": false,
     "grade_id": "cell-51c1109a87b9d3cc",
     "locked": true,
     "schema_version": 3,
     "solution": false,
     "task": false
    }
   },
   "source": [
    "## Q1a: Create a dataframe from a list of dictionaries\n",
    "\n",
    "Create a dataframe from a list of dictionaries.\n",
    "\n",
    "Your function `list_to_dataframe` should take this parameter:\n",
    "- `data` &ndash; a list of dictionary entries (see below)\n",
    "\n",
    "And return:\n",
    "- `df` a pandas DataFrame\n",
    "\n",
    "For the data given below, you should see the following output when you evaluate `df`.\n",
    "\n",
    "<table border=\"1\" class=\"dataframe\">\n",
    "  <thead>\n",
    "    <tr style=\"text-align: right;\">\n",
    "      <th></th>\n",
    "      <th>classcode</th>\n",
    "      <th>enrolled</th>\n",
    "      <th>passed</th>\n",
    "      <th>intro</th>\n",
    "    </tr>\n",
    "  </thead>\n",
    "  <tbody>\n",
    "    <tr>\n",
    "      <th>0</th>\n",
    "      <td>INST135</td>\n",
    "      <td>75</td>\n",
    "      <td>72</td>\n",
    "      <td>yes</td>\n",
    "    </tr>\n",
    "    <tr>\n",
    "      <th>1</th>\n",
    "      <td>INST201</td>\n",
    "      <td>150</td>\n",
    "      <td>148</td>\n",
    "      <td>yes</td>\n",
    "    </tr>\n",
    "    <tr>\n",
    "      <th>2</th>\n",
    "      <td>INST311</td>\n",
    "      <td>60</td>\n",
    "      <td>40</td>\n",
    "      <td>no</td>\n",
    "    </tr>\n",
    "    <tr>\n",
    "      <th>3</th>\n",
    "      <td>INST314</td>\n",
    "      <td>100</td>\n",
    "      <td>78</td>\n",
    "      <td>no</td>\n",
    "    </tr>\n",
    "    <tr>\n",
    "      <th>4</th>\n",
    "      <td>INST326</td>\n",
    "      <td>140</td>\n",
    "      <td>110</td>\n",
    "      <td>no</td>\n",
    "    </tr>\n",
    "    <tr>\n",
    "      <th>5</th>\n",
    "      <td>INST335</td>\n",
    "      <td>70</td>\n",
    "      <td>56</td>\n",
    "      <td>no</td>\n",
    "    </tr>\n",
    "    <tr>\n",
    "      <th>6</th>\n",
    "      <td>INST126</td>\n",
    "      <td>75</td>\n",
    "      <td>71</td>\n",
    "      <td>yes</td>\n",
    "    </tr>\n",
    "    <tr>\n",
    "      <th>7</th>\n",
    "      <td>INST326</td>\n",
    "      <td>140</td>\n",
    "      <td>117</td>\n",
    "      <td>no</td>\n",
    "    </tr>\n",
    "  </tbody>\n",
    "</table>"
   ]
  },
  {
   "cell_type": "code",
   "execution_count": null,
   "metadata": {
    "id": "FfhDpCj11O07",
    "nbgrader": {
     "grade": false,
     "grade_id": "cell-1811761a4908f9c7",
     "locked": false,
     "schema_version": 3,
     "solution": true,
     "task": false
    },
    "tags": []
   },
   "outputs": [],
   "source": [
    "...\n",
    "\n",
    "# test your function here\n",
    "data = [\n",
    " {'classcode': 'INST135', 'enrolled': 75, 'passed': 72, 'intro': 'yes'},\n",
    " {'classcode': 'INST201', 'enrolled': 150, 'passed': 148, 'intro': 'yes'},\n",
    " {'classcode': 'INST311', 'enrolled': 60, 'passed': 40, 'intro': 'no'},\n",
    " {'classcode': 'INST314', 'enrolled': 100, 'passed': 78, 'intro': 'no'},\n",
    " {'classcode': 'INST326', 'enrolled': 140, 'passed': 110, 'intro': 'no'},\n",
    " {'classcode': 'INST335', 'enrolled': 70, 'passed': 56, 'intro': 'no'},\n",
    " {'classcode': 'INST126', 'enrolled': 75, 'passed': 71, 'intro': 'yes'},\n",
    " {'classcode': 'INST326', 'enrolled': 140, 'passed': 117, 'intro': 'no'}\n",
    "]\n",
    "df = list_to_dataframe(data)\n",
    "df"
   ]
  },
  {
   "cell_type": "markdown",
   "metadata": {
    "deletable": false,
    "editable": false,
    "nbgrader": {
     "grade": false,
     "grade_id": "cell-30b80d145d034b65",
     "locked": true,
     "schema_version": 3,
     "solution": false,
     "task": false
    }
   },
   "source": [
    "The cell below is an autograder cell, run it to check if your solution is correct."
   ]
  },
  {
   "cell_type": "code",
   "execution_count": null,
   "metadata": {
    "deletable": false,
    "editable": false
   },
   "outputs": [],
   "source": [
    "grader.check(\"q1a\")"
   ]
  },
  {
   "cell_type": "markdown",
   "metadata": {
    "id": "OvYOLL-uuFEr",
    "nbgrader": {
     "grade": false,
     "grade_id": "cell-1d0de503ad3858d8",
     "locked": true,
     "schema_version": 3,
     "solution": false,
     "task": false
    }
   },
   "source": [
    "## Q1b: Load data from a csv file into a dataframe\n",
    " \n",
    "In the folder for this PCE, there is a `.csv` file that contains the exact same data as Q1a. The filename is `Q1b_input1.csv`\n",
    "\n",
    "Your function `csv_to_dataframe` should take this parameter:\n",
    "- `fpath` &ndash; the name of the file\n",
    "\n",
    "And it should return:\n",
    "- `df` &ndash; a Pandas DataFrame\n",
    "\n",
    "You should see the exact same input as Q1a."
   ]
  },
  {
   "cell_type": "code",
   "execution_count": null,
   "metadata": {
    "id": "LpIe-t8a1bkX",
    "nbgrader": {
     "grade": false,
     "grade_id": "cell-2efa67bb894ddd8f",
     "locked": false,
     "schema_version": 3,
     "solution": true,
     "task": false
    },
    "tags": []
   },
   "outputs": [],
   "source": [
    "...\n",
    "\n",
    "# Test yor function here\n",
    "fname = 'Q1b_input1.csv'\n",
    "df = csv_to_dataframe(fname)\n",
    "df"
   ]
  },
  {
   "cell_type": "markdown",
   "metadata": {
    "deletable": false,
    "editable": false,
    "nbgrader": {
     "grade": false,
     "grade_id": "cell-d50ccb11c2940b82",
     "locked": true,
     "schema_version": 3,
     "solution": false,
     "task": false
    }
   },
   "source": [
    "The cell below is an autograder cell, run it to check if your solution is correct."
   ]
  },
  {
   "cell_type": "code",
   "execution_count": null,
   "metadata": {
    "deletable": false,
    "editable": false
   },
   "outputs": [],
   "source": [
    "grader.check(\"q1b\")"
   ]
  },
  {
   "cell_type": "markdown",
   "metadata": {
    "id": "4LscE8E8eJIz",
    "nbgrader": {
     "grade": false,
     "grade_id": "cell-bad7ee621b40bdd1",
     "locked": true,
     "schema_version": 3,
     "solution": false,
     "task": false
    }
   },
   "source": [
    "## Q2: Access columns in a dataframe\n",
    "\n",
    "Access columns in a dataframe.\n",
    "\n",
    "Your function `access_df_column` should take these parameters:\n",
    "- `df` &ndash; a pandas DataFrame\n",
    "- `col` &ndash; the name of the column you want to access\n",
    "\n",
    "And return:\n",
    "- `result` &ndash; a pandas Series with the column of interest\n",
    "\n",
    "For example, if `df` is the DataFrame from question Q1a, then `access_df_column(df, 'classcode')` should yield this value:\n",
    "```\n",
    "0    INST135\n",
    "1    INST201\n",
    "2    INST311\n",
    "3    INST314\n",
    "4    INST326\n",
    "5    INST335\n",
    "6    INST126\n",
    "7    INST326\n",
    "Name: classcode, dtype: object\n",
    "```"
   ]
  },
  {
   "cell_type": "code",
   "execution_count": null,
   "metadata": {
    "id": "m2e1HZHHeJIz",
    "nbgrader": {
     "grade": false,
     "grade_id": "cell-30c4dd4a2323aa9c",
     "locked": false,
     "schema_version": 3,
     "solution": true,
     "task": false
    },
    "tags": []
   },
   "outputs": [],
   "source": [
    "...\n",
    "\n",
    "# Test your function here\n",
    "_data = \"\"\"\n",
    "classcode,enrolled,passed,intro\n",
    "INST135,75,72,yes\n",
    "INST201,150,148,yes\n",
    "INST311,60,40,no\n",
    "INST314,100,78,no\n",
    "INST326,140,110,no\n",
    "INST335,70,56,no\n",
    "INST126,75,71,yes\n",
    "INST326,140,117,no\n",
    "\"\"\"\n",
    "df = pd.read_csv(io.StringIO(_data))\n",
    "columndata = access_df_column(df, 'enrolled')\n",
    "columndata"
   ]
  },
  {
   "cell_type": "markdown",
   "metadata": {
    "deletable": false,
    "editable": false,
    "nbgrader": {
     "grade": false,
     "grade_id": "cell-5a8aa29bf319a681",
     "locked": true,
     "schema_version": 3,
     "solution": false,
     "task": false
    }
   },
   "source": [
    "The cell below is an autograder cell, run it to check if your solution is correct."
   ]
  },
  {
   "cell_type": "code",
   "execution_count": null,
   "metadata": {
    "deletable": false,
    "editable": false
   },
   "outputs": [],
   "source": [
    "grader.check(\"q2\")"
   ]
  },
  {
   "cell_type": "markdown",
   "metadata": {
    "id": "G_Tyt430hx29",
    "nbgrader": {
     "grade": false,
     "grade_id": "cell-2abcdc0ab56883eb",
     "locked": true,
     "schema_version": 3,
     "solution": false,
     "task": false
    }
   },
   "source": [
    "## Q3: Sort a dataframe in ascending/descending order, based on a column\n",
    "\n",
    "Sort a dataframe in ascending/descending order, based on a column.\n",
    "\n",
    "Your function `sort_df_on_column` should take the three parameters:\n",
    "- `df` &ndash; a pandas DataFrame\n",
    "- `col` &ndash; the name of the column you want to sort by\n",
    "- `ascending` &ndash; a boolean telling whether to sort in ascending (`True`) or descending (`False`) order in the column\n",
    "\n",
    "And it should return:\n",
    "- `result` &ndash; a new pandas DataFrame that is sorted in ascending/descending order on the desired column\n",
    "\n",
    "For example, if `df` holds the same DataFrame from question Q1a, then from `sort_df_on_column(df, 'passed', False)` should yield this dataframe (notice how the rows are sorted by the `passed` column in *descending* order):\n",
    "\n",
    "<table border=\"1\" class=\"dataframe\">\n",
    "  <thead>\n",
    "    <tr style=\"text-align: right;\">\n",
    "      <th></th>\n",
    "      <th>classcode</th>\n",
    "      <th>enrolled</th>\n",
    "      <th>passed</th>\n",
    "      <th>intro</th>\n",
    "    </tr>\n",
    "  </thead>\n",
    "  <tbody>\n",
    "    <tr>\n",
    "      <th>2</th>\n",
    "      <td>INST311</td>\n",
    "      <td>60</td>\n",
    "      <td>40</td>\n",
    "      <td>no</td>\n",
    "    </tr>\n",
    "    <tr>\n",
    "      <th>5</th>\n",
    "      <td>INST335</td>\n",
    "      <td>70</td>\n",
    "      <td>56</td>\n",
    "      <td>no</td>\n",
    "    </tr>\n",
    "    <tr>\n",
    "      <th>6</th>\n",
    "      <td>INST126</td>\n",
    "      <td>75</td>\n",
    "      <td>71</td>\n",
    "      <td>yes</td>\n",
    "    </tr>\n",
    "    <tr>\n",
    "      <th>0</th>\n",
    "      <td>INST135</td>\n",
    "      <td>75</td>\n",
    "      <td>72</td>\n",
    "      <td>yes</td>\n",
    "    </tr>\n",
    "    <tr>\n",
    "      <th>3</th>\n",
    "      <td>INST314</td>\n",
    "      <td>100</td>\n",
    "      <td>78</td>\n",
    "      <td>no</td>\n",
    "    </tr>\n",
    "    <tr>\n",
    "      <th>4</th>\n",
    "      <td>INST326</td>\n",
    "      <td>140</td>\n",
    "      <td>110</td>\n",
    "      <td>no</td>\n",
    "    </tr>\n",
    "    <tr>\n",
    "      <th>7</th>\n",
    "      <td>INST326</td>\n",
    "      <td>140</td>\n",
    "      <td>117</td>\n",
    "      <td>no</td>\n",
    "    </tr>\n",
    "    <tr>\n",
    "      <th>1</th>\n",
    "      <td>INST201</td>\n",
    "      <td>150</td>\n",
    "      <td>148</td>\n",
    "      <td>yes</td>\n",
    "    </tr>\n",
    "  </tbody>\n",
    "</table>"
   ]
  },
  {
   "cell_type": "code",
   "execution_count": null,
   "metadata": {
    "id": "K5u36X0Whx29",
    "nbgrader": {
     "grade": false,
     "grade_id": "cell-5b07e4a9f281815f",
     "locked": false,
     "schema_version": 3,
     "solution": true,
     "task": false
    },
    "tags": []
   },
   "outputs": [],
   "source": [
    "...\n",
    "\n",
    "# Test your function here\n",
    "_data = \"\"\"\n",
    "classcode,enrolled,passed,intro\n",
    "INST135,75,72,yes\n",
    "INST201,150,148,yes\n",
    "INST311,60,40,no\n",
    "INST314,100,78,no\n",
    "INST326,140,110,no\n",
    "INST335,70,56,no\n",
    "INST126,75,71,yes\n",
    "INST326,140,117,no\n",
    "\"\"\"\n",
    "df = pd.read_csv(io.StringIO(_data))\n",
    "sorted_df = sort_df_on_column(df, 'passed', False)\n",
    "sorted_df"
   ]
  },
  {
   "cell_type": "markdown",
   "metadata": {
    "deletable": false,
    "editable": false,
    "nbgrader": {
     "grade": false,
     "grade_id": "cell-68a0409ada9a76a5",
     "locked": true,
     "schema_version": 3,
     "solution": false,
     "task": false
    }
   },
   "source": [
    "The cell below is an autograder cell, run it to check if your solution is correct."
   ]
  },
  {
   "cell_type": "code",
   "execution_count": null,
   "metadata": {
    "deletable": false,
    "editable": false
   },
   "outputs": [],
   "source": [
    "grader.check(\"q3\")"
   ]
  },
  {
   "cell_type": "markdown",
   "metadata": {
    "id": "NSHO7z2Sj1F-",
    "nbgrader": {
     "grade": false,
     "grade_id": "cell-3ab0daa5cd7e6623",
     "locked": true,
     "schema_version": 3,
     "solution": false,
     "task": false
    }
   },
   "source": [
    "## Q4: Get data for either intro or non-intro classes\n",
    "\n",
    "Get data for either intro or non-intro classes.\n",
    "\n",
    "Your function `filter_df_by_intro()` should take these parameters:\n",
    "- `df` &ndash; a pandas DataFrame;\n",
    "- `class_type` &ndash; a string telling whether you want intro courses (the value will be `\"intro\"`) or not (`\"non-intro\"`).\n",
    "\n",
    "And it should return:\n",
    "- `result` &ndash; a new pandas DataFrame that contains data from only intro or non-intro courses\n",
    "\n",
    "For example, if `df` holds the same DataFrame from question Q1a, `filter_df_by_intro(df, 'non-intro')` should yield this dataframe (notice how we only have data for non-intro courses):\n",
    "\n",
    "<table border=\"1\" class=\"dataframe\">\n",
    "  <thead>\n",
    "    <tr style=\"text-align: right;\">\n",
    "      <th></th>\n",
    "      <th>classcode</th>\n",
    "      <th>enrolled</th>\n",
    "      <th>passed</th>\n",
    "      <th>intro</th>\n",
    "    </tr>\n",
    "  </thead>\n",
    "  <tbody>\n",
    "    <tr>\n",
    "      <th>6</th>\n",
    "      <td>INST126</td>\n",
    "      <td>75</td>\n",
    "      <td>71</td>\n",
    "      <td>yes</td>\n",
    "    </tr>\n",
    "    <tr>\n",
    "      <th>0</th>\n",
    "      <td>INST135</td>\n",
    "      <td>75</td>\n",
    "      <td>72</td>\n",
    "      <td>yes</td>\n",
    "    </tr>\n",
    "    <tr>\n",
    "      <th>1</th>\n",
    "      <td>INST201</td>\n",
    "      <td>150</td>\n",
    "      <td>148</td>\n",
    "      <td>yes</td>\n",
    "    </tr>\n",
    "  </tbody>\n",
    "</table>"
   ]
  },
  {
   "cell_type": "code",
   "execution_count": null,
   "metadata": {
    "id": "MPTpfNtUj1F_",
    "nbgrader": {
     "grade": false,
     "grade_id": "cell-41455397112ff495",
     "locked": false,
     "schema_version": 3,
     "solution": true,
     "task": false
    },
    "tags": []
   },
   "outputs": [],
   "source": [
    "...\n",
    "\n",
    "# Test your function here\n",
    "_data = \"\"\"\n",
    "classcode,enrolled,passed,intro\n",
    "INST135,75,72,yes\n",
    "INST201,150,148,yes\n",
    "INST311,60,40,no\n",
    "INST314,100,78,no\n",
    "INST326,140,110,no\n",
    "INST335,70,56,no\n",
    "INST126,75,71,yes\n",
    "INST326,140,117,no\n",
    "\"\"\"\n",
    "df = pd.read_csv(io.StringIO(_data))\n",
    "filtered = filter_df_by_intro(df, 'intro')\n",
    "filtered"
   ]
  },
  {
   "cell_type": "markdown",
   "metadata": {
    "deletable": false,
    "editable": false,
    "nbgrader": {
     "grade": false,
     "grade_id": "cell-92931a71fd935270",
     "locked": true,
     "schema_version": 3,
     "solution": false,
     "task": false
    }
   },
   "source": [
    "The cell below is an autograder cell, run it to check if your solution is correct."
   ]
  },
  {
   "cell_type": "code",
   "execution_count": null,
   "metadata": {
    "deletable": false,
    "editable": false
   },
   "outputs": [],
   "source": [
    "grader.check(\"q4\")"
   ]
  },
  {
   "cell_type": "markdown",
   "metadata": {
    "id": "RaAnrh2-mL-2",
    "nbgrader": {
     "grade": false,
     "grade_id": "cell-25dd60f37a5901ee",
     "locked": true,
     "schema_version": 3,
     "solution": false,
     "task": false
    }
   },
   "source": [
    "## Q5: Compute basic statistics for numerical columns\n",
    "\n",
    "Compute basic statistics for numerical columns.\n",
    "\n",
    "Your function should compute the following statistics from a column:\n",
    "1. mean\n",
    "2. median\n",
    "3. standard deviation\n",
    "4. sum\n",
    "5. min\n",
    "6. max\n",
    "\n",
    "(_**NOTE**_: don't call this function on columns with non-numeric data! You can optionally include a check for whether the column gives numeric data, but we won't be checking for this)\n",
    "\n",
    "Your function `summarize_col()` should take these parameters:\n",
    "- `df` &ndash; a pandas DataFrame\n",
    "- `col` &ndash; which column (with numeric data) we want to compute statistics for\n",
    "- `stat` &ndash; what kind of statistic we want: should accept these six types: `\"mean\"`, `\"median\"`, `\"std\"`, `\"sum\"`, `\"min\"`, and `\"max\"`.\n",
    "\n",
    "And it should return:\n",
    "- `result` &ndash; the value of the desired statistic for the column\n",
    "\n",
    "For example, if variable `df` holds the same data frame as in question Q1a, then:\n",
    "- `summarize_col(df, 'enrolled', 'min')` should return `60`\n",
    "- `summarize_col(df, 'passed', 'mean')` should return `86.5`"
   ]
  },
  {
   "cell_type": "code",
   "execution_count": null,
   "metadata": {
    "id": "RHaQ6hLLmL-3",
    "nbgrader": {
     "grade": false,
     "grade_id": "cell-73b5fe53dccd096f",
     "locked": false,
     "schema_version": 3,
     "solution": true,
     "task": false
    },
    "tags": []
   },
   "outputs": [],
   "source": [
    "...\n",
    "\n",
    "# Test your function here\n",
    "_data = \"\"\"\n",
    "classcode,enrolled,passed,intro\n",
    "INST135,75,72,yes\n",
    "INST201,150,148,yes\n",
    "INST311,60,40,no\n",
    "INST314,100,78,no\n",
    "INST326,140,110,no\n",
    "INST335,70,56,no\n",
    "INST126,75,71,yes\n",
    "INST326,140,117,no\n",
    "\"\"\"\n",
    "df = pd.read_csv(io.StringIO(_data))\n",
    "result = summarize_col(df, \"enrolled\", \"min\")\n",
    "result"
   ]
  },
  {
   "cell_type": "markdown",
   "metadata": {
    "deletable": false,
    "editable": false,
    "nbgrader": {
     "grade": false,
     "grade_id": "cell-2dd4429a05f280e2",
     "locked": true,
     "schema_version": 3,
     "solution": false,
     "task": false
    }
   },
   "source": [
    "The cell below is an autograder cell, run it to check if your solution is correct."
   ]
  },
  {
   "cell_type": "code",
   "execution_count": null,
   "metadata": {
    "deletable": false,
    "editable": false
   },
   "outputs": [],
   "source": [
    "grader.check(\"q5\")"
   ]
  },
  {
   "cell_type": "markdown",
   "metadata": {
    "id": "s89IHKGxETzj",
    "nbgrader": {
     "grade": false,
     "grade_id": "cell-590a666aa04bc5cd",
     "locked": true,
     "schema_version": 3,
     "solution": false,
     "task": false
    }
   },
   "source": [
    "## Q6: Extract information about the level of each course\n",
    "\n",
    "Create a function that creates a new column (`classlevel`) in your dataframe with the level of each course. \n",
    "\n",
    "For example, INST201 is a 200-level class (`classlevel = 200`). \n",
    "\n",
    "You will first need to define a function `level` that takes one parameter:\n",
    "- `code` &ndash; a classcode entry in the dataframe (that is, the value in a single &ldquo;cell&rdquo;)\n",
    "\n",
    "And return:\n",
    "- `result` &ndash; the level as an integer value (100, 200, 300, etc.)\n",
    "\n",
    "*Hint*: There are a number of valid way to solve this, including string parsing, dictionaries, and conditionals.\n",
    "\n",
    "Then you need to define a function `df_course_level` that takes one parameter:\n",
    "- `df` &ndash; a pandas DataFrame\n",
    "\n",
    "And it should return:\n",
    "- `df_result` &ndash; a pandas DataFrame with a new `classlevel` column.\n",
    "\n",
    "For example, if variable `df` holds the same data frame as in question Q1a, then `df_course_level(df)` should return the following data frame (_notice the new column at the end_)\n",
    "\n",
    "<table border=\"1\" class=\"dataframe\">\n",
    "  <thead>\n",
    "    <tr style=\"text-align: right;\">\n",
    "      <th></th>\n",
    "      <th>classcode</th>\n",
    "      <th>enrolled</th>\n",
    "      <th>passed</th>\n",
    "      <th>intro</th>\n",
    "      <th>classlevel</th>\n",
    "    </tr>\n",
    "  </thead>\n",
    "  <tbody>\n",
    "    <tr>\n",
    "      <th>0</th>\n",
    "      <td>INST135</td>\n",
    "      <td>75</td>\n",
    "      <td>72</td>\n",
    "      <td>yes</td>\n",
    "      <td>100</td>\n",
    "    </tr>\n",
    "    <tr>\n",
    "      <th>1</th>\n",
    "      <td>INST201</td>\n",
    "      <td>150</td>\n",
    "      <td>148</td>\n",
    "      <td>yes</td>\n",
    "      <td>200</td>\n",
    "    </tr>\n",
    "    <tr>\n",
    "      <th>2</th>\n",
    "      <td>INST311</td>\n",
    "      <td>60</td>\n",
    "      <td>40</td>\n",
    "      <td>no</td>\n",
    "      <td>300</td>\n",
    "    </tr>\n",
    "    <tr>\n",
    "      <th>3</th>\n",
    "      <td>INST314</td>\n",
    "      <td>100</td>\n",
    "      <td>78</td>\n",
    "      <td>no</td>\n",
    "      <td>300</td>\n",
    "    </tr>\n",
    "    <tr>\n",
    "      <th>4</th>\n",
    "      <td>INST326</td>\n",
    "      <td>140</td>\n",
    "      <td>110</td>\n",
    "      <td>no</td>\n",
    "      <td>300</td>\n",
    "    </tr>\n",
    "    <tr>\n",
    "      <th>5</th>\n",
    "      <td>INST335</td>\n",
    "      <td>70</td>\n",
    "      <td>56</td>\n",
    "      <td>no</td>\n",
    "      <td>300</td>\n",
    "    </tr>\n",
    "    <tr>\n",
    "      <th>6</th>\n",
    "      <td>INST126</td>\n",
    "      <td>75</td>\n",
    "      <td>71</td>\n",
    "      <td>yes</td>\n",
    "      <td>100</td>\n",
    "    </tr>\n",
    "    <tr>\n",
    "      <th>7</th>\n",
    "      <td>INST326</td>\n",
    "      <td>140</td>\n",
    "      <td>117</td>\n",
    "      <td>no</td>\n",
    "      <td>300</td>\n",
    "    </tr>\n",
    "  </tbody>\n",
    "</table>"
   ]
  },
  {
   "cell_type": "code",
   "execution_count": null,
   "metadata": {
    "id": "kQXyO0oyx3S7",
    "nbgrader": {
     "grade": false,
     "grade_id": "cell-0a688e7438d25a02",
     "locked": false,
     "schema_version": 3,
     "solution": true,
     "task": false
    },
    "tags": []
   },
   "outputs": [],
   "source": [
    "...\n",
    "\n",
    "# Test your function here\n",
    "_data = \"\"\"\n",
    "classcode,enrolled,passed,intro\n",
    "INST135,75,72,yes\n",
    "INST201,150,148,yes\n",
    "INST311,60,40,no\n",
    "INST314,100,78,no\n",
    "INST326,140,110,no\n",
    "INST335,70,56,no\n",
    "INST126,75,71,yes\n",
    "INST326,140,117,no\n",
    "\"\"\"\n",
    "df = pd.read_csv(io.StringIO(_data))\n",
    "df = df_course_level(df)\n",
    "df"
   ]
  },
  {
   "cell_type": "markdown",
   "metadata": {
    "deletable": false,
    "editable": false,
    "nbgrader": {
     "grade": false,
     "grade_id": "cell-1337edfdcf6d50ac",
     "locked": true,
     "schema_version": 3,
     "solution": false,
     "task": false
    }
   },
   "source": [
    "The cell below is an autograder cell, run it to check if your solution is correct."
   ]
  },
  {
   "cell_type": "code",
   "execution_count": null,
   "metadata": {
    "deletable": false,
    "editable": false
   },
   "outputs": [],
   "source": [
    "grader.check(\"q6\")"
   ]
  },
  {
   "cell_type": "markdown",
   "metadata": {
    "id": "tQsRmwfEq8HE",
    "nbgrader": {
     "grade": false,
     "grade_id": "cell-6e3948f17f025b98",
     "locked": true,
     "schema_version": 3,
     "solution": false,
     "task": false
    }
   },
   "source": [
    "## Q7: Compute the passing rate for each class\n",
    "\n",
    "Create a function that creates a new column (called `passingrate`) in your dataframe that contains information about the passing rate of each course. This is the ratio of the number of students who `passed` to the number of students who are `enrolled` in a given course (e.g., for `INST135`, 72 passed out of 75 enrolled, so the passing rate should be 0.96).\n",
    "\n",
    "You will first need to define a function called `passing_rate` that takes one parameter:\n",
    "- `row` &ndash; a DataFrame row (it is similar to a dictionary)\n",
    "\n",
    "And it should return:\n",
    "- `result` &ndash; the ratio of `passed` to `enrolled` values for that row\n",
    "\n",
    "Then, you need to define a function called `compute_passing_rate`. It should take one parameter:\n",
    "- `df` &ndash; a pandas DataFrame \n",
    "\n",
    "And it should return:\n",
    "- `result` &ndash; a pandas DataFrame with the `passingrate` column filled with appropriate values\n",
    "\n",
    "For example, if variable `df` holds the same data frame from question Q6, then `compute_passing_rate(df)` should return the following data frame (_note the additional column at the end_):\n",
    "\n",
    "<table border=\"1\" class=\"dataframe\">\n",
    "  <thead>\n",
    "    <tr style=\"text-align: right;\">\n",
    "      <th></th>\n",
    "      <th>classcode</th>\n",
    "      <th>enrolled</th>\n",
    "      <th>passed</th>\n",
    "      <th>intro</th>\n",
    "      <th>classlevel</th>\n",
    "      <th>passingrate</th>\n",
    "    </tr>\n",
    "  </thead>\n",
    "  <tbody>\n",
    "    <tr>\n",
    "      <th>0</th>\n",
    "      <td>INST135</td>\n",
    "      <td>75</td>\n",
    "      <td>72</td>\n",
    "      <td>yes</td>\n",
    "      <td>100</td>\n",
    "      <td>0.960000</td>\n",
    "    </tr>\n",
    "    <tr>\n",
    "      <th>1</th>\n",
    "      <td>INST201</td>\n",
    "      <td>150</td>\n",
    "      <td>148</td>\n",
    "      <td>yes</td>\n",
    "      <td>200</td>\n",
    "      <td>0.986667</td>\n",
    "    </tr>\n",
    "    <tr>\n",
    "      <th>2</th>\n",
    "      <td>INST311</td>\n",
    "      <td>60</td>\n",
    "      <td>40</td>\n",
    "      <td>no</td>\n",
    "      <td>300</td>\n",
    "      <td>0.666667</td>\n",
    "    </tr>\n",
    "    <tr>\n",
    "      <th>3</th>\n",
    "      <td>INST314</td>\n",
    "      <td>100</td>\n",
    "      <td>78</td>\n",
    "      <td>no</td>\n",
    "      <td>300</td>\n",
    "      <td>0.780000</td>\n",
    "    </tr>\n",
    "    <tr>\n",
    "      <th>4</th>\n",
    "      <td>INST326</td>\n",
    "      <td>140</td>\n",
    "      <td>110</td>\n",
    "      <td>no</td>\n",
    "      <td>300</td>\n",
    "      <td>0.785714</td>\n",
    "    </tr>\n",
    "    <tr>\n",
    "      <th>5</th>\n",
    "      <td>INST335</td>\n",
    "      <td>70</td>\n",
    "      <td>56</td>\n",
    "      <td>no</td>\n",
    "      <td>300</td>\n",
    "      <td>0.800000</td>\n",
    "    </tr>\n",
    "    <tr>\n",
    "      <th>6</th>\n",
    "      <td>INST126</td>\n",
    "      <td>75</td>\n",
    "      <td>71</td>\n",
    "      <td>yes</td>\n",
    "      <td>100</td>\n",
    "      <td>0.946667</td>\n",
    "    </tr>\n",
    "    <tr>\n",
    "      <th>7</th>\n",
    "      <td>INST326</td>\n",
    "      <td>140</td>\n",
    "      <td>117</td>\n",
    "      <td>no</td>\n",
    "      <td>300</td>\n",
    "      <td>0.835714</td>\n",
    "    </tr>\n",
    "  </tbody>\n",
    "</table>\n"
   ]
  },
  {
   "cell_type": "code",
   "execution_count": null,
   "metadata": {
    "id": "tsTEm4Ksq8HF",
    "nbgrader": {
     "grade": false,
     "grade_id": "cell-390b34c929bf3057",
     "locked": false,
     "schema_version": 3,
     "solution": true,
     "task": false
    },
    "tags": []
   },
   "outputs": [],
   "source": [
    "...\n",
    "\n",
    "# Test your function here\n",
    "_data = \"\"\"\n",
    "classcode,enrolled,passed,intro,classlevel\n",
    "INST135,75,72,yes,100\n",
    "INST201,150,148,yes,200\n",
    "INST311,60,40,no,300\n",
    "INST314,100,78,no,300\n",
    "INST326,140,110,no,300\n",
    "INST335,70,56,no,300\n",
    "INST126,75,71,yes,100\n",
    "INST326,140,117,no,300\n",
    "\"\"\"\n",
    "df = pd.read_csv(io.StringIO(_data))\n",
    "df = compute_passing_rate(df)\n",
    "df"
   ]
  },
  {
   "cell_type": "markdown",
   "metadata": {
    "deletable": false,
    "editable": false,
    "nbgrader": {
     "grade": false,
     "grade_id": "cell-5abed742121a6ed8",
     "locked": true,
     "schema_version": 3,
     "solution": false,
     "task": false
    }
   },
   "source": [
    "The cell below is an autograder cell, run it to check if your solution is correct."
   ]
  },
  {
   "cell_type": "code",
   "execution_count": null,
   "metadata": {
    "deletable": false,
    "editable": false
   },
   "outputs": [],
   "source": [
    "grader.check(\"q7\")"
   ]
  },
  {
   "cell_type": "markdown",
   "metadata": {
    "id": "gDjrbURRrBjJ",
    "nbgrader": {
     "grade": false,
     "grade_id": "cell-bb7ac31d8c78dae0",
     "locked": true,
     "schema_version": 3,
     "solution": false,
     "task": false
    }
   },
   "source": [
    "## Q8: Summarize passing rate by course level in a new dataframe\n",
    "\n",
    "Create a function that summarizes the passing rate (mean and number of classes) by class level.\n",
    "\n",
    "Your function `pass_by_level` should take one parameter:\n",
    "- `df` &ndash; a pandas DataFrame\n",
    "\n",
    "And it should return:\n",
    "- `summarize` &ndash; a pandas DataFrame that summarizes passing rate (mean and number of classes) by classlevel. \n",
    "\n",
    "You will need to make sure the names of the columns are `passingrate` (for mean passing rate) and `numclasses` (number of classes), like in the example below. You should also make sure that `classlevel` is a column (you need to do something to the initial dataframe to accomplish this).\n",
    "\n",
    "For example, if variable `df` holds the same data frame from question Q7, then `summarize(df)` should return the following data frame:\n",
    "\n",
    "<table border=\"1\" class=\"dataframe\">\n",
    "  <thead>\n",
    "    <tr style=\"text-align: right;\">\n",
    "      <th></th>\n",
    "      <th>classlevel</th>\n",
    "      <th>passingrate</th>\n",
    "      <th>numclasses</th>\n",
    "    </tr>\n",
    "  </thead>\n",
    "  <tbody>\n",
    "    <tr>\n",
    "      <th>0</th>\n",
    "      <td>100</td>\n",
    "      <td>0.953333</td>\n",
    "      <td>2</td>\n",
    "    </tr>\n",
    "    <tr>\n",
    "      <th>1</th>\n",
    "      <td>200</td>\n",
    "      <td>0.986667</td>\n",
    "      <td>1</td>\n",
    "    </tr>\n",
    "    <tr>\n",
    "      <th>2</th>\n",
    "      <td>300</td>\n",
    "      <td>0.773619</td>\n",
    "      <td>5</td>\n",
    "    </tr>\n",
    "  </tbody>\n",
    "</table>"
   ]
  },
  {
   "cell_type": "code",
   "execution_count": null,
   "metadata": {
    "id": "ScGwPc6urBjK",
    "nbgrader": {
     "grade": false,
     "grade_id": "cell-e91c6a6a14b50c82",
     "locked": false,
     "schema_version": 3,
     "solution": true,
     "task": false
    },
    "tags": []
   },
   "outputs": [],
   "source": [
    "...\n",
    "\n",
    "# Test your function here\n",
    "_data = \"\"\"\n",
    "classcode,enrolled,passed,intro,classlevel,passingrate\n",
    "INST135,75,72,yes,100,0.96\n",
    "INST201,150,148,yes,200,0.9866666666666667\n",
    "INST311,60,40,no,300,0.6666666666666666\n",
    "INST314,100,78,no,300,0.78\n",
    "INST326,140,110,no,300,0.7857142857142857\n",
    "INST335,70,56,no,300,0.8\n",
    "INST126,75,71,yes,100,0.9466666666666667\n",
    "INST326,140,117,no,300,0.8357142857142857\n",
    "\"\"\"\n",
    "df = pd.read_csv(io.StringIO(_data))\n",
    "result = pass_by_level(df)\n",
    "result"
   ]
  },
  {
   "cell_type": "markdown",
   "metadata": {
    "deletable": false,
    "editable": false,
    "nbgrader": {
     "grade": false,
     "grade_id": "cell-d1538de19384f77a",
     "locked": true,
     "schema_version": 3,
     "solution": false,
     "task": false
    }
   },
   "source": [
    "When you're ready run the cell below to get feedback on your answer."
   ]
  },
  {
   "cell_type": "code",
   "execution_count": null,
   "metadata": {
    "deletable": false,
    "editable": false
   },
   "outputs": [],
   "source": [
    "grader.check(\"q8\")"
   ]
  },
  {
   "cell_type": "markdown",
   "metadata": {},
   "source": [
    "### **_NOTE:_**  Do not forget to run this cell"
   ]
  },
  {
   "cell_type": "code",
   "execution_count": null,
   "metadata": {
    "tags": []
   },
   "outputs": [],
   "source": [
    "!jupyter nbconvert --to script PCE-04-Pandas.ipynb"
   ]
  },
  {
   "cell_type": "markdown",
   "metadata": {
    "deletable": false,
    "editable": false
   },
   "source": [
    "## Submission\n",
    "\n",
    "Make sure you have run all cells in your notebook in order before running the cell below, so that all images/graphs appear in the output. The cell below will generate a zip file for you to submit."
   ]
  },
  {
   "cell_type": "code",
   "execution_count": null,
   "metadata": {
    "deletable": false,
    "editable": false
   },
   "outputs": [],
   "source": [
    "grader.export(pdf=False, force_save=True, run_tests=True, files=['PCE-04-Pandas.py'])"
   ]
  },
  {
   "cell_type": "markdown",
   "metadata": {},
   "source": [
    " "
   ]
  }
 ],
 "metadata": {
  "celltoolbar": "Create Assignment",
  "colab": {
   "collapsed_sections": [],
   "name": "PCE_M4_Pandas_Student_Template.ipynb",
   "provenance": []
  },
  "kernelspec": {
   "display_name": "Python 3 (ipykernel)",
   "language": "python",
   "name": "python3"
  },
  "language_info": {
   "codemirror_mode": {
    "name": "ipython",
    "version": 3
   },
   "file_extension": ".py",
   "mimetype": "text/x-python",
   "name": "python",
   "nbconvert_exporter": "python",
   "pygments_lexer": "ipython3",
   "version": "3.11.5"
  },
  "otter": {
   "OK_FORMAT": true,
   "tests": {
    "q1a": {
     "name": "q1a",
     "points": null,
     "suites": [
      {
       "cases": [
        {
         "code": ">>> input_data = [{'classcode': 'INST135', 'enrolled': 75, 'passed': 72, 'intro': 'yes'}, {'classcode': 'INST201', 'enrolled': 150, 'passed': 148, 'intro': 'yes'}, {'classcode': 'INST311', 'enrolled': 60, 'passed': 40, 'intro': 'no'}, {'classcode': 'INST314', 'enrolled': 100, 'passed': 78, 'intro': 'no'}, {'classcode': 'INST326', 'enrolled': 140, 'passed': 110, 'intro': 'no'}, {'classcode': 'INST335', 'enrolled': 70, 'passed': 56, 'intro': 'no'}, {'classcode': 'INST126', 'enrolled': 75, 'passed': 71, 'intro': 'yes'}, {'classcode': 'INST326', 'enrolled': 140, 'passed': 117, 'intro': 'no'}]\n>>> expected = 'classcode,enrolled,passed,intro\\nINST135,75,72,yes\\nINST201,150,148,yes\\nINST311,60,40,no\\nINST314,100,78,no\\nINST326,140,110,no\\nINST335,70,56,no\\nINST126,75,71,yes\\nINST326,140,117,no\\n'\n>>> assert list_to_dataframe(input_data).to_csv(index=False, lineterminator='\\n') == expected, 'Wrong return value'\n",
         "hidden": false,
         "locked": false
        },
        {
         "code": ">>> input_data = []\n>>> expected = pd.DataFrame([])\n>>> assert list_to_dataframe(input_data).to_csv(index=False, lineterminator='\\n'), 'Wrong return value'\n",
         "hidden": false,
         "locked": false
        },
        {
         "code": ">>> input_data = [{'classcode': 'INST311', 'enrolled': 60, 'passed': 40, 'intro': 'no'}, {'classcode': 'INST314', 'enrolled': 100, 'passed': 78, 'intro': 'no'}, {'classcode': 'INST326', 'enrolled': 140, 'passed': 110, 'intro': 'no'}, {'classcode': 'INST335', 'enrolled': 70, 'passed': 56, 'intro': 'no'}]\n>>> expected = 'classcode,enrolled,passed,intro\\nINST311,60,40,no\\nINST314,100,78,no\\nINST326,140,110,no\\nINST335,70,56,no\\n'\n>>> assert list_to_dataframe(input_data).to_csv(index=False, lineterminator='\\n') == expected, 'Wrong return value'\n",
         "hidden": false,
         "locked": false
        }
       ],
       "scored": true,
       "setup": "",
       "teardown": "",
       "type": "doctest"
      }
     ]
    },
    "q1b": {
     "name": "q1b",
     "points": null,
     "suites": [
      {
       "cases": [
        {
         "code": ">>> fname = 'Q1b_input1.csv'\n>>> expected = 'classcode,enrolled,passed,intro\\nINST135,75,72,yes\\nINST201,150,148,yes\\nINST311,60,40,no\\nINST314,100,78,no\\nINST326,140,110,no\\nINST335,70,56,no\\nINST126,75,71,yes\\nINST326,140,117,no\\n'\n>>> assert csv_to_dataframe(fname).to_csv(index=False, lineterminator='\\n') == expected, 'Wrong return value'\n",
         "hidden": false,
         "locked": false
        },
        {
         "code": ">>> fname = 'Q1b_input2.csv'\n>>> expected = 'classcode,enrolled,passed,intro\\nINST311,60,40,no\\nINST314,100,78,no\\nINST326,140,110,no\\nINST335,70,56,no\\n'\n>>> assert csv_to_dataframe(fname).to_csv(index=False, lineterminator='\\n') == expected, 'Wrong return value'\n",
         "hidden": false,
         "locked": false
        },
        {
         "code": ">>> fname = 'Q1b_input3.csv'\n>>> expected = 'city,population,size\\nNY,8804190,472.43\\nLA,3898747,469.49\\nDC,689545,68.34\\n'\n>>> assert csv_to_dataframe(fname).to_csv(index=False, lineterminator='\\n') == expected, 'Wrong return value'\n",
         "hidden": false,
         "locked": false
        }
       ],
       "scored": true,
       "setup": "",
       "teardown": "",
       "type": "doctest"
      }
     ]
    },
    "q2": {
     "name": "q2",
     "points": null,
     "suites": [
      {
       "cases": [
        {
         "code": ">>> input_data = pd.DataFrame([{'classcode': 'INST135', 'enrolled': 75, 'passed': 72, 'intro': 'yes'}, {'classcode': 'INST201', 'enrolled': 150, 'passed': 148, 'intro': 'yes'}, {'classcode': 'INST311', 'enrolled': 60, 'passed': 40, 'intro': 'no'}, {'classcode': 'INST314', 'enrolled': 100, 'passed': 78, 'intro': 'no'}, {'classcode': 'INST326', 'enrolled': 140, 'passed': 110, 'intro': 'no'}, {'classcode': 'INST335', 'enrolled': 70, 'passed': 56, 'intro': 'no'}, {'classcode': 'INST126', 'enrolled': 75, 'passed': 71, 'intro': 'yes'}, {'classcode': 'INST326', 'enrolled': 140, 'passed': 117, 'intro': 'no'}])\n>>> expected = pd.Series({0: 'INST135', 1: 'INST201', 2: 'INST311', 3: 'INST314', 4: 'INST326', 5: 'INST335', 6: 'INST126', 7: 'INST326'})\n>>> assert access_df_column(input_data, 'classcode').equals(expected), 'Wrong return value'\n",
         "hidden": false,
         "locked": false
        },
        {
         "code": ">>> input_data = pd.DataFrame([{'classcode': 'INST135', 'enrolled': 75, 'passed': 72, 'intro': 'yes'}, {'classcode': 'INST201', 'enrolled': 150, 'passed': 148, 'intro': 'yes'}, {'classcode': 'INST311', 'enrolled': 60, 'passed': 40, 'intro': 'no'}, {'classcode': 'INST314', 'enrolled': 100, 'passed': 78, 'intro': 'no'}, {'classcode': 'INST326', 'enrolled': 140, 'passed': 110, 'intro': 'no'}, {'classcode': 'INST335', 'enrolled': 70, 'passed': 56, 'intro': 'no'}, {'classcode': 'INST126', 'enrolled': 75, 'passed': 71, 'intro': 'yes'}, {'classcode': 'INST326', 'enrolled': 140, 'passed': 117, 'intro': 'no'}])\n>>> expected = pd.Series({0: 75, 1: 150, 2: 60, 3: 100, 4: 140, 5: 70, 6: 75, 7: 140})\n>>> assert access_df_column(input_data, 'enrolled').equals(expected), 'Wrong return value'\n",
         "hidden": false,
         "locked": false
        },
        {
         "code": ">>> input_data = pd.DataFrame([{'classcode': 'INST135', 'enrolled': 75, 'passed': 72, 'intro': 'yes'}, {'classcode': 'INST201', 'enrolled': 150, 'passed': 148, 'intro': 'yes'}, {'classcode': 'INST311', 'enrolled': 60, 'passed': 40, 'intro': 'no'}, {'classcode': 'INST314', 'enrolled': 100, 'passed': 78, 'intro': 'no'}, {'classcode': 'INST326', 'enrolled': 140, 'passed': 110, 'intro': 'no'}, {'classcode': 'INST335', 'enrolled': 70, 'passed': 56, 'intro': 'no'}, {'classcode': 'INST126', 'enrolled': 75, 'passed': 71, 'intro': 'yes'}, {'classcode': 'INST326', 'enrolled': 140, 'passed': 117, 'intro': 'no'}])\n>>> expected = pd.Series({0: 72, 1: 148, 2: 40, 3: 78, 4: 110, 5: 56, 6: 71, 7: 117})\n>>> assert access_df_column(input_data, 'passed').equals(expected), 'Wrong return value'\n",
         "hidden": false,
         "locked": false
        }
       ],
       "scored": true,
       "setup": "",
       "teardown": "",
       "type": "doctest"
      }
     ]
    },
    "q3": {
     "name": "q3",
     "points": null,
     "suites": [
      {
       "cases": [
        {
         "code": ">>> input_data = pd.DataFrame([{'classcode': 'INST135', 'enrolled': 75, 'passed': 72, 'intro': 'yes'}, {'classcode': 'INST201', 'enrolled': 150, 'passed': 148, 'intro': 'yes'}, {'classcode': 'INST311', 'enrolled': 60, 'passed': 40, 'intro': 'no'}, {'classcode': 'INST314', 'enrolled': 100, 'passed': 78, 'intro': 'no'}, {'classcode': 'INST326', 'enrolled': 140, 'passed': 110, 'intro': 'no'}, {'classcode': 'INST335', 'enrolled': 70, 'passed': 56, 'intro': 'no'}, {'classcode': 'INST126', 'enrolled': 75, 'passed': 71, 'intro': 'yes'}, {'classcode': 'INST326', 'enrolled': 140, 'passed': 117, 'intro': 'no'}])\n>>> expected = 'classcode,enrolled,passed,intro\\nINST311,60,40,no\\nINST335,70,56,no\\nINST126,75,71,yes\\nINST135,75,72,yes\\nINST314,100,78,no\\nINST326,140,110,no\\nINST326,140,117,no\\nINST201,150,148,yes\\n'\n>>> assert sort_df_on_column(input_data, 'passed', True).to_csv(index=False, lineterminator='\\n') == expected, 'Wrong return value'\n",
         "hidden": false,
         "locked": false
        },
        {
         "code": ">>> input_data = pd.DataFrame([{'classcode': 'INST135', 'enrolled': 75, 'passed': 72, 'intro': 'yes'}, {'classcode': 'INST201', 'enrolled': 150, 'passed': 148, 'intro': 'yes'}, {'classcode': 'INST311', 'enrolled': 60, 'passed': 40, 'intro': 'no'}, {'classcode': 'INST314', 'enrolled': 100, 'passed': 78, 'intro': 'no'}, {'classcode': 'INST326', 'enrolled': 140, 'passed': 110, 'intro': 'no'}, {'classcode': 'INST335', 'enrolled': 70, 'passed': 56, 'intro': 'no'}, {'classcode': 'INST126', 'enrolled': 75, 'passed': 71, 'intro': 'yes'}, {'classcode': 'INST326', 'enrolled': 140, 'passed': 117, 'intro': 'no'}])\n>>> expected = 'classcode,enrolled,passed,intro\\nINST126,75,71,yes\\nINST135,75,72,yes\\nINST201,150,148,yes\\nINST311,60,40,no\\nINST314,100,78,no\\nINST326,140,110,no\\nINST326,140,117,no\\nINST335,70,56,no\\n'\n>>> assert sort_df_on_column(input_data, 'classcode', True).to_csv(index=False, lineterminator='\\n') == expected, 'Wrong return value'\n",
         "hidden": false,
         "locked": false
        },
        {
         "code": ">>> input_data = pd.DataFrame([{'classcode': 'INST135', 'enrolled': 75, 'passed': 72, 'intro': 'yes'}, {'classcode': 'INST201', 'enrolled': 150, 'passed': 148, 'intro': 'yes'}, {'classcode': 'INST311', 'enrolled': 60, 'passed': 40, 'intro': 'no'}, {'classcode': 'INST314', 'enrolled': 100, 'passed': 78, 'intro': 'no'}, {'classcode': 'INST326', 'enrolled': 140, 'passed': 110, 'intro': 'no'}, {'classcode': 'INST335', 'enrolled': 70, 'passed': 56, 'intro': 'no'}, {'classcode': 'INST126', 'enrolled': 75, 'passed': 71, 'intro': 'yes'}, {'classcode': 'INST326', 'enrolled': 140, 'passed': 117, 'intro': 'no'}])\n>>> expected = 'classcode,enrolled,passed,intro\\nINST201,150,148,yes\\nINST326,140,117,no\\nINST326,140,110,no\\nINST314,100,78,no\\nINST135,75,72,yes\\nINST126,75,71,yes\\nINST335,70,56,no\\nINST311,60,40,no\\n'\n>>> assert sort_df_on_column(input_data, 'passed', False).to_csv(index=False, lineterminator='\\n') == expected, 'Wrong return value'\n",
         "hidden": false,
         "locked": false
        }
       ],
       "scored": true,
       "setup": "",
       "teardown": "",
       "type": "doctest"
      }
     ]
    },
    "q4": {
     "name": "q4",
     "points": null,
     "suites": [
      {
       "cases": [
        {
         "code": ">>> input_data = pd.DataFrame([{'classcode': 'INST135', 'enrolled': 75, 'passed': 72, 'intro': 'yes'}, {'classcode': 'INST201', 'enrolled': 150, 'passed': 148, 'intro': 'yes'}, {'classcode': 'INST311', 'enrolled': 60, 'passed': 40, 'intro': 'no'}, {'classcode': 'INST314', 'enrolled': 100, 'passed': 78, 'intro': 'no'}, {'classcode': 'INST326', 'enrolled': 140, 'passed': 110, 'intro': 'no'}, {'classcode': 'INST335', 'enrolled': 70, 'passed': 56, 'intro': 'no'}, {'classcode': 'INST126', 'enrolled': 75, 'passed': 71, 'intro': 'yes'}, {'classcode': 'INST326', 'enrolled': 140, 'passed': 117, 'intro': 'no'}])\n>>> expected = 'classcode,enrolled,passed,intro\\nINST135,75,72,yes\\nINST201,150,148,yes\\nINST126,75,71,yes\\n'\n>>> assert filter_df_by_intro(input_data, 'intro').to_csv(index=False, lineterminator='\\n') == expected, 'Wrong return value'\n",
         "hidden": false,
         "locked": false
        },
        {
         "code": ">>> input_data = pd.DataFrame([{'classcode': 'INST135', 'enrolled': 75, 'passed': 72, 'intro': 'yes'}, {'classcode': 'INST201', 'enrolled': 150, 'passed': 148, 'intro': 'yes'}, {'classcode': 'INST311', 'enrolled': 60, 'passed': 40, 'intro': 'no'}, {'classcode': 'INST314', 'enrolled': 100, 'passed': 78, 'intro': 'no'}, {'classcode': 'INST326', 'enrolled': 140, 'passed': 110, 'intro': 'no'}, {'classcode': 'INST335', 'enrolled': 70, 'passed': 56, 'intro': 'no'}, {'classcode': 'INST126', 'enrolled': 75, 'passed': 71, 'intro': 'yes'}, {'classcode': 'INST326', 'enrolled': 140, 'passed': 117, 'intro': 'no'}])\n>>> expected = 'classcode,enrolled,passed,intro\\nINST311,60,40,no\\nINST314,100,78,no\\nINST326,140,110,no\\nINST335,70,56,no\\nINST326,140,117,no\\n'\n>>> assert filter_df_by_intro(input_data, 'non-intro').to_csv(index=False, lineterminator='\\n') == expected, 'Wrong return value'\n",
         "hidden": false,
         "locked": false
        }
       ],
       "scored": true,
       "setup": "",
       "teardown": "",
       "type": "doctest"
      }
     ]
    },
    "q5": {
     "name": "q5",
     "points": null,
     "suites": [
      {
       "cases": [
        {
         "code": ">>> df = pd.DataFrame([{'classcode': 'INST135', 'enrolled': 75, 'passed': 72, 'intro': 'yes'}, {'classcode': 'INST201', 'enrolled': 150, 'passed': 148, 'intro': 'yes'}, {'classcode': 'INST311', 'enrolled': 60, 'passed': 40, 'intro': 'no'}, {'classcode': 'INST314', 'enrolled': 100, 'passed': 78, 'intro': 'no'}, {'classcode': 'INST326', 'enrolled': 140, 'passed': 110, 'intro': 'no'}, {'classcode': 'INST335', 'enrolled': 70, 'passed': 56, 'intro': 'no'}, {'classcode': 'INST126', 'enrolled': 75, 'passed': 71, 'intro': 'yes'}, {'classcode': 'INST326', 'enrolled': 140, 'passed': 117, 'intro': 'no'}])\n>>> assert summarize_col(df, 'enrolled', 'min') == 60, 'Wrong return value'\n",
         "hidden": false,
         "locked": false
        },
        {
         "code": ">>> df = pd.DataFrame([{'classcode': 'INST135', 'enrolled': 75, 'passed': 72, 'intro': 'yes'}, {'classcode': 'INST201', 'enrolled': 150, 'passed': 148, 'intro': 'yes'}, {'classcode': 'INST311', 'enrolled': 60, 'passed': 40, 'intro': 'no'}, {'classcode': 'INST314', 'enrolled': 100, 'passed': 78, 'intro': 'no'}, {'classcode': 'INST326', 'enrolled': 140, 'passed': 110, 'intro': 'no'}, {'classcode': 'INST335', 'enrolled': 70, 'passed': 56, 'intro': 'no'}, {'classcode': 'INST126', 'enrolled': 75, 'passed': 71, 'intro': 'yes'}, {'classcode': 'INST326', 'enrolled': 140, 'passed': 117, 'intro': 'no'}])\n>>> assert summarize_col(df, 'enrolled', 'max') == 150, 'Wrong return value'\n",
         "hidden": false,
         "locked": false
        },
        {
         "code": ">>> df = pd.DataFrame([{'classcode': 'INST135', 'enrolled': 75, 'passed': 72, 'intro': 'yes'}, {'classcode': 'INST201', 'enrolled': 150, 'passed': 148, 'intro': 'yes'}, {'classcode': 'INST311', 'enrolled': 60, 'passed': 40, 'intro': 'no'}, {'classcode': 'INST314', 'enrolled': 100, 'passed': 78, 'intro': 'no'}, {'classcode': 'INST326', 'enrolled': 140, 'passed': 110, 'intro': 'no'}, {'classcode': 'INST335', 'enrolled': 70, 'passed': 56, 'intro': 'no'}, {'classcode': 'INST126', 'enrolled': 75, 'passed': 71, 'intro': 'yes'}, {'classcode': 'INST326', 'enrolled': 140, 'passed': 117, 'intro': 'no'}])\n>>> assert summarize_col(df, 'enrolled', 'mean') == 101.25, 'Wrong return value'\n",
         "hidden": false,
         "locked": false
        },
        {
         "code": ">>> df = pd.DataFrame([{'classcode': 'INST135', 'enrolled': 75, 'passed': 72, 'intro': 'yes'}, {'classcode': 'INST201', 'enrolled': 150, 'passed': 148, 'intro': 'yes'}, {'classcode': 'INST311', 'enrolled': 60, 'passed': 40, 'intro': 'no'}, {'classcode': 'INST314', 'enrolled': 100, 'passed': 78, 'intro': 'no'}, {'classcode': 'INST326', 'enrolled': 140, 'passed': 110, 'intro': 'no'}, {'classcode': 'INST335', 'enrolled': 70, 'passed': 56, 'intro': 'no'}, {'classcode': 'INST126', 'enrolled': 75, 'passed': 71, 'intro': 'yes'}, {'classcode': 'INST326', 'enrolled': 140, 'passed': 117, 'intro': 'no'}])\n>>> assert round(summarize_col(df, 'enrolled', 'std'), 2) == 36.72, 'Wrong return value'\n",
         "hidden": false,
         "locked": false
        },
        {
         "code": ">>> df = pd.DataFrame([{'classcode': 'INST135', 'enrolled': 75, 'passed': 72, 'intro': 'yes'}, {'classcode': 'INST201', 'enrolled': 150, 'passed': 148, 'intro': 'yes'}, {'classcode': 'INST311', 'enrolled': 60, 'passed': 40, 'intro': 'no'}, {'classcode': 'INST314', 'enrolled': 100, 'passed': 78, 'intro': 'no'}, {'classcode': 'INST326', 'enrolled': 140, 'passed': 110, 'intro': 'no'}, {'classcode': 'INST335', 'enrolled': 70, 'passed': 56, 'intro': 'no'}, {'classcode': 'INST126', 'enrolled': 75, 'passed': 71, 'intro': 'yes'}, {'classcode': 'INST326', 'enrolled': 140, 'passed': 117, 'intro': 'no'}])\n>>> assert summarize_col(df, 'passed', 'median') == 75.0, 'Wrong return value'\n",
         "hidden": false,
         "locked": false
        },
        {
         "code": ">>> df = pd.DataFrame([{'classcode': 'INST135', 'enrolled': 75, 'passed': 72, 'intro': 'yes'}, {'classcode': 'INST201', 'enrolled': 150, 'passed': 148, 'intro': 'yes'}, {'classcode': 'INST311', 'enrolled': 60, 'passed': 40, 'intro': 'no'}, {'classcode': 'INST314', 'enrolled': 100, 'passed': 78, 'intro': 'no'}, {'classcode': 'INST326', 'enrolled': 140, 'passed': 110, 'intro': 'no'}, {'classcode': 'INST335', 'enrolled': 70, 'passed': 56, 'intro': 'no'}, {'classcode': 'INST126', 'enrolled': 75, 'passed': 71, 'intro': 'yes'}, {'classcode': 'INST326', 'enrolled': 140, 'passed': 117, 'intro': 'no'}])\n>>> assert summarize_col(df, 'passed', 'sum') == 692, 'Wrong return value'\n",
         "hidden": false,
         "locked": false
        }
       ],
       "scored": true,
       "setup": "",
       "teardown": "",
       "type": "doctest"
      }
     ]
    },
    "q6": {
     "name": "q6",
     "points": null,
     "suites": [
      {
       "cases": [
        {
         "code": ">>> df = pd.DataFrame([{'classcode': 'INST135', 'enrolled': 75, 'passed': 72, 'intro': 'yes'}, {'classcode': 'INST201', 'enrolled': 150, 'passed': 148, 'intro': 'yes'}, {'classcode': 'INST311', 'enrolled': 60, 'passed': 40, 'intro': 'no'}, {'classcode': 'INST314', 'enrolled': 100, 'passed': 78, 'intro': 'no'}, {'classcode': 'INST326', 'enrolled': 140, 'passed': 110, 'intro': 'no'}, {'classcode': 'INST335', 'enrolled': 70, 'passed': 56, 'intro': 'no'}, {'classcode': 'INST126', 'enrolled': 75, 'passed': 71, 'intro': 'yes'}, {'classcode': 'INST326', 'enrolled': 140, 'passed': 117, 'intro': 'no'}])\n>>> expected = 'classcode,enrolled,passed,intro,classlevel\\nINST135,75,72,yes,100\\nINST201,150,148,yes,200\\nINST311,60,40,no,300\\nINST314,100,78,no,300\\nINST326,140,110,no,300\\nINST335,70,56,no,300\\nINST126,75,71,yes,100\\nINST326,140,117,no,300\\n'\n>>> assert df_course_level(df).to_csv(index=False, lineterminator='\\n') == expected, 'Wrong return value'\n",
         "hidden": false,
         "locked": false
        },
        {
         "code": ">>> df = pd.DataFrame([{'classcode': 'INST135', 'enrolled': 75, 'passed': 72, 'intro': 'yes'}, {'classcode': 'INST201', 'enrolled': 150, 'passed': 148, 'intro': 'yes'}, {'classcode': 'INST126', 'enrolled': 75, 'passed': 71, 'intro': 'yes'}, {'classcode': 'INST326', 'enrolled': 140, 'passed': 117, 'intro': 'no'}])\n>>> expected = 'classcode,enrolled,passed,intro,classlevel\\nINST135,75,72,yes,100\\nINST201,150,148,yes,200\\nINST126,75,71,yes,100\\nINST326,140,117,no,300\\n'\n>>> assert df_course_level(df).to_csv(index=False, lineterminator='\\n') == expected, 'Wrong return value'\n",
         "hidden": false,
         "locked": false
        }
       ],
       "scored": true,
       "setup": "",
       "teardown": "",
       "type": "doctest"
      }
     ]
    },
    "q7": {
     "name": "q7",
     "points": null,
     "suites": [
      {
       "cases": [
        {
         "code": ">>> df = pd.DataFrame([{'classcode': 'INST135', 'enrolled': 75, 'passed': 72, 'intro': 'yes', 'classlevel': 100}, {'classcode': 'INST201', 'enrolled': 150, 'passed': 148, 'intro': 'yes', 'classlevel': 200}, {'classcode': 'INST311', 'enrolled': 60, 'passed': 40, 'intro': 'no', 'classlevel': 300}, {'classcode': 'INST314', 'enrolled': 100, 'passed': 78, 'intro': 'no', 'classlevel': 300}, {'classcode': 'INST326', 'enrolled': 140, 'passed': 110, 'intro': 'no', 'classlevel': 300}, {'classcode': 'INST335', 'enrolled': 70, 'passed': 56, 'intro': 'no', 'classlevel': 300}, {'classcode': 'INST126', 'enrolled': 75, 'passed': 71, 'intro': 'yes', 'classlevel': 100}, {'classcode': 'INST326', 'enrolled': 140, 'passed': 117, 'intro': 'no', 'classlevel': 300}])\n>>> expected = 'classcode,enrolled,passed,intro,classlevel,passingrate\\nINST135,75,72,yes,100,0.96\\nINST201,150,148,yes,200,0.9866666666666667\\nINST311,60,40,no,300,0.6666666666666666\\nINST314,100,78,no,300,0.78\\nINST326,140,110,no,300,0.7857142857142857\\nINST335,70,56,no,300,0.8\\nINST126,75,71,yes,100,0.9466666666666667\\nINST326,140,117,no,300,0.8357142857142857\\n'\n>>> assert compute_passing_rate(df).to_csv(index=False, lineterminator='\\n') == expected, 'Wrong return value'\n",
         "hidden": false,
         "locked": false
        },
        {
         "code": ">>> df = pd.DataFrame([{'classcode': 'INST135', 'enrolled': 75, 'passed': 72, 'intro': 'yes', 'classlevel': 100}, {'classcode': 'INST201', 'enrolled': 150, 'passed': 148, 'intro': 'yes', 'classlevel': 200}, {'classcode': 'INST126', 'enrolled': 75, 'passed': 71, 'intro': 'yes', 'classlevel': 100}, {'classcode': 'INST326', 'enrolled': 140, 'passed': 117, 'intro': 'no', 'classlevel': 300}])\n>>> expected = 'classcode,enrolled,passed,intro,classlevel,passingrate\\nINST135,75,72,yes,100,0.96\\nINST201,150,148,yes,200,0.9866666666666667\\nINST126,75,71,yes,100,0.9466666666666667\\nINST326,140,117,no,300,0.8357142857142857\\n'\n>>> assert compute_passing_rate(df).to_csv(index=False, lineterminator='\\n') == expected, 'Wrong return value'\n",
         "hidden": false,
         "locked": false
        }
       ],
       "scored": true,
       "setup": "",
       "teardown": "",
       "type": "doctest"
      }
     ]
    },
    "q8": {
     "name": "q8",
     "points": null,
     "suites": [
      {
       "cases": [
        {
         "code": ">>> df = pd.DataFrame([{'classcode': 'INST135', 'enrolled': 75, 'passed': 72, 'intro': 'yes', 'classlevel': 100, 'passingrate': 0.96}, {'classcode': 'INST201', 'enrolled': 150, 'passed': 148, 'intro': 'yes', 'classlevel': 200, 'passingrate': 0.9866666666666667}, {'classcode': 'INST311', 'enrolled': 60, 'passed': 40, 'intro': 'no', 'classlevel': 300, 'passingrate': 0.6666666666666666}, {'classcode': 'INST314', 'enrolled': 100, 'passed': 78, 'intro': 'no', 'classlevel': 300, 'passingrate': 0.78}, {'classcode': 'INST326', 'enrolled': 140, 'passed': 110, 'intro': 'no', 'classlevel': 300, 'passingrate': 0.7857142857142857}, {'classcode': 'INST335', 'enrolled': 70, 'passed': 56, 'intro': 'no', 'classlevel': 300, 'passingrate': 0.8}, {'classcode': 'INST126', 'enrolled': 75, 'passed': 71, 'intro': 'yes', 'classlevel': 100, 'passingrate': 0.9466666666666667}, {'classcode': 'INST326', 'enrolled': 140, 'passed': 117, 'intro': 'no', 'classlevel': 300, 'passingrate': 0.8357142857142857}])\n>>> expected = 'classlevel,passingrate,numclasses\\n100,0.9533333333333334,2\\n200,0.9866666666666667,1\\n300,0.7736190476190477,5\\n'\n>>> assert pass_by_level(df).to_csv(index=False, lineterminator='\\n') == expected, 'Wrong return value'\n",
         "hidden": false,
         "locked": false
        }
       ],
       "scored": true,
       "setup": "",
       "teardown": "",
       "type": "doctest"
      }
     ]
    }
   }
  }
 },
 "nbformat": 4,
 "nbformat_minor": 4
}
